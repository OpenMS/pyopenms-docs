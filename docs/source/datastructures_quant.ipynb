{
 "cells": [
  {
   "cell_type": "markdown",
   "id": "d6e60fad",
   "metadata": {},
   "source": [
    "$$\n",
    "\\def\\CC{\\bf C}\n",
    "\\def\\QQ{\\bf Q}\n",
    "\\def\\RR{\\bf R}\n",
    "\\def\\ZZ{\\bf Z}\n",
    "\\def\\NN{\\bf N}\n",
    "$$\n",
    "# Quantitative Data\n",
    "\n",
    "## Feature\n",
    "\n",
    "In OpenMS, information about quantitative data is stored in a so-called\n",
    "`Feature` which we have previously discussed\n",
    "[here](other_file_handling.html#quantiative-data-featurexml-consensusxml).\n",
    "Each `Feature` represents a region in RT and *m/z* space use for\n",
    "quantitative analysis."
   ]
  },
  {
   "cell_type": "code",
   "execution_count": null,
   "id": "198608d4",
   "metadata": {},
   "outputs": [],
   "source": [
    "from pyopenms import *\n",
    "feature = Feature()\n",
    "feature.setMZ( 500.9 )\n",
    "feature.setCharge(2)\n",
    "feature.setRT( 1500.1 )\n",
    "feature.setIntensity( 30500 )\n",
    "feature.setOverallQuality( 10 )"
   ]
  },
  {
   "cell_type": "markdown",
   "id": "8031ff05",
   "metadata": {},
   "source": [
    "Usually, the quantitative features would be produced by a so-called\n",
    "\"FeatureFinder\" algorithm, which we will discuss in the next chapter.\n",
    "The features can be stored in a `FeatureMap` and written to disk."
   ]
  },
  {
   "cell_type": "code",
   "execution_count": null,
   "id": "c2eedaf6",
   "metadata": {},
   "outputs": [],
   "source": [
    "fm = FeatureMap()\n",
    "fm.push_back(feature)\n",
    "feature.setRT(1600.5 )\n",
    "feature.setCharge(2)\n",
    "feature.setMZ( 600.0 )\n",
    "feature.setIntensity( 80500.0 )\n",
    "fm.push_back(feature)\n",
    "FeatureXMLFile().store(\"test.featureXML\", fm)"
   ]
  },
  {
   "cell_type": "markdown",
   "id": "f445b596",
   "metadata": {},
   "source": [
    "Visualizing the resulting map in `TOPPView` allows detection of the two\n",
    "features stored in the `FeatureMap` with the visualization indicating\n",
    "charge state, *m/z*, RT and other properties:\n",
    "\n",
    "![image](img/feature.png)\n",
    "\n",
    "Note that in this case only 2 features are present, but in a typical\n",
    "LC-MS/MS experiments, thousands of features are present.\n",
    "\n",
    "## FeatureMap\n",
    "\n",
    "The resulting `FeatureMap` can be used in various ways to extract\n",
    "quantitative data directly and it supports direct iteration in Python:"
   ]
  },
  {
   "cell_type": "code",
   "execution_count": null,
   "id": "5c4fe556",
   "metadata": {},
   "outputs": [],
   "source": [
    "from pyopenms import *\n",
    "fmap = FeatureMap()\n",
    "FeatureXMLFile().load(\"test.featureXML\", fmap)\n",
    "for feature in fmap:\n",
    "   print(\"Feature: \", feature.getIntensity(), feature.getRT(), feature.getMZ())"
   ]
  },
  {
   "cell_type": "markdown",
   "id": "1dd70ddf",
   "metadata": {},
   "source": [
    "## ConsensusFeature\n",
    "\n",
    "Often LC-MS/MS experiments are run to compare quantitative features\n",
    "across experiments. In OpenMS, linked features from individual\n",
    "experiments are represented by a `ConsensusFeature`"
   ]
  },
  {
   "cell_type": "code",
   "execution_count": null,
   "id": "f85283b6",
   "metadata": {},
   "outputs": [],
   "source": [
    "from pyopenms import *\n",
    "feature = ConsensusFeature()\n",
    "feature.setMZ( 500.9 )\n",
    "feature.setCharge(2)\n",
    "feature.setRT( 1500.1 )\n",
    "feature.setIntensity( 80500 )\n",
    "\n",
    "# Generate ConsensusFeature and features from two maps (with id 1 and 2)\n",
    "### Feature 1\n",
    "f_m1 = ConsensusFeature()\n",
    "f_m1.setRT(500)\n",
    "f_m1.setMZ(300.01)\n",
    "f_m1.setIntensity(200)\n",
    "f_m1.ensureUniqueId()\n",
    "### Feature 2\n",
    "f_m2 = ConsensusFeature()\n",
    "f_m2.setRT(505)\n",
    "f_m2.setMZ(299.99)\n",
    "f_m2.setIntensity(600)\n",
    "f_m2.ensureUniqueId()\n",
    "feature.insert(1, f_m1 )\n",
    "feature.insert(2, f_m2 )"
   ]
  },
  {
   "cell_type": "markdown",
   "id": "2ebda97d",
   "metadata": {},
   "source": [
    "We have thus added two features from two individual maps (which have the\n",
    "unique identifier `1` and `2`) to the `ConsensusFeature`. Next, we\n",
    "inspect the consensus feature, compute a \"consensus\" *m/z* across the\n",
    "two maps and output the two linked features:"
   ]
  },
  {
   "cell_type": "code",
   "execution_count": null,
   "id": "1bbc37f1",
   "metadata": {},
   "outputs": [],
   "source": [
    "# The two features in map 1 and map 2 represent the same analyte at\n",
    "# slightly different RT and m/z\n",
    "for fh in feature.getFeatureList():\n",
    "  print(fh.getMapIndex(), fh.getIntensity(), fh.getRT())\n",
    "\n",
    "print(feature.getMZ())\n",
    "feature.computeMonoisotopicConsensus()\n",
    "print(feature.getMZ())\n",
    "\n",
    "# Generate ConsensusMap and add two maps (with id 1 and 2)\n",
    "cmap = ConsensusMap()\n",
    "fds = { 1 : ColumnHeader(), 2 : ColumnHeader() }\n",
    "fds[1].filename = \"file1\"\n",
    "fds[2].filename = \"file2\"\n",
    "cmap.setColumnHeaders(fds)\n",
    "\n",
    "feature.ensureUniqueId()\n",
    "cmap.push_back(feature)\n",
    "ConsensusXMLFile().store(\"test.consensusXML\", cmap)"
   ]
  },
  {
   "cell_type": "markdown",
   "id": "79e17c8a",
   "metadata": {},
   "source": [
    "Inspection of the generated `test.consensusXML` reveals that it contains\n",
    "references to two LC-MS/MS runs (`file1` and `file2`) with their\n",
    "respective unique identifier. Note how the two features we added before\n",
    "have matching unique identifiers.\n",
    "\n",
    "Visualization of the resulting output file reveals a single\n",
    "`ConsensusFeature` of size 2 that links to the two individual features\n",
    "at their respective positions in RT and *m/z*:\n",
    "\n",
    "![image](img/consensus.png)\n",
    "\n",
    "## ConsensusMap\n",
    "\n",
    "The resulting `ConsensusMap` can be used in various ways to extract\n",
    "quantitative data directly and it supports direct iteration in Python:"
   ]
  },
  {
   "cell_type": "code",
   "execution_count": null,
   "id": "703a9edd",
   "metadata": {},
   "outputs": [],
   "source": [
    "from pyopenms import *\n",
    "cmap = ConsensusMap()\n",
    "ConsensusXMLFile().load(\"test.consensusXML\", cmap)\n",
    "for cfeature in cmap:\n",
    "   cfeature.computeConsensus()\n",
    "   print(\"ConsensusFeature\", cfeature.getIntensity(), cfeature.getRT(), cfeature.getMZ())\n",
    "   # The two features in map 1 and map 2 represent the same analyte at\n",
    "   # slightly different RT and m/z\n",
    "   for fh in cfeature.getFeatureList():\n",
    "     print(\" -- Feature\", fh.getMapIndex(), fh.getIntensity(), fh.getRT())"
   ]
  },
  {
   "cell_type": "markdown",
   "id": "4fc7d97b",
   "metadata": {},
   "source": [
    "[![Launch Binder](./img/launch_binder.jpg)](https://mybinder.org/v2/gh/OpenMS/pyopenms-extra/master+ipynb?urlpath=lab/tree/docs/source/datastructures_quant.ipynb)"
   ]
  }
 ],
 "metadata": {},
 "nbformat": 4,
 "nbformat_minor": 5
}
