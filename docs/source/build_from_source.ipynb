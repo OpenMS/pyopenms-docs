{
 "cells": [
  {
   "cell_type": "markdown",
   "id": "0719e611",
   "metadata": {},
   "source": [
    "$$\n",
    "\\def\\CC{\\bf C}\n",
    "\\def\\QQ{\\bf Q}\n",
    "\\def\\RR{\\bf R}\n",
    "\\def\\ZZ{\\bf Z}\n",
    "\\def\\NN{\\bf N}\n",
    "$$\n",
    "# Build from source\n",
    "\n",
    "To install pyOpenMS from `source`, you will first have to compile OpenMS\n",
    "successfully on your platform of choice (note that for MS Windows you\n",
    "will need to match your compiler and Python version). Please follow the\n",
    "[official\n",
    "documenation](http://ftp.mi.fu-berlin.de/pub/OpenMS/release-documentation/html/index.html)\n",
    "in order to compile OpenMS for your platform. Next you will need to\n",
    "install the following software packages\n",
    "\n",
    "On Microsoft Windows: you need the 64 bit C++ compiler from Visual\n",
    "Studio 2015 to compile the newest pyOpenMS for Python 3.5, 3.6 or 3.7.\n",
    "This is important, else you get a clib that is different than the one\n",
    "used for building the Python executable, and pyOpenMS will crash on\n",
    "import. The OpenMS wiki has [detailed\n",
    "information](https://github.com/OpenMS/OpenMS/wiki/Build-pyOpenMS-on-Windows)\n",
    "on building pyOpenMS on Windows.\n",
    "\n",
    "You can install all necessary Python packages on which pyOpenMS depends\n",
    "through"
   ]
  },
  {
   "cell_type": "code",
   "execution_count": null,
   "id": "a3b18c4a",
   "metadata": {},
   "outputs": [],
   "source": [
    "pip install -U setuptools\n",
    "pip install -U pip\n",
    "pip install -U autowrap\n",
    "pip install -U nose\n",
    "pip install -U numpy\n",
    "pip install -U wheel"
   ]
  },
  {
   "cell_type": "markdown",
   "id": "a2bb4bd6",
   "metadata": {},
   "source": [
    "Depending on your systems setup, it may make sense to do this inside a\n",
    "virtual environment"
   ]
  },
  {
   "cell_type": "code",
   "execution_count": null,
   "id": "6f63b10b",
   "metadata": {},
   "outputs": [],
   "source": [
    "virtualenv pyopenms_venv\n",
    "source pyopenms_venv/bin/activate"
   ]
  },
  {
   "cell_type": "markdown",
   "id": "bf593d72",
   "metadata": {},
   "source": [
    "Next, configure OpenMS with pyOpenMS: execute `cmake` as usual, but with\n",
    "parameters `DPYOPENMS=ON`. Also, if using virtualenv or using a specific\n",
    "Python version, add `-DPYTHON_EXECUTABLE:FILEPATH=/path/to/python` to\n",
    "ensure that the correct Python executable is used. Compiling pyOpenMS\n",
    "can use a lot of memory and take some time, however you can reduce the\n",
    "memory consumption by breaking up the compilation into multiple units\n",
    "and compiling in parallel, for example\n",
    "`-DPY_NUM_THREADS=2 -DPY_NUM_MODULES=4` will build 4 modules with 2\n",
    "threads. You can then configure pyOpenMS:"
   ]
  },
  {
   "cell_type": "code",
   "execution_count": null,
   "id": "66c2f765",
   "metadata": {},
   "outputs": [],
   "source": [
    "cmake -DPYOPENMS=ON\n",
    "make pyopenms"
   ]
  },
  {
   "cell_type": "markdown",
   "id": "cf493136",
   "metadata": {},
   "source": [
    "Build pyOpenMS (now there should be pyOpenMS specific build targets).\n",
    "Afterwards, test that all went well by running the tests:"
   ]
  },
  {
   "cell_type": "code",
   "execution_count": null,
   "id": "367a5af8",
   "metadata": {},
   "outputs": [],
   "source": [
    "ctest -R pyopenms"
   ]
  },
  {
   "cell_type": "markdown",
   "id": "9f93bef4",
   "metadata": {},
   "source": [
    "Which should execute all the tests and return with all tests passing.\n",
    "\n",
    "## Further questions\n",
    "\n",
    "In case the above instructions did not work, please refer to the [Wiki\n",
    "Page](https://github.com/OpenMS/OpenMS/wiki/pyOpenMS), contact the\n",
    "development team on github or send an email to the OpenMS mailing list.\n",
    "\n",
    "[![Launch Binder](./img/launch_binder.jpg)](https://mybinder.org/v2/gh/OpenMS/pyopenms-extra/master+ipynb?urlpath=lab/tree/docs/source/build_from_source.ipynb)"
   ]
  }
 ],
 "metadata": {},
 "nbformat": 4,
 "nbformat_minor": 5
}
