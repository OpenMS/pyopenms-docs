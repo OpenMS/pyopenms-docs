{
 "cells": [
  {
   "cell_type": "markdown",
   "id": "55fef221",
   "metadata": {},
   "source": [
    "$$\n",
    "\\def\\CC{\\bf C}\n",
    "\\def\\QQ{\\bf Q}\n",
    "\\def\\RR{\\bf R}\n",
    "\\def\\ZZ{\\bf Z}\n",
    "\\def\\NN{\\bf N}\n",
    "$$\n",
    "# mzML files\n",
    "\n",
    "Note\n",
    "\n",
    "This is an advanced section that dives deep into the mzML format and we\n",
    "will investigate the file format in greater detail. The intricacies of\n",
    "the mzML file format are all handled by pyOpenMS internally and this\n",
    "section is only intended for the interested reader\n",
    "\n",
    "Specifically, we will look at mzML stores raw spectral data and how this\n",
    "data is encoded in the XML format. The mzML standard is developed by the\n",
    "HUPO-PSI committee and can be read on the [official mzML\n",
    "website](http://www.psidev.info/mzML). It describes how to store the\n",
    "meta data and the raw data for spectra and chromatograms. In short, the\n",
    "standard uses XML to encode all meta data and stores the raw data using\n",
    "[Base64 encoding](https://en.wikipedia.org/wiki/Base64).\n",
    "\n",
    "## Binary encoding\n",
    "\n",
    "`To proceed <Binary encoding (mzML)>`, we will download an example file:"
   ]
  },
  {
   "cell_type": "code",
   "execution_count": null,
   "id": "49c1afc7",
   "metadata": {},
   "outputs": [],
   "source": [
    "from pyopenms import *\n",
    "from urllib.request import urlretrieve\n",
    "# from urllib import urlretrieve  # use this code for Python 2.x\n",
    "urlretrieve (\"http://proteowizard.sourceforge.net/example_data/tiny.pwiz.1.1.mzML\", \"test.mzML\")"
   ]
  },
  {
   "cell_type": "markdown",
   "id": "24784ec0",
   "metadata": {},
   "source": [
    "Let's investigate the file `test.mzML` and look at line 197:"
   ]
  },
  {
   "cell_type": "code",
   "execution_count": null,
   "id": "23518cd6",
   "metadata": {},
   "outputs": [
    {
     "data": {
      "text/plain": [
       "<binary>AAAAAAAAAAAAAAAAAAAAQAAAAAAAABBAAAAAAAAAGEAAAAAAAAAgQAAAAAAAACRAAAAAAAAAKEAAAAAAAAAsQAAAAAAAADBAAAAAAAAAMkA=</binary>"
      ]
     },
     "execution_count": 1,
     "metadata": {},
     "output_type": "execute_result"
    }
   ],
   "source": [
    "print( open(\"test.mzML\").readlines()[197].strip() )"
   ]
  },
  {
   "cell_type": "markdown",
   "id": "9b7d481b",
   "metadata": {},
   "source": [
    "We see that line 197 in the `test.mzML` file contains the `binary` XML\n",
    "tag that contains a long datastring that starts with `AAAAA` and ends\n",
    "with `AAMkA=`. This is the raw spectrum data encoded using\n",
    "[Base64](https://en.wikipedia.org/wiki/Base64). We can confirm this by\n",
    "looking at some more context (lines 193 to 199 of the file):"
   ]
  },
  {
   "cell_type": "code",
   "execution_count": null,
   "id": "0d6b76d7",
   "metadata": {},
   "outputs": [
    {
     "data": {
      "text/plain": [
       "<binaryDataArray encodedLength=\"108\" dataProcessingRef=\"CompassXtract_x0020_processing\">\n",
       "  <cvParam cvRef=\"MS\" accession=\"MS:1000523\" name=\"64-bit float\" value=\"\"/>\n",
       "  <cvParam cvRef=\"MS\" accession=\"MS:1000576\" name=\"no compression\" value=\"\"/>\n",
       "  <cvParam cvRef=\"MS\" accession=\"MS:1000514\" name=\"m/z array\" value=\"\" unitCvRef=\"MS\" unitAccession=\"MS:1000040\" unitName=\"m/z\"/>\n",
       "  <binary>AAAAAAAAAAAAAAAAAAAAQAAAAAAAABBAAAAAAAAAGEAAAAAAAAAgQAAAAAAAACRAAAAAAAAAKEAAAAAAAAAsQAAAAAAAADBAAAAAAAAAMkA=</binary>\n",
       "</binaryDataArray>"
      ]
     },
     "execution_count": 1,
     "metadata": {},
     "output_type": "execute_result"
    }
   ],
   "source": [
    "print( \"\".join( open(\"test.mzML\").readlines()[193:199]) )"
   ]
  },
  {
   "cell_type": "markdown",
   "id": "4a120ae1",
   "metadata": {},
   "source": [
    "We can now see that the surrounding XML tags describe how to decode the\n",
    "data, namely we see that the data is describes the m/z array and is\n",
    "uncompressed 64 bit data. We can now open the file with pyOpenMS and\n",
    "print the corresponding array which is from the second spectrum in the\n",
    "file:"
   ]
  },
  {
   "cell_type": "code",
   "execution_count": null,
   "id": "92d3e895",
   "metadata": {},
   "outputs": [],
   "source": [
    "from pyopenms import *\n",
    "exp = MSExperiment()\n",
    "MzMLFile().load(\"test.mzML\", exp)\n",
    "\n",
    "print( exp.getSpectrum(1).get_peaks()[0] )\n",
    "# [ 0.  2.  4.  6.  8. 10. 12. 14. 16. 18.]"
   ]
  },
  {
   "cell_type": "markdown",
   "id": "38b220ca",
   "metadata": {},
   "source": [
    "We now see that the data encoded describes 10 m/z data points that are\n",
    "equally spaced in intervals of two, starting from 0 m/z and ending at 18\n",
    "m/z (note: this is a synthetic dataset).\n",
    "\n",
    "## Base64 encoding\n",
    "\n",
    "From the mzML standard, we know that the array is `base64 <Base64\n",
    "encoding>` encoded and we can now try to decode this data ourselves. We\n",
    "will first use pure Python functions :"
   ]
  },
  {
   "cell_type": "code",
   "execution_count": null,
   "id": "bef7f0f4",
   "metadata": {},
   "outputs": [],
   "source": [
    "encoded_data = b\"AAAAAAAAAAAAAAAAAAAAQAAAAAAAABBAAAAAAAAAGEAAAAAAAAAgQ\" +\\\n",
    "    b\"AAAAAAAACRAAAAAAAAAKEAAAAAAAAAsQAAAAAAAADBAAAAAAAAAMkA=\"\n",
    "\n",
    "import base64, struct\n",
    "raw_data = base64.decodebytes(encoded_data)\n",
    "out = struct.unpack('<%sd' % (len(raw_data) // 8), raw_data)\n",
    "# struct.unpack('<%sf' % (len(raw_data) // 4), raw_data) # for 32 bit data\n",
    "print(out)\n",
    "# (0.0, 2.0, 4.0, 6.0, 8.0, 10.0, 12.0, 14.0, 16.0, 18.0)"
   ]
  },
  {
   "cell_type": "markdown",
   "id": "96a88f56",
   "metadata": {},
   "source": [
    "The code above uses the `base64` package on line 5 to decode the encoded\n",
    "data to raw binary data. On line 6, we use the `struct` package to\n",
    "transform the raw binary data to 64-bit floating point values. Note that\n",
    "`<%sd` is used for 64 bit data and `<%sf` for 32 bit data.\n",
    "\n",
    "Alternatively, we could also use pyOpenMS to decode the same data:"
   ]
  },
  {
   "cell_type": "code",
   "execution_count": null,
   "id": "3c2ffba2",
   "metadata": {},
   "outputs": [],
   "source": [
    "encoded_data = b\"AAAAAAAAAAAAAAAAAAAAQAAAAAAAABBAAAAAAAAAGEAAAAAAAAAgQ\" +\\\n",
    "    b\"AAAAAAAACRAAAAAAAAAKEAAAAAAAAAsQAAAAAAAADBAAAAAAAAAMkA=\"\n",
    "\n",
    "from pyopenms import *\n",
    "out = []\n",
    "Base64().decode64(encoded_data, Base64.ByteOrder.BYTEORDER_LITTLEENDIAN, out, False)\n",
    "print( out )\n",
    "# [0.0, 2.0, 4.0, 6.0, 8.0, 10.0, 12.0, 14.0, 16.0, 18.0]"
   ]
  },
  {
   "cell_type": "markdown",
   "id": "1f653662",
   "metadata": {},
   "source": [
    "This allows us thus to manually decode the data. We can use pyOpenMS to\n",
    "encode and decode 32 and 64 bit values:"
   ]
  },
  {
   "cell_type": "code",
   "execution_count": null,
   "id": "0b323bf6",
   "metadata": {},
   "outputs": [],
   "source": [
    "encoded_data = b\"AAAAAAAAAAAAAAAAAAAAQAAAAAAAABBAAAAAAAAAGEAAAAAAAAAgQ\" +\\\n",
    "    b\"AAAAAAAACRAAAAAAAAAKEAAAAAAAAAsQAAAAAAAADBAAAAAAAAAMkA=\"\n",
    "\n",
    "from pyopenms import *\n",
    "out = []\n",
    "Base64().decode64(encoded_data, Base64.ByteOrder.BYTEORDER_LITTLEENDIAN, out, False)\n",
    "print( out )\n",
    "# [0.0, 2.0, 4.0, 6.0, 8.0, 10.0, 12.0, 14.0, 16.0, 18.0]\n",
    "\n",
    "data = String()\n",
    "Base64().encode64(out, Base64.ByteOrder.BYTEORDER_LITTLEENDIAN, data, False)\n",
    "print (data)\n",
    "# b'AAAAAAAAAAAAAAAAAAAAQAAAAAAAABBAAAAAAAAAGEAAAAAAAAAgQAAAAAAAACRAAAAAAAAAKEAAAAAAAAAsQAAAAAAAADBAAAAAAAAAMkA='\n",
    "Base64().encode64(out, Base64.ByteOrder.BYTEORDER_LITTLEENDIAN, data, True)\n",
    "print (data)\n",
    "# b'eJxjYEABDhBKAEpLQGkFKK0CpTWgtA6UNoDSRg4AZlQDYw=='\n",
    "\n",
    "\n",
    "data = String()\n",
    "Base64().encode32(out, Base64.ByteOrder.BYTEORDER_LITTLEENDIAN, data, False)\n",
    "print (data)\n",
    "# b'AAAAAAAAAEAAAIBAAADAQAAAAEEAACBBAABAQQAAYEEAAIBBAACQQQ=='\n",
    "Base64().encode32(out, Base64.ByteOrder.BYTEORDER_LITTLEENDIAN, data, True)\n",
    "print (data)\n",
    "# b'eJxjYAADBwaGBiA+AMQMjgwMCkDsAMQJQNwAxBMcAVbKBVc='"
   ]
  },
  {
   "cell_type": "markdown",
   "id": "e6176045",
   "metadata": {},
   "source": [
    "Note how encoding the data with 64 bit precision results in an output\n",
    "string of length 108 characters that is about twice as long compared to\n",
    "encoding the data with 32 bit precision which is of length 56\n",
    "characters. However, this difference disappears when zlib compression is\n",
    "used and the resulting string is shorter still.\n",
    "\n",
    "## numpress encoding\n",
    "\n",
    "We can do even better, using the `numpress <numpress>` compression. The\n",
    "numpress algorithm uses lossy compression, similar to jpeg compression,\n",
    "which is capable of compressing data even further but at the cost of not\n",
    "being able to recover the original input data exactly:"
   ]
  },
  {
   "cell_type": "code",
   "execution_count": null,
   "id": "5bacd748",
   "metadata": {},
   "outputs": [],
   "source": [
    "from pyopenms import *\n",
    "data = [0.0, 2.0, 4.0, 6.0, 8.0, 10.0, 12.0, 14.0, 16.0, 18.0 + 1e-8]\n",
    "print(data)\n",
    "# [0.0, 2.0, 4.0, 6.0, 8.0, 10.0, 12.0, 14.0, 16.0, 18.00000001]\n",
    "r = []\n",
    "\n",
    "c = NumpressConfig()\n",
    "c.np_compression = MSNumpressCoder.NumpressCompression.LINEAR\n",
    "res = String()\n",
    "MSNumpressCoder().encodeNP(data, res, False, c)\n",
    "print(res)\n",
    "# b'Qc////+AAAAAAAAA/v//f4iIiIew'\n",
    "MSNumpressCoder().decodeNP(res, r, False, c)\n",
    "print(r)\n",
    "# [0.0, 2.0, 4.0, 6.0, 8.0, 10.0, 12.0, 14.0, 16.0, 18.00000001024455]\n",
    "\n",
    "\n",
    "c.np_compression = MSNumpressCoder.NumpressCompression.PIC\n",
    "MSNumpressCoder().encodeNP(data, res, False, c)\n",
    "print(res)\n",
    "# b'hydHZ4enx+YBYhA='\n",
    "MSNumpressCoder().decodeNP(res, r, False, c)\n",
    "print(r)\n",
    "# [0.0, 2.0, 4.0, 6.0, 8.0, 10.0, 12.0, 14.0, 16.0, 18.0]"
   ]
  },
  {
   "cell_type": "markdown",
   "id": "e40a145e",
   "metadata": {},
   "source": [
    "Note how the lossy numpress compression leads to even shorter data, with\n",
    "16 characters for PIC compression and 28 characters for linear\n",
    "compression. This makes the encoding much more efficient than lossless\n",
    "encoding that we have discussed above, however this is at the price of\n",
    "accuracy.\n",
    "\n",
    "Different numpress compression schemes result in different accuracy, the\n",
    "LINEAR compression scheme introduced an inaccuracy of 10e-10 while the\n",
    "PIC (positive integer compression) can only store positive integers and\n",
    "results in greater loss of accuracy.\n",
    "\n",
    "[![Launch Binder](./img/launch_binder.jpg)](https://mybinder.org/v2/gh/OpenMS/pyopenms-extra/master+ipynb?urlpath=lab/tree/docs/source/mzMLFileFormat.ipynb)"
   ]
  }
 ],
 "metadata": {},
 "nbformat": 4,
 "nbformat_minor": 5
}
