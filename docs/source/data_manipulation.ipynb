{
 "cells": [
  {
   "cell_type": "markdown",
   "id": "ba51de52",
   "metadata": {},
   "source": [
    "$$\n",
    "\\def\\CC{\\bf C}\n",
    "\\def\\QQ{\\bf Q}\n",
    "\\def\\RR{\\bf R}\n",
    "\\def\\ZZ{\\bf Z}\n",
    "\\def\\NN{\\bf N}\n",
    "$$\n",
    "# Simple Data Manipulation\n",
    "\n",
    "Here we will look at a few simple data manipulation techniques on\n",
    "spectral data, such as filtering. First we will download some sample\n",
    "data."
   ]
  },
  {
   "cell_type": "code",
   "execution_count": null,
   "id": "e840b30d",
   "metadata": {},
   "outputs": [],
   "source": [
    "from urllib.request import urlretrieve\n",
    "# from urllib import urlretrieve  # use this code for Python 2.x\n",
    "urlretrieve (\"http://proteowizard.sourceforge.net/example_data/tiny.pwiz.1.1.mzML\",\n",
    "             \"test.mzML\")"
   ]
  },
  {
   "cell_type": "markdown",
   "id": "d28b6e4d",
   "metadata": {},
   "source": [
    "## Filtering Spectra\n",
    "\n",
    "We will filter the \"test.mzML\" file by only retaining spectra that match\n",
    "a certain identifier:"
   ]
  },
  {
   "cell_type": "code",
   "execution_count": null,
   "id": "eeeadb59",
   "metadata": {},
   "outputs": [],
   "source": [
    "from pyopenms import *\n",
    "inp = MSExperiment()\n",
    "MzMLFile().load(\"test.mzML\", inp)\n",
    "\n",
    "e = MSExperiment()\n",
    "for s in inp:\n",
    "  if s.getNativeID().startswith(\"scan=\"):\n",
    "    e.addSpectrum(s)\n",
    "\n",
    "MzMLFile().store(\"test_filtered.mzML\", e)"
   ]
  },
  {
   "cell_type": "markdown",
   "id": "18f243f3",
   "metadata": {},
   "source": [
    "### Filtering by MS level\n",
    "\n",
    "Similarly, we can filter the `test.mzML` file by MS level, retaining\n",
    "only spectra that are not MS1 spectra (e.g.MS2, MS3 or MSn spectra):"
   ]
  },
  {
   "cell_type": "code",
   "execution_count": null,
   "id": "fc959942",
   "metadata": {},
   "outputs": [],
   "source": [
    "from pyopenms import *\n",
    "inp = MSExperiment()\n",
    "MzMLFile().load(\"test.mzML\", inp)\n",
    "\n",
    "e = MSExperiment()\n",
    "for s in inp:\n",
    "  if s.getMSLevel() > 1:\n",
    "    e.addSpectrum(s)\n",
    "\n",
    "MzMLFile().store(\"test_filtered.mzML\", e)"
   ]
  },
  {
   "cell_type": "markdown",
   "id": "326d9ef5",
   "metadata": {},
   "source": [
    "Note that we can easily replace line 7 with more complicated criteria,\n",
    "such as filtering by MS level and scan identifier at the same time:"
   ]
  },
  {
   "cell_type": "code",
   "execution_count": null,
   "id": "457e61ea",
   "metadata": {},
   "outputs": [],
   "source": [
    "if s.getMSLevel() > 1 and s.getNativeID().startswith(\"scan=\"):"
   ]
  },
  {
   "cell_type": "markdown",
   "id": "ed8771f4",
   "metadata": {},
   "source": [
    "### Filtering by scan number\n",
    "\n",
    "Or we could use an external list of scan numbers to filter by scan\n",
    "numbers, thus only retaining MS scans in which we are interested in:"
   ]
  },
  {
   "cell_type": "code",
   "execution_count": null,
   "id": "86b558a6",
   "metadata": {},
   "outputs": [],
   "source": [
    "from pyopenms import *\n",
    "inp = MSExperiment()\n",
    "MzMLFile().load(\"test.mzML\", inp)\n",
    "scan_nrs = [0, 2, 5, 7]\n",
    "\n",
    "e = MSExperiment()\n",
    "for k, s in enumerate(inp):\n",
    "  if k in scan_nrs and s.getMSLevel() == 1:\n",
    "    e.addSpectrum(s)\n",
    "\n",
    "MzMLFile().store(\"test_filtered.mzML\", e)"
   ]
  },
  {
   "cell_type": "markdown",
   "id": "a388e600",
   "metadata": {},
   "source": [
    "It would also be easy to read the scan numbers from a file where each\n",
    "scan number is on its own line, thus replacing line 4 with:"
   ]
  },
  {
   "cell_type": "code",
   "execution_count": null,
   "id": "62ca51d9",
   "metadata": {},
   "outputs": [],
   "source": [
    "scan_nrs = [int(k) for k in open(\"scan_nrs.txt\")]"
   ]
  },
  {
   "cell_type": "markdown",
   "id": "7d2cc29c",
   "metadata": {},
   "source": [
    "## Filtering Spectra and Peaks\n",
    "\n",
    "We can now move on to more advanced filtering, suppose we are interested\n",
    "in only a part of all fragment ion spectra, such as a specific m/z\n",
    "window. We can easily filter our data accordingly:"
   ]
  },
  {
   "cell_type": "code",
   "execution_count": null,
   "id": "c9730362",
   "metadata": {},
   "outputs": [],
   "source": [
    "from pyopenms import *\n",
    "inp = MSExperiment()\n",
    "MzMLFile().load(\"test.mzML\", inp)\n",
    "\n",
    "mz_start = 6.0\n",
    "mz_end = 12.0\n",
    "e = MSExperiment()\n",
    "for s in inp:\n",
    "  if s.getMSLevel() > 1:\n",
    "    filtered_mz = []\n",
    "    filtered_int = []\n",
    "    for mz, i in zip(*s.get_peaks()):\n",
    "      if mz > mz_start and mz < mz_end:\n",
    "        filtered_mz.append(mz)\n",
    "        filtered_int.append(i)\n",
    "    s.set_peaks((filtered_mz, filtered_int))\n",
    "    e.addSpectrum(s)\n",
    "\n",
    "MzMLFile().store(\"test_filtered.mzML\", e)"
   ]
  },
  {
   "cell_type": "markdown",
   "id": "d6c970fc",
   "metadata": {},
   "source": [
    "Note that in a real-world application, we would set the `mz_start` and\n",
    "`mz_end` parameter to an actual area of interest, for example the area\n",
    "between 125 and 132 which contains quantitative ions for a TMT\n",
    "experiment.\n",
    "\n",
    "Similarly we could change line 13 to only report peaks above a certain\n",
    "intensity or to only report the top N peaks in a spectrum.\n",
    "\n",
    "## Memory management\n",
    "\n",
    "On order to save memory, we can avoid loading the whole file into memory\n",
    "and use the OnDiscMSExperiment for reading data."
   ]
  },
  {
   "cell_type": "code",
   "execution_count": null,
   "id": "d1c114b1",
   "metadata": {},
   "outputs": [],
   "source": [
    "from pyopenms import *\n",
    "od_exp = OnDiscMSExperiment()\n",
    "od_exp.openFile(\"test.mzML\")\n",
    "\n",
    "e = MSExperiment()\n",
    "for k in range(od_exp.getNrSpectra()):\n",
    "  s = od_exp.getSpectrum(k)\n",
    "  if s.getNativeID().startswith(\"scan=\"):\n",
    "    e.addSpectrum(s)\n",
    "\n",
    "MzMLFile().store(\"test_filtered.mzML\", e)"
   ]
  },
  {
   "cell_type": "markdown",
   "id": "f298c505",
   "metadata": {},
   "source": [
    "Note that using the approach the output data `e` is still completely in\n",
    "memory and may end up using a substantial amount of memory. We can avoid\n",
    "that by using"
   ]
  },
  {
   "cell_type": "code",
   "execution_count": null,
   "id": "c7f74e6c",
   "metadata": {},
   "outputs": [],
   "source": [
    "from pyopenms import *\n",
    "od_exp = OnDiscMSExperiment()\n",
    "od_exp.openFile(\"test.mzML\")\n",
    "\n",
    "consumer = PlainMSDataWritingConsumer(\"test_filtered.mzML\")\n",
    "\n",
    "e = MSExperiment()\n",
    "for k in range(od_exp.getNrSpectra()):\n",
    "  s = od_exp.getSpectrum(k)\n",
    "  if s.getNativeID().startswith(\"scan=\"):\n",
    "    consumer.consumeSpectrum(s)\n",
    "\n",
    "del consumer"
   ]
  },
  {
   "cell_type": "markdown",
   "id": "669ff21f",
   "metadata": {},
   "source": [
    "Make sure you do not forget `del consumer` since otherwise the final\n",
    "part of the mzML may not get written to disk (and the consumer is still\n",
    "waiting for new data).\n",
    "\n",
    "[![Launch Binder](./img/launch_binder.jpg)](https://mybinder.org/v2/gh/OpenMS/pyopenms-extra/master+ipynb?urlpath=lab/tree/docs/source/data_manipulation.ipynb)"
   ]
  }
 ],
 "metadata": {},
 "nbformat": 4,
 "nbformat_minor": 5
}
