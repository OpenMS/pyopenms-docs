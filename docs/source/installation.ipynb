{
 "cells": [
  {
   "cell_type": "markdown",
   "id": "17621e51",
   "metadata": {},
   "source": [
    "$$\n",
    "\\def\\CC{\\bf C}\n",
    "\\def\\QQ{\\bf Q}\n",
    "\\def\\RR{\\bf R}\n",
    "\\def\\ZZ{\\bf Z}\n",
    "\\def\\NN{\\bf N}\n",
    "$$\n",
    "# pyOpenMS Installation\n",
    "\n",
    "## Binaries\n",
    "\n",
    "### Spyder\n",
    "\n",
    "On Microsoft Windows, we recommend to use pyopenms together with\n",
    "Anaconda and the Spyder interface which you can download from the\n",
    "[Official Anaconda repository](https://www.anaconda.com/distribution/).\n",
    "After installation, select the \"Anaconda Powershell Prompt\" from the\n",
    "start menu and enter the following command:"
   ]
  },
  {
   "cell_type": "code",
   "execution_count": null,
   "id": "744446a9",
   "metadata": {},
   "outputs": [],
   "source": [
    "pip install pyopenms"
   ]
  },
  {
   "cell_type": "markdown",
   "id": "c618913e",
   "metadata": {},
   "source": [
    "which should result in the following output:\n",
    "\n",
    "![image](img/anaconda_prompt.png)\n",
    "\n",
    "Once successfully installed, you can open the \"Spyder\" graphical user\n",
    "interface and pyopenms will be available:\n",
    "\n",
    "![image](img/spyder.png)\n",
    "\n",
    "Note the console window (lower right) with the `import pyopenms`\n",
    "command, which was executed without error. Next, the Python script on\n",
    "the right was executed and the output is also shown on the console\n",
    "window. You can now use pyopenms within the Spyder environment, either\n",
    "[moving on with the pyOpenMS Tutorial](getting_started.html) or\n",
    "familiarize yourself first with the Spyder environment using the [Online\n",
    "Spyder Documentation](https://docs.spyder-ide.org/).\n",
    "\n",
    "### Command Line\n",
    "\n",
    "To `install` pyOpenMS from the command line using the binary wheels, you\n",
    "can type"
   ]
  },
  {
   "cell_type": "code",
   "execution_count": null,
   "id": "e78b230b",
   "metadata": {},
   "outputs": [],
   "source": [
    "pip install numpy\n",
    "pip install pyopenms"
   ]
  },
  {
   "cell_type": "markdown",
   "id": "061d30e0",
   "metadata": {},
   "source": [
    "We have binary packages for OSX, Linux and Windows (64 bit only)\n",
    "available from [PyPI](https://pypi.org/project/pyopenms). Note that for\n",
    "Windows, we only support Python 3.5, 3.6 and 3.7 in their 64 bit\n",
    "versions, therefore make sure to download the 64bit Python release for\n",
    "Windows. For OSX and Linux, we additionally also support Python 2.7 as\n",
    "well as Python 3.4 (Linux only).\n",
    "\n",
    "You can install Python first from\n",
    "[here](https://www.python.org/downloads/), again make sure to download\n",
    "the 64bit release. You can then open a shell and type the two commands\n",
    "above (on Windows you may potentially have to use\n",
    "`C:\\Python37\\Scripts\\pip.exe` in case `pip` is not in your system path).\n",
    "\n",
    "## Source\n",
    "\n",
    "To install pyOpenMS from `source`, you will first have to compile OpenMS\n",
    "successfully on your platform of choice and then follow the [building\n",
    "from source](build_from_source.html) instructions. Note that this may be\n",
    "non-trivial and *is not recommended* for most users.\n",
    "\n",
    "## Wrap Classes\n",
    "\n",
    "In order to wrap new classes in pyOpenMS, read the following\n",
    "[guide](wrap_classes.html).\n",
    "\n",
    "[![Launch Binder](./img/launch_binder.jpg)](https://mybinder.org/v2/gh/OpenMS/pyopenms-extra/master+ipynb?urlpath=lab/tree/docs/source/installation.ipynb)"
   ]
  }
 ],
 "metadata": {},
 "nbformat": 4,
 "nbformat_minor": 5
}
