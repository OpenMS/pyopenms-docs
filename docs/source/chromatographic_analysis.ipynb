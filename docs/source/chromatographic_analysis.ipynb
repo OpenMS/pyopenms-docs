{
 "cells": [
  {
   "cell_type": "markdown",
   "id": "1fbf51a4",
   "metadata": {},
   "source": [
    "$$\n",
    "\\def\\CC{\\bf C}\n",
    "\\def\\QQ{\\bf Q}\n",
    "\\def\\RR{\\bf R}\n",
    "\\def\\ZZ{\\bf Z}\n",
    "\\def\\NN{\\bf N}\n",
    "$$\n",
    "# Chromagraphic Analysis\n",
    "\n",
    "In targeted proteomics, such as SRM / MRM / PRM / DIA applications,\n",
    "groups of chromatograms need to be analyzed frequently. OpenMS provides\n",
    "several powerful tools for analysis of chromatograms. Most of them are\n",
    "part of the OpenSWATH suite of tools and are also discussed in the\n",
    "[OpenSwath documentation](www.openswath.org).\n",
    "\n",
    "## Peak Detection\n",
    "\n",
    "Here, we will focus on a simple example where 2 peptides are analyzed.\n",
    "We will need 2 input files: the chromatogram files that contains the\n",
    "chromatographic raw data (raw SRM traces or extracted ion chromatograms\n",
    "from PRM/DIA data) as well as the library file used to generated the\n",
    "data which contains information about the targeted peptides:"
   ]
  },
  {
   "cell_type": "code",
   "execution_count": null,
   "id": "2ba02547",
   "metadata": {},
   "outputs": [],
   "source": [
    "from urllib.request import urlretrieve\n",
    "# from urllib import urlretrieve  # use this code for Python 2.x\n",
    "from pyopenms import *\n",
    "gh = \"https://raw.githubusercontent.com/OpenMS/OpenMS/develop\"\n",
    "urlretrieve (gh +\"/src/tests/topp/OpenSwathAnalyzer_1_input_chrom.mzML\", \"chrom.mzML\")\n",
    "urlretrieve (gh +\"/src/tests/topp/OpenSwathAnalyzer_1_input.TraML\", \"transitions.TraML\")\n",
    "\n",
    "chroms = MSExperiment()\n",
    "library = TargetedExperiment()\n",
    "MzMLFile().load(\"chrom.mzML\", chroms)\n",
    "TraMLFile().load(\"transitions.TraML\", library)\n",
    "\n",
    "# Investigate library\n",
    "for t in library.getTransitions():\n",
    "   print (\"Transition\", t.getNativeID(), \"belongs to peptide group\", t.getPeptideRef())      \n",
    "\n",
    "print (\"Input contains\", len(library.getTransitions()), \"transitions and\", len(chroms.getChromatograms()), \"chromatograms.\")\n",
    "features = FeatureMap()\n",
    "dummy_trafo = TransformationDescription()\n",
    "dummy_exp = MSExperiment()\n",
    "MRMFeatureFinderScoring().pickExperiment(chroms, features, library, dummy_trafo, dummy_exp) \n",
    "for f in features: \n",
    "  print (\"Feature for group\", f.getMetaValue(\"PeptideRef\"), \"with precursor m/z\", f.getMetaValue(\"PrecursorMZ\"))\n",
    "  print (\"  Feature found at RT =\", f.getRT(), \"with library dot product\", f.getMetaValue(\"var_library_dotprod\"))"
   ]
  },
  {
   "cell_type": "markdown",
   "id": "b5383f51",
   "metadata": {},
   "source": [
    "Here we see that for the first group of transitions (`tr_gr1`), a single\n",
    "peak at retention time 3119 seconds was found. However, for the second\n",
    "group of transitions, two peaks are found at retention times 3119\n",
    "seconds and at 3055 seconds.\n",
    "\n",
    "## Visualization\n",
    "\n",
    "We can confirm the above analysis by visual inspection of the\n",
    "`chrom.mzML` file produced above in the TOPPView software:\n",
    "\n",
    "![image](img/chroms.png)\n",
    "\n",
    "However, our output above contains more information than only retention\n",
    "time:"
   ]
  },
  {
   "cell_type": "code",
   "execution_count": null,
   "id": "66dc85b3",
   "metadata": {},
   "outputs": [],
   "source": [
    "Feature for group tr_gr1 with precursor m/z 500.0\n",
    "  Feature found at RT = 3119.091968219877 with library dot product 0.9924204062692046\n",
    "Feature for group tr_gr2 with precursor m/z 501.0\n",
    "  Feature found at RT = 3055.584481870532 with library dot product 0.952054383474221\n",
    "Feature for group tr_gr2 with precursor m/z 501.0\n",
    "  Feature found at RT = 3119.0630105310684 with library dot product 0.7501676755451506  "
   ]
  },
  {
   "cell_type": "markdown",
   "id": "001f6949",
   "metadata": {},
   "source": [
    "Based on the output above, we can infer that the peak at 3055 seconds is\n",
    "likely the correct peak for `tr_gr2` since it has a high library dot\n",
    "product (0.95) while the peak at 3119 seconds is likely incorrect for\n",
    "`tr_gr2` since its dot product is low (0.75). We also see that a peak at\n",
    "3119 seconds is likely correct for `tr_gr1` since it matches well with\n",
    "the expected library intensities and has a high dot product (0.99).\n",
    "\n",
    "Note: to get an overview over all available scores for a particular MRM\n",
    "feature `f`, you can use"
   ]
  },
  {
   "cell_type": "code",
   "execution_count": null,
   "id": "37497186",
   "metadata": {},
   "outputs": [],
   "source": [
    "k = []\n",
    "f.getKeys(k)\n",
    "print (k)"
   ]
  },
  {
   "cell_type": "markdown",
   "id": "6681169c",
   "metadata": {},
   "source": [
    "## Smoothing\n",
    "\n",
    "Now you may want to show the chromatograms to your collaborator, but you\n",
    "notice that most software solutions smooth the chromatograms before\n",
    "display. In order to provide smooth chromatograms, you can apply a\n",
    "filter using pyOpenMS:"
   ]
  },
  {
   "cell_type": "code",
   "execution_count": null,
   "id": "84126292",
   "metadata": {},
   "outputs": [],
   "source": [
    "sg = SavitzkyGolayFilter()\n",
    "sg.filterExperiment(chroms)\n",
    "MzMLFile().store(chroms, \"chrom.filter.mzML\")"
   ]
  },
  {
   "cell_type": "markdown",
   "id": "184cc415",
   "metadata": {},
   "source": [
    "Which leads to the following smoothed chromatographic traces:\n",
    "\n",
    "![image](img/chroms_filter.png)\n",
    "\n",
    "[![Launch Binder](./img/launch_binder.jpg)](https://mybinder.org/v2/gh/OpenMS/pyopenms-extra/master+ipynb?urlpath=lab/tree/docs/source/chromatographic_analysis.ipynb)"
   ]
  }
 ],
 "metadata": {},
 "nbformat": 4,
 "nbformat_minor": 5
}
