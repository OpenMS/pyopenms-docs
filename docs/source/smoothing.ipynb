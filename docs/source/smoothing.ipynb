{
 "cells": [
  {
   "cell_type": "markdown",
   "id": "ae01feac",
   "metadata": {},
   "source": [
    "$$\n",
    "\\def\\CC{\\bf C}\n",
    "\\def\\QQ{\\bf Q}\n",
    "\\def\\RR{\\bf R}\n",
    "\\def\\ZZ{\\bf Z}\n",
    "\\def\\NN{\\bf N}\n",
    "$$\n",
    "# Smoothing\n",
    "\n",
    "In many applications, mass spectrometric data should be smoothed first\n",
    "before further analysis"
   ]
  },
  {
   "cell_type": "code",
   "execution_count": null,
   "id": "9dc23f72",
   "metadata": {},
   "outputs": [],
   "source": [
    "from urllib.request import urlretrieve\n",
    "# from urllib import urlretrieve  # use this code for Python 2.x\n",
    "from pyopenms import *\n",
    "gh = \"https://raw.githubusercontent.com/OpenMS/OpenMS/develop\"\n",
    "urlretrieve (gh +\"/share/OpenMS/examples/peakpicker_tutorial_1_baseline_filtered.mzML\", \"tutorial.mzML\")\n",
    "\n",
    "exp = MSExperiment()\n",
    "gf = GaussFilter()\n",
    "param = gf.getParameters()\n",
    "param.setValue(\"gaussian_width\", 1.0) # needs wider width \n",
    "gf.setParameters(param)\n",
    "\n",
    "MzMLFile().load(\"tutorial.mzML\", exp)\n",
    "gf.filterExperiment(exp)\n",
    "MzMLFile().store(\"tutorial.smoothed.mzML\", exp)"
   ]
  },
  {
   "cell_type": "markdown",
   "id": "f932e1c8",
   "metadata": {},
   "source": [
    "We can now load our data into TOPPView to observe the effect of the\n",
    "smoothing, which becomes apparent when we overlay the two files (drag\n",
    "onto each other) and then zoom into a given mass range using Ctrl-G and\n",
    "select 4030 to 4045:\n",
    "\n",
    "![image](img/smoothing.png)\n",
    "\n",
    "In the screenshot above we see the original data (red) and the smoothed\n",
    "data (black), indicating that the smoothing does clean up noise in the\n",
    "data significantly and will prepare the data for downstream processing,\n",
    "such as peak-picking.\n",
    "\n",
    "[![Launch Binder](./img/launch_binder.jpg)](https://mybinder.org/v2/gh/OpenMS/pyopenms-extra/master+ipynb?urlpath=lab/tree/docs/source/smoothing.ipynb)"
   ]
  }
 ],
 "metadata": {},
 "nbformat": 4,
 "nbformat_minor": 5
}
