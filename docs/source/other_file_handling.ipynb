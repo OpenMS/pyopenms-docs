{
 "cells": [
  {
   "cell_type": "markdown",
   "id": "a148b0ef",
   "metadata": {},
   "source": [
    "$$\n",
    "\\def\\CC{\\bf C}\n",
    "\\def\\QQ{\\bf Q}\n",
    "\\def\\RR{\\bf R}\n",
    "\\def\\ZZ{\\bf Z}\n",
    "\\def\\NN{\\bf N}\n",
    "$$\n",
    "# Other MS data formats\n",
    "\n",
    "## Identification data (idXML, mzIdentML, pepXML, protXML)\n",
    "\n",
    "You can store and load identification data from an $idXML$ file as\n",
    "follows:"
   ]
  },
  {
   "cell_type": "code",
   "execution_count": null,
   "id": "9112eaa7",
   "metadata": {},
   "outputs": [],
   "source": [
    "from urllib.request import urlretrieve\n",
    "# from urllib import urlretrieve  # use this code for Python 2.x\n",
    "from pyopenms import *\n",
    "gh = \"https://raw.githubusercontent.com/OpenMS/OpenMS/develop\"\n",
    "urlretrieve (gh +\"/src/tests/class_tests/openms/data/IdXMLFile_whole.idXML\", \"test.idXML\")\n",
    "protein_ids = []\n",
    "peptide_ids = []\n",
    "IdXMLFile().load(\"test.idXML\", protein_ids, peptide_ids)\n",
    "IdXMLFile().store(\"test.out.idXML\", protein_ids, peptide_ids)"
   ]
  },
  {
   "cell_type": "markdown",
   "id": "879fcead",
   "metadata": {},
   "source": [
    "You can store and load identification data from an $mzIdentML$ file as\n",
    "follows:"
   ]
  },
  {
   "cell_type": "code",
   "execution_count": null,
   "id": "7e01307f",
   "metadata": {},
   "outputs": [],
   "source": [
    "from urllib.request import urlretrieve\n",
    "# from urllib import urlretrieve  # use this code for Python 2.x\n",
    "from pyopenms import *\n",
    "gh = \"https://raw.githubusercontent.com/OpenMS/OpenMS/develop\"\n",
    "urlretrieve (gh + \"/src/tests/class_tests/openms/data/MzIdentML_3runs.mzid\", \"test.mzid\")\n",
    "protein_ids = []\n",
    "peptide_ids = []\n",
    "MzIdentMLFile().load(\"test.mzid\", protein_ids, peptide_ids)\n",
    "MzIdentMLFile().store(\"test.out.mzid\", protein_ids, peptide_ids)"
   ]
  },
  {
   "cell_type": "markdown",
   "id": "4c393a66",
   "metadata": {},
   "source": [
    "You can store and load identification data from a TPP $pepXML$ file as\n",
    "follows:"
   ]
  },
  {
   "cell_type": "code",
   "execution_count": null,
   "id": "f5b1b8b9",
   "metadata": {},
   "outputs": [],
   "source": [
    "from urllib.request import urlretrieve\n",
    "# from urllib import urlretrieve  # use this code for Python 2.x\n",
    "from pyopenms import *\n",
    "gh = \"https://raw.githubusercontent.com/OpenMS/OpenMS/develop\"\n",
    "urlretrieve (gh + \"/src/tests/class_tests/openms/data/PepXMLFile_test.pepxml\", \"test.pepxml\")\n",
    "protein_ids = []\n",
    "peptide_ids = []\n",
    "PepXMLFile().load(\"test.pepxml\", protein_ids, peptide_ids)\n",
    "PepXMLFile().store(\"test.out.pepxml\", protein_ids, peptide_ids)"
   ]
  },
  {
   "cell_type": "markdown",
   "id": "e9ac6b8f",
   "metadata": {},
   "source": [
    "You can load (storing is not supported) identification data from a TPP\n",
    "$protXML$ file as follows:"
   ]
  },
  {
   "cell_type": "code",
   "execution_count": null,
   "id": "316d19b4",
   "metadata": {},
   "outputs": [],
   "source": [
    "from urllib.request import urlretrieve\n",
    "# from urllib import urlretrieve  # use this code for Python 2.x\n",
    "from pyopenms import *\n",
    "gh = \"https://raw.githubusercontent.com/OpenMS/OpenMS/develop\"\n",
    "urlretrieve (gh + \"/src/tests/class_tests/openms/data/ProtXMLFile_input_1.protXML\", \"test.protXML\")\n",
    "protein_ids = ProteinIdentification()\n",
    "peptide_ids = PeptideIdentification()\n",
    "ProtXMLFile().load(\"test.protXML\", protein_ids, peptide_ids)\n",
    "# storing protein XML file is not yet supported"
   ]
  },
  {
   "cell_type": "markdown",
   "id": "77ef009f",
   "metadata": {},
   "source": [
    "note how each data file produces two vectors of type\n",
    "`ProteinIdentification` and `PeptideIdentification` which also means\n",
    "that conversion between two data types is trivial: load data from one\n",
    "data file and use the storage function of the other file.\n",
    "\n",
    "## Quantiative data (featureXML, consensusXML)\n",
    "\n",
    "OpenMS stores quantitative information in the internal `featureXML` and\n",
    "`consensusXML` data formats. The `featureXML` format is used to store\n",
    "quantitative data from a single LC-MS/MS run while the `consensusXML` is\n",
    "used to store quantitative data from multiple LC-MS/MS runs. These can\n",
    "be accessed as follows:"
   ]
  },
  {
   "cell_type": "code",
   "execution_count": null,
   "id": "4da11c03",
   "metadata": {},
   "outputs": [],
   "source": [
    "from urllib.request import urlretrieve\n",
    "# from urllib import urlretrieve  # use this code for Python 2.x\n",
    "from pyopenms import *\n",
    "gh = \"https://raw.githubusercontent.com/OpenMS/OpenMS/develop\"\n",
    "urlretrieve (gh + \"/src/tests/topp/FeatureFinderCentroided_1_output.featureXML\", \"test.featureXML\")\n",
    "features = FeatureMap()\n",
    "FeatureXMLFile().load(\"test.featureXML\", features)\n",
    "FeatureXMLFile().store(\"test.out.featureXML\", features)"
   ]
  },
  {
   "cell_type": "markdown",
   "id": "0058f7c5",
   "metadata": {},
   "source": [
    "and for `consensusXML`"
   ]
  },
  {
   "cell_type": "code",
   "execution_count": null,
   "id": "0ea2c767",
   "metadata": {},
   "outputs": [],
   "source": [
    "from urllib.request import urlretrieve\n",
    "# from urllib import urlretrieve  # use this code for Python 2.x\n",
    "from pyopenms import *\n",
    "gh = \"https://raw.githubusercontent.com/OpenMS/OpenMS/develop\"\n",
    "urlretrieve (gh + \"/src/tests/class_tests/openms/data/ConsensusXMLFile_1.consensusXML\", \"test.consensusXML\")\n",
    "consensus_features = ConsensusMap()\n",
    "ConsensusXMLFile().load(\"test.consensusXML\", consensus_features)\n",
    "ConsensusXMLFile().store(\"test.out.consensusXML\", consensus_features)"
   ]
  },
  {
   "cell_type": "markdown",
   "id": "bcfdb04c",
   "metadata": {},
   "source": [
    "## Transition data (TraML)\n",
    "\n",
    "The TraML data format allows you to store transition information for\n",
    "targeted experiments (SRM / MRM / PRM / DIA)."
   ]
  },
  {
   "cell_type": "code",
   "execution_count": null,
   "id": "b60e6cf4",
   "metadata": {},
   "outputs": [],
   "source": [
    "from urllib.request import urlretrieve\n",
    "# from urllib import urlretrieve  # use this code for Python 2.x\n",
    "from pyopenms import *\n",
    "gh = \"https://raw.githubusercontent.com/OpenMS/OpenMS/develop\"\n",
    "urlretrieve (gh + \"/src/tests/topp/ConvertTSVToTraML_output.TraML\", \"test.TraML\")\n",
    "targeted_exp = TargetedExperiment()\n",
    "TraMLFile().load(\"test.TraML\", targeted_exp)\n",
    "TraMLFile().store(\"test.out.TraML\", targeted_exp)"
   ]
  },
  {
   "cell_type": "markdown",
   "id": "82ef40f3",
   "metadata": {},
   "source": [
    "[![Launch Binder](./img/launch_binder.jpg)](https://mybinder.org/v2/gh/OpenMS/pyopenms-extra/master+ipynb?urlpath=lab/tree/docs/source/other_file_handling.ipynb)"
   ]
  }
 ],
 "metadata": {},
 "nbformat": 4,
 "nbformat_minor": 5
}
