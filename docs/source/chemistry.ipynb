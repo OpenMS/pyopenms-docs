{
 "cells": [
  {
   "cell_type": "markdown",
   "id": "848fed35",
   "metadata": {},
   "source": [
    "$$\n",
    "\\def\\CC{\\bf C}\n",
    "\\def\\QQ{\\bf Q}\n",
    "\\def\\RR{\\bf R}\n",
    "\\def\\ZZ{\\bf Z}\n",
    "\\def\\NN{\\bf N}\n",
    "$$\n",
    "# Chemistry\n",
    "\n",
    "OpenMS has representations for various chemical concepts including\n",
    "molecular formulas, isotopes, ribonucleotide and amino acid sequences as\n",
    "well as common modifications of amino acids or ribonucleotides.\n",
    "\n",
    "## Constants\n",
    "\n",
    "OpenMS has many chemical and physical constants built in:"
   ]
  },
  {
   "cell_type": "code",
   "execution_count": null,
   "id": "5de48d10",
   "metadata": {},
   "outputs": [],
   "source": [
    "import pyopenms\n",
    "help(pyopenms.Constants)\n",
    "print (\"Avogadro's number is\", pyopenms.Constants.AVOGADRO)"
   ]
  },
  {
   "cell_type": "markdown",
   "id": "69e986b4",
   "metadata": {},
   "source": [
    "which provides access to constants such as Avogadro's number or the\n",
    "electron mass.\n",
    "\n",
    "## Elements\n",
    "\n",
    "In OpenMS, elements are stored in `ElementDB` which has entries for\n",
    "dozens of elements commonly used in mass spectrometry. The database is\n",
    "stored in the `pyopenms/share/OpenMS/CHEMISTRY/Elements.xml` file (where\n",
    "a user can add new elements if necessary)."
   ]
  },
  {
   "cell_type": "code",
   "execution_count": null,
   "id": "3585f5f9",
   "metadata": {},
   "outputs": [],
   "source": [
    "from pyopenms import *\n",
    "\n",
    "edb = ElementDB()\n",
    "\n",
    "edb.hasElement(\"O\")\n",
    "edb.hasElement(\"S\")\n",
    "\n",
    "oxygen = edb.getElement(\"O\")\n",
    "print(oxygen.getName())\n",
    "print(oxygen.getSymbol())\n",
    "print(oxygen.getMonoWeight())\n",
    "print(oxygen.getAverageWeight())\n",
    "\n",
    "sulfur = edb.getElement(\"S\")\n",
    "print(sulfur.getName())\n",
    "print(sulfur.getSymbol())\n",
    "print(sulfur.getMonoWeight())\n",
    "print(sulfur.getAverageWeight())\n",
    "isotopes = sulfur.getIsotopeDistribution()\n",
    "\n",
    "print (\"One mole of oxygen weighs\", 2*oxygen.getAverageWeight(), \"grams\")\n",
    "print (\"One mole of 16O2 weighs\", 2*oxygen.getMonoWeight(), \"grams\")"
   ]
  },
  {
   "cell_type": "markdown",
   "id": "435dedc2",
   "metadata": {},
   "source": [
    "As we can see, the OpenMS `ElementDB` has entries for common elements\n",
    "like Oxygen and Sulfur as well as information on their average and\n",
    "monoisotopic weight. Note that the monoisotopic weight is the weight of\n",
    "the most abundant isotope while the average weight is the sum across all\n",
    "isotopes, weighted by their natural abundance. Therefore, one mole of\n",
    "oxygen (O2) weighs slightly more than a mole of only its monoisotopic\n",
    "isotope since natural oxygen is a mixture of multiple isotopes."
   ]
  },
  {
   "cell_type": "code",
   "execution_count": null,
   "id": "05eb3f31",
   "metadata": {},
   "outputs": [],
   "source": [
    "Oxygen\n",
    "O\n",
    "15.994915\n",
    "15.999405323160001\n",
    "Sulfur\n",
    "S\n",
    "31.97207073\n",
    "32.066084735289\n",
    "One mole of oxygen weighs 31.998810646320003 grams\n",
    "One mole of 16O2 weighs 31.98983 grams"
   ]
  },
  {
   "cell_type": "markdown",
   "id": "fc24b422",
   "metadata": {},
   "source": [
    "### Isotopes\n",
    "\n",
    "We can also inspect the full isotopic distribution of oxygen and sulfur:"
   ]
  },
  {
   "cell_type": "code",
   "execution_count": null,
   "id": "221e44d0",
   "metadata": {},
   "outputs": [],
   "source": [
    "from pyopenms import *\n",
    "edb = ElementDB()\n",
    "\n",
    "oxygen = edb.getElement(\"O\")\n",
    "isotopes = oxygen.getIsotopeDistribution()\n",
    "for iso in isotopes.getContainer():\n",
    "    print (\"Oxygen isotope\", iso.getMZ(), \"has abundance\", iso.getIntensity()*100, \"%\")\n",
    "\n",
    "sulfur = edb.getElement(\"S\")\n",
    "isotopes = sulfur.getIsotopeDistribution()\n",
    "for iso in isotopes.getContainer():\n",
    "    print (\"Sulfur isotope\", iso.getMZ(), \"has abundance\", iso.getIntensity()*100, \"%\")"
   ]
  },
  {
   "cell_type": "markdown",
   "id": "6a7d7b2a",
   "metadata": {},
   "source": [
    "OpenMS can compute isotopic distributions for individual elements which\n",
    "contain information for all stable elements. The current values in the\n",
    "file are average abundances found in nature, which may differ depending\n",
    "on location. The above code outputs the isotopes of oxygen and sulfur as\n",
    "well as their abundance:"
   ]
  },
  {
   "cell_type": "code",
   "execution_count": null,
   "id": "27fc83ed",
   "metadata": {},
   "outputs": [],
   "source": [
    "Oxygen isotope 15.994915 has abundance 99.75699782371521 %\n",
    "Oxygen isotope 16.999132 has abundance 0.03800000122282654 %\n",
    "Oxygen isotope 17.999169 has abundance 0.20500000100582838 %\n",
    "\n",
    "Sulfur isotope 31.97207073 has abundance 94.92999911308289 %\n",
    "Sulfur isotope 32.971458 has abundance 0.7600000128149986 %\n",
    "Sulfur isotope 33.967867 has abundance 4.2899999767541885 %\n",
    "Sulfur isotope 35.967081 has abundance 0.019999999494757503 %"
   ]
  },
  {
   "cell_type": "markdown",
   "id": "c66b27db",
   "metadata": {},
   "source": [
    "------------------------------------------------------------------------\n",
    "\n",
    "Note\n",
    "\n",
    "While all isotopes are created by adding one or more neutrons to the\n",
    "nucleus, this leads to different observed masses due to the [mass\n",
    "defect](https://en.wikipedia.org/wiki/Nuclear_binding_energy#Mass_defect),\n",
    "which describes the difference between the mass of an atom and the mass\n",
    "of its constituent particles. For example, the mass difference between\n",
    "12C and 13C is slightly different than the mass difference between 14N\n",
    "and 15N, even though both only differ by a neutron from their\n",
    "monoisotopic element:"
   ]
  },
  {
   "cell_type": "code",
   "execution_count": null,
   "id": "b5a24140",
   "metadata": {},
   "outputs": [],
   "source": [
    "from pyopenms import *\n",
    "edb = ElementDB()\n",
    "isotopes = edb.getElement(\"C\").getIsotopeDistribution().getContainer()\n",
    "carbon_isotope_difference = isotopes[1].getMZ() - isotopes[0].getMZ()\n",
    "isotopes = edb.getElement(\"N\").getIsotopeDistribution().getContainer()\n",
    "nitrogen_isotope_difference = isotopes[1].getMZ() - isotopes[0].getMZ()\n",
    "\n",
    "print (\"Mass difference between 12C and 13C:\", carbon_isotope_difference)\n",
    "print (\"Mass difference between 14N and N15:\", nitrogen_isotope_difference)\n",
    "print (\"Relative deviation:\", 100*(carbon_isotope_difference -\n",
    "        nitrogen_isotope_difference)/carbon_isotope_difference, \"%\")"
   ]
  },
  {
   "cell_type": "code",
   "execution_count": null,
   "id": "5a0a7289",
   "metadata": {},
   "outputs": [],
   "source": [
    "Mass difference between 12C and 13C: 1.003355\n",
    "Mass difference between 14N and 15N: 0.997035\n",
    "Relative deviation: 0.6298867300208343 %"
   ]
  },
  {
   "cell_type": "markdown",
   "id": "458df23e",
   "metadata": {},
   "source": [
    "This difference can actually be measured by a high resolution mass\n",
    "spectrometric instrument and is used in the [tandem mass tag\n",
    "(TMT)](https://en.wikipedia.org/wiki/Tandem_mass_tag) labelling\n",
    "strategy.\n",
    "\n",
    "For the same reason, the helium atom has a slightly lower mass than the\n",
    "mass of its constituent particles (two protons, two neutrons and two\n",
    "electrons):"
   ]
  },
  {
   "cell_type": "code",
   "execution_count": null,
   "id": "f3af1ea1",
   "metadata": {},
   "outputs": [],
   "source": [
    "from pyopenms import *\n",
    "from pyopenms.Constants import *\n",
    "\n",
    "helium = ElementDB().getElement(\"He\")\n",
    "isotopes = helium.getIsotopeDistribution()\n",
    "\n",
    "mass_sum = 2*PROTON_MASS_U + 2*ELECTRON_MASS_U + 2*NEUTRON_MASS_U\n",
    "helium4 = isotopes.getContainer()[1].getMZ()\n",
    "print (\"Sum of masses of 2 protons, neutrons and electrons:\", mass_sum)\n",
    "print (\"Mass of He4:\", helium4)\n",
    "print (\"Difference between the two masses:\", 100*(mass_sum - helium4)/mass_sum, \"%\")"
   ]
  },
  {
   "cell_type": "code",
   "execution_count": null,
   "id": "a6e4662a",
   "metadata": {},
   "outputs": [],
   "source": [
    "Sum of masses of 2 protons, neutrons and electrons: 4.032979924670597\n",
    "Mass of He4: 4.00260325415\n",
    "Difference between the two masses: 0.7532065888743016 %"
   ]
  },
  {
   "cell_type": "markdown",
   "id": "5cbf27bd",
   "metadata": {},
   "source": [
    "The difference in mass is the energy released when the atom was formed\n",
    "(or in other words, it is the energy required to dissassemble the\n",
    "nucleus into its particles).\n",
    "\n",
    "## Molecular Formulae\n",
    "\n",
    "Elements can be combined to molecular formulas (`EmpiricalFormula`)\n",
    "which can be used to describe molecules such as metabolites, amino acid\n",
    "sequences or oligonucleotides. The class supports a large number of\n",
    "operations like addition and subtraction. A simple example is given in\n",
    "the next few lines of code."
   ]
  },
  {
   "cell_type": "code",
   "execution_count": null,
   "id": "825f188b",
   "metadata": {},
   "outputs": [],
   "source": [
    "from pyopenms import *\n",
    "\n",
    "methanol = EmpiricalFormula(\"CH3OH\")\n",
    "water = EmpiricalFormula(\"H2O\")\n",
    "ethanol = EmpiricalFormula(\"CH2\") + methanol\n",
    "print(\"Ethanol chemical formula:\", ethanol.toString())\n",
    "print(\"Ethanol composition:\", ethanol.getElementalComposition())\n",
    "print(\"Ethanol has\", ethanol.getElementalComposition()[b\"H\"], \"hydrogen atoms\")"
   ]
  },
  {
   "cell_type": "markdown",
   "id": "b8abc5da",
   "metadata": {},
   "source": [
    "which produces"
   ]
  },
  {
   "cell_type": "code",
   "execution_count": null,
   "id": "d312ff23",
   "metadata": {},
   "outputs": [],
   "source": [
    "Ethanol chemical formula: C2H6O1\n",
    "Ethanol composition: {b'C': 2, b'H': 6, b'O': 1}\n",
    "Ethanol has 6 hydrogen atoms"
   ]
  },
  {
   "cell_type": "markdown",
   "id": "a0e5b345",
   "metadata": {},
   "source": [
    "Note how in line 5 we were able to make a new molecule by adding\n",
    "existing molecules (for example by adding two `EmpiricalFormula`\n",
    "objects). In this case, we illustrated how to make ethanol by adding a\n",
    "`CH2` methyl group to an existing methanol molecule. Note that OpenMS\n",
    "describes sum formulae with the `EmpiricalFormula` object and does store\n",
    "structural information in this class.\n",
    "\n",
    "## Isotopic Distributions\n",
    "\n",
    "OpenMS can also generate theoretical isotopic distributions from\n",
    "analytes represented as `EmpiricalFormula`. Currently there are two\n",
    "algorithms implemented, CoarseIsotopePatternGenerator which produces\n",
    "unit mass isotope patterns and FineIsotopePatternGenerator which is\n",
    "based on the IsoSpec algorithm[1] :"
   ]
  },
  {
   "cell_type": "code",
   "execution_count": null,
   "id": "7f41f946",
   "metadata": {},
   "outputs": [],
   "source": [
    "from pyopenms import *\n",
    "\n",
    "methanol = EmpiricalFormula(\"CH3OH\")\n",
    "ethanol = EmpiricalFormula(\"CH2\") + methanol\n",
    "\n",
    "print(\"Coarse Isotope Distribution:\")\n",
    "isotopes = ethanol.getIsotopeDistribution( CoarseIsotopePatternGenerator(4) )\n",
    "prob_sum = sum([iso.getIntensity() for iso in isotopes.getContainer()])\n",
    "print(\"This covers\", prob_sum, \"probability\")\n",
    "for iso in isotopes.getContainer():\n",
    "    print (\"Isotope\", iso.getMZ(), \"has abundance\", iso.getIntensity()*100, \"%\")\n",
    "\n",
    "print(\"Fine Isotope Distribution:\")\n",
    "isotopes = ethanol.getIsotopeDistribution( FineIsotopePatternGenerator(1e-3) )\n",
    "prob_sum = sum([iso.getIntensity() for iso in isotopes.getContainer()])\n",
    "print(\"This covers\", prob_sum, \"probability\")\n",
    "for iso in isotopes.getContainer():\n",
    "    print (\"Isotope\", iso.getMZ(), \"has abundance\", iso.getIntensity()*100, \"%\")"
   ]
  },
  {
   "cell_type": "markdown",
   "id": "c3e14e2d",
   "metadata": {},
   "source": [
    "which produces"
   ]
  },
  {
   "cell_type": "code",
   "execution_count": null,
   "id": "dc2dc748",
   "metadata": {},
   "outputs": [],
   "source": [
    "Coarse Isotope Distribution:\n",
    "This covers 0.9999999753596569 probability\n",
    "Isotope 46.0418651914 has abundance 97.56630063056946 %\n",
    "Isotope 47.045220029199996 has abundance 2.21499539911747 %\n",
    "Isotope 48.048574867 has abundance 0.2142168115824461 %\n",
    "Isotope 49.0519297048 has abundance 0.004488634294830263 %\n",
    "\n",
    "Fine Isotope Distribution:\n",
    "This covers 0.9994461630121805 probability\n",
    "Isotope 46.0418651914 has abundance 97.5662887096405 %\n",
    "Isotope 47.0452201914 has abundance 2.110501006245613 %\n",
    "Isotope 47.0481419395 has abundance 0.06732848123647273 %\n",
    "Isotope 48.046119191399995 has abundance 0.20049810409545898 %"
   ]
  },
  {
   "cell_type": "markdown",
   "id": "e3ce82ff",
   "metadata": {},
   "source": [
    "The result calculated with the `FineIsotopePatternGenerator` contains\n",
    "the hyperfine isotope structure with heavy isotopes of Carbon and\n",
    "Hydrogen clearly distinguished while the coarse (unit resolution)\n",
    "isotopic distribution contains summed probabilities for each isotopic\n",
    "peak without the hyperfine resolution.\n",
    "\n",
    "Please refer to our previous discussion on the [mass\n",
    "defect](#mass-defect) to understand the results of the hyperfine\n",
    "algorithm and why different elements produce slightly different masses.\n",
    "In this example, the hyperfine isotopic distribution will contain two\n",
    "peaks for the nominal mass of 47: one at `47.045` for the incorporation\n",
    "of one heavy 13C with a delta mass of `1.003355` and one at `47.048` for\n",
    "the incorporation of one heavy deuterium with a delta mass of\n",
    "`1.006277`. These two peaks also have two different abundances (the\n",
    "heavy carbon one has 2.1% abundance and the deuterium one has 0.07%\n",
    "abundance). This can be understood given that there are 2 carbon atoms\n",
    "and the natural abundance of 13C is about 1.1%, while the molecule has\n",
    "six hydrogen atoms and the natural abundance of deuterium is about\n",
    "0.02%. The fine isotopic generator will not generate the peak at nominal\n",
    "mass 49 since we specified our cutoff at 0.1% total abundance and the\n",
    "four peaks above cover 99.9% of the isotopic abundance.\n",
    "\n",
    "We can also decrease our cutoff and ask for more isotopes to be\n",
    "calculated:"
   ]
  },
  {
   "cell_type": "code",
   "execution_count": null,
   "id": "d0b59e13",
   "metadata": {},
   "outputs": [],
   "source": [
    "from pyopenms import *\n",
    "\n",
    "methanol = EmpiricalFormula(\"CH3OH\")\n",
    "ethanol = EmpiricalFormula(\"CH2\") + methanol\n",
    "\n",
    "print(\"Fine Isotope Distribution:\")\n",
    "isotopes = ethanol.getIsotopeDistribution( FineIsotopePatternGenerator(1e-6) )\n",
    "prob_sum = sum([iso.getIntensity() for iso in isotopes.getContainer()])\n",
    "print(\"This covers\", prob_sum, \"probability\")\n",
    "for iso in isotopes.getContainer():\n",
    "    print (\"Isotope\", iso.getMZ(), \"has abundance\", iso.getIntensity()*100, \"%\")"
   ]
  },
  {
   "cell_type": "markdown",
   "id": "ee460ad0",
   "metadata": {},
   "source": [
    "which produces"
   ]
  },
  {
   "cell_type": "code",
   "execution_count": null,
   "id": "b5b7b8fd",
   "metadata": {},
   "outputs": [],
   "source": [
    "Fine Isotope Distribution:\n",
    "This covers 0.9999993089130612 probability\n",
    "Isotope 46.0418651914 has abundance 97.5662887096405 %\n",
    "Isotope 47.0452201914 has abundance 2.110501006245613 %\n",
    "Isotope 47.046082191400004 has abundance 0.03716550418175757 %\n",
    "Isotope 47.0481419395 has abundance 0.06732848123647273 %\n",
    "Isotope 48.046119191399995 has abundance 0.20049810409545898 %\n",
    "Isotope 48.0485751914 has abundance 0.011413302854634821 %\n",
    "Isotope 48.0494371914 has abundance 0.0008039440217544325 %\n",
    "Isotope 48.0514969395 has abundance 0.0014564131561201066 %\n",
    "Isotope 49.049474191399995 has abundance 0.004337066275184043 %\n",
    "Isotope 49.0523959395 has abundance 0.00013835959862262825 %"
   ]
  },
  {
   "cell_type": "markdown",
   "id": "120b7d78",
   "metadata": {},
   "source": [
    "Here we can observe more peaks and now also see the heavy oxygen peak at\n",
    "`47.04608` with a delta mass of `1.004217` (difference between 16O and\n",
    "17O) at an abundance of 0.04%, which is what we would expect for a\n",
    "single oxygen atom. Even though the natural abundance of deuterium\n",
    "(0.02%) is lower than 17O (0.04%), since there are six hydrogen atoms in\n",
    "the molecule and only one oxygen, it is more likely that we will see a\n",
    "deuterium peak than a heavy oxygen peak. Also, even for a small molecule\n",
    "like ethanol, the differences in mass between the hyperfine peaks can\n",
    "reach more than 110 ppm (48.046 vs 48.051). Note that the\n",
    "FineIsotopePatternGenerator will generate peaks until the total error\n",
    "has decreased to 1e-6, allowing us to cover 0.999999 of the probability.\n",
    "\n",
    "OpenMS can also produce isotopic distribution with masses rounded to the\n",
    "nearest integer:"
   ]
  },
  {
   "cell_type": "code",
   "execution_count": null,
   "id": "c1e9271c",
   "metadata": {},
   "outputs": [],
   "source": [
    "isotopes = ethanol.getIsotopeDistribution( CoarseIsotopePatternGenerator(5, True) )\n",
    "for iso in isotopes.getContainer():\n",
    "    print (\"Isotope\", iso.getMZ(), \"has abundance\", iso.getIntensity()*100, \"%\")\n",
    "\n",
    "Isotope 46.0 has abundance 97.56627082824707 %\n",
    "Isotope 47.0 has abundance 2.214994840323925 %\n",
    "Isotope 48.0 has abundance 0.214216741733253 %\n",
    "Isotope 49.0 has abundance 0.0044886332034366205 %\n",
    "Isotope 50.0 has abundance 2.64924580051229e-05 %"
   ]
  },
  {
   "cell_type": "markdown",
   "id": "05cd8e07",
   "metadata": {},
   "source": [
    "## Amino Acids\n",
    "\n",
    "An amino acid residue is represented in OpenMS by the class `Residue`.\n",
    "It provides a container for the amino acids as well as some\n",
    "functionality. The class is able to provide information such as the\n",
    "isotope distribution of the residue, the average and monoisotopic\n",
    "weight. The residues can be identified by their full name, their three\n",
    "letter abbreviation or the single letter abbreviation. The residue can\n",
    "also be modified, which is implemented in the `Modification` class.\n",
    "Additional less frequently used parameters of a residue like the\n",
    "gas-phase basicity and pk values are also available."
   ]
  },
  {
   "cell_type": "code",
   "execution_count": null,
   "id": "2b987919",
   "metadata": {},
   "outputs": [
    {
     "data": {
      "text/plain": [
       "'Lysine'"
      ]
     },
     "execution_count": 1,
     "metadata": {},
     "output_type": "execute_result"
    }
   ],
   "source": [
    "from pyopenms import *\n",
    "lys = ResidueDB().getResidue(\"Lysine\")\n",
    "lys.getName()"
   ]
  },
  {
   "cell_type": "code",
   "execution_count": null,
   "id": "47f07ad8",
   "metadata": {},
   "outputs": [
    {
     "data": {
      "text/plain": [
       "'LYS'"
      ]
     },
     "execution_count": 1,
     "metadata": {},
     "output_type": "execute_result"
    }
   ],
   "source": [
    "lys.getThreeLetterCode()"
   ]
  },
  {
   "cell_type": "code",
   "execution_count": null,
   "id": "9c1e95fb",
   "metadata": {},
   "outputs": [
    {
     "data": {
      "text/plain": [
       "'K'"
      ]
     },
     "execution_count": 1,
     "metadata": {},
     "output_type": "execute_result"
    }
   ],
   "source": [
    "lys.getOneLetterCode()"
   ]
  },
  {
   "cell_type": "code",
   "execution_count": null,
   "id": "44eab3ee",
   "metadata": {},
   "outputs": [
    {
     "data": {
      "text/plain": [
       "146.18788276708443"
      ]
     },
     "execution_count": 1,
     "metadata": {},
     "output_type": "execute_result"
    }
   ],
   "source": [
    "lys.getAverageWeight()"
   ]
  },
  {
   "cell_type": "code",
   "execution_count": null,
   "id": "486396f6",
   "metadata": {},
   "outputs": [
    {
     "data": {
      "text/plain": [
       "146.1055284466"
      ]
     },
     "execution_count": 1,
     "metadata": {},
     "output_type": "execute_result"
    }
   ],
   "source": [
    "lys.getMonoWeight()"
   ]
  },
  {
   "cell_type": "code",
   "execution_count": null,
   "id": "ac5e67a5",
   "metadata": {},
   "outputs": [
    {
     "data": {
      "text/plain": [
       "2.16"
      ]
     },
     "execution_count": 1,
     "metadata": {},
     "output_type": "execute_result"
    }
   ],
   "source": [
    "lys.getPka()"
   ]
  },
  {
   "cell_type": "code",
   "execution_count": null,
   "id": "9837f11a",
   "metadata": {},
   "outputs": [
    {
     "data": {
      "text/plain": [
       "u'C6H14N2O2'"
      ]
     },
     "execution_count": 1,
     "metadata": {},
     "output_type": "execute_result"
    }
   ],
   "source": [
    "lys.getFormula().toString()"
   ]
  },
  {
   "cell_type": "markdown",
   "id": "bcb95012",
   "metadata": {},
   "source": [
    "As we can see, OpenMS knows common amino acids like lysine as well as\n",
    "some properties of them. These values are stored in `Residues.xml` in\n",
    "the OpenMS share folder and can, in principle, be modified.\n",
    "\n",
    "## Amino Acid Modifications\n",
    "\n",
    "An amino acid residue modification is represented in OpenMS by the class\n",
    "`ResidueModification`. The known modifications are stored in the\n",
    "`ModificationsDB` object, which is capable of retrieving specific\n",
    "modifications. It contains UniMod as well as PSI modifications."
   ]
  },
  {
   "cell_type": "code",
   "execution_count": null,
   "id": "725de67a",
   "metadata": {},
   "outputs": [],
   "source": [
    "from pyopenms import *\n",
    "ox = ModificationsDB().getModification(\"Oxidation\")\n",
    "print(ox.getUniModAccession())\n",
    "print(ox.getUniModRecordId())\n",
    "print(ox.getDiffMonoMass())\n",
    "print(ox.getId())\n",
    "print(ox.getFullId())\n",
    "print(ox.getFullName())\n",
    "print(ox.getDiffFormula())"
   ]
  },
  {
   "cell_type": "code",
   "execution_count": null,
   "id": "8e8d634a",
   "metadata": {},
   "outputs": [],
   "source": [
    "UniMod:35\n",
    "35\n",
    "15.994915\n",
    "Oxidation\n",
    "Oxidation (N)\n",
    "Oxidation or Hydroxylation\n",
    "O1"
   ]
  },
  {
   "cell_type": "markdown",
   "id": "90a49f1c",
   "metadata": {},
   "source": [
    "thus providing information about the \"Oxidation\" modification. As above,\n",
    "we can investigate the isotopic distribution of the modification (which\n",
    "in this case is identical to the one of Oxygen by itself):"
   ]
  },
  {
   "cell_type": "code",
   "execution_count": null,
   "id": "24273859",
   "metadata": {},
   "outputs": [],
   "source": [
    "isotopes = ox.getDiffFormula().getIsotopeDistribution(CoarseIsotopePatternGenerator(5))\n",
    "for iso in isotopes.getContainer():\n",
    "    print (iso.getMZ(), \":\", iso.getIntensity())"
   ]
  },
  {
   "cell_type": "markdown",
   "id": "a09b6f9e",
   "metadata": {},
   "source": [
    "Which will print the isotopic pattern of the modification (Oxygen):"
   ]
  },
  {
   "cell_type": "code",
   "execution_count": null,
   "id": "0c486a4d",
   "metadata": {},
   "outputs": [],
   "source": [
    "15.994915 : 0.9975699782371521\n",
    "16.998269837800002 : 0.0003800000122282654\n",
    "18.0016246756 : 0.002050000010058284"
   ]
  },
  {
   "cell_type": "markdown",
   "id": "b7a99b3f",
   "metadata": {},
   "source": [
    "## Ribonucleotides\n",
    "\n",
    "A [ribonucleotide](https://en.wikipedia.org/wiki/Ribonucleotide)\n",
    "describes one of the building blocks of DNA and RNA. In OpenMS, a\n",
    "ribonucleotide in its modified or unmodified form is represented by the\n",
    "`Ribonucleotide` class in OpenMS. The class is able to provide\n",
    "information such as the isotope distribution of the residue, the average\n",
    "and monoisotopic weight. The residues can be identified by their full\n",
    "name, their three letter abbreviation or the single letter abbreviation.\n",
    "Modified ribonucleotides are represented by the same class. Currently,\n",
    "support for RNA is implemented."
   ]
  },
  {
   "cell_type": "code",
   "execution_count": null,
   "id": "42b309d0",
   "metadata": {},
   "outputs": [
    {
     "data": {
      "text/plain": [
       "'uridine'"
      ]
     },
     "execution_count": 1,
     "metadata": {},
     "output_type": "execute_result"
    }
   ],
   "source": [
    "from pyopenms import *\n",
    "uridine = RibonucleotideDB().getRibonucleotide(b\"U\")\n",
    "uridine.getName()"
   ]
  },
  {
   "cell_type": "code",
   "execution_count": null,
   "id": "894f9d18",
   "metadata": {},
   "outputs": [
    {
     "data": {
      "text/plain": [
       "'U'"
      ]
     },
     "execution_count": 1,
     "metadata": {},
     "output_type": "execute_result"
    }
   ],
   "source": [
    "uridine.getCode()"
   ]
  },
  {
   "cell_type": "code",
   "execution_count": null,
   "id": "52df0b10",
   "metadata": {},
   "outputs": [
    {
     "data": {
      "text/plain": [
       "244.2043"
      ]
     },
     "execution_count": 1,
     "metadata": {},
     "output_type": "execute_result"
    }
   ],
   "source": [
    "uridine.getAvgMass()"
   ]
  },
  {
   "cell_type": "code",
   "execution_count": null,
   "id": "eb8d1023",
   "metadata": {},
   "outputs": [
    {
     "data": {
      "text/plain": [
       "244.0695"
      ]
     },
     "execution_count": 1,
     "metadata": {},
     "output_type": "execute_result"
    }
   ],
   "source": [
    "uridine.getMonoMass()"
   ]
  },
  {
   "cell_type": "code",
   "execution_count": null,
   "id": "73845369",
   "metadata": {},
   "outputs": [
    {
     "data": {
      "text/plain": [
       "'C9H12N2O6'"
      ]
     },
     "execution_count": 1,
     "metadata": {},
     "output_type": "execute_result"
    }
   ],
   "source": [
    "uridine.getFormula().toString()"
   ]
  },
  {
   "cell_type": "code",
   "execution_count": null,
   "id": "0e53f7c3",
   "metadata": {},
   "outputs": [
    {
     "data": {
      "text/plain": [
       "False\n",
       ">>>"
      ]
     },
     "execution_count": 1,
     "metadata": {},
     "output_type": "execute_result"
    }
   ],
   "source": [
    "uridine.isModified()"
   ]
  },
  {
   "cell_type": "code",
   "execution_count": null,
   "id": "76139842",
   "metadata": {},
   "outputs": [
    {
     "data": {
      "text/plain": [
       "'1-methyladenosine'"
      ]
     },
     "execution_count": 1,
     "metadata": {},
     "output_type": "execute_result"
    }
   ],
   "source": [
    "methyladenosine = RibonucleotideDB().getRibonucleotide(b\"m1A\")\n",
    "methyladenosine.getName()"
   ]
  },
  {
   "cell_type": "code",
   "execution_count": null,
   "id": "a005b4c3",
   "metadata": {},
   "outputs": [
    {
     "data": {
      "text/plain": [
       "True"
      ]
     },
     "execution_count": 1,
     "metadata": {},
     "output_type": "execute_result"
    }
   ],
   "source": [
    "methyladenosine.isModified()"
   ]
  },
  {
   "cell_type": "markdown",
   "id": "86fc5f40",
   "metadata": {},
   "source": [
    "[![Launch Binder](./img/launch_binder.jpg)](https://mybinder.org/v2/gh/OpenMS/pyopenms-extra/master+ipynb?urlpath=lab/tree/docs/source/chemistry.ipynb)\n",
    "\n",
    "[1] Łącki MK, Startek M, Valkenborg D, Gambin A. IsoSpec: Hyperfast Fine\n",
    "Structure Calculator. Anal Chem. 2017 Mar 21;89(6):3272-3277. [doi:\n",
    "10.1021/acs.analchem.6b01459.](http://doi.org/10.1021/acs.analchem.6b01459)"
   ]
  }
 ],
 "metadata": {},
 "nbformat": 4,
 "nbformat_minor": 5
}
