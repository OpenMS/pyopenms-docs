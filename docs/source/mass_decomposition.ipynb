{
 "cells": [
  {
   "cell_type": "markdown",
   "id": "3458f1ac",
   "metadata": {},
   "source": [
    "$$\n",
    "\\def\\CC{\\bf C}\n",
    "\\def\\QQ{\\bf Q}\n",
    "\\def\\RR{\\bf R}\n",
    "\\def\\ZZ{\\bf Z}\n",
    "\\def\\NN{\\bf N}\n",
    "$$\n",
    "# Mass Decomposition\n",
    "\n",
    "## Fragment mass to amino acid composition\n",
    "\n",
    "One challenge often encountered in mass spectrometry is the question of\n",
    "the composition of a specific mass fragment only given its mass. For\n",
    "example, for the internal fragment mass `262.0953584466` there are three\n",
    "different interpretations within a narrow mass band of 0.05 Th:"
   ]
  },
  {
   "cell_type": "code",
   "execution_count": null,
   "id": "17c37195",
   "metadata": {},
   "outputs": [
    {
     "data": {
      "text/plain": [
       "262.08097003420005"
      ]
     },
     "execution_count": 1,
     "metadata": {},
     "output_type": "execute_result"
    }
   ],
   "source": [
    "AASequence.fromString(\"MM\").getMonoWeight(Residue.ResidueType.Internal, 0)"
   ]
  },
  {
   "cell_type": "code",
   "execution_count": null,
   "id": "eb5b46ab",
   "metadata": {},
   "outputs": [
    {
     "data": {
      "text/plain": [
       "262.1317435742"
      ]
     },
     "execution_count": 1,
     "metadata": {},
     "output_type": "execute_result"
    }
   ],
   "source": [
    "AASequence.fromString(\"VY\").getMonoWeight(Residue.ResidueType.Internal, 0)"
   ]
  },
  {
   "cell_type": "code",
   "execution_count": null,
   "id": "c8e2a0ba",
   "metadata": {},
   "outputs": [
    {
     "data": {
      "text/plain": [
       "262.0953584466"
      ]
     },
     "execution_count": 1,
     "metadata": {},
     "output_type": "execute_result"
    }
   ],
   "source": [
    "AASequence.fromString(\"DF\").getMonoWeight(Residue.ResidueType.Internal, 0)"
   ]
  },
  {
   "cell_type": "markdown",
   "id": "cc6e8ba4",
   "metadata": {},
   "source": [
    "As you can see, already for relatively simple two-amino acid\n",
    "combinations, multiple explanations may exist. OpenMS provides an\n",
    "algorithm to compute all potential amino acid combitions that explain a\n",
    "certain mass in the `MassDecompositionAlgorithm` class:"
   ]
  },
  {
   "cell_type": "code",
   "execution_count": null,
   "id": "5c6413c1",
   "metadata": {},
   "outputs": [],
   "source": [
    "from pyopenms import *\n",
    "md_alg = MassDecompositionAlgorithm()\n",
    "param = md_alg.getParameters()\n",
    "param.setValue(\"tolerance\", 0.05)\n",
    "param.setValue(\"residue_set\", b\"Natural19WithoutI\")\n",
    "md_alg.setParameters(param)\n",
    "decomps = []\n",
    "md_alg.getDecompositions(decomps, 262.0953584466)\n",
    "for d in decomps:\n",
    "  print(d.toExpandedString().decode()) "
   ]
  },
  {
   "cell_type": "markdown",
   "id": "79d32b1b",
   "metadata": {},
   "source": [
    "Which outputs the three potential compositions for the mass\n",
    "`262.0953584466`. Note that every single combination of amino acids is\n",
    "only printed once, e.g. only `DF` is reported while the isobaric `FD` is\n",
    "not reported. This makes the algorithm more efficient.\n",
    "\n",
    "## Naive algorithm\n",
    "\n",
    "We can compare this result with a more naive algorithm which simply\n",
    "iterates through all combinations of amino acid residues until the sum\n",
    "of of all residues equals the target mass:"
   ]
  },
  {
   "cell_type": "code",
   "execution_count": null,
   "id": "2b3edef5",
   "metadata": {},
   "outputs": [],
   "source": [
    "mass = 262.0953584466\n",
    "residues = ResidueDB().getResidues(b\"Natural19WithoutI\")\n",
    "def recursive_mass_decomposition(mass_sum, peptide):\n",
    "  if abs(mass_sum - mass) < 0.05:\n",
    "    print(peptide + \"\\t\" + str(mass_sum))\n",
    "  for r in residues:\n",
    "    new_mass = mass_sum + r.getMonoWeight(Residue.ResidueType.Internal)\n",
    "    if new_mass < mass + 0.05:\n",
    "      recursive_mass_decomposition(new_mass, peptide + r.getOneLetterCode().decode())\n",
    "\n",
    "print(\"Mass explanations by naive algorithm:\")\n",
    "recursive_mass_decomposition(0, \"\")"
   ]
  },
  {
   "cell_type": "markdown",
   "id": "da49818d",
   "metadata": {},
   "source": [
    "Note that this approach is substantially slower than the OpenMS\n",
    "algorithm and also does not treat `DF` and `FD` as equivalent, instead\n",
    "outputting them both as viable solutions.\n",
    "\n",
    "## Stand-alone Program\n",
    "\n",
    "We can use pyOpenMS to write a short program that takes a mass and\n",
    "outputs all possible amino acid combinations for that mass within a\n",
    "given tolerance:"
   ]
  },
  {
   "cell_type": "code",
   "execution_count": null,
   "id": "cf43a297",
   "metadata": {},
   "outputs": [],
   "source": [
    "from pyopenms import *\n",
    "import sys\n",
    "\n",
    "# Example for mass decomposition (mass explanation)\n",
    "# Internal residue masses (as observed e.g. as mass shifts in tandem mass spectra)\n",
    "# are decomposed in possible amino acid strings that match in mass.\n",
    "\n",
    "mass = float(sys.argv[1])\n",
    "tol = float(sys.argv[2])\n",
    "\n",
    "md_alg = MassDecompositionAlgorithm()\n",
    "param = md_alg.getParameters()\n",
    "param.setValue(\"tolerance\", tol)\n",
    "param.setValue(\"residue_set\", b\"Natural19WithoutI\")\n",
    "md_alg.setParameters(param)\n",
    "decomps = []\n",
    "md_alg.getDecompositions(decomps, mass)\n",
    "for d in decomps:\n",
    "  print(d.toExpandedString().decode()) "
   ]
  },
  {
   "cell_type": "markdown",
   "id": "ca9bc101",
   "metadata": {},
   "source": [
    "If we copy the above code into a script, for example\n",
    "`mass_decomposition.py`, we will have a stand-alone software that takes\n",
    "two arguments: first the mass to be de-composed and secondly the\n",
    "tolerance to be used (which are collected on line 8 and 9). We can call\n",
    "it as follows:"
   ]
  },
  {
   "cell_type": "code",
   "execution_count": null,
   "id": "fcf6ff90",
   "metadata": {},
   "outputs": [],
   "source": [
    "python mass_decomposition.py 999.4773990735001 1.0\n",
    "python mass_decomposition.py 999.4773990735001 0.001"
   ]
  },
  {
   "cell_type": "markdown",
   "id": "c8aa6912",
   "metadata": {},
   "source": [
    "Try to change the tolerance parameter. The parameter has a very large\n",
    "influence on the reported results, for example for `1.0` tolerance, the\n",
    "algorithm will produce 80 463 results while for a `0.001` tolerance,\n",
    "only 911 results are expected.\n",
    "\n",
    "Spectrum Tagger \\*\\*\\*\\*\\*\\*\\*\\*\\*\\*\\*\\*\\*\\*"
   ]
  },
  {
   "cell_type": "code",
   "execution_count": null,
   "id": "3bbc8f64",
   "metadata": {},
   "outputs": [],
   "source": [
    "from pyopenms import *\n",
    "\n",
    "tsg = TheoreticalSpectrumGenerator()\n",
    "param = tsg.getParameters()\n",
    "param.setValue(\"add_metainfo\", \"false\")\n",
    "param.setValue(\"add_first_prefix_ion\", \"true\")\n",
    "param.setValue(\"add_a_ions\", \"true\")\n",
    "param.setValue(\"add_losses\", \"true\")\n",
    "param.setValue(\"add_precursor_peaks\", \"true\")\n",
    "tsg.setParameters(param)\n",
    "\n",
    "# spectrum with charges +1 and +2\n",
    "test_sequence = AASequence.fromString(\"PEPTIDETESTTHISTAGGER\")\n",
    "spec = MSSpectrum()\n",
    "tsg.getSpectrum(spec, test_sequence, 1, 2)\n",
    "\n",
    "print(spec.size()) # should be 357\n",
    "\n",
    "# tagger searching only for charge +1\n",
    "tags = []\n",
    "tagger = Tagger(2, 10.0, 5, 1, 1, [], [])\n",
    "tagger.getTag(spec, tags)\n",
    "\n",
    "print(len(tags)) # should be 890\n",
    "\n",
    "b\"EPTID\" in tags  # True\n",
    "b\"PTIDE\" in tags  # True\n",
    "b\"PTIDEF\" in tags # False"
   ]
  },
  {
   "cell_type": "markdown",
   "id": "ecf7366b",
   "metadata": {},
   "source": [
    "[![Launch Binder](./img/launch_binder.jpg)](https://mybinder.org/v2/gh/OpenMS/pyopenms-extra/master+ipynb?urlpath=lab/tree/docs/source/mass_decomposition.ipynb)"
   ]
  }
 ],
 "metadata": {},
 "nbformat": 4,
 "nbformat_minor": 5
}
