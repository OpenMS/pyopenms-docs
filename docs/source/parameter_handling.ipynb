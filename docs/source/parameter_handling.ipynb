{
 "cells": [
  {
   "cell_type": "markdown",
   "id": "5ff1a7dc",
   "metadata": {},
   "source": [
    "$$\n",
    "\\def\\CC{\\bf C}\n",
    "\\def\\QQ{\\bf Q}\n",
    "\\def\\RR{\\bf R}\n",
    "\\def\\ZZ{\\bf Z}\n",
    "\\def\\NN{\\bf N}\n",
    "$$\n",
    "# Parameter Handling\n",
    "\n",
    "Parameter handling in OpenMS and pyOpenMS is usually implemented through\n",
    "inheritance from `DefaultParamHandler` and allow access to parameters\n",
    "through the `Param` object. This means, the classes implement the\n",
    "methods `getDefaults`, `getParameters`, `setParameters` which allows\n",
    "access to the default parameters, the current parameters and allows to\n",
    "set the parameters.\n",
    "\n",
    "The `Param` object that is returned can be manipulated through the\n",
    "`setValue` and `getValue` methods (the `exists` method can be used to\n",
    "check for existence of a key). Using the `getDescription` method, it is\n",
    "possible to get a help-text for each parameter value in an interactive\n",
    "session without consulting the documentation."
   ]
  },
  {
   "cell_type": "code",
   "execution_count": null,
   "id": "6c333ead",
   "metadata": {},
   "outputs": [],
   "source": [
    "from pyopenms import *\n",
    "p = Param()\n",
    "p.setValue(\"param1\", 4.0, \"This is value 1\")\n",
    "p.setValue(\"param2\", 5.0, \"This is value 2\")\n",
    "print( p[b\"param1\"] )\n",
    "p[b\"param1\"] += 3 # add three to the parameter value\n",
    "print( p[b\"param1\"] )"
   ]
  },
  {
   "cell_type": "markdown",
   "id": "4cefbb20",
   "metadata": {},
   "source": [
    "The parameters can then be accessed as"
   ]
  },
  {
   "cell_type": "code",
   "execution_count": null,
   "id": "d297d483",
   "metadata": {},
   "outputs": [
    {
     "data": {
      "text/plain": [
       "{'param2': 4.0, 'param1': 7.0}"
      ]
     },
     "execution_count": 1,
     "metadata": {},
     "output_type": "execute_result"
    }
   ],
   "source": [
    "p.asDict()"
   ]
  },
  {
   "cell_type": "code",
   "execution_count": null,
   "id": "c11b17bd",
   "metadata": {},
   "outputs": [
    {
     "data": {
      "text/plain": [
       "[4.0, 7.0]"
      ]
     },
     "execution_count": 1,
     "metadata": {},
     "output_type": "execute_result"
    }
   ],
   "source": [
    "p.values()"
   ]
  },
  {
   "cell_type": "code",
   "execution_count": null,
   "id": "2fd6188f",
   "metadata": {},
   "outputs": [
    {
     "data": {
      "text/plain": [
       "['param1', 'param2']"
      ]
     },
     "execution_count": 1,
     "metadata": {},
     "output_type": "execute_result"
    }
   ],
   "source": [
    "p.keys()"
   ]
  },
  {
   "cell_type": "code",
   "execution_count": null,
   "id": "ecb39cfd",
   "metadata": {},
   "outputs": [
    {
     "data": {
      "text/plain": [
       "[('param1', 7.0), ('param2', 4.0)]"
      ]
     },
     "execution_count": 1,
     "metadata": {},
     "output_type": "execute_result"
    }
   ],
   "source": [
    "p.items()"
   ]
  },
  {
   "cell_type": "code",
   "execution_count": null,
   "id": "55567df9",
   "metadata": {},
   "outputs": [
    {
     "data": {
      "text/plain": [
       "True"
      ]
     },
     "execution_count": 1,
     "metadata": {},
     "output_type": "execute_result"
    }
   ],
   "source": [
    "p.exists(\"param1\")"
   ]
  },
  {
   "cell_type": "markdown",
   "id": "6e334f9b",
   "metadata": {},
   "source": [
    "[![Launch Binder](./img/launch_binder.jpg)](https://mybinder.org/v2/gh/OpenMS/pyopenms-extra/master+ipynb?urlpath=lab/tree/docs/source/parameter_handling.ipynb)"
   ]
  }
 ],
 "metadata": {},
 "nbformat": 4,
 "nbformat_minor": 5
}
