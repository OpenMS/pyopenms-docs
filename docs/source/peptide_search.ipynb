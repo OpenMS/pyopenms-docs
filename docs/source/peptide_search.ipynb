{
 "cells": [
  {
   "cell_type": "markdown",
   "id": "f29b270a",
   "metadata": {},
   "source": [
    "$$\n",
    "\\def\\CC{\\bf C}\n",
    "\\def\\QQ{\\bf Q}\n",
    "\\def\\RR{\\bf R}\n",
    "\\def\\ZZ{\\bf Z}\n",
    "\\def\\NN{\\bf N}\n",
    "$$\n",
    "Peptide Search =============\n",
    "\n",
    "In MS-based proteomics, fragment ion spectra (MS2 spectra) are often\n",
    "interpreted by comparing them against a theoretical set of spectra\n",
    "generated from a FASTA database. OpenMS contains a (simple)\n",
    "implementation of such a \"search engine\" that compares experimental\n",
    "spectra against theoretical spectra generated from an enzymatic or\n",
    "chemical digest of a proteome (e.g. tryptic digest).\n",
    "\n",
    "# SimpleSearch\n",
    "\n",
    "In most proteomics applications, a dedicated search engine (such as\n",
    "Comet, Crux, Mascot, MSGFPlus, MSFragger, Myrimatch, OMSSA, SpectraST or\n",
    "XTandem; all of which are supported by pyOpenMS) will be used to search\n",
    "data. Here, we will use the internal `SimpleSearchEngineAlgorithm` from\n",
    "OpenMS used for teaching purposes. This makes it very easy to search an\n",
    "(experimental) mzML file against a fasta database of protein sequences:"
   ]
  },
  {
   "cell_type": "code",
   "execution_count": null,
   "id": "47d451f9",
   "metadata": {},
   "outputs": [],
   "source": [
    "from urllib.request import urlretrieve\n",
    "# from urllib import urlretrieve  # use this code for Python 2.x\n",
    "from pyopenms import *\n",
    "gh = \"https://raw.githubusercontent.com/OpenMS/OpenMS/develop\"\n",
    "urlretrieve (gh +\"/src/tests/topp/SimpleSearchEngine_1.mzML\", \"searchfile.mzML\")\n",
    "urlretrieve (gh +\"/src/tests/topp/SimpleSearchEngine_1.fasta\", \"search.fasta\")\n",
    "protein_ids = []\n",
    "peptide_ids = []\n",
    "SimpleSearchEngineAlgorithm().search(\"searchfile.mzML\", \"search.fasta\", protein_ids, peptide_ids) "
   ]
  },
  {
   "cell_type": "markdown",
   "id": "cc4cec56",
   "metadata": {},
   "source": [
    "This will print search engine output including the number of peptides\n",
    "and proteins in the database and how many spectra were matched to\n",
    "peptides and proteins:"
   ]
  },
  {
   "cell_type": "code",
   "execution_count": null,
   "id": "fc097acf",
   "metadata": {},
   "outputs": [],
   "source": [
    "Peptide statistics\n",
    "\n",
    "  unmatched                : 0 (0 %)\n",
    "  target/decoy:\n",
    "    match to target DB only: 2 (100 %)\n",
    "    match to decoy DB only : 0 (0 %)\n",
    "    match to both          : 0 (0 %)"
   ]
  },
  {
   "cell_type": "markdown",
   "id": "a75dba97",
   "metadata": {},
   "source": [
    "# PSM inspection\n",
    "\n",
    "We can now investigate the individual hits as we have done before in the\n",
    "[Identification tutorial](datastructures_id.html#peptideidentification)."
   ]
  },
  {
   "cell_type": "code",
   "execution_count": null,
   "id": "7c84687c",
   "metadata": {},
   "outputs": [],
   "source": [
    "for peptide_id in peptide_ids:\n",
    "  # Peptide identification values\n",
    "  print (35*\"=\")\n",
    "  print (\"Peptide ID m/z:\", peptide_id.getMZ())\n",
    "  print (\"Peptide ID rt:\", peptide_id.getRT())\n",
    "  print (\"Peptide scan index:\", peptide_id.getMetaValue(\"scan_index\"))\n",
    "  print (\"Peptide scan name:\", peptide_id.getMetaValue(\"scan_index\"))\n",
    "  print (\"Peptide ID score type:\", peptide_id.getScoreType())\n",
    "  # PeptideHits\n",
    "  for hit in peptide_id.getHits():\n",
    "    print(\" - Peptide hit rank:\", hit.getRank())\n",
    "    print(\" - Peptide hit charge:\", hit.getCharge())\n",
    "    print(\" - Peptide hit sequence:\", hit.getSequence())\n",
    "    mz = hit.getSequence().getMonoWeight(Residue.ResidueType.Full, hit.getCharge()) / hit.getCharge()\n",
    "    print(\" - Peptide hit monoisotopic m/z:\", mz) \n",
    "    print(\" - Peptide ppm error:\", abs(mz - peptide_id.getMZ())/mz *10**6 )\n",
    "    print(\" - Peptide hit score:\", hit.getScore())"
   ]
  },
  {
   "cell_type": "markdown",
   "id": "55289d0b",
   "metadata": {},
   "source": [
    "We notice that the second peptide spectrum match (PSM) was found for the\n",
    "third spectrum in the file for a precursor at 775.38 m/z for the\n",
    "sequence `RPGADSDIGGFGGLFDLAQAGFR`."
   ]
  },
  {
   "cell_type": "code",
   "execution_count": null,
   "id": "ba82bbaa",
   "metadata": {},
   "outputs": [],
   "source": [
    "tsg = TheoreticalSpectrumGenerator()\n",
    "thspec = MSSpectrum()\n",
    "p = Param()\n",
    "p.setValue(\"add_metainfo\", \"true\")\n",
    "tsg.setParameters(p)\n",
    "peptide = AASequence.fromString(\"RPGADSDIGGFGGLFDLAQAGFR\")\n",
    "tsg.getSpectrum(thspec, peptide, 1, 1)\n",
    "# Iterate over annotated ions and their masses\n",
    "for ion, peak in zip(thspec.getStringDataArrays()[0], thspec):\n",
    "    print(ion, peak.getMZ())\n",
    "\n",
    "e = MSExperiment()\n",
    "MzMLFile().load(\"searchfile.mzML\", e)\n",
    "print (\"Spectrum native id\", e[2].getNativeID() )\n",
    "mz,i = e[2].get_peaks()\n",
    "peaks = [(mz,i) for mz,i in zip(mz,i) if i > 1500 and mz > 300]\n",
    "for peak in peaks:\n",
    "  print (peak[0], \"mz\", peak[1], \"int\")"
   ]
  },
  {
   "cell_type": "markdown",
   "id": "d90d51d5",
   "metadata": {},
   "source": [
    "Comparing the theoretical spectrum and the experimental spectrum for\n",
    "`RPGADSDIGGFGGLFDLAQAGFR` we can easily see that the most abundant ions\n",
    "in the spectrum are y8 (877.452 m/z), b10 (926.432), y9 (1024.522 m/z)\n",
    "and b13 (1187.544 m/z).\n",
    "\n",
    "# Visualization\n",
    "\n",
    "When loading the `searchfile.mzML` into the OpenMS visualization\n",
    "software TOPPView, we can convince ourselves that the observed spectrum\n",
    "indeed was generated by the peptide `RPGADSDIGGFGGLFDLAQAGFR` by loading\n",
    "the corresponding theoretical spectrum into the viewer using\n",
    "\"Tools\"-&gt;\"Generate theoretical spectrum\":\n",
    "\n",
    "![image](img/psm.png)\n",
    "\n",
    "From our output above, we notice that the second peptide spectrum match\n",
    "(PSM) at 775.38 m/z for sequence `RPGADSDIGGFGGLFDLAQAGFR` was found\n",
    "with an error tolerance of 2.25 ppm, therefore if we set the precursor\n",
    "mass tolerance to 4 ppm (+/- 2ppm), we expect that we will not find the\n",
    "hit at 775.38 m/z any more:"
   ]
  },
  {
   "cell_type": "code",
   "execution_count": null,
   "id": "d79d100c",
   "metadata": {},
   "outputs": [],
   "source": [
    "salgo = SimpleSearchEngineAlgorithm()\n",
    "p = salgo.getDefaults()\n",
    "print ( p.items() )\n",
    "p[b'precursor:mass_tolerance'] = 4.0\n",
    "salgo.setParameters(p)\n",
    "\n",
    "protein_ids = []\n",
    "peptide_ids = []\n",
    "salgo.search(\"searchfile.mzML\", \"search.fasta\", protein_ids, peptide_ids) \n",
    "print(\"Found\", len(peptide_ids), \"peptides\")"
   ]
  },
  {
   "cell_type": "markdown",
   "id": "6ec2caab",
   "metadata": {},
   "source": [
    "As we can see, using a smaller precursor mass tolerance leads the\n",
    "algorithm to find only one hit instead of two. Similarly, if we use the\n",
    "wrong enzyme for the digestion (e.g. `p[b'enzyme'] = \"Formic_acid\"`), we\n",
    "find no results.\n",
    "\n",
    "[![Launch Binder](./img/launch_binder.jpg)](https://mybinder.org/v2/gh/OpenMS/pyopenms-extra/master+ipynb?urlpath=lab/tree/docs/source/peptide_search.ipynb)"
   ]
  }
 ],
 "metadata": {},
 "nbformat": 4,
 "nbformat_minor": 5
}
