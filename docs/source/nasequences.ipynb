{
 "cells": [
  {
   "cell_type": "markdown",
   "id": "534a99f3",
   "metadata": {},
   "source": [
    "$$\n",
    "\\def\\CC{\\bf C}\n",
    "\\def\\QQ{\\bf Q}\n",
    "\\def\\RR{\\bf R}\n",
    "\\def\\ZZ{\\bf Z}\n",
    "\\def\\NN{\\bf N}\n",
    "$$\n",
    "# Oligonucleotides: RNA\n",
    "\n",
    "## Nucleic Acid Sequences\n",
    "\n",
    "OpenMS also supports the representation of RNA oligonucleotides using\n",
    "the `NASequence` class:"
   ]
  },
  {
   "cell_type": "code",
   "execution_count": null,
   "id": "ba24c63b",
   "metadata": {},
   "outputs": [],
   "source": [
    "from pyopenms import *\n",
    "oligo = NASequence.fromString(\"AAUGCAAUGG\")\n",
    "prefix = oligo.getPrefix(4)\n",
    "suffix = oligo.getSuffix(4)\n",
    "\n",
    "print(oligo)\n",
    "print(prefix)\n",
    "print(suffix)\n",
    "print()\n",
    "\n",
    "print(\"Oligo length\", oligo.size())\n",
    "print(\"Total precursor mass\", oligo.getMonoWeight())\n",
    "print(\"y1+ ion mass of\", str(prefix), \":\", prefix.getMonoWeight(NASequence.NASFragmentType.YIon, 1))\n",
    "print()\n",
    "\n",
    "seq_formula = oligo.getFormula()\n",
    "print(\"RNA Oligo\", oligo, \"has molecular formula\", seq_formula)\n",
    "print(\"=\"*35)\n",
    "print()\n",
    "\n",
    "isotopes = seq_formula.getIsotopeDistribution( CoarseIsotopePatternGenerator(6) )\n",
    "for iso in isotopes.getContainer():\n",
    "  print (\"Isotope\", iso.getMZ(), \":\", iso.getIntensity())"
   ]
  },
  {
   "cell_type": "markdown",
   "id": "e53cb20f",
   "metadata": {},
   "source": [
    "Which will output"
   ]
  },
  {
   "cell_type": "code",
   "execution_count": null,
   "id": "f715c2bd",
   "metadata": {},
   "outputs": [],
   "source": [
    "AAUGCAAUGG\n",
    "AAUG\n",
    "AUGG\n",
    "\n",
    "Oligo length 10\n",
    "Total precursor mass 3206.4885302061\n",
    "y1+ ion mass of AAUG : 1248.2298440331\n",
    "\n",
    "RNA Oligo AAUGCAAUGG has molecular formula C97H119N42O66P9\n",
    "===================================\n",
    "\n",
    "Isotope 3206.4885302061 : 0.25567981600761414\n",
    "Isotope 3207.4918850439003 : 0.31783154606819153\n",
    "Isotope 3208.4952398817004 : 0.23069815337657928\n",
    "Isotope 3209.4985947195 : 0.12306403368711472\n",
    "Isotope 3210.5019495573 : 0.053163252770900726\n",
    "Isotope 3211.5053043951 : 0.01956319250166416"
   ]
  },
  {
   "cell_type": "markdown",
   "id": "baa55d9d",
   "metadata": {},
   "source": [
    "The `NASequence` object also allows iterations directly in Python:"
   ]
  },
  {
   "cell_type": "code",
   "execution_count": null,
   "id": "f40ebf91",
   "metadata": {},
   "outputs": [],
   "source": [
    "from pyopenms import *\n",
    "oligo = NASequence.fromString(\"AAUGCAAUGG\")\n",
    "print(\"The oligonucleotide\", str(oligo), \"consists of the following nucleotides:\")\n",
    "for ribo in oligo:\n",
    "  print(ribo.getName())"
   ]
  },
  {
   "cell_type": "markdown",
   "id": "ca76f008",
   "metadata": {},
   "source": [
    "### Fragment ions\n",
    "\n",
    "Similarly to before for amino acid sequences, we can also generate\n",
    "internal fragment ions:"
   ]
  },
  {
   "cell_type": "code",
   "execution_count": null,
   "id": "3b2240cd",
   "metadata": {},
   "outputs": [],
   "source": [
    "from pyopenms import *\n",
    "oligo = NASequence.fromString(\"AAUGCAAUGG\")\n",
    "suffix = oligo.getSuffix(4)\n",
    "\n",
    "oligo.size()\n",
    "oligo.getMonoWeight()\n",
    "\n",
    "charge = 2\n",
    "mass = suffix.getMonoWeight(NASequence.NASFragmentType.WIon, charge)\n",
    "w4_formula = suffix.getFormula(NASequence.NASFragmentType.WIon, charge)\n",
    "mz = mass / charge\n",
    "\n",
    "print(\"=\"*35)\n",
    "print(\"RNA Oligo w4++ ion\", suffix, \"has mz\", mz)\n",
    "print(\"RNA Oligo w4++ ion\", suffix, \"has molecular formula\", w4_formula)"
   ]
  },
  {
   "cell_type": "markdown",
   "id": "b97a18c8",
   "metadata": {},
   "source": [
    "## Modified oligonucleotides\n",
    "\n",
    "Modified nucleotides can also represented by the `Ribonucleotide` class\n",
    "and are specified using a unique string identifier present in the\n",
    "`RibonucleotideDB` in square brackets. For example, `[m1A]` represents\n",
    "1-methyladenosine. We can create a `NASequence` object by parsing a\n",
    "modified sequence as follows:"
   ]
  },
  {
   "cell_type": "code",
   "execution_count": null,
   "id": "99a20abb",
   "metadata": {},
   "outputs": [],
   "source": [
    "from pyopenms import *\n",
    "oligo_mod = NASequence.fromString(\"A[m1A][Gm]A\")\n",
    "seq_formula = oligo_mod.getFormula()\n",
    "print(\"RNA Oligo\", oligo_mod, \"has molecular formula\", \n",
    "  seq_formula, \"and length\", oligo_mod.size())\n",
    "print(\"=\"*35)\n",
    "\n",
    "oligo_list = [oligo_mod[i].getOrigin() for i in range(oligo_mod.size())]\n",
    "print(\"RNA Oligo\", oligo_mod.toString(), \"has unmodified sequence\", \"\".join(oligo_list))\n",
    "\n",
    "r = oligo_mod[1]\n",
    "r.getName()\n",
    "r.getHTMLCode()\n",
    "r.getOrigin()\n",
    "\n",
    "for i in range(oligo_mod.size()):\n",
    "  print (oligo_mod[i].isModified())"
   ]
  },
  {
   "cell_type": "markdown",
   "id": "889b66a3",
   "metadata": {},
   "source": [
    "## DNA, RNA and Protein\n",
    "\n",
    "We can also work with DNA and RNA sequences in combination with the\n",
    "BioPython library (you can install BioPython with\n",
    "`pip install biopython`):"
   ]
  },
  {
   "cell_type": "code",
   "execution_count": null,
   "id": "79c613d1",
   "metadata": {},
   "outputs": [],
   "source": [
    "from pyopenms import *\n",
    "from Bio.Seq import Seq\n",
    "from Bio.Alphabet import IUPAC\n",
    "bsa = FASTAEntry()\n",
    "bsa.sequence = 'ATGAAGTGGGTGACTTTTATTTCTCTTCTCCTTCTCTTCAGCTCTGCTTATTCCAGGGGTGTGTTTCGT'\n",
    "bsa.description = \"BSA Bovine Albumin (partial sequence)\"\n",
    "bsa.identifier = \"BSA\"\n",
    "\n",
    "entries = [bsa]\n",
    "\n",
    "f = FASTAFile()\n",
    "f.store(\"example_dna.fasta\", entries)\n",
    "\n",
    "coding_dna = Seq(bsa.sequence, IUPAC.unambiguous_dna)    \n",
    "coding_rna = coding_dna.transcribe()\n",
    "protein_seq = coding_rna.translate()\n",
    "\n",
    "oligo = NASequence.fromString(str(coding_rna))\n",
    "aaseq = AASequence.fromString(str(protein_seq))\n",
    "\n",
    "print(\"The RNA sequence\", str(oligo), \"has mass\", oligo.getMonoWeight(), \"and \\n\"\n",
    "  \"translates to the protein sequence\", str(aaseq), \"which has mass\", aaseq.getMonoWeight() )"
   ]
  },
  {
   "cell_type": "markdown",
   "id": "2b269dc1",
   "metadata": {},
   "source": [
    "[![Launch Binder](./img/launch_binder.jpg)](https://mybinder.org/v2/gh/OpenMS/pyopenms-extra/master+ipynb?urlpath=lab/tree/docs/source/nasequences.ipynb)"
   ]
  }
 ],
 "metadata": {},
 "nbformat": 4,
 "nbformat_minor": 5
}
