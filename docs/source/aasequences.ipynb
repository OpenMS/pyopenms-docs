{
 "cells": [
  {
   "cell_type": "markdown",
   "id": "1369dd89",
   "metadata": {},
   "source": [
    "$$\n",
    "\\def\\CC{\\bf C}\n",
    "\\def\\QQ{\\bf Q}\n",
    "\\def\\RR{\\bf R}\n",
    "\\def\\ZZ{\\bf Z}\n",
    "\\def\\NN{\\bf N}\n",
    "$$\n",
    "# Peptides and Proteins\n",
    "\n",
    "## Amino Acid Sequences\n",
    "\n",
    "The `AASequence` class handles amino acid sequences in OpenMS. A string\n",
    "of amino acid residues can be turned into a instance of `AASequence` to\n",
    "provide some commonly used operations and data. The implementation\n",
    "supports mathematical operations like addition or subtraction. Also,\n",
    "average and mono isotopic weight and isotope distributions are\n",
    "accessible.\n",
    "\n",
    "Weights, formulas and isotope distribution can be calculated depending\n",
    "on the charge state (additional proton count in case of positive ions)\n",
    "and ion type. Therefore, the class allows for a flexible handling of\n",
    "amino acid strings.\n",
    "\n",
    "A very simple example of handling amino acid sequence with AASequence is\n",
    "given in the next few lines, which also calculates the weight of the\n",
    "`(M)` and `(M+2H)2+` ions."
   ]
  },
  {
   "cell_type": "code",
   "execution_count": null,
   "id": "cd256882",
   "metadata": {},
   "outputs": [],
   "source": [
    "from pyopenms import *\n",
    "seq = AASequence.fromString(\"DFPIANGER\")\n",
    "prefix = seq.getPrefix(4)\n",
    "suffix = seq.getSuffix(5)\n",
    "concat = seq + seq\n",
    "\n",
    "print(seq)\n",
    "print(concat)\n",
    "print(suffix)\n",
    "mfull = seq.getMonoWeight() # weight of M\n",
    "mprecursor = seq.getMonoWeight(Residue.ResidueType.Full, 2) # weight of M+2H\n",
    "mz = seq.getMonoWeight(Residue.ResidueType.Full, 2) / 2.0 # m/z of M+2H\n",
    "\n",
    "print()\n",
    "print(\"Monoisotopic mass of peptide [M] is\", mfull)\n",
    "print(\"Monoisotopic mass of peptide precursor [M+2H]2+ is\", mprecursor)\n",
    "print(\"Monoisotopic m/z of [M+2H]2+ is\", mz)"
   ]
  },
  {
   "cell_type": "markdown",
   "id": "77224c57",
   "metadata": {},
   "source": [
    "Which prints the amino acid sequence on line 7 as well as the result of\n",
    "concatenating two sequences or taking the suffix of a sequence (lines 8\n",
    "and 9). On line 10 we compute the mass of the full peptide (`[M]`), on\n",
    "line 11 we compute the mass of the peptide precursor (`[M+2H]2+`) while\n",
    "on line 12 we compute the `m/z` value of the peptide precursor\n",
    "(`[M+2H]2+`). The mass of the peptide precursor is shifted by two\n",
    "protons that are now attached to the molecules as charge carriers (note\n",
    "that the proton mass of 1.007276 u is slightly different from the mass\n",
    "of an uncharged hydrogen atom at 1.007825 u)."
   ]
  },
  {
   "cell_type": "code",
   "execution_count": null,
   "id": "86758621",
   "metadata": {},
   "outputs": [],
   "source": [
    "DFPIANGER\n",
    "DFPIANGERDFPIANGER\n",
    "ANGER\n",
    "\n",
    "Monoisotopic mass of peptide [M] is 1017.4879641373001\n",
    "Monoisotopic mass of peptide precursor [M+2H]2+ is 1019.5025170708421\n",
    "Monoisotopic m/z of [M+2H]2+ is 509.7512585354211"
   ]
  },
  {
   "cell_type": "markdown",
   "id": "e4398396",
   "metadata": {},
   "source": [
    "The `AASequence` object also allows iterations directly in Python:"
   ]
  },
  {
   "cell_type": "code",
   "execution_count": null,
   "id": "f4fe1d95",
   "metadata": {},
   "outputs": [],
   "source": [
    "from pyopenms import *\n",
    "seq = AASequence.fromString(\"DFPIANGER\")\n",
    "\n",
    "print(\"The peptide\", str(seq), \"consists of the following amino acids:\")\n",
    "for aa in seq:\n",
    "  print(aa.getName(), \":\", aa.getMonoWeight())"
   ]
  },
  {
   "cell_type": "markdown",
   "id": "07eb13fa",
   "metadata": {},
   "source": [
    "Which will print"
   ]
  },
  {
   "cell_type": "code",
   "execution_count": null,
   "id": "608b7cd3",
   "metadata": {},
   "outputs": [],
   "source": [
    "The peptide DFPIANGER consists of the following amino acids:\n",
    "Aspartate : 133.0375092233\n",
    "Phenylalanine : 165.0789793509\n",
    "Proline : 115.0633292871\n",
    "Isoleucine : 131.0946294147\n",
    "Alanine : 89.04767922330001\n",
    "Asparagine : 132.0534932552\n",
    "Glycine : 75.0320291595\n",
    "Glutamate : 147.05315928710002\n",
    "Arginine : 174.1116764466"
   ]
  },
  {
   "cell_type": "markdown",
   "id": "126bf742",
   "metadata": {},
   "source": [
    "### Fragment ions\n",
    "\n",
    "Note how we can easily calculate the charged weight of a `(M+2H)2+` ion\n",
    "on line 11 and compute *m/z* on line 12 -- simply dividing by the\n",
    "charge. We can now combine our knowledge of `AASequence` with what we\n",
    "learned above about `EmpiricalFormula` to get accurate mass and isotope\n",
    "distributions from the amino acid sequence:"
   ]
  },
  {
   "cell_type": "code",
   "execution_count": null,
   "id": "f851e96c",
   "metadata": {},
   "outputs": [],
   "source": [
    "from pyopenms import *\n",
    "seq = AASequence.fromString(\"DFPIANGER\")\n",
    "seq_formula = seq.getFormula()\n",
    "print(\"Peptide\", seq, \"has molecular formula\", seq_formula)\n",
    "print(\"=\"*35)\n",
    "\n",
    "isotopes = seq_formula.getIsotopeDistribution( CoarseIsotopePatternGenerator(6) )\n",
    "for iso in isotopes.getContainer():\n",
    "  print (\"Isotope\", iso.getMZ(), \"has abundance\", iso.getIntensity()*100, \"%\")\n",
    "\n",
    "suffix = seq.getSuffix(3) # y3 ion \"GER\"\n",
    "print(\"=\"*35)\n",
    "print(\"y3 ion sequence:\", suffix)\n",
    "y3_formula = suffix.getFormula(Residue.ResidueType.YIon, 2) # y3++ ion\n",
    "suffix.getMonoWeight(Residue.ResidueType.YIon, 2) / 2.0 # CORRECT\n",
    "suffix.getMonoWeight(Residue.ResidueType.XIon, 2) / 2.0 # CORRECT\n",
    "suffix.getMonoWeight(Residue.ResidueType.BIon, 2) / 2.0 # INCORRECT\n",
    "\n",
    "print(\"y3 mz:\", suffix.getMonoWeight(Residue.ResidueType.YIon, 2) / 2.0 )\n",
    "print(\"y3 molecular formula:\", y3_formula)"
   ]
  },
  {
   "cell_type": "markdown",
   "id": "2a6e493e",
   "metadata": {},
   "source": [
    "Which will produce"
   ]
  },
  {
   "cell_type": "code",
   "execution_count": null,
   "id": "daf193f0",
   "metadata": {},
   "outputs": [],
   "source": [
    "Peptide DFPIANGER has molecular formula C44H67N13O15\n",
    "===================================\n",
    "Isotope 1017.4879641373 has abundance 56.81651830673218 %\n",
    "Isotope 1018.4913189751 has abundance 30.52912950515747 %\n",
    "Isotope 1019.4946738129 has abundance 9.802105277776718 %\n",
    "Isotope 1020.4980286507 has abundance 2.3292064666748047 %\n",
    "Isotope 1021.5013834885 has abundance 0.4492596257477999 %\n",
    "Isotope 1022.5047383263 has abundance 0.07378293084912002 %\n",
    "===================================\n",
    "y3 ion sequence: GER\n",
    "y3 mz: 181.09514385\n",
    "y3 molecular formula: C13H24N6O6"
   ]
  },
  {
   "cell_type": "markdown",
   "id": "5b9f58bd",
   "metadata": {},
   "source": [
    "Note on lines 15 to 17 we need to remember that we are dealing with an\n",
    "ion of the x/y/z series since we used a suffix of the original peptide\n",
    "and using any other ion type will produce a different mass-to-charge\n",
    "ratio (and while \"GER\" would also be a valid \"x3\" ion, note that it\n",
    "*cannot* be a valid ion from the a/b/c series and therefore the mass on\n",
    "line 17 cannot refer to the same input peptide \"DFPIANGER\" since its\n",
    "\"b3\" ion would be \"DFP\" and not \"GER\").\n",
    "\n",
    "## Modified Sequences\n",
    "\n",
    "The `AASequence` class can also handle modifications, modifications are\n",
    "specified using a unique string identifier present in the\n",
    "`ModificationsDB` in round brackets after the modified amino acid or by\n",
    "providing the mass of the residue in square brackets. For example\n",
    "`AASequence.fromString(\".DFPIAM(Oxidation)GER.\")` creates an instance of\n",
    "the peptide \"DFPIAMGER\" with an oxidized methionine. There are multiple\n",
    "ways to specify modifications, and\n",
    "`AASequence.fromString(\"DFPIAM(UniMod:35)GER\")`,\n",
    "`AASequence.fromString(\"DFPIAM[+16]GER\")` and\n",
    "`AASequence.fromString(\"DFPIAM[147]GER\")` are all equivalent)."
   ]
  },
  {
   "cell_type": "code",
   "execution_count": null,
   "id": "d4bf6eda",
   "metadata": {},
   "outputs": [],
   "source": [
    "from pyopenms import *\n",
    "seq = AASequence.fromString(\"PEPTIDESEKUEM(Oxidation)CER\")\n",
    "print(seq.toUnmodifiedString())\n",
    "print(seq.toString())\n",
    "print(seq.toUniModString())\n",
    "print(seq.toBracketString())\n",
    "print(seq.toBracketString(False))\n",
    "\n",
    "print(AASequence.fromString(\"DFPIAM(UniMod:35)GER\"))\n",
    "print(AASequence.fromString(\"DFPIAM[+16]GER\"))\n",
    "print(AASequence.fromString(\"DFPIAM[+15.99]GER\"))\n",
    "print(AASequence.fromString(\"DFPIAM[147]GER\"))\n",
    "print(AASequence.fromString(\"DFPIAM[147.035405]GER\"))"
   ]
  },
  {
   "cell_type": "markdown",
   "id": "1f97e71a",
   "metadata": {},
   "source": [
    "The above code outputs:"
   ]
  },
  {
   "cell_type": "code",
   "execution_count": null,
   "id": "5046085d",
   "metadata": {},
   "outputs": [],
   "source": [
    "PEPTIDESEKUEMCER\n",
    "PEPTIDESEKUEM(Oxidation)CER\n",
    "PEPTIDESEKUEM(UniMod:35)CER\n",
    "PEPTIDESEKUEM[147]CER\n",
    "PEPTIDESEKUEM[147.0354000171]CER\n",
    "\n",
    "DFPIAM(Oxidation)GER\n",
    "DFPIAM(Oxidation)GER\n",
    "DFPIAM(Oxidation)GER\n",
    "DFPIAM(Oxidation)GER\n",
    "DFPIAM(Oxidation)GER"
   ]
  },
  {
   "cell_type": "markdown",
   "id": "135eb3c5",
   "metadata": {},
   "source": [
    "Note there is a subtle difference between\n",
    "`AASequence.fromString(\".DFPIAM[+16]GER.\")` and\n",
    "`AASequence.fromString(\".DFPIAM[+15.9949]GER.\")` - while the former will\n",
    "try to find the first modification matching to a mass difference of 16\n",
    "+/- 0.5, the latter will try to find the closest matching modification\n",
    "to the exact mass. The exact mass approach usually gives the intended\n",
    "results while the first approach may or may not. In all instances, it is\n",
    "better to use an exact description of the desired modification, such as\n",
    "UniMod, instead of mass differences.\n",
    "\n",
    "N- and C-terminal modifications are represented by brackets to the right\n",
    "of the dots terminating the sequence. For example,\n",
    "`\".(Dimethyl)DFPIAMGER.\"` and `\".DFPIAMGER.(Label:18O(2))\"` represent\n",
    "the labelling of the N- and C-terminus respectively, but\n",
    "`\".DFPIAMGER(Phospho).\"` will be interpreted as a phosphorylation of the\n",
    "last arginine at its side chain:"
   ]
  },
  {
   "cell_type": "code",
   "execution_count": null,
   "id": "6350e92a",
   "metadata": {},
   "outputs": [],
   "source": [
    "from pyopenms import *\n",
    "s = AASequence.fromString(\".(Dimethyl)DFPIAMGER.\")\n",
    "print(s, s.hasNTerminalModification())\n",
    "s = AASequence.fromString(\".DFPIAMGER.(Label:18O(2))\")\n",
    "print(s, s.hasCTerminalModification())\n",
    "s = AASequence.fromString(\".DFPIAMGER(Phospho).\")\n",
    "print(s, s.hasCTerminalModification())"
   ]
  },
  {
   "cell_type": "markdown",
   "id": "b3a045a3",
   "metadata": {},
   "source": [
    "Arbitrary/unknown amino acids (usually due to an unknown modification)\n",
    "can be specified using tags preceded by X: \"X\\[weight\\]\". This indicates\n",
    "a new amino acid (\"X\") with the specified weight, e.g. `\"RX[148.5]T\"`.\n",
    "Note that this tag does not alter the amino acids to the left (R) or\n",
    "right (T). Rather, X represents an amino acid on its own. Be careful\n",
    "when converting such AASequence objects to an EmpiricalFormula using\n",
    "`getFormula()`, as tags will not be considered in this case (there\n",
    "exists no formula for them). However, they have an influence on\n",
    "`getMonoWeight()` and `getAverageWeight()`!\n",
    "\n",
    "## Proteins\n",
    "\n",
    "Protein sequences can be accessed through the `FASTAEntry` object and\n",
    "can be read and stored on disk using a `FASTAFile` :"
   ]
  },
  {
   "cell_type": "code",
   "execution_count": null,
   "id": "ac084f7d",
   "metadata": {},
   "outputs": [],
   "source": [
    "from pyopenms import *\n",
    "bsa = FASTAEntry()\n",
    "bsa.sequence = \"MKWVTFISLLLLFSSAYSRGVFRRDTHKSEIAHRFKDLGE\"\n",
    "bsa.description = \"BSA Bovine Albumin (partial sequence)\"\n",
    "bsa.identifier = \"BSA\"\n",
    "alb = FASTAEntry()\n",
    "alb.sequence = \"MKWVTFISLLFLFSSAYSRGVFRRDAHKSEVAHRFKDLGE\" \n",
    "alb.description = \"ALB Human Albumin (partial sequence)\"\n",
    "alb.identifier = \"ALB\"\n",
    "\n",
    "entries = [bsa, alb]\n",
    "\n",
    "f = FASTAFile()\n",
    "f.store(\"example.fasta\", entries)"
   ]
  },
  {
   "cell_type": "markdown",
   "id": "4536ece3",
   "metadata": {},
   "source": [
    "Afterwards, the `example.fasta` file can be read again from disk:"
   ]
  },
  {
   "cell_type": "code",
   "execution_count": null,
   "id": "3b537582",
   "metadata": {},
   "outputs": [],
   "source": [
    "from pyopenms import *\n",
    "entries = []\n",
    "f = FASTAFile()\n",
    "f.load(\"example.fasta\", entries)\n",
    "print( len(entries) )\n",
    "for e in entries:\n",
    "  print (e.identifier, e.sequence)"
   ]
  },
  {
   "cell_type": "markdown",
   "id": "3258d014",
   "metadata": {},
   "source": [
    "[![Launch Binder](./img/launch_binder.jpg)](https://mybinder.org/v2/gh/OpenMS/pyopenms-extra/master+ipynb?urlpath=lab/tree/docs/source/aasequences.ipynb)"
   ]
  }
 ],
 "metadata": {},
 "nbformat": 4,
 "nbformat_minor": 5
}
