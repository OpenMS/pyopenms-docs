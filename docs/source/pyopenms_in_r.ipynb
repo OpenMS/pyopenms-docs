{
 "cells": [
  {
   "cell_type": "markdown",
   "id": "8b222ff9",
   "metadata": {},
   "source": [
    "$$\n",
    "\\def\\CC{\\bf C}\n",
    "\\def\\QQ{\\bf Q}\n",
    "\\def\\RR{\\bf R}\n",
    "\\def\\ZZ{\\bf Z}\n",
    "\\def\\NN{\\bf N}\n",
    "$$\n",
    "# pyOpenMS in R\n",
    "\n",
    "Currently, there are no native wrappers for the OpenMS library in R,\n",
    "however we can use the \"reticulate\" package in order to get access to\n",
    "the full functionality of pyOpenMS in the R programming language.\n",
    "\n",
    "## Install the \"reticulate\" R package\n",
    "\n",
    "In order to use all pyopenms functionalities in R, we suggest to use the\n",
    "\"reticulate\" R package.\n",
    "\n",
    "A thorough documentation is available at:\n",
    "<https://rstudio.github.io/reticulate/>"
   ]
  },
  {
   "cell_type": "code",
   "execution_count": null,
   "id": "f758bee0",
   "metadata": {},
   "outputs": [],
   "source": [
    "install.packages(\"reticulate\")"
   ]
  },
  {
   "cell_type": "markdown",
   "id": "98e4d317",
   "metadata": {},
   "source": [
    "Installation of pyopenms is a requirement as well and it is necessary to\n",
    "make sure that R is using the same Python environment.\n",
    "\n",
    "In case R is having trouble to find the correct Python environment, you\n",
    "can set it by hand as in this example (using miniconda, you will have to\n",
    "adjust the file path to your system to make this work). You will need to\n",
    "do this before loading the \"reticulate\" library:"
   ]
  },
  {
   "cell_type": "code",
   "execution_count": null,
   "id": "2fede6ac",
   "metadata": {},
   "outputs": [],
   "source": [
    "Sys.setenv(RETICULATE_PYTHON = \"/usr/local/miniconda3/envs/py37/bin/python\")"
   ]
  },
  {
   "cell_type": "markdown",
   "id": "5ea2d706",
   "metadata": {},
   "source": [
    "Or after loading the \"reticulate\" library:"
   ]
  },
  {
   "cell_type": "code",
   "execution_count": null,
   "id": "dade5582",
   "metadata": {},
   "outputs": [],
   "source": [
    "library(\"reticulate\")\n",
    "use_python(\"/usr/local/miniconda3/envs/py37/bin/python\")"
   ]
  },
  {
   "cell_type": "markdown",
   "id": "510db7de",
   "metadata": {},
   "source": [
    "## Import pyopenms in R\n",
    "\n",
    "After loading the \"reticulate\" library you should be able to import\n",
    "pyopenms into R"
   ]
  },
  {
   "cell_type": "code",
   "execution_count": null,
   "id": "662d678b",
   "metadata": {},
   "outputs": [],
   "source": [
    "library(reticulate)\n",
    "ropenms=import(\"pyopenms\", convert = FALSE)"
   ]
  },
  {
   "cell_type": "markdown",
   "id": "de283f4c",
   "metadata": {},
   "source": [
    "This should now give you access to all of pyopenms in R. Importantly,\n",
    "the convert option has to be set to FALSE, since type conversions such\n",
    "as 64bit integers will cause a problem.\n",
    "\n",
    "You should now be able to interact with the OpenMS library and, for\n",
    "example, read and write mzML files:"
   ]
  },
  {
   "cell_type": "code",
   "execution_count": null,
   "id": "8f57aa0f",
   "metadata": {},
   "outputs": [],
   "source": [
    "library(reticulate)\n",
    "ropenms=import(\"pyopenms\", convert = FALSE)\n",
    "exp = ropenms$MSExperiment()\n",
    "ropenms$MzMLFile()$store(\"testfile.mzML\", exp)"
   ]
  },
  {
   "cell_type": "markdown",
   "id": "2d450baf",
   "metadata": {},
   "source": [
    "which will create an empty mzML file called $testfile.mzML$.\n",
    "\n",
    "## Getting help\n",
    "\n",
    "Using the \"reticulate\" R package provides a way to access the pyopenms\n",
    "information about the available functions and methods. We can inspect\n",
    "individual pyOpenMS objects through the `py_help` function:"
   ]
  },
  {
   "cell_type": "code",
   "execution_count": null,
   "id": "5d2c8f08",
   "metadata": {},
   "outputs": [],
   "source": [
    "library(reticulate)\n",
    "ropenms=import(\"pyopenms\", convert = FALSE)\n",
    "idXML=ropenms$IdXMLFile\n",
    "py_help(idXML)\n",
    "\n",
    "Help on class IdXMLFile in module pyopenms.pyopenms_4:"
   ]
  },
  {
   "cell_type": "markdown",
   "id": "a0ba9807",
   "metadata": {},
   "source": [
    "> class IdXMLFile(\\_\\_builtin\\_\\_.object)  \n",
    ">  Methods defined here:  \n",
    ">   \n",
    ">  \\_\\_init\\_\\_(...)  \n",
    ">      Cython signature: void IdXMLFile()  \n",
    ">   \n",
    ">  load(...)  \n",
    ">      Cython signature: void load(String filename,\n",
    "> libcpp\\_vector\\[ProteinIdentification\\] & protein\\_ids,\n",
    "> libcpp\\_vector\\[PeptideIdentification\\] & peptide\\_ids)\n",
    ">\n",
    "> \\[...\\]\n",
    "\n",
    "Alternatively, the autocompletion functionality of RStudio can be used:\n",
    "\n",
    "![image](img/R_autocompletion.png)\n",
    "\n",
    "In this case, the help function indicates that the `idXML$load()`\n",
    "function requires\n",
    "\n",
    "> -   a filename as string\n",
    "> -   an empty vector for pyopenms.ProteinIdentification objects\n",
    "> -   an empty vector for pyopenms.PeptideIdentification objects\n",
    "\n",
    "In order to read peptide identification data, we can download the [idXML\n",
    "example\n",
    "file](https://github.com/OpenMS/OpenMS/raw/develop/master/OpenMS/examples/BSA/BSA1_OMSSA.idXML.mzML)\n",
    "\n",
    "Creating an empty R `list()` unfortunately is not equal to the empty\n",
    "python `list []`.\n",
    "\n",
    "Therefore in this case we need to use the `reticulate::r_to_py()` and\n",
    "`reticulate::py_to_r()` functions:"
   ]
  },
  {
   "cell_type": "code",
   "execution_count": null,
   "id": "37cfb144",
   "metadata": {},
   "outputs": [],
   "source": [
    "idXML=ropenms$IdXMLFile()\n",
    "\n",
    "download.file(\"https://github.com/OpenMS/OpenMS/raw/master/share/OpenMS/examples/BSA/BSA1_OMSSA.idXML\", \"BSA1_OMSSA.idXML\")\n",
    "\n",
    "f=\"BSA1_OMSSA.idXML\"\n",
    "pepids=r_to_py(list())\n",
    "protids=r_to_py(list())\n",
    "\n",
    "idXML$load(f, protids, pepids)\n",
    "\n",
    "pepids=py_to_r(pepids)\n",
    "\n",
    "pephits=pepids[[1]]$getHits()\n",
    "\n",
    "pepseq=pephits[[1]]$getSequence()\n",
    "\n",
    "print(paste0(\"Sequence: \", pepseq))\n",
    "\n",
    "[1] \"Sequence: SHC(Carbamidomethyl)IAEVEK\""
   ]
  },
  {
   "cell_type": "markdown",
   "id": "e0c955aa",
   "metadata": {},
   "source": [
    "In order to get more information about the wrapped functions, we can\n",
    "also consult the [pyOpenMS\n",
    "manual](http://proteomics.ethz.ch/pyOpenMS_Manual.pdf) which references\n",
    "to all wrapped functions.\n",
    "\n",
    "## An example use case\n",
    "\n",
    "### Reading an mzML File\n",
    "\n",
    "pyOpenMS supports a variety of different files through the\n",
    "implementations in OpenMS. In order to read mass spectrometric data, we\n",
    "can download the [mzML example\n",
    "file](https://github.com/OpenMS/OpenMS/raw/develop/master/OpenMS/examples/BSA/BSA1.mzML)"
   ]
  },
  {
   "cell_type": "code",
   "execution_count": null,
   "id": "c4b2b32f",
   "metadata": {},
   "outputs": [],
   "source": [
    "download.file(\"https://github.com/OpenMS/OpenMS/raw/master/share/OpenMS/examples/BSA/BSA1.mzML\", \"BSA1.mzML\")\n",
    "\n",
    "library(reticulate)\n",
    "ropenms=import(\"pyopenms\", convert = FALSE)\n",
    "mzML=ropenms$MzMLFile()\n",
    "exp = ropenms$MSExperiment()\n",
    "mzML$load(\"BSA1.mzML\", exp)"
   ]
  },
  {
   "cell_type": "markdown",
   "id": "610e2840",
   "metadata": {},
   "source": [
    "which will load the content of the \"BSA1.mzML\" file into the `exp`\n",
    "variable of type `MSExperiment`. We can now inspect the properties of\n",
    "this object:"
   ]
  },
  {
   "cell_type": "code",
   "execution_count": null,
   "id": "c01682e1",
   "metadata": {},
   "outputs": [],
   "source": [
    "py_help(exp)\n",
    "Help on MSExperiment object:\n",
    "\n",
    "class MSExperiment(__builtin__.object)\n",
    " |  Methods defined here:\n",
    " ...\n",
    " |  getNrChromatograms(...)\n",
    " |      Cython signature: size_t getNrChromatograms()\n",
    " |\n",
    " |  getNrSpectra(...)\n",
    " |      Cython signature: size_t getNrSpectra()\n",
    " |\n",
    " ..."
   ]
  },
  {
   "cell_type": "markdown",
   "id": "c43b27c2",
   "metadata": {},
   "source": [
    "which indicates that the variable `exp` has (among others) the functions\n",
    "`getNrSpectra` and `getNrChromatograms`. We can now try one of these\n",
    "functions:"
   ]
  },
  {
   "cell_type": "code",
   "execution_count": null,
   "id": "3a7ae230",
   "metadata": {},
   "outputs": [],
   "source": [
    "exp$getNrSpectra()\n",
    "1684"
   ]
  },
  {
   "cell_type": "markdown",
   "id": "c6583d1e",
   "metadata": {},
   "source": [
    "and indeed we see that we get information about the underlying MS data.\n",
    "We can iterate through the spectra as follows:\n",
    "\n",
    "### Visualize spectra\n",
    "\n",
    "You can easily visualise ms1 level precursor maps:"
   ]
  },
  {
   "cell_type": "code",
   "execution_count": null,
   "id": "879b4ed1",
   "metadata": {},
   "outputs": [],
   "source": [
    "library(ggplot2)\n",
    "\n",
    "spectra = py_to_r(exp$getSpectra())\n",
    "\n",
    "peaks_df=c()\n",
    "for (i in spectra) {\n",
    "  if (i$getMSLevel()==1){\n",
    "    peaks=do.call(\"cbind\", i$get_peaks())\n",
    "    rt=i$getRT()\n",
    "    peaks_df=rbind(peaks_df,cbind(peaks,rt))\n",
    "  }\n",
    "}\n",
    "\n",
    "peaks_df=data.frame(peaks_df)    \n",
    "colnames(peaks_df)=c('MZ','Intensity','RT')\n",
    "peaks_df$Intensity=log10(peaks_df$Intensity)\n",
    "\n",
    "ggplot(peaks_df, aes(x=RT, y=MZ) ) +\n",
    "geom_point(size=1, aes(colour = Intensity), alpha=0.25) +\n",
    "theme_minimal() +\n",
    "scale_colour_gradient(low = \"blue\", high = \"yellow\")"
   ]
  },
  {
   "cell_type": "markdown",
   "id": "1182317f",
   "metadata": {},
   "source": [
    "![image](img/R_ggplot_precursor_map.png)\n",
    "\n",
    "Or visualize a particular ms2 spectrum:"
   ]
  },
  {
   "cell_type": "code",
   "execution_count": null,
   "id": "b578d108",
   "metadata": {},
   "outputs": [],
   "source": [
    "library(ggplot2)\n",
    "\n",
    "spectra = py_to_r(exp$getSpectra())\n",
    "\n",
    "# Collect all MS2 peak data in a list\n",
    "peaks_ms2=list()\n",
    "for (i in spectra) {\n",
    "  if (i$getMSLevel()==2){\n",
    "    peaks=do.call(\"cbind\",i$get_peaks())\n",
    "    peaks_ms2[[i$getNativeID()]]=data.frame(peaks)\n",
    "  }\n",
    "}\n",
    "\n",
    "ms2_spectrum=peaks_ms2[[\"spectrum=3529\"]]\n",
    "colnames(ms2_spectrum)=c(\"MZ\",\"Intensity\")\n",
    "\n",
    "ggplot(ms2_spectrum, aes(x=MZ, y=Intensity)) +\n",
    "geom_segment( aes(x=MZ, xend=MZ, y=0, yend=Intensity)) +\n",
    "theme_minimal()"
   ]
  },
  {
   "cell_type": "markdown",
   "id": "5f7da568",
   "metadata": {},
   "source": [
    "![image](img/R_ggplot_ms2.png)\n",
    "\n",
    "Alternatively, we could also have used `apply` to obtain the peak data,\n",
    "which is more idiomatic way of doing things for the R programming\n",
    "language:"
   ]
  },
  {
   "cell_type": "code",
   "execution_count": null,
   "id": "a2e49efb",
   "metadata": {},
   "outputs": [],
   "source": [
    "ms1 = sapply(spectra, function(x) x$getMSLevel()==1)\n",
    "peaks = sapply(spectra[ms1], function(x) cbind(do.call(\"cbind\", x$get_peaks()),x$getRT()))\n",
    "peaks = data.frame( do.call(\"rbind\", peaks) )\n",
    "\n",
    "ms2 = spectra[!ms1][[1]]$get_peaks()\n",
    "ms2_spectrum = data.frame( do.call(\"cbind\", ms2) )"
   ]
  },
  {
   "cell_type": "markdown",
   "id": "a1c4b968",
   "metadata": {},
   "source": [
    "### Iteration\n",
    "\n",
    "Iterating over pyopenms objects is not equal to iterating over R vectors\n",
    "or lists. Note that for many applications, there is a more efficient way\n",
    "to access data (such as `get_peaks` instead of iterating over individual\n",
    "peaks).\n",
    "\n",
    "Therefore we can not directly apply the usual functions such as\n",
    "`apply()` and have to use `reticulate::iterate()` instead:"
   ]
  },
  {
   "cell_type": "code",
   "execution_count": null,
   "id": "ad3fe0f4",
   "metadata": {},
   "outputs": [],
   "source": [
    "spectrum = ropenms$MSSpectrum()\n",
    "mz = seq(1500, 500, -100)\n",
    "i = seq(10, 2000, length.out = length(mz))\n",
    "spectrum$set_peaks(list(mz, i))\n",
    "\n",
    "iterate(spectrum, function(x) {print(paste0(\"M/z :\" , x$getMZ(), \" Intensity: \", x$getIntensity()))})\n",
    "\n",
    "[1] \"M/z :1500.0 Intensity: 10.0\"\n",
    "[1] \"M/z :1400.0 Intensity: 209.0\"\n",
    "[1] \"M/z :1300.0 Intensity: 408.0\"\n",
    "[1] \"M/z :1200.0 Intensity: 607.0\"\n",
    "[1] \"M/z :1100.0 Intensity: 806.0\"\n",
    "[1] \"M/z :1000.0 Intensity: 1005.0\"\n",
    "[1] \"M/z :900.0 Intensity: 1204.0\"\n",
    "[1] \"M/z :800.0 Intensity: 1403.0\"\n",
    "[1] \"M/z :700.0 Intensity: 1602.0\"\n",
    "[1] \"M/z :600.0 Intensity: 1801.0\"\n",
    "[1] \"M/z :500.0 Intensity: 2000.0\""
   ]
  },
  {
   "cell_type": "markdown",
   "id": "ddc4bd33",
   "metadata": {},
   "source": [
    "or we can use a for-loop (note that we use zero-based indices as custom\n",
    "in Python):"
   ]
  },
  {
   "cell_type": "code",
   "execution_count": null,
   "id": "acd2d735",
   "metadata": {},
   "outputs": [],
   "source": [
    "for (i in seq(0,py_to_r(spectrum$size())-1)) {\n",
    "      print(spectrum[i]$getMZ())\n",
    "      print(spectrum[i]$getIntensity())\n",
    "}"
   ]
  },
  {
   "cell_type": "markdown",
   "id": "2dfe8a00",
   "metadata": {},
   "source": [
    "[![Launch Binder](./img/launch_binder.jpg)](https://mybinder.org/v2/gh/OpenMS/pyopenms-extra/master+ipynb?urlpath=lab/tree/docs/source/pyopenms_in_r.ipynb)"
   ]
  }
 ],
 "metadata": {},
 "nbformat": 4,
 "nbformat_minor": 5
}
