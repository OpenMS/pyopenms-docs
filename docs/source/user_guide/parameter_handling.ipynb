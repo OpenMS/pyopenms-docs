{
 "cells": [
  {
   "cell_type": "markdown",
   "metadata": {},
   "source": [
    "# Parameter Handling\n",
    "\n",
    "Parameter handling in OpenMS and pyOpenMS is usually implemented through\n",
    "inheritance from `DefaultParamHandler` and allow access to parameters\n",
    "through the\n",
    "[Param](https://pyopenms.readthedocs.io/en/latest/apidocs/_autosummary/pyopenms/pyopenms.Param.html)\n",
    "object. This means, the classes implement the methods `getDefaults`,\n",
    "`getParameters` and `setParameters`, to access to the default\n",
    "parameters, the current parameters and to set new parameters,\n",
    "respectively. The class\n",
    "[TheoreticalSpectrumGenerator](https://pyopenms.readthedocs.io/en/latest/apidocs/_autosummary/pyopenms/pyopenms.TheoreticalSpectrumGenerator.html)\n",
    "is just one example of many which makes use of parameter handling via\n",
    "`DefaultParamHandler`.\n",
    "\n",
    "The\n",
    "[Param](https://pyopenms.readthedocs.io/en/latest/apidocs/_autosummary/pyopenms/pyopenms.Param.html)\n",
    "object is the central data structure here. It can be manipulated through\n",
    "the\n",
    "[Param.setValue](https://pyopenms.readthedocs.io/en/latest/apidocs/_autosummary/pyopenms/pyopenms.Param.setValue.html)\n",
    "and\n",
    "[Param.getValue](https://pyopenms.readthedocs.io/en/latest/apidocs/_autosummary/pyopenms/pyopenms.Param.getValue.html)\n",
    "methods. The\n",
    "[Param.exists](https://pyopenms.readthedocs.io/en/latest/apidocs/_autosummary/pyopenms/pyopenms.Param.exists.html)\n",
    "method can be used to check for existence of a key and should always be\n",
    "used if a param value might be missing, since accessing a missing value\n",
    "via\n",
    "[Param.getValue](https://pyopenms.readthedocs.io/en/latest/apidocs/_autosummary/pyopenms/pyopenms.Param.getValue.html)\n",
    "will result in a RuntimeError exception.\n",
    "\n",
    "Using the\n",
    "[Param.getDescription](https://pyopenms.readthedocs.io/en/latest/apidocs/_autosummary/pyopenms/pyopenms.Param.getDescription.html)\n",
    "method, it is possible to get a descriptive help for each parameter\n",
    "value in an interactive session without consulting the documentation."
   ],
   "id": "f84c32da-5a52-4a2b-a862-83b65c3ab344"
  },
  {
   "cell_type": "code",
   "execution_count": null,
   "metadata": {
    "linenos": ""
   },
   "outputs": [],
   "source": [
    "import pyopenms as oms\n",
    "\n",
    "p = oms.Param()\n",
    "p.setValue(\"param1\", 4.0, \"This is value 1\")\n",
    "p.setValue(\"param2\", 5.0, \"This is value 2\")\n",
    "p.setValue(\n",
    "    \"param3\",\n",
    "    [b\"H:+:0.6\", b\"Na:+:0.2\", b\"K:+:0.2\"],\n",
    "    \"This is value 3 (StringList)\",\n",
    ")\n",
    "print(p[b\"param1\"])\n",
    "p[b\"param1\"] += 3  # add three to the parameter value\n",
    "print(p[b\"param1\"])\n",
    "print(p[b\"param3\"])"
   ],
   "id": "807eb0ee-8afe-4912-b78e-07139ef3152a"
  },
  {
   "cell_type": "markdown",
   "metadata": {},
   "source": [
    "The parameters can also be accessed as\n",
    "\n",
    "``` pycon\n",
    ">>> p.asDict()\n",
    "{'param2': 4.0, 'param1': 7.0}\n",
    ">>> p.values()\n",
    "[4.0, 7.0]\n",
    ">>> p.keys()\n",
    "['param1', 'param2']\n",
    ">>> p.items()\n",
    "[('param1', 7.0), ('param2', 4.0)]\n",
    ">>> p.exists(\"param1\")\n",
    "True\n",
    "```\n",
    "\n",
    "The param object can be copied and merged into another param object:"
   ],
   "id": "9641fb5e-584b-4cf3-bcd0-6d26336d65aa"
  },
  {
   "cell_type": "code",
   "execution_count": null,
   "metadata": {
    "linenos": ""
   },
   "outputs": [],
   "source": [
    "# print the key and value pairs stored in a Param object\n",
    "def printParamKeyAndValues(p):\n",
    "    if p.size():\n",
    "        for i in p.keys():\n",
    "            print(\"Key:\", i, \"Value:\", p[i])\n",
    "    else:\n",
    "        print(\"no data available\")\n",
    "\n",
    "\n",
    "new_p = p  # new deep copy of p\n",
    "\n",
    "# we will add 4 more keys to the new_p\n",
    "new_p.setValue(\"param2\", 9.0, \"This is value 9\")\n",
    "new_p.setValue(\"example1\", 6.0, \"This is value 6\")\n",
    "new_p.setValue(\"example2\", 8.0, \"This is value 8\")\n",
    "new_p.setValue(\"example3\", 10.0, \"This is value 10\")\n",
    "\n",
    "# names \"example1\", \"example2\" , \"example3\" keys will added to p, but \"param2\" will update the value\n",
    "p.merge(new_p)\n",
    "print(\" print the key and values pairs stored in a Param object p \")\n",
    "printParamKeyAndValues(p)"
   ],
   "id": "cb182eb8-d040-405e-ae88-4e5e8bea28fe"
  },
  {
   "cell_type": "markdown",
   "metadata": {},
   "source": [
    "In a param object, the keys can be removed by key name or prefix:"
   ],
   "id": "0c228798-0c9a-4898-b17d-7dea28ab8048"
  },
  {
   "cell_type": "code",
   "execution_count": null,
   "metadata": {
    "linenos": ""
   },
   "outputs": [],
   "source": [
    "# We now call the remove method with the key of the entry we want to delete (\"example3\")\n",
    "new_p.remove(\"example3\")\n",
    "print(\"Key and value pairs after removing the entry with key: example3\")\n",
    "printParamKeyAndValues(new_p)\n",
    "\n",
    "# We now want to delete all keys with prefix \"exam\"\n",
    "new_p.removeAll(\"exam\")\n",
    "print(\n",
    "    \"Key and value pairs after removing all entries with keys starting with: exam\"\n",
    ")\n",
    "printParamKeyAndValues(new_p)\n",
    "\n",
    "# we can compare Param objects for identical content\n",
    "if p == new_p:  # check p is equal to new_p\n",
    "    new_p.clear()  # Example: delete all keys from new_p\n",
    "\n",
    "print(\"Keys and values after deleting all entries.\")\n",
    "printParamKeyAndValues(new_p)  # All keys of new_p deleted"
   ],
   "id": "98713778-ad8f-4e36-b01d-6d03caa3c88b"
  },
  {
   "cell_type": "markdown",
   "metadata": {},
   "source": [
    "For the algorithms that inherit from `DefaultParamHandler`, you can list\n",
    "all parameters along with their description by using, for instance, the\n",
    "following simple function."
   ],
   "id": "a65b7b24-5b90-4881-9349-a3fef94b5d9d"
  },
  {
   "cell_type": "code",
   "execution_count": null,
   "metadata": {
    "linenos": ""
   },
   "outputs": [],
   "source": [
    "# print all parameters with description\n",
    "def printParams(p):\n",
    "    if p.size():\n",
    "        for i in p.keys():\n",
    "            print(\n",
    "                \"Param:\", i, \"Value:\", p[i], \"Description:\", p.getDescription(i)\n",
    "            )\n",
    "    else:\n",
    "        print(\"no data available\")\n",
    "\n",
    "# print all parameters in GaussFilter class\n",
    "gf = oms.GaussFilter()\n",
    "printParams(gf.getParameters())"
   ],
   "id": "78c31d36-a3d9-41e6-a2bb-c3279adef924"
  },
  {
   "cell_type": "markdown",
   "metadata": {},
   "source": [
    "``` output\n",
    "Param: b'gaussian_width' Value: 0.2 Description: Use a gaussian filter width which has approximately the same width as your mass peaks (FWHM in m/z).\n",
    "Param: b'ppm_tolerance' Value: 10.0 Description: Gaussian width, depending on the m/z position.\n",
    "The higher the value, the wider the peak and therefore the wider the gaussian.\n",
    "Param: b'use_ppm_tolerance' Value: false Description: If true, instead of the gaussian_width value, the ppm_tolerance is used. The gaussian is calculated in each step anew, so this is much slower.\n",
    "Param: b'write_log_messages' Value: false Description: true: Warn if no signal was found by the Gauss filter algorithm.\n",
    "```\n",
    "\n",
    "To print a simple key-value list, you can use `asDict()`, as shown\n",
    "above:"
   ],
   "id": "7aec29cb-c677-492a-bf3a-9b836975dfe7"
  },
  {
   "cell_type": "code",
   "execution_count": null,
   "metadata": {
    "linenos": ""
   },
   "outputs": [],
   "source": [
    "gf = oms.GaussFilter()\n",
    "gf.getParameters().asDict()"
   ],
   "id": "09f31519-b824-475c-bed9-8764588eb7c8"
  },
  {
   "cell_type": "markdown",
   "metadata": {},
   "source": [
    "## Types of Parameter Values\n",
    "\n",
    "A\n",
    "[Param](https://pyopenms.readthedocs.io/en/latest/apidocs/_autosummary/pyopenms/pyopenms.Param.html)\n",
    "object can hold many parameters of mixed value type. Above, we have seen\n",
    "floating point values, e.g."
   ],
   "id": "310dc677-6acc-4a62-984a-061f358ef592"
  },
  {
   "cell_type": "code",
   "execution_count": null,
   "metadata": {
    "linenos": ""
   },
   "outputs": [],
   "source": [
    "new_p.setValue(\"param2\", 9.0, \"This is value 9\")"
   ],
   "id": "ae1f035e-f42a-421f-a607-88bd85343780"
  },
  {
   "cell_type": "markdown",
   "metadata": {},
   "source": [
    "Other possible values include `int`, `float`, `bytes`, `str`,\n",
    "`List[int]`, `List[float]`, `List[bytes]` (aka StringList). E.g."
   ],
   "id": "b82b056c-7ea7-4376-bcbe-aaaf5f260880"
  },
  {
   "cell_type": "code",
   "execution_count": null,
   "metadata": {
    "linenos": ""
   },
   "outputs": [],
   "source": [
    "p = oms.Param()\n",
    "p.setValue(\"p_float\", 4.0, \"This is a float\")\n",
    "p.setValue(\"p_int\", 5, \"This is an integer\")\n",
    "p.setValue(\"p_string\", \"myvalue\", \"This is a string\")\n",
    "p.setValue(\"p_stringlist\", [b\"H:+:0.6\", b\"Na:+:0.2\", b\"K:+:0.2\"], \"This is a StringList\")\n",
    "p.setValue(\"p_floatlist\", [1.0, 2.0, 3.0], \"This is a list of floats\")\n",
    "p.setValue(\"p_intlist\", [1, 2, 3], \"This is a list of integers\")"
   ],
   "id": "8531b5ed-e538-4591-8e80-fe4bd04074ac"
  },
  {
   "cell_type": "markdown",
   "metadata": {},
   "source": [
    "## Restrictions(=Validity) of Parameter Values\n",
    "\n",
    "For certain types of values, pyOpenMS supports restrictions, e.g. for\n",
    "single strings only a restricted set of values may be allowed. Also, for\n",
    "floats/ints only a restricted interval of numbers may be valid.\n",
    "\n",
    "Usually, these restrictions are set by the OpenMS algorithm/class which\n",
    "hands out the parameters. Then, if you provide invalid values via\n",
    "`setParameters`, the algorithm will throw an exception.\n",
    "\n",
    "It is usually interesting to inspect the restrictions to know what\n",
    "methods a class supports, e.g. see below for an example using a\n",
    "GaussFilter and the Normalizer.\n",
    "\n",
    "In theory, you can create your own restrictions. Usually this is done\n",
    "when defining the algorithm in C++ and is out of scope here.\n",
    "\n",
    "E.g."
   ],
   "id": "fde5b4bb-18a1-4018-96eb-f1e656c0d9f5"
  },
  {
   "cell_type": "code",
   "execution_count": null,
   "metadata": {
    "linenos": ""
   },
   "outputs": [],
   "source": [
    "gf = oms.GaussFilter()\n",
    "gfp = gf.getParameters()\n",
    "gfp.getValidStrings(\"use_ppm_tolerance\")  ## yields [b'true', b'false']\n",
    "\n",
    "gfp.setValue(b\"use_ppm_tolerance\", \"maybe\") ## is invalid but setValue does not complain\n",
    "##  ... until you actually set the parameters:\n",
    "try:\n",
    "  gf.setParameters(gfp)   ## --> throws a RuntimeError\n",
    "except RuntimeError as e:\n",
    "  print(f\"RuntimeError: {str(e)}\")\n",
    "  ## prints `GaussFilter: Invalid string parameter value 'maybe' for parameter 'use_ppm_tolerance' given! Valid values are: 'true,false'.`\n",
    "\n",
    "\n",
    "nor = oms.Normalizer()\n",
    "norp = nor.getParameters()\n",
    "norp.getValidStrings(\"method\")  ## yields [b'to_one', b'to_TIC']\n",
    "norp.setValue(\"method\", \"to_TIC\") ## pick the 'to_TIC' method\n",
    "nor.setParameters(norp)\n",
    "# ... now run the Normalizer ..."
   ],
   "id": "306b319c-076d-4a26-9e21-d89ef969360a"
  },
  {
   "cell_type": "markdown",
   "metadata": {},
   "source": [
    "Unfortunately, it is not possible to retrieve the valid ranges for\n",
    "floats and ints, if they have been set via the pyOpenMS API (yet).\n",
    "However, one can look at either the documentation of the class in\n",
    "pyOpenMS docs. There will be a link to the C++ version which contains\n",
    "the restrictions (if any) of all parameters of a class. Alternatively,\n",
    "you can simply write the parameters to an INI file (also called\n",
    "[ParamXMLFile](https://pyopenms.readthedocs.io/en/latest/apidocs/_autosummary/pyopenms/pyopenms.ParamXMLFile.html)),\n",
    "which is a special XML file format which OpenMS uses to store\n",
    "parameters.\n",
    "\n",
    "E.g."
   ],
   "id": "1048e636-ad02-4484-86e1-2526ee17235c"
  },
  {
   "cell_type": "code",
   "execution_count": null,
   "metadata": {
    "linenos": ""
   },
   "outputs": [],
   "source": [
    "pphr = oms.PeakPickerHiRes()\n",
    "\n",
    "px = oms.ParamXMLFile()\n",
    "px.store(\"tmp.ini\", pphr.getParameters())  ## store PeakPickerHiRes params (or any Param object you like)\n",
    "\n",
    "## either look at the file in Python, or open it in an Editor of your choice\n",
    "print(open('tmp.ini').read())    "
   ],
   "id": "a89bd9ed-240b-426d-b8f5-9bfd4642eddd"
  },
  {
   "cell_type": "markdown",
   "metadata": {},
   "source": [
    "The INI file looks something like this (shortened):\n",
    "\n",
    "``` xml\n",
    "<?xml version=\"1.0\" encoding=\"ISO-8859-1\"?>\n",
    "<PARAMETERS version=\"1.7.0\" xsi:noNamespaceSchemaLocation=\"https://raw.g.../Param_1_7_0.xsd\" xmlns:xsi=\"...\">\n",
    "  <ITEM name=\"signal_to_noise\" value=\"0.0\" type=\"double\" description=\"Minimal signal... SNT estimation!)\" required=\"false\" advanced=\"false\" restrictions=\"0.0:\" />\n",
    "  <ITEM name=\"spacing_difference_gap\" value=\"4.0\" type=\"double\" description=\"The extension ... chromatograms.\" required=\"false\" advanced=\"true\" restrictions=\"0.0:\" />\n",
    "...\n",
    "```\n",
    "\n",
    "Any parameter which has restrictions on its value (strings, ints and\n",
    "floats) will have a `restrictions` attribute. In the above example, the\n",
    "restriction on the `signal_to_noise` parameter are\n",
    "`restrictions=\"0.0:\"`, i.e. only the lower bound is restricted to 0.0.\n",
    "The upper bound can be any value larger than 0."
   ],
   "id": "b9557137-b763-4a17-8af5-6d266470bc36"
  }
 ],
 "nbformat": 4,
 "nbformat_minor": 5,
 "metadata": {}
}
