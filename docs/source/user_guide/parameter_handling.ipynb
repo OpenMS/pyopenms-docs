{
 "cells": [
  {
   "cell_type": "markdown",
   "metadata": {},
   "source": [
    "# Parameter Handling\n",
    "\n",
    "Parameter handling in OpenMS and pyOpenMS is usually implemented through\n",
    "inheritance from\n",
    "[DefaultParamHandler](https://pyopenms.readthedocs.io/en/latest/apidocs/_autosummary/pyopenms/pyopenms.DefaultParamHandler.html)\n",
    "and allow access to parameters through the\n",
    "[Param](https://pyopenms.readthedocs.io/en/latest/apidocs/_autosummary/pyopenms/pyopenms.Param.html)\n",
    "object. This means, the classes implement the methods `getDefaults`,\n",
    "`getParameters`, `setParameters` which allows access to the default\n",
    "parameters, the current parameters and allows to set the parameters.\n",
    "\n",
    "The\n",
    "[Param](https://pyopenms.readthedocs.io/en/latest/apidocs/_autosummary/pyopenms/pyopenms.Param.html)\n",
    "object that is returned can be manipulated through the\n",
    "[Param.setValue](https://pyopenms.readthedocs.io/en/latest/apidocs/_autosummary/pyopenms/pyopenms.Param.setValue.html)\n",
    "and\n",
    "[Param.getValue](https://pyopenms.readthedocs.io/en/latest/apidocs/_autosummary/pyopenms/pyopenms.Param.getValue.html)\n",
    "methods (the `exists` method can be used to check for existence of a\n",
    "key). Using the\n",
    "[Param.getDescription](https://pyopenms.readthedocs.io/en/latest/apidocs/_autosummary/pyopenms/pyopenms.Param.getDescription.html)\n",
    "method, it is possible to get a help-text for each parameter value in an\n",
    "interactive session without consulting the documentation."
   ],
   "id": "eab8b687-e16d-462a-9829-9da6dbb57421"
  },
  {
   "cell_type": "code",
   "execution_count": null,
   "metadata": {
    "linenos": ""
   },
   "outputs": [],
   "source": [
    "import pyopenms as oms\n",
    "\n",
    "p = oms.Param()\n",
    "p.setValue(\"param1\", 4.0, \"This is value 1\")\n",
    "p.setValue(\"param2\", 5.0, \"This is value 2\")\n",
    "p.setValue(\n",
    "    \"param3\",\n",
    "    [b\"H:+:0.6\", b\"Na:+:0.2\", b\"K:+:0.2\"],\n",
    "    \"This is value 3 (StringList)\",\n",
    ")\n",
    "print(p[b\"param1\"])\n",
    "p[b\"param1\"] += 3  # add three to the parameter value\n",
    "print(p[b\"param1\"])\n",
    "print(p[b\"param3\"])"
   ],
   "id": "db7d8f89-d783-487d-99e4-c5f474331b66"
  },
  {
   "cell_type": "markdown",
   "metadata": {},
   "source": [
    "The parameters can then be accessed as\n",
    "\n",
    "``` pycon\n",
    ">>> p.asDict()\n",
    "{'param2': 4.0, 'param1': 7.0}\n",
    ">>> p.values()\n",
    "[4.0, 7.0]\n",
    ">>> p.keys()\n",
    "['param1', 'param2']\n",
    ">>> p.items()\n",
    "[('param1', 7.0), ('param2', 4.0)]\n",
    ">>> p.exists(\"param1\")\n",
    "True\n",
    "```\n",
    "\n",
    "The param object can be copy and merge in to other param object as"
   ],
   "id": "e9cdcd68-9048-41a7-9d71-aa0fcaced7ba"
  },
  {
   "cell_type": "code",
   "execution_count": null,
   "metadata": {
    "linenos": ""
   },
   "outputs": [],
   "source": [
    "# print the key and values pairs stored in a Param object\n",
    "def printParamKeyAndValues(p):\n",
    "    if p.size():\n",
    "        for i in p.keys():\n",
    "            print(\"Key:\", i, \"Value:\", p[i])\n",
    "    else:\n",
    "        print(\"no data availabe\")\n",
    "\n",
    "\n",
    "new_p = oms.Param()\n",
    "if p.empty() == False:  # check p is not empty\n",
    "    new_p = p  # new deep copy of p generate with name \"new_p\"\n",
    "\n",
    "# we will add 4 more keys to the new_p\n",
    "new_p.setValue(\"param2\", 9.0, \"This is value 9\")\n",
    "new_p.setValue(\"example1\", 6.0, \"This is value 6\")\n",
    "new_p.setValue(\"example2\", 8.0, \"This is value 8\")\n",
    "new_p.setValue(\"example3\", 10.0, \"This is value 10\")\n",
    "\n",
    "# names \"example1\", \"example2\" , \"example3\" keys will added to p, but \"param2\" will update the value\n",
    "p.merge(new_p)\n",
    "print(\" print the key  and values pairs stored in a Param object p \")\n",
    "printParamKeyAndValues(p)"
   ],
   "id": "eb6bbc7d-79a4-420c-8e02-9c16ec499fbb"
  },
  {
   "cell_type": "markdown",
   "metadata": {},
   "source": [
    "In param object the keys values can be remove by key_name or prefix as"
   ],
   "id": "c47ec8cf-2c2b-44d4-8b1d-8efbb3868efd"
  },
  {
   "cell_type": "code",
   "execution_count": null,
   "metadata": {
    "linenos": ""
   },
   "outputs": [],
   "source": [
    "# We now call the remove method with key of the entry we want to delete (\"example3\")\n",
    "new_p.remove(\"example3\")\n",
    "print(\"Key and values pairs after removing the entry with key: example3\")\n",
    "printParamKeyAndValues(new_p)\n",
    "\n",
    "# We now want to delete all keys with prefix \"exam\"\n",
    "new_p.removeAll(\"exam\")\n",
    "print(\n",
    "    \"Key and value pairs after removing all entries with keys starting with: exam\"\n",
    ")\n",
    "printParamKeyAndValues(new_p)\n",
    "\n",
    "# we can compare Param objects for identical content\n",
    "if p == new_p:  # check p is equal to new_p\n",
    "    new_p.clear()  # Example: delete all keys from new_p\n",
    "\n",
    "print(\"Keys and values after deleting all entries.\")\n",
    "printParamKeyAndValues(new_p)  # All keys of new_p deleted"
   ],
   "id": "66195a51-f598-42f4-b86e-fc140870c8a0"
  }
 ],
 "nbformat": 4,
 "nbformat_minor": 5,
 "metadata": {}
}
