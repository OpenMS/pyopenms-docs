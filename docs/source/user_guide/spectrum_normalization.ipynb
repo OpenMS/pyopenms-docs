{
 "cells": [
  {
   "cell_type": "markdown",
   "metadata": {},
   "source": [
    "# Spectrum Normalization\n",
    "\n",
    "Another very basic mass spectrum processing step is normalization by\n",
    "base peak intensity (the maximum intensity of a mass spectrum).\n",
    "\n",
    "Let's first load the raw data."
   ],
   "id": "26600f18-54e7-4c7a-b38d-6988757c32d2"
  },
  {
   "cell_type": "code",
   "execution_count": null,
   "metadata": {
    "linenos": ""
   },
   "outputs": [],
   "source": [
    "from urllib.request import urlretrieve\n",
    "import pyopenms as oms\n",
    "import matplotlib.pyplot as plt\n",
    "\n",
    "gh = \"https://raw.githubusercontent.com/OpenMS/pyopenms-docs/master\"\n",
    "urlretrieve(\n",
    "    gh + \"/src/data/peakpicker_tutorial_1_baseline_filtered.mzML\",\n",
    "    \"tutorial.mzML\",\n",
    ")\n",
    "exp = oms.MSExperiment()\n",
    "oms.MzMLFile().load(\"tutorial.mzML\", exp)\n",
    "plt.bar(\n",
    "    exp.getSpectrum(0).get_peaks()[0],\n",
    "    exp.getSpectrum(0).get_peaks()[1],\n",
    "    snap=False,\n",
    ")"
   ],
   "id": "441acdfa-873e-402b-baff-1af2ac8e011f"
  },
  {
   "cell_type": "markdown",
   "metadata": {},
   "source": [
    "Now we apply the normalization."
   ],
   "id": "0f2d53ff-a0e1-4567-b7b2-3404d3de30ed"
  },
  {
   "cell_type": "code",
   "execution_count": null,
   "metadata": {
    "linenos": ""
   },
   "outputs": [],
   "source": [
    "normalizer = oms.Normalizer()\n",
    "param = normalizer.getParameters()\n",
    "param.setValue(\"method\", \"to_one\")\n",
    "normalizer.setParameters(param)\n",
    "\n",
    "normalizer.filterPeakMap(exp)\n",
    "plt.bar(\n",
    "    exp.getSpectrum(0).get_peaks()[0],\n",
    "    exp.getSpectrum(0).get_peaks()[1],\n",
    "    snap=False,\n",
    ")"
   ],
   "id": "c232e209-306c-46dc-84fb-4a8cab5a80ff"
  },
  {
   "cell_type": "markdown",
   "metadata": {},
   "source": [
    "Another way of normalizing is by TIC (total ion count) of the mass\n",
    "spectrum, which scales intensities so they add up to $1.0$ in each mass\n",
    "spectrum. Try it out for yourself by setting:\n",
    "`param.setValue(\"method\", \"to_TIC\")`."
   ],
   "id": "5b5679b8-0dee-40a8-9929-1f5995e46709"
  }
 ],
 "nbformat": 4,
 "nbformat_minor": 5,
 "metadata": {}
}
