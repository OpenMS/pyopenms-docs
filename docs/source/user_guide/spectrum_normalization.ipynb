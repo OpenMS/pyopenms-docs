{
 "cells": [
  {
   "cell_type": "markdown",
   "metadata": {},
   "source": [
    "# Spectrum Normalization\n",
    "\n",
    "Another very basic mass spectrum processing step is normalization by\n",
    "base peak intensity (the maximum intensity of a mass spectrum).\n",
    "\n",
    "Let's first load the raw data."
   ],
   "id": "fe3cd986-c8d3-4759-af74-51395460a902"
  },
  {
   "cell_type": "code",
   "execution_count": null,
   "metadata": {
    "linenos": ""
   },
   "outputs": [],
   "source": [
    "from urllib.request import urlretrieve\n",
    "import pyopenms as oms\n",
    "import matplotlib.pyplot as plt\n",
    "\n",
    "gh = \"https://raw.githubusercontent.com/OpenMS/pyopenms-docs/master\"\n",
    "urlretrieve(\n",
    "    gh + \"/src/data/peakpicker_tutorial_1_baseline_filtered.mzML\",\n",
    "    \"tutorial.mzML\",\n",
    ")\n",
    "exp = oms.MSExperiment()\n",
    "oms.MzMLFile().load(\"tutorial.mzML\", exp)\n",
    "plt.bar(\n",
    "    exp.getSpectrum(0).get_peaks()[0],\n",
    "    exp.getSpectrum(0).get_peaks()[1],\n",
    "    snap=False,\n",
    ")"
   ],
   "id": "fa06555a-4e9b-42de-ba42-cc646f8ffbc7"
  },
  {
   "cell_type": "markdown",
   "metadata": {},
   "source": [
    "Now we apply the normalization."
   ],
   "id": "1bfc648f-ea94-46cd-b606-1e27351b8142"
  },
  {
   "cell_type": "code",
   "execution_count": null,
   "metadata": {
    "linenos": ""
   },
   "outputs": [],
   "source": [
    "normalizer = oms.Normalizer()\n",
    "param = normalizer.getParameters()\n",
    "param.setValue(\"method\", \"to_one\")\n",
    "normalizer.setParameters(param)\n",
    "\n",
    "normalizer.filterPeakMap(exp)\n",
    "plt.bar(\n",
    "    exp.getSpectrum(0).get_peaks()[0],\n",
    "    exp.getSpectrum(0).get_peaks()[1],\n",
    "    snap=False,\n",
    ")"
   ],
   "id": "889ff984-2f6b-4a64-bb2d-e504845f1e76"
  },
  {
   "cell_type": "markdown",
   "metadata": {},
   "source": [
    "Another way of normalizing is by TIC (total ion count) of the mass\n",
    "spectrum, which scales intensities so they add up to $1.0$ in each mass\n",
    "spectrum. Try it out for yourself by setting:\n",
    "`param.setValue(\"method\", \"to_TIC\")`."
   ],
   "id": "ad62d643-82fe-470e-955a-68db77475547"
  }
 ],
 "nbformat": 4,
 "nbformat_minor": 5,
 "metadata": {}
}
