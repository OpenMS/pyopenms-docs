{
 "cells": [
  {
   "cell_type": "markdown",
   "metadata": {},
   "source": [
    "# Memory Management\n",
    "\n",
    "On order to save memory, we can avoid loading the whole file into memory\n",
    "and use the\n",
    "[OnDiscMSExperiment](https://pyopenms.readthedocs.io/en/latest/apidocs/_autosummary/pyopenms/pyopenms.OnDiscMSExperiment.html)\n",
    "for reading data."
   ],
   "id": "4e28c17c-4a36-4dc6-b72b-d2a52f45a55e"
  },
  {
   "cell_type": "code",
   "execution_count": null,
   "metadata": {
    "linenos": ""
   },
   "outputs": [],
   "source": [
    "import pyopenms as oms\n",
    "\n",
    "od_exp = oms.OnDiscMSExperiment()\n",
    "od_exp.openFile(\"test.mzML\")\n",
    "\n",
    "e = oms.MSExperiment()\n",
    "for k in range(od_exp.getNrSpectra()):\n",
    "    s = od_exp.getSpectrum(k)\n",
    "    if s.getNativeID().startswith(\"scan=\"):\n",
    "        e.addSpectrum(s)\n",
    "\n",
    "oms.MzMLFile().store(\"test_filtered.mzML\", e)"
   ],
   "id": "5768e7a7-5510-4e63-8e9f-e32631501782"
  },
  {
   "cell_type": "markdown",
   "metadata": {},
   "source": [
    "Note that using the approach the output data `e` is still completely in\n",
    "memory and may end up using a substantial amount of memory. We can avoid\n",
    "that by using"
   ],
   "id": "c77ae709-169d-4f2f-8e00-4be65fdce79a"
  },
  {
   "cell_type": "code",
   "execution_count": null,
   "metadata": {
    "linenos": ""
   },
   "outputs": [],
   "source": [
    "od_exp = oms.OnDiscMSExperiment()\n",
    "od_exp.openFile(\"test.mzML\")\n",
    "\n",
    "consumer = oms.PlainMSDataWritingConsumer(\"test_filtered.mzML\")\n",
    "\n",
    "e = oms.MSExperiment()\n",
    "for k in range(od_exp.getNrSpectra()):\n",
    "    s = od_exp.getSpectrum(k)\n",
    "    if s.getNativeID().startswith(\"scan=\"):\n",
    "        consumer.consumeSpectrum(s)\n",
    "\n",
    "del consumer"
   ],
   "id": "0bb0ecb1-0814-4166-b78b-da04f6a4d857"
  },
  {
   "cell_type": "markdown",
   "metadata": {},
   "source": [
    "Make sure you do not forget `del consumer` since otherwise the final\n",
    "part of the\n",
    "[mzML](https://pyopenms.readthedocs.io/en/latest/user_guide/glossary.html#term-mzML)\n",
    "may not get written to disk (and the consumer is still waiting for new\n",
    "data)."
   ],
   "id": "a356f046-f43f-4cc3-8343-4cd729768b5e"
  }
 ],
 "nbformat": 4,
 "nbformat_minor": 5,
 "metadata": {}
}
