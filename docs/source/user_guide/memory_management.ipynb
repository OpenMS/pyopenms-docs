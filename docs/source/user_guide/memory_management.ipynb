{
 "cells": [
  {
   "cell_type": "markdown",
   "metadata": {},
   "source": [
    "# Memory Management\n",
    "\n",
    "On order to save memory, we can avoid loading the whole file into memory\n",
    "and use the\n",
    "[OnDiscMSExperiment](https://pyopenms.readthedocs.io/en/latest/apidocs/_autosummary/pyopenms/pyopenms.OnDiscMSExperiment.html)\n",
    "for reading data."
   ],
   "id": "f7c163fd-2d69-497b-ba31-14d324ab5507"
  },
  {
   "cell_type": "code",
   "execution_count": null,
   "metadata": {
    "linenos": ""
   },
   "outputs": [],
   "source": [
    "import pyopenms as oms\n",
    "\n",
    "od_exp = oms.OnDiscMSExperiment()\n",
    "od_exp.openFile(\"test.mzML\")\n",
    "\n",
    "e = oms.MSExperiment()\n",
    "for k in range(od_exp.getNrSpectra()):\n",
    "    s = od_exp.getSpectrum(k)\n",
    "    if s.getNativeID().startswith(\"scan=\"):\n",
    "        e.addSpectrum(s)\n",
    "\n",
    "oms.MzMLFile().store(\"test_filtered.mzML\", e)"
   ],
   "id": "0df6b9d2-389c-4194-9c80-65af034098e4"
  },
  {
   "cell_type": "markdown",
   "metadata": {},
   "source": [
    "Note that using the approach the output data `e` is still completely in\n",
    "memory and may end up using a substantial amount of memory. We can avoid\n",
    "that by using"
   ],
   "id": "f4a57ad4-b309-4852-8baa-1e4db377c5fc"
  },
  {
   "cell_type": "code",
   "execution_count": null,
   "metadata": {
    "linenos": ""
   },
   "outputs": [],
   "source": [
    "od_exp = oms.OnDiscMSExperiment()\n",
    "od_exp.openFile(\"test.mzML\")\n",
    "\n",
    "consumer = oms.PlainMSDataWritingConsumer(\"test_filtered.mzML\")\n",
    "\n",
    "e = oms.MSExperiment()\n",
    "for k in range(od_exp.getNrSpectra()):\n",
    "    s = od_exp.getSpectrum(k)\n",
    "    if s.getNativeID().startswith(\"scan=\"):\n",
    "        consumer.consumeSpectrum(s)\n",
    "\n",
    "del consumer"
   ],
   "id": "e02eb41c-96fb-4492-a252-04df5346d757"
  },
  {
   "cell_type": "markdown",
   "metadata": {},
   "source": [
    "Make sure you do not forget `del consumer` since otherwise the final\n",
    "part of the\n",
    "[mzML](https://pyopenms.readthedocs.io/en/latest/user_guide/glossary.html#term-mzML)\n",
    "may not get written to disk (and the consumer is still waiting for new\n",
    "data)."
   ],
   "id": "bd14115d-10e4-42ca-a19f-5fe4c1ad13cf"
  }
 ],
 "nbformat": 4,
 "nbformat_minor": 5,
 "metadata": {}
}
