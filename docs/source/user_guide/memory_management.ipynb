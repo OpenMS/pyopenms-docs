{
 "cells": [
  {
   "cell_type": "markdown",
   "metadata": {},
   "source": [
    "# Memory Management\n",
    "\n",
    "On order to save memory, we can avoid loading the whole file into memory\n",
    "and use the\n",
    "[OnDiscMSExperiment](https://pyopenms.readthedocs.io/en/latest/apidocs/_autosummary/pyopenms/pyopenms.OnDiscMSExperiment.html)\n",
    "for reading data."
   ],
   "id": "cadc2538-8d25-4be7-aa25-960bffbc32e4"
  },
  {
   "cell_type": "code",
   "execution_count": null,
   "metadata": {
    "linenos": ""
   },
   "outputs": [],
   "source": [
    "import pyopenms as oms\n",
    "\n",
    "od_exp = oms.OnDiscMSExperiment()\n",
    "od_exp.openFile(\"test.mzML\")\n",
    "\n",
    "e = oms.MSExperiment()\n",
    "for k in range(od_exp.getNrSpectra()):\n",
    "    s = od_exp.getSpectrum(k)\n",
    "    if s.getNativeID().startswith(\"scan=\"):\n",
    "        e.addSpectrum(s)\n",
    "\n",
    "oms.MzMLFile().store(\"test_filtered.mzML\", e)"
   ],
   "id": "370bc879-b6e0-434d-9c27-38a8eff22926"
  },
  {
   "cell_type": "markdown",
   "metadata": {},
   "source": [
    "Note that using the approach the output data `e` is still completely in\n",
    "memory and may end up using a substantial amount of memory. We can avoid\n",
    "that by using"
   ],
   "id": "066c0d38-30b1-4754-a504-b4c2bea527ae"
  },
  {
   "cell_type": "code",
   "execution_count": null,
   "metadata": {
    "linenos": ""
   },
   "outputs": [],
   "source": [
    "od_exp = oms.OnDiscMSExperiment()\n",
    "od_exp.openFile(\"test.mzML\")\n",
    "\n",
    "consumer = oms.PlainMSDataWritingConsumer(\"test_filtered.mzML\")\n",
    "\n",
    "e = oms.MSExperiment()\n",
    "for k in range(od_exp.getNrSpectra()):\n",
    "    s = od_exp.getSpectrum(k)\n",
    "    if s.getNativeID().startswith(\"scan=\"):\n",
    "        consumer.consumeSpectrum(s)\n",
    "\n",
    "del consumer"
   ],
   "id": "f37c6db6-7a9d-4667-9039-aacf2a5097a4"
  },
  {
   "cell_type": "markdown",
   "metadata": {},
   "source": [
    "Make sure you do not forget `del consumer` since otherwise the final\n",
    "part of the\n",
    "[mzML](https://pyopenms.readthedocs.io/en/latest/user_guide/glossary.html#term-mzML)\n",
    "may not get written to disk (and the consumer is still waiting for new\n",
    "data)."
   ],
   "id": "430dce68-603e-4e07-9df1-bf012ff155fb"
  }
 ],
 "nbformat": 4,
 "nbformat_minor": 5,
 "metadata": {}
}
