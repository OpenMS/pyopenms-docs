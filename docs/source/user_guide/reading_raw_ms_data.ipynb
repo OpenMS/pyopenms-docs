{
 "cells": [
  {
   "cell_type": "markdown",
   "metadata": {},
   "source": [
    "# Reading Raw MS Data\n",
    "\n",
    "## [mzML](https://pyopenms.readthedocs.io/en/latest/user_guide/glossary.html#term-mzML) Files in Memory\n",
    "\n",
    "As discussed in the last section, the most straight forward way to load\n",
    "[mass\n",
    "spectrometry](https://pyopenms.readthedocs.io/en/latest/user_guide/glossary.html#term-mass\n",
    "spectrometry) data is using the\n",
    "[MzMLFile](https://pyopenms.readthedocs.io/en/latest/apidocs/_autosummary/pyopenms/pyopenms.MzMLFile.html)\n",
    "class:"
   ],
   "id": "6b77c27e-9043-4d89-aaf7-eceaa9882ce9"
  },
  {
   "cell_type": "code",
   "execution_count": null,
   "metadata": {},
   "outputs": [],
   "source": [
    "import pyopenms as oms\n",
    "from urllib.request import urlretrieve\n",
    "\n",
    "gh = \"https://raw.githubusercontent.com/OpenMS/pyopenms-docs/master\"\n",
    "urlretrieve(gh + \"/src/data/tiny.mzML\", \"test.mzML\")\n",
    "exp = oms.MSExperiment()\n",
    "oms.MzMLFile().load(\"test.mzML\", exp)"
   ],
   "id": "66b2282b-a1c8-4f3a-9f86-6037a7c9b1ca"
  },
  {
   "cell_type": "markdown",
   "metadata": {},
   "source": [
    "which will load the content of the \"test.mzML\" file into the `exp`\n",
    "variable of type\n",
    "[MSExperiment](https://pyopenms.readthedocs.io/en/latest/apidocs/_autosummary/pyopenms/pyopenms.MSExperiment.html).\n",
    "We can access the raw data and spectra through:"
   ],
   "id": "9f617899-11bf-4f22-881a-218fade4af35"
  },
  {
   "cell_type": "code",
   "execution_count": null,
   "metadata": {},
   "outputs": [],
   "source": [
    "spectrum_data = exp.getSpectrum(0).get_peaks()\n",
    "chromatogram_data = exp.getChromatogram(0).get_peaks()"
   ],
   "id": "0e55548c-6c08-45c8-a5ad-97177fd5434d"
  },
  {
   "cell_type": "markdown",
   "metadata": {},
   "source": [
    "Which will allow us to compute on spectra and chromatogram data. We can\n",
    "manipulate the spectra in the file for example as follows:"
   ],
   "id": "705a96d5-e57a-4f1f-83b5-e63d259770d5"
  },
  {
   "cell_type": "code",
   "execution_count": null,
   "metadata": {},
   "outputs": [],
   "source": [
    "spec = []\n",
    "for s in exp.getSpectra():\n",
    "    if s.getMSLevel() != 1:\n",
    "        spec.append(s)\n",
    "\n",
    "exp.setSpectra(spec)"
   ],
   "id": "3af6bff2-6ab4-4d49-8826-d95ff2f19772"
  },
  {
   "cell_type": "markdown",
   "metadata": {},
   "source": [
    "Which will only keep\n",
    "[MS2](https://pyopenms.readthedocs.io/en/latest/user_guide/glossary.html#term-MS2)\n",
    "spectra in the\n",
    "[MSExperiment](https://pyopenms.readthedocs.io/en/latest/apidocs/_autosummary/pyopenms/pyopenms.MSExperiment.html).\n",
    "We can then store the modified data structure on disk:"
   ],
   "id": "86b06d81-96b0-40eb-9b34-b7db4a6960b2"
  },
  {
   "cell_type": "code",
   "execution_count": null,
   "metadata": {},
   "outputs": [],
   "source": [
    "oms.MzMLFile().store(\"filtered.mzML\", exp)"
   ],
   "id": "c76dd3f8-0e80-4538-a63f-8cb2c4c3a332"
  },
  {
   "cell_type": "markdown",
   "metadata": {},
   "source": [
    "Putting this together, a small filtering program would look like this:"
   ],
   "id": "7a3fe250-5988-4b23-b54a-4a618b1e6f98"
  },
  {
   "cell_type": "code",
   "execution_count": null,
   "metadata": {},
   "outputs": [],
   "source": [
    "\"\"\"\n",
    "Script to read mzML data and filter out all MS1 spectra\n",
    "\"\"\"\n",
    "exp = oms.MSExperiment()\n",
    "oms.MzMLFile().load(\"test.mzML\", exp)\n",
    "\n",
    "spec = []\n",
    "for s in exp.getSpectra():\n",
    "    if s.getMSLevel() != 1:\n",
    "        spec.append(s)\n",
    "\n",
    "exp.setSpectra(spec)\n",
    "\n",
    "oms.MzMLFile().store(\"filtered.mzML\", exp)"
   ],
   "id": "e7fc5e98-8852-486f-8297-9c9d96f409a7"
  },
  {
   "cell_type": "markdown",
   "metadata": {},
   "source": [
    "## Indexed [mzML](https://pyopenms.readthedocs.io/en/latest/user_guide/glossary.html#term-mzML) Files\n",
    "\n",
    "Since pyOpenMS 2.4, you can open, read and inspect files that use the\n",
    "indexedMzML standard. This allows users to read MS data without loading\n",
    "all data into memory:"
   ],
   "id": "b4b977cf-2e1c-4ab2-a5b8-85579d1f5649"
  },
  {
   "cell_type": "code",
   "execution_count": null,
   "metadata": {},
   "outputs": [],
   "source": [
    "od_exp = oms.OnDiscMSExperiment()\n",
    "od_exp.openFile(\"test.mzML\")\n",
    "meta_data = od_exp.getMetaData()\n",
    "meta_data.getNrChromatograms()\n",
    "od_exp.getNrChromatograms()\n",
    "\n",
    "# data is not present in meta_data experiment\n",
    "sum(meta_data.getChromatogram(0).get_peaks()[1])  # no data!\n",
    "sum(od_exp.getChromatogram(0).get_peaks()[1])  # data is here!\n",
    "\n",
    "# meta data is present and identical in both data structures:\n",
    "meta_data.getChromatogram(0).getNativeID()  # fast\n",
    "od_exp.getChromatogram(0).getNativeID()  # slow"
   ],
   "id": "d6ad324c-932d-4b08-b3be-d4d1c9c2a8b3"
  },
  {
   "cell_type": "markdown",
   "metadata": {},
   "source": [
    "Note that the\n",
    "[OnDiscMSExperiment](https://pyopenms.readthedocs.io/en/latest/apidocs/_autosummary/pyopenms/pyopenms.OnDiscMSExperiment.html)\n",
    "allows users to access meta data through the\n",
    "[OnDiscMSExperiment.getMetaData](https://pyopenms.readthedocs.io/en/latest/apidocs/_autosummary/pyopenms/pyopenms.OnDiscMSExperiment.getMetaData.html)\n",
    "function, which allows easy selection and filtering on meta data\n",
    "attributes (such as MS level, precursor m/z, retention time etc.) in\n",
    "order to select spectra and chromatograms for analysis. Only once\n",
    "selection on the meta data has been performed, will actual data be\n",
    "loaded into memory using the\n",
    "[OnDiscMSExperiment.getChromatogram](https://pyopenms.readthedocs.io/en/latest/apidocs/_autosummary/pyopenms/pyopenms.OnDiscMSExperiment.getChromatogram.html)\n",
    "and\n",
    "[OnDiscMSExperiment.getSpectrum](https://pyopenms.readthedocs.io/en/latest/apidocs/_autosummary/pyopenms/pyopenms.OnDiscMSExperiment.getSpectrum.html)\n",
    "functions.\n",
    "\n",
    "This approach is memory efficient in cases where computation should only\n",
    "occur on part of the data or the whole data may not fit into memory.\n",
    "\n",
    "## [mzML](https://pyopenms.readthedocs.io/en/latest/user_guide/glossary.html#term-mzML) Files as Streams\n",
    "\n",
    "In some instances it is impossible or inconvenient to load all data from\n",
    "an mzML file directly into memory. OpenMS offers streaming-based access\n",
    "to mass spectrometric data which uses a callback object that receives\n",
    "spectra and chromatograms as they are read from the disk. A simple\n",
    "implementation could look like"
   ],
   "id": "75bc96f4-d4c6-4515-950c-99140c1988bd"
  },
  {
   "cell_type": "code",
   "execution_count": null,
   "metadata": {},
   "outputs": [],
   "source": [
    "class MSCallback:\n",
    "    def setExperimentalSettings(self, s):\n",
    "        pass\n",
    "\n",
    "    def setExpectedSize(self, a, b):\n",
    "        pass\n",
    "\n",
    "    def consumeChromatogram(self, c):\n",
    "        print(\"Read a chromatogram\")\n",
    "\n",
    "    def consumeSpectrum(self, s):\n",
    "        print(\"Read a spectrum\")"
   ],
   "id": "3c9aae41-667e-4905-bfa9-559c6c307cf6"
  },
  {
   "cell_type": "markdown",
   "metadata": {},
   "source": [
    "which can the be used as follows:\n",
    "\n",
    "``` output\n",
    "filename = b\"test.mzML\"\n",
    "consumer = MSCallback()\n",
    "oms.MzMLFile().transform(filename, consumer)\n",
    "Read a spectrum\n",
    "Read a spectrum\n",
    "Read a spectrum\n",
    "Read a spectrum\n",
    "Read a chromatogram\n",
    "Read a chromatogram\n",
    "```\n",
    "\n",
    "which provides an intuition on how the callback object works: whenever a\n",
    "spectrum or chromatogram is read from disk, the function\n",
    "`consumeSpectrum` or `consumeChromatogram` is called and a specific\n",
    "action is performed. We can use this to implement a simple filtering\n",
    "function for mass spectra:\n",
    "\n",
    "``` output\n",
    "class FilteringConsumer:\n",
    "    \"\"\"\n",
    "    Consumer that forwards all calls the internal consumer (after\n",
    "    filtering)\n",
    "    \"\"\"\n",
    "\n",
    "    def __init__(self, consumer, filter_string):\n",
    "        self._internal_consumer = consumer\n",
    "        self.filter_string = filter_string\n",
    "\n",
    "    def setExperimentalSettings(self, s):\n",
    "        self._internal_consumer.setExperimentalSettings(s)\n",
    "\n",
    "    def setExpectedSize(self, a, b):\n",
    "        self._internal_consumer.setExpectedSize(a, b)\n",
    "\n",
    "    def consumeChromatogram(self, c):\n",
    "        if c.getNativeID().find(self.filter_string) != -1:\n",
    "            self._internal_consumer.consumeChromatogram(c)\n",
    "\n",
    "    def consumeSpectrum(self, s):\n",
    "        if s.getNativeID().find(self.filter_string) != -1:\n",
    "            self._internal_consumer.consumeSpectrum(s)\n",
    "\n",
    "###################################\n",
    "filter_string = \"DECOY\"\n",
    "inputfile = \"in.mzML\"\n",
    "outputfile = \"out.mzML\"\n",
    "###################################\n",
    "\n",
    "consumer = oms.PlainMSDataWritingConsumer(outputfile)\n",
    "consumer = FilteringConsumer(consumer, filter_string)\n",
    "\n",
    "oms.MzMLFile().transform(inputfile, consumer)\n",
    "```\n",
    "\n",
    "where the spectra and chromatograms are filtered by their native ids. It\n",
    "is similarly trivial to implement filtering by other attributes. Note\n",
    "how the data are written to disk using the\n",
    "[PlainMSDataWritingConsumer](https://pyopenms.readthedocs.io/en/latest/apidocs/_autosummary/pyopenms/pyopenms.PlainMSDataWritingConsumer.html)\n",
    "which is one of multiple available consumer classes -- this specific\n",
    "class will simply take the spectrum `s` or chromatogram `c` and write it\n",
    "to disk (the location of the output file is given by the `outfile`\n",
    "variable).\n",
    "\n",
    "Note that this approach is memory efficient in cases where computation\n",
    "should only occur on part of the data or the whole data may not fit into\n",
    "memory.\n",
    "\n",
    "## Cached [mzML](https://pyopenms.readthedocs.io/en/latest/user_guide/glossary.html#term-mzML) Files\n",
    "\n",
    "In addition, since pyOpenMS 2.4 the user can efficiently cache\n",
    "[mzML](https://pyopenms.readthedocs.io/en/latest/user_guide/glossary.html#term-mzML)\n",
    "files to disk which provides very fast access with minimal overhead in\n",
    "memory. Basically the data directly mapped into memory when requested.\n",
    "You can use this feature as follows:"
   ],
   "id": "8df15c3c-1ae4-4801-be8d-e0b833f4aa9f"
  },
  {
   "cell_type": "code",
   "execution_count": null,
   "metadata": {},
   "outputs": [],
   "source": [
    "# First load data and cache to disk\n",
    "exp = oms.MSExperiment()\n",
    "oms.MzMLFile().load(\"test.mzML\", exp)\n",
    "oms.CachedmzML().store(\"myCache.mzML\", exp)\n",
    "\n",
    "# Now load data\n",
    "cfile = oms.CachedmzML()\n",
    "oms.CachedmzML().load(\"myCache.mzML\", cfile)\n",
    "\n",
    "meta_data = cfile.getMetaData()\n",
    "cfile.getNrChromatograms()\n",
    "cfile.getNrSpectra()\n",
    "\n",
    "# data is not present in meta_data experiment\n",
    "sum(meta_data.getChromatogram(0).get_peaks()[1])  # no data!\n",
    "sum(cfile.getChromatogram(0).get_peaks()[1])  # data is here!\n",
    "\n",
    "# meta data is present and identical in both data structures:\n",
    "meta_data.getChromatogram(0).getNativeID()  # fast\n",
    "cfile.getChromatogram(0).getNativeID()  # slow"
   ],
   "id": "4e55431e-00f3-4502-9dba-691089339758"
  },
  {
   "cell_type": "markdown",
   "metadata": {},
   "source": [
    "Note that the\n",
    "[CachedmzML](https://pyopenms.readthedocs.io/en/latest/apidocs/_autosummary/pyopenms/pyopenms.CachedmzML.html)\n",
    "allows users to access meta data through the\n",
    "[CachedmzML.getMetaData](https://pyopenms.readthedocs.io/en/latest/apidocs/_autosummary/pyopenms/pyopenms.CachedmzML.getMetaData.html)\n",
    "function, which allows easy selection and filtering on meta data\n",
    "attributes (such as MS level, precursor m/z, retention time etc.) in\n",
    "order to select spectra and chromatograms for analysis. Only once\n",
    "selection on the meta data has been performed, will actual data be\n",
    "loaded into memory using the\n",
    "[CachedmzML.getChromatogram](https://pyopenms.readthedocs.io/en/latest/apidocs/_autosummary/pyopenms/pyopenms.CachedmzML.getChromatogram.html)\n",
    "and\n",
    "[CachedmzML.getSpectrum](https://pyopenms.readthedocs.io/en/latest/apidocs/_autosummary/pyopenms/pyopenms.CachedmzML.getSpectrum.html)\n",
    "functions.\n",
    "\n",
    "Note that in the example above all data is loaded into memory first and\n",
    "then cached to disk. This is not very efficient and we can use the\n",
    "[MSDataCachedConsumer](https://pyopenms.readthedocs.io/en/latest/apidocs/_autosummary/pyopenms/pyopenms.MSDataCachedConsumer.html)\n",
    "to directly cache to disk (without loading any data into memory):"
   ],
   "id": "8f6cd97e-9be6-47c0-90c4-44b5c1869f62"
  },
  {
   "cell_type": "code",
   "execution_count": null,
   "metadata": {},
   "outputs": [],
   "source": [
    "# First cache to disk\n",
    "# Note: writing meta data to myCache2.mzML is required\n",
    "cacher = oms.MSDataCachedConsumer(\"myCache2.mzML.cached\")\n",
    "exp = oms.MSExperiment()\n",
    "oms.MzMLFile().transform(b\"test.mzML\", cacher, exp)\n",
    "oms.CachedMzMLHandler().writeMetadata(exp, \"myCache2.mzML\")\n",
    "del cacher\n",
    "\n",
    "# Now load data\n",
    "cfile = oms.CachedmzML()\n",
    "oms.CachedmzML().load(\"myCache2.mzML\", cfile)\n",
    "\n",
    "meta_data = cfile.getMetaData()\n",
    "# data is not present in meta_data experiment\n",
    "sum(meta_data.getChromatogram(0).get_peaks()[1])  # no data!\n",
    "sum(cfile.getChromatogram(0).get_peaks()[1])  # data is here!"
   ],
   "id": "ea0dffc0-e1e2-4203-8a30-fd185d842f5e"
  },
  {
   "cell_type": "markdown",
   "metadata": {},
   "source": [
    "This approach is now memory efficient in cases where computation should\n",
    "only occur on part of the data or the whole data may not fit into\n",
    "memory."
   ],
   "id": "0645edd1-e051-4f52-b7f4-12577b31b248"
  }
 ],
 "nbformat": 4,
 "nbformat_minor": 5,
 "metadata": {}
}
