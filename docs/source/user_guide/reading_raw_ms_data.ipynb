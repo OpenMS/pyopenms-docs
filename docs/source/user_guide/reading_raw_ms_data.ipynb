{
 "cells": [
  {
   "cell_type": "markdown",
   "metadata": {},
   "source": [
    "# Reading Raw MS Data\n",
    "\n",
    "## [mzML](https://pyopenms.readthedocs.io/en/latest/user_guide/glossary.html#term-mzML) Files in Memory\n",
    "\n",
    "As discussed in the last section, the most straight forward way to load\n",
    "[mass\n",
    "spectrometry](https://pyopenms.readthedocs.io/en/latest/user_guide/glossary.html#term-mass\n",
    "spectrometry) data is using the\n",
    "[MzMLFile](https://pyopenms.readthedocs.io/en/latest/apidocs/_autosummary/pyopenms/pyopenms.MzMLFile.html)\n",
    "class:"
   ],
   "id": "af4fb667-75dc-4b5d-8a53-da1e96131173"
  },
  {
   "cell_type": "code",
   "execution_count": null,
   "metadata": {},
   "outputs": [],
   "source": [
    "import pyopenms as oms\n",
    "from urllib.request import urlretrieve\n",
    "\n",
    "gh = \"https://raw.githubusercontent.com/OpenMS/pyopenms-docs/master\"\n",
    "urlretrieve(gh + \"/src/data/tiny.mzML\", \"test.mzML\")\n",
    "exp = oms.MSExperiment()\n",
    "oms.MzMLFile().load(\"test.mzML\", exp)"
   ],
   "id": "9ed34755-a75f-4a45-bcf5-6c0f09e3ac2b"
  },
  {
   "cell_type": "markdown",
   "metadata": {},
   "source": [
    "which will load the content of the \"test.mzML\" file into the `exp`\n",
    "variable of type\n",
    "[MSExperiment](https://pyopenms.readthedocs.io/en/latest/apidocs/_autosummary/pyopenms/pyopenms.MSExperiment.html).\n",
    "We can access the raw data and spectra through:"
   ],
   "id": "a608b4ad-a387-450c-a23a-e23baecc37d6"
  },
  {
   "cell_type": "code",
   "execution_count": null,
   "metadata": {},
   "outputs": [],
   "source": [
    "spectrum_data = exp.getSpectrum(0).get_peaks()\n",
    "chromatogram_data = exp.getChromatogram(0).get_peaks()"
   ],
   "id": "1ea3cb9b-2d28-49db-b633-c11604766823"
  },
  {
   "cell_type": "markdown",
   "metadata": {},
   "source": [
    "Which will allow us to compute on spectra and chromatogram data. We can\n",
    "manipulate the spectra in the file for example as follows:"
   ],
   "id": "f0d10bce-73f6-41d5-9845-0ed7a760c4df"
  },
  {
   "cell_type": "code",
   "execution_count": null,
   "metadata": {},
   "outputs": [],
   "source": [
    "spec = []\n",
    "for s in exp.getSpectra():\n",
    "    if s.getMSLevel() != 1:\n",
    "        spec.append(s)\n",
    "\n",
    "exp.setSpectra(spec)"
   ],
   "id": "484d515b-5b99-414e-8b72-3da9f876fb65"
  },
  {
   "cell_type": "markdown",
   "metadata": {},
   "source": [
    "Which will only keep\n",
    "[MS2](https://pyopenms.readthedocs.io/en/latest/user_guide/glossary.html#term-MS2)\n",
    "spectra in the\n",
    "[MSExperiment](https://pyopenms.readthedocs.io/en/latest/apidocs/_autosummary/pyopenms/pyopenms.MSExperiment.html).\n",
    "We can then store the modified data structure on disk:"
   ],
   "id": "c9f656b6-f343-44fb-84ec-5ff67db030ab"
  },
  {
   "cell_type": "code",
   "execution_count": null,
   "metadata": {},
   "outputs": [],
   "source": [
    "oms.MzMLFile().store(\"filtered.mzML\", exp)"
   ],
   "id": "a958982a-4bae-4e1a-a05b-fbef4d5ad1b0"
  },
  {
   "cell_type": "markdown",
   "metadata": {},
   "source": [
    "Putting this together, a small filtering program would look like this:"
   ],
   "id": "bf47ecdf-5f1c-4fe8-af3a-11aef6c875fa"
  },
  {
   "cell_type": "code",
   "execution_count": null,
   "metadata": {},
   "outputs": [],
   "source": [
    "\"\"\"\n",
    "Script to read mzML data and filter out all MS1 spectra\n",
    "\"\"\"\n",
    "exp = oms.MSExperiment()\n",
    "oms.MzMLFile().load(\"test.mzML\", exp)\n",
    "\n",
    "spec = []\n",
    "for s in exp.getSpectra():\n",
    "    if s.getMSLevel() != 1:\n",
    "        spec.append(s)\n",
    "\n",
    "exp.setSpectra(spec)\n",
    "\n",
    "oms.MzMLFile().store(\"filtered.mzML\", exp)"
   ],
   "id": "af920c0a-8a2b-4050-94bd-6535c54fd4b0"
  },
  {
   "cell_type": "markdown",
   "metadata": {},
   "source": [
    "## Indexed [mzML](https://pyopenms.readthedocs.io/en/latest/user_guide/glossary.html#term-mzML) Files\n",
    "\n",
    "Since pyOpenMS 2.4, you can open, read and inspect files that use the\n",
    "indexedMzML standard. This allows users to read MS data without loading\n",
    "all data into memory:"
   ],
   "id": "e7802654-a1a5-4b6b-8d5c-68b8c60be9cc"
  },
  {
   "cell_type": "code",
   "execution_count": null,
   "metadata": {},
   "outputs": [],
   "source": [
    "od_exp = oms.OnDiscMSExperiment()\n",
    "od_exp.openFile(\"test.mzML\")\n",
    "meta_data = od_exp.getMetaData()\n",
    "meta_data.getNrChromatograms()\n",
    "od_exp.getNrChromatograms()\n",
    "\n",
    "# data is not present in meta_data experiment\n",
    "sum(meta_data.getChromatogram(0).get_peaks()[1])  # no data!\n",
    "sum(od_exp.getChromatogram(0).get_peaks()[1])  # data is here!\n",
    "\n",
    "# meta data is present and identical in both data structures:\n",
    "meta_data.getChromatogram(0).getNativeID()  # fast\n",
    "od_exp.getChromatogram(0).getNativeID()  # slow"
   ],
   "id": "d0604545-1559-4d71-a11d-fc26adc12b01"
  },
  {
   "cell_type": "markdown",
   "metadata": {},
   "source": [
    "Note that the\n",
    "[OnDiscMSExperiment](https://pyopenms.readthedocs.io/en/latest/apidocs/_autosummary/pyopenms/pyopenms.OnDiscMSExperiment.html)\n",
    "allows users to access meta data through the\n",
    "[OnDiscMSExperiment.getMetaData](https://pyopenms.readthedocs.io/en/latest/apidocs/_autosummary/pyopenms/pyopenms.OnDiscMSExperiment.getMetaData.html)\n",
    "function, which allows easy selection and filtering on meta data\n",
    "attributes (such as MS level, precursor m/z, retention time etc.) in\n",
    "order to select spectra and chromatograms for analysis. Only once\n",
    "selection on the meta data has been performed, will actual data be\n",
    "loaded into memory using the\n",
    "[OnDiscMSExperiment.getChromatogram](https://pyopenms.readthedocs.io/en/latest/apidocs/_autosummary/pyopenms/pyopenms.OnDiscMSExperiment.getChromatogram.html)\n",
    "and\n",
    "[OnDiscMSExperiment.getSpectrum](https://pyopenms.readthedocs.io/en/latest/apidocs/_autosummary/pyopenms/pyopenms.OnDiscMSExperiment.getSpectrum.html)\n",
    "functions.\n",
    "\n",
    "This approach is memory efficient in cases where computation should only\n",
    "occur on part of the data or the whole data may not fit into memory.\n",
    "\n",
    "## [mzML](https://pyopenms.readthedocs.io/en/latest/user_guide/glossary.html#term-mzML) Files as Streams\n",
    "\n",
    "In some instances it is impossible or inconvenient to load all data from\n",
    "an mzML file directly into memory. OpenMS offers streaming-based access\n",
    "to mass spectrometric data which uses a callback object that receives\n",
    "spectra and chromatograms as they are read from the disk. A simple\n",
    "implementation could look like"
   ],
   "id": "f93f89b9-c354-4ae7-9561-d14cb04ddf88"
  },
  {
   "cell_type": "code",
   "execution_count": null,
   "metadata": {},
   "outputs": [],
   "source": [
    "class MSCallback:\n",
    "    def setExperimentalSettings(self, s):\n",
    "        pass\n",
    "\n",
    "    def setExpectedSize(self, a, b):\n",
    "        pass\n",
    "\n",
    "    def consumeChromatogram(self, c):\n",
    "        print(\"Read a chromatogram\")\n",
    "\n",
    "    def consumeSpectrum(self, s):\n",
    "        print(\"Read a spectrum\")"
   ],
   "id": "32e0ec6e-0730-4605-94ec-7700d411fefe"
  },
  {
   "cell_type": "markdown",
   "metadata": {},
   "source": [
    "which can the be used as follows:"
   ],
   "id": "242ecaad-32c3-46a4-898b-093362816244"
  },
  {
   "cell_type": "code",
   "execution_count": null,
   "metadata": {},
   "outputs": [],
   "source": [
    "filename = b\"test.mzML\"\n",
    "consumer = MSCallback()\n",
    "oms.MzMLFile().transform(filename, consumer)"
   ],
   "id": "86727cd2-3aa7-4dc8-9fbc-f6bb12f2b8a5"
  },
  {
   "cell_type": "markdown",
   "metadata": {},
   "source": [
    "``` output\n",
    "Read a spectrum\n",
    "Read a spectrum\n",
    "Read a spectrum\n",
    "Read a spectrum\n",
    "Read a chromatogram\n",
    "Read a chromatogram\n",
    "```\n",
    "\n",
    "which provides an intuition on how the callback object works: whenever a\n",
    "spectrum or chromatogram is read from disk, the function\n",
    "`consumeSpectrum` or `consumeChromatogram` is called and a specific\n",
    "action is performed. We can use this to implement a simple filtering\n",
    "function for mass spectra:"
   ],
   "id": "e76a592e-311d-422a-9676-e59b81eb9ae2"
  },
  {
   "cell_type": "code",
   "execution_count": null,
   "metadata": {},
   "outputs": [],
   "source": [
    "import os\n",
    "import pyopenms as oms\n",
    "from urllib.request import urlretrieve\n",
    "\n",
    "gh = \"https://raw.githubusercontent.com/OpenMS/pyopenms-docs/master\"\n",
    "urlretrieve(gh + \"/src/data/tiny.mzML\", \"test.mzML\")\n",
    "\n",
    "print(\"Current Working Directory where all files are stored:\", os.getcwd())\n",
    "\n",
    "class FilteringConsumer:\n",
    "    \"\"\"\n",
    "    Consumer that forwards all calls the internal consumer (after\n",
    "    filtering out spectra with less than 'min_spec_size' peaks)\n",
    "    \"\"\"\n",
    "\n",
    "    def __init__(self, consumer, min_spec_size = 0):\n",
    "        self._internal_consumer = consumer\n",
    "        self._min_spec_size = min_spec_size\n",
    "\n",
    "    def setExperimentalSettings(self, s):\n",
    "        self._internal_consumer.setExperimentalSettings(s)\n",
    "\n",
    "    def setExpectedSize(self, a, b):\n",
    "        self._internal_consumer.setExpectedSize(a, b)\n",
    "\n",
    "    def consumeChromatogram(self, c):\n",
    "        # just forward; do nothing to chromatograms\n",
    "        self._internal_consumer.consumeChromatogram(c)\n",
    "\n",
    "    def consumeSpectrum(self, s):\n",
    "        print(\"Spec has size: \", s.size())\n",
    "        if s.size() >= self._min_spec_size:\n",
    "            print(\" --> keep it\")\n",
    "            self._internal_consumer.consumeSpectrum(s)\n",
    "        else:\n",
    "            print(\" --> discard it\")\n",
    "\n",
    "\n",
    "min_spec_size = 11  ## we will keep spectra with 11 or more peaks and discard the others\n",
    "inputfile = \"test.mzML\"\n",
    "outputfile = \"out.mzML\"\n",
    "\n",
    "consumer = oms.PlainMSDataWritingConsumer(outputfile)\n",
    "consumer = FilteringConsumer(consumer, min_spec_size)\n",
    "\n",
    "oms.MzMLFile().transform(inputfile, consumer)"
   ],
   "id": "1d886688-4f07-4adc-8298-4ca1df74f06c"
  },
  {
   "cell_type": "markdown",
   "metadata": {},
   "source": [
    ", where the spectra are filtered by their size. It is similarly trivial\n",
    "to implement filtering by other attributes. Note how the data are\n",
    "written to disk using the\n",
    "[PlainMSDataWritingConsumer](https://pyopenms.readthedocs.io/en/latest/apidocs/_autosummary/pyopenms/pyopenms.PlainMSDataWritingConsumer.html)\n",
    "which is one of multiple available consumer classes -- this specific\n",
    "class will simply take the\n",
    "[MSSpectrum](https://pyopenms.readthedocs.io/en/latest/apidocs/_autosummary/pyopenms/pyopenms.MSSpectrum.html)\n",
    "`s` or\n",
    "[MSChromatogram](https://pyopenms.readthedocs.io/en/latest/apidocs/_autosummary/pyopenms/pyopenms.MSChromatogram.html)\n",
    "`c` and write it to disk (the location of the output file is given by\n",
    "the `outputfile` variable).\n",
    "\n",
    "Note that this approach is memory efficient in cases where computation\n",
    "should only occur on part of the data or the whole data may not fit into\n",
    "memory.\n",
    "\n",
    "## Cached [mzML](https://pyopenms.readthedocs.io/en/latest/user_guide/glossary.html#term-mzML) Files\n",
    "\n",
    "In addition, since pyOpenMS 2.4 the user can efficiently cache\n",
    "[mzML](https://pyopenms.readthedocs.io/en/latest/user_guide/glossary.html#term-mzML)\n",
    "files to disk which provides very fast access with minimal overhead in\n",
    "memory. Basically the data directly mapped into memory when requested.\n",
    "You can use this feature as follows:"
   ],
   "id": "3702a740-6a15-47d6-b172-058b46501f06"
  },
  {
   "cell_type": "code",
   "execution_count": null,
   "metadata": {},
   "outputs": [],
   "source": [
    "# First load data and cache to disk\n",
    "exp = oms.MSExperiment()\n",
    "oms.MzMLFile().load(\"test.mzML\", exp)\n",
    "oms.CachedmzML().store(\"myCache.mzML\", exp)\n",
    "\n",
    "# Now load data\n",
    "cfile = oms.CachedmzML()\n",
    "oms.CachedmzML().load(\"myCache.mzML\", cfile)\n",
    "\n",
    "meta_data = cfile.getMetaData()\n",
    "cfile.getNrChromatograms()\n",
    "cfile.getNrSpectra()\n",
    "\n",
    "# data is not present in meta_data experiment\n",
    "sum(meta_data.getChromatogram(0).get_peaks()[1])  # no data!\n",
    "sum(cfile.getChromatogram(0).get_peaks()[1])  # data is here!\n",
    "\n",
    "# meta data is present and identical in both data structures:\n",
    "meta_data.getChromatogram(0).getNativeID()  # fast\n",
    "cfile.getChromatogram(0).getNativeID()  # slow"
   ],
   "id": "221a4d2b-d49e-4ace-af0d-789b7e28a116"
  },
  {
   "cell_type": "markdown",
   "metadata": {},
   "source": [
    "Note that the\n",
    "[CachedmzML](https://pyopenms.readthedocs.io/en/latest/apidocs/_autosummary/pyopenms/pyopenms.CachedmzML.html)\n",
    "allows users to access meta data through the\n",
    "[CachedmzML.getMetaData](https://pyopenms.readthedocs.io/en/latest/apidocs/_autosummary/pyopenms/pyopenms.CachedmzML.getMetaData.html)\n",
    "function, which allows easy selection and filtering on meta data\n",
    "attributes (such as MS level, precursor m/z, retention time etc.) in\n",
    "order to select spectra and chromatograms for analysis. Only once\n",
    "selection on the meta data has been performed, will actual data be\n",
    "loaded into memory using the\n",
    "[CachedmzML.getChromatogram](https://pyopenms.readthedocs.io/en/latest/apidocs/_autosummary/pyopenms/pyopenms.CachedmzML.getChromatogram.html)\n",
    "and\n",
    "[CachedmzML.getSpectrum](https://pyopenms.readthedocs.io/en/latest/apidocs/_autosummary/pyopenms/pyopenms.CachedmzML.getSpectrum.html)\n",
    "functions.\n",
    "\n",
    "Note that in the example above all data is loaded into memory first and\n",
    "then cached to disk. This is not very efficient and we can use the\n",
    "[MSDataCachedConsumer](https://pyopenms.readthedocs.io/en/latest/apidocs/_autosummary/pyopenms/pyopenms.MSDataCachedConsumer.html)\n",
    "to directly cache to disk (without loading any data into memory):"
   ],
   "id": "7fd39d4a-53c9-4e74-ba53-f38354e3bcbb"
  },
  {
   "cell_type": "code",
   "execution_count": null,
   "metadata": {},
   "outputs": [],
   "source": [
    "# First cache to disk\n",
    "# Note: writing meta data to myCache2.mzML is required\n",
    "cacher = oms.MSDataCachedConsumer(\"myCache2.mzML.cached\")\n",
    "exp = oms.MSExperiment()\n",
    "oms.MzMLFile().transform(b\"test.mzML\", cacher, exp)\n",
    "oms.CachedMzMLHandler().writeMetadata(exp, \"myCache2.mzML\")\n",
    "del cacher\n",
    "\n",
    "# Now load data\n",
    "cfile = oms.CachedmzML()\n",
    "oms.CachedmzML().load(\"myCache2.mzML\", cfile)\n",
    "\n",
    "meta_data = cfile.getMetaData()\n",
    "# data is not present in meta_data experiment\n",
    "sum(meta_data.getChromatogram(0).get_peaks()[1])  # no data!\n",
    "sum(cfile.getChromatogram(0).get_peaks()[1])  # data is here!"
   ],
   "id": "3873e69c-518c-42cb-b4df-9810ed6e7700"
  },
  {
   "cell_type": "markdown",
   "metadata": {},
   "source": [
    "This approach is now memory efficient in cases where computation should\n",
    "only occur on part of the data or the whole data may not fit into\n",
    "memory."
   ],
   "id": "995ca547-1d63-4cf5-9baf-8de5719fe1ea"
  }
 ],
 "nbformat": 4,
 "nbformat_minor": 5,
 "metadata": {}
}
