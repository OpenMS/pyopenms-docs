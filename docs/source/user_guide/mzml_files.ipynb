{
 "cells": [
  {
   "cell_type": "markdown",
   "metadata": {},
   "source": [
    "# [mzML](https://pyopenms.readthedocs.io/en/latest/user_guide/glossary.html#term-mzML) Files\n",
    "\n",
    "<div style=\"background-color: #BDE5F8; margin: 10px 0px; padding:12px;\"><p style=\"font-size: x-large\"><i class=\"far fa-sticky-note\"></i> <b>Note</b></p>\n",
    "\n",
    "This is an advanced section that dives deep into the\n",
    "[mzML](https://pyopenms.readthedocs.io/en/latest/user_guide/glossary.html#term-mzML)\n",
    "format and we will investigate the file format in greater detail. The\n",
    "intricacies of the\n",
    "[mzML](https://pyopenms.readthedocs.io/en/latest/user_guide/glossary.html#term-mzML)\n",
    "file format are all handled by pyOpenMS internally and this section is\n",
    "only intended for the interested reader\n",
    "\n",
    "</div>\n",
    "\n",
    "Specifically, we will look at\n",
    "[mzML](https://pyopenms.readthedocs.io/en/latest/user_guide/glossary.html#term-mzML)\n",
    "stores raw spectral data and how this data is encoded in the XML format.\n",
    "The\n",
    "[mzML](https://pyopenms.readthedocs.io/en/latest/user_guide/glossary.html#term-mzML)\n",
    "standard is developed by the HUPO-PSI committee and can be read on the\n",
    "[official mzML website](http://www.psidev.info/mzML). It describes how\n",
    "to store the meta data and the raw data for spectra and chromatograms.\n",
    "In short, the standard uses XML to encode all meta data and stores the\n",
    "raw data using [Base64 encoding](https://en.wikipedia.org/wiki/Base64).\n",
    "\n",
    "## Binary Encoding\n",
    "\n",
    "`To proceed <Binary encoding (mzML)>`, we will download an example file:"
   ],
   "id": "e7a5d55e-33d1-450d-84d6-95b096d0d9b2"
  },
  {
   "cell_type": "code",
   "execution_count": null,
   "metadata": {
    "linenos": ""
   },
   "outputs": [],
   "source": [
    "import pyopenms as oms\n",
    "from urllib.request import urlretrieve\n",
    "\n",
    "gh = \"https://raw.githubusercontent.com/OpenMS/pyopenms-docs/master\"\n",
    "urlretrieve(gh + \"/src/data/tiny.mzML\", \"test.mzML\")"
   ],
   "id": "464c0e0a-593a-4506-a337-cda6ad027706"
  },
  {
   "cell_type": "markdown",
   "metadata": {},
   "source": [
    "Let's investigate the file `test.mzML` and look at line 197:"
   ],
   "id": "44cad063-3e64-4be5-8105-87159c4891f5"
  },
  {
   "cell_type": "code",
   "execution_count": null,
   "metadata": {
    "linenos": ""
   },
   "outputs": [],
   "source": [
    "print(open(\"test.mzML\").readlines()[197].strip())"
   ],
   "id": "a7c7ce67-cd21-4cca-9532-80c26fa3a0fb"
  },
  {
   "cell_type": "markdown",
   "metadata": {},
   "source": [
    "``` output\n",
    "<binary>AAAAAAAAAAAAAAAAAAAAQAAAAAAAABBAAAAAAAAAGEAAAAAAAAAgQAAAAAAAACRAAAAAAAAAKEAAAAAAAAAsQAAAAAAAADBAAAAAAAAAMkA=</binary>\n",
    "```\n",
    "\n",
    "We see that line 197 in the `test.mzML` file contains the `binary` XML\n",
    "tag that contains a long datastring that starts with `AAAAA` and ends\n",
    "with `AAMkA=`. This is the raw spectrum data encoded using\n",
    "[Base64](https://en.wikipedia.org/wiki/Base64). We can confirm this by\n",
    "looking at some more context (lines 193 to 199 of the file):"
   ],
   "id": "0dda0de7-0379-4af6-ab83-6c7e8d6c3e89"
  },
  {
   "cell_type": "code",
   "execution_count": null,
   "metadata": {
    "linenos": ""
   },
   "outputs": [],
   "source": [
    "print(\"\".join(open(\"test.mzML\").readlines()[193:199]))"
   ],
   "id": "ecebbe80-5a60-4576-9575-78cccf90f7d1"
  },
  {
   "cell_type": "markdown",
   "metadata": {},
   "source": [
    "``` output\n",
    "<binaryDataArray encodedLength=\"108\" dataProcessingRef=\"CompassXtract_x0020_processing\">\n",
    "  <cvParam cvRef=\"MS\" accession=\"MS:1000523\" name=\"64-bit float\" value=\"\"/>\n",
    "  <cvParam cvRef=\"MS\" accession=\"MS:1000576\" name=\"no compression\" value=\"\"/>\n",
    "  <cvParam cvRef=\"MS\" accession=\"MS:1000514\" name=\"m/z array\" value=\"\" unitCvRef=\"MS\" unitAccession=\"MS:1000040\" unitName=\"m/z\"/>\n",
    "  <binary>AAAAAAAAAAAAAAAAAAAAQAAAAAAAABBAAAAAAAAAGEAAAAAAAAAgQAAAAAAAACRAAAAAAAAAKEAAAAAAAAAsQAAAAAAAADBAAAAAAAAAMkA=</binary>\n",
    "</binaryDataArray>\n",
    "```\n",
    "\n",
    "We can now see that the surrounding XML tags describe how to decode the\n",
    "data, namely we see that the data is describes the m/z array and is\n",
    "uncompressed 64 bit data. We can now open the file with pyOpenMS and\n",
    "print the corresponding array which is from the second spectrum in the\n",
    "file:"
   ],
   "id": "ea1afe11-0f72-4c45-9204-6f16f0d07067"
  },
  {
   "cell_type": "code",
   "execution_count": null,
   "metadata": {
    "linenos": ""
   },
   "outputs": [],
   "source": [
    "exp = oms.MSExperiment()\n",
    "oms.MzMLFile().load(\"test.mzML\", exp)\n",
    "\n",
    "print(exp.getSpectrum(1).get_peaks()[0])"
   ],
   "id": "442bfd65-95af-4e60-af6e-7b7722312683"
  },
  {
   "cell_type": "markdown",
   "metadata": {},
   "source": [
    "``` output\n",
    "[ 0.  2.  4.  6.  8. 10. 12. 14. 16. 18.]\n",
    "```\n",
    "\n",
    "We now see that the data encoded describes 10 m/z data points that are\n",
    "equally spaced in intervals of two, starting from 0 m/z and ending at 18\n",
    "m/z (note: this is a synthetic dataset).\n",
    "\n",
    "## Base64 Encoding\n",
    "\n",
    "From the\n",
    "[mzML](https://pyopenms.readthedocs.io/en/latest/user_guide/glossary.html#term-mzML)\n",
    "standard, we know that the array is `base64 <Base64\n",
    "encoding>` encoded and we can now try to decode this data ourselves. We\n",
    "will first use pure Python functions :"
   ],
   "id": "07de0131-30aa-4c6d-b960-148f7b588e53"
  },
  {
   "cell_type": "code",
   "execution_count": null,
   "metadata": {
    "linenos": ""
   },
   "outputs": [],
   "source": [
    "encoded_data = (\n",
    "    b\"AAAAAAAAAAAAAAAAAAAAQAAAAAAAABBAAAAAAAAAGEAAAAAAAAAgQ\"\n",
    "    + b\"AAAAAAAACRAAAAAAAAAKEAAAAAAAAAsQAAAAAAAADBAAAAAAAAAMkA=\"\n",
    ")\n",
    "\n",
    "import base64, struct\n",
    "\n",
    "raw_data = base64.decodebytes(encoded_data)\n",
    "out = struct.unpack(\"<%sd\" % (len(raw_data) // 8), raw_data)\n",
    "# struct.unpack('<%sf' % (len(raw_data) // 4), raw_data) # for 32 bit data\n",
    "print(out)"
   ],
   "id": "ed19d366-c2a7-42f9-92cb-2b8de86c1266"
  },
  {
   "cell_type": "markdown",
   "metadata": {},
   "source": [
    "``` output\n",
    "(0.0, 2.0, 4.0, 6.0, 8.0, 10.0, 12.0, 14.0, 16.0, 18.0)\n",
    "```\n",
    "\n",
    "The code above uses the `base64` package on line 5 to decode the encoded\n",
    "data to raw binary data. On line 6, we use the `struct` package to\n",
    "transform the raw binary data to 64-bit floating point values. Note that\n",
    "`<%sd` is used for 64 bit data and `<%sf` for 32 bit data.\n",
    "\n",
    "Alternatively, we could also use pyOpenMS to decode the same data:"
   ],
   "id": "c399002d-a58b-4b5e-a25f-82c37d8beb31"
  },
  {
   "cell_type": "code",
   "execution_count": null,
   "metadata": {
    "linenos": ""
   },
   "outputs": [],
   "source": [
    "encoded_data = (\n",
    "    b\"AAAAAAAAAAAAAAAAAAAAQAAAAAAAABBAAAAAAAAAGEAAAAAAAAAgQ\"\n",
    "    + b\"AAAAAAAACRAAAAAAAAAKEAAAAAAAAAsQAAAAAAAADBAAAAAAAAAMkA=\"\n",
    ")\n",
    "\n",
    "out = []\n",
    "oms.Base64().decode64(\n",
    "    encoded_data, oms.Base64.ByteOrder.BYTEORDER_LITTLEENDIAN, out, False\n",
    ")\n",
    "print(out)"
   ],
   "id": "fba7e87d-b522-4ef8-ae74-ec9d460b3ef8"
  },
  {
   "cell_type": "markdown",
   "metadata": {},
   "source": [
    "``` output\n",
    "[0.0, 2.0, 4.0, 6.0, 8.0, 10.0, 12.0, 14.0, 16.0, 18.0]\n",
    "```\n",
    "\n",
    "This allows us thus to manually decode the data. We can use pyOpenMS to\n",
    "encode and decode 32 and 64 bit values:"
   ],
   "id": "b304e8cd-55f7-4b9f-bb10-650d79be1cf7"
  },
  {
   "cell_type": "code",
   "execution_count": null,
   "metadata": {
    "linenos": ""
   },
   "outputs": [],
   "source": [
    "encoded_data = (\n",
    "    b\"AAAAAAAAAAAAAAAAAAAAQAAAAAAAABBAAAAAAAAAGEAAAAAAAAAgQ\"\n",
    "    + b\"AAAAAAAACRAAAAAAAAAKEAAAAAAAAAsQAAAAAAAADBAAAAAAAAAMkA=\"\n",
    ")\n",
    "\n",
    "out = []\n",
    "oms.Base64().decode64(\n",
    "    encoded_data, oms.Base64.ByteOrder.BYTEORDER_LITTLEENDIAN, out, False\n",
    ")\n",
    "print(out)\n",
    "\n",
    "data = oms.String()\n",
    "oms.Base64().encode64(out, oms.Base64.ByteOrder.BYTEORDER_LITTLEENDIAN, data, False)\n",
    "print(data)\n",
    "\n",
    "oms.Base64().encode64(out, oms.Base64.ByteOrder.BYTEORDER_LITTLEENDIAN, data, True)\n",
    "print(data)\n",
    "\n",
    "data = oms.String()\n",
    "oms.Base64().encode32(out, oms.Base64.ByteOrder.BYTEORDER_LITTLEENDIAN, data, False)\n",
    "print(data)\n",
    "\n",
    "oms.Base64().encode32(out, oms.Base64.ByteOrder.BYTEORDER_LITTLEENDIAN, data, True)\n",
    "print(data)"
   ],
   "id": "97051c43-50b8-47e3-8fd0-aefc88e6ca9e"
  },
  {
   "cell_type": "markdown",
   "metadata": {},
   "source": [
    "``` output\n",
    "[0.0, 2.0, 4.0, 6.0, 8.0, 10.0, 12.0, 14.0, 16.0, 18.0]\n",
    "b'AAAAAAAAAAAAAAAAAAAAQAAAAAAAABBAAAAAAAAAGEAAAAAAAAAgQAAAAAAAACRAAAAAAAAAKEAAAAAAAAAsQAAAAAAAADBAAAAAAAAAMkA='\n",
    "b'eJxjYEABDhBKAEpLQGkFKK0CpTWgtA6UNoDSRg4AZlQDYw=='\n",
    "b'AAAAAAAAAEAAAIBAAADAQAAAAEEAACBBAABAQQAAYEEAAIBBAACQQQ=='\n",
    "b'eJxjYAADBwaGBiA+AMQMjgwMCkDsAMQJQNwAxBMcAVbKBVc='\n",
    "```\n",
    "\n",
    "Note how encoding the data with 64 bit precision results in an output\n",
    "string of length $108$ characters that is about twice as long compared\n",
    "to encoding the data with 32 bit precision which is of length $56$\n",
    "characters. However, this difference disappears when zlib compression is\n",
    "used and the resulting string is shorter still.\n",
    "\n",
    "## Numpress Encoding\n",
    "\n",
    "We can do even better, using the `numpress <numpress>` compression. The\n",
    "numpress algorithm uses lossy compression, similar to jpeg compression,\n",
    "which is capable of compressing data even further but at the cost of not\n",
    "being able to recover the original input data exactly:"
   ],
   "id": "3abcae89-7497-47cd-8e84-a25aa8ede5b7"
  },
  {
   "cell_type": "code",
   "execution_count": null,
   "metadata": {
    "linenos": ""
   },
   "outputs": [],
   "source": [
    "data = [0.0, 2.0, 4.0, 6.0, 8.0, 10.0, 12.0, 14.0, 16.0, 18.0 + 1e-8]\n",
    "print(data)\n",
    "r = []\n",
    "\n",
    "c = oms.NumpressConfig()\n",
    "c.np_compression = oms.MSNumpressCoder.NumpressCompression.LINEAR\n",
    "res = oms.String()\n",
    "oms.MSNumpressCoder().encodeNP(data, res, False, c)\n",
    "print(res)\n",
    "\n",
    "oms.MSNumpressCoder().decodeNP(res, r, False, c)\n",
    "print(r)\n",
    "\n",
    "c.np_compression = oms.MSNumpressCoder.NumpressCompression.PIC\n",
    "oms.MSNumpressCoder().encodeNP(data, res, False, c)\n",
    "print(res)\n",
    "\n",
    "oms.MSNumpressCoder().decodeNP(res, r, False, c)\n",
    "print(r)"
   ],
   "id": "61dac700-74c5-4923-bd35-cc53367bd119"
  },
  {
   "cell_type": "markdown",
   "metadata": {},
   "source": [
    "``` output\n",
    "[0.0, 2.0, 4.0, 6.0, 8.0, 10.0, 12.0, 14.0, 16.0, 18.00000001]\n",
    "b'Qc////+AAAAAAAAA/v//f4iIiIew'\n",
    "[0.0, 2.0, 4.0, 6.0, 8.0, 10.0, 12.0, 14.0, 16.0, 18.00000001024455]\n",
    "b'hydHZ4enx+YBYhA='\n",
    "[0.0, 2.0, 4.0, 6.0, 8.0, 10.0, 12.0, 14.0, 16.0, 18.0]\n",
    "```\n",
    "\n",
    "Note how the lossy numpress compression leads to even shorter data, with\n",
    "16 characters for PIC compression and 28 characters for linear\n",
    "compression. This makes the encoding much more efficient than lossless\n",
    "encoding that we have discussed above, however this is at the price of\n",
    "accuracy.\n",
    "\n",
    "Different numpress compression schemes result in different accuracy, the\n",
    "LINEAR compression scheme introduced an inaccuracy of 10e-10 while the\n",
    "PIC (positive integer compression) can only store positive integers and\n",
    "results in greater loss of accuracy."
   ],
   "id": "1d2c9a5b-8b1e-4fc9-b156-daa9739fb498"
  }
 ],
 "nbformat": 4,
 "nbformat_minor": 5,
 "metadata": {}
}
