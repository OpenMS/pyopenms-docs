{
 "cells": [
  {
   "cell_type": "markdown",
   "metadata": {},
   "source": [
    "# Export to pandas DataFrame\n",
    "\n",
    "**NOTE: This feature is available only if using a version of pyOpenMS\n",
    "\\>= 3.0, at the time of writing this means using the nightly builds as\n",
    "described in the** [Installation\n",
    "Instructions](installation.ipynb#nightly-ci-wheels).\n",
    "\n",
    "In pyOpenMS some data structures can be converted to a tabular format as\n",
    "a `pandas.DataFrame`. This allows convenient access to data and meta\n",
    "values of spectra, features and identifications.\n",
    "\n",
    "Required imports for the examples:"
   ],
   "id": "92365c31-c3f9-4202-a360-5ec691f96a31"
  },
  {
   "cell_type": "code",
   "execution_count": null,
   "metadata": {
    "linenos": ""
   },
   "outputs": [],
   "source": [
    "import pyopenms as oms\n",
    "import pandas as pd\n",
    "from urllib.request import urlretrieve\n",
    "\n",
    "url = \"https://raw.githubusercontent.com/OpenMS/pyopenms-docs/master/src/data/\""
   ],
   "id": "aa3beaba-eced-4541-a487-bd1f6afcc832"
  },
  {
   "cell_type": "markdown",
   "metadata": {},
   "source": [
    "## MSExperiment\n",
    "\n",
    "**pyopenms.MSExperiment.get_df(** *long=False* **)**  \n",
    "Generates a pandas DataFrame with all peaks in the MSExperiment\n",
    "\n",
    "**Parameters:**\n",
    "\n",
    "**long :** default False\n",
    "\n",
    "set to True if you want to have a long/expanded/melted dataframe with\n",
    "one row per peak. Faster but replicated RT information. If False,\n",
    "returns rows in the style: rt, np.array(mz), np.array(int)\n",
    "\n",
    "**Returns:**\n",
    "\n",
    "**pandas.DataFrame**\n",
    "\n",
    "peak map information stored in a DataFrame\n",
    "\n",
    "**Examples:**"
   ],
   "id": "8e918837-fb9e-43ff-b937-41a3f5ad84dd"
  },
  {
   "cell_type": "code",
   "execution_count": null,
   "metadata": {
    "linenos": ""
   },
   "outputs": [],
   "source": [
    "urlretrieve(url + \"BSA1.mzML\", \"BSA1.mzML\")\n",
    "exp = oms.MSExperiment()\n",
    "oms.MzMLFile().load(\"BSA1.mzML\", exp)\n",
    "\n",
    "df = exp.get_df()  # default: long = False\n",
    "df.head(2)"
   ],
   "id": "6ddaebec-e91d-419f-9084-308b7fe52aa2"
  },
  {
   "cell_type": "markdown",
   "metadata": {},
   "source": [
    "|     | RT         | mzarray                                            | intarray                                           |\n",
    "|---|-------|-------------------------------|-------------------------------|\n",
    "| 0   | 1501.41394 | \\[300.0897645621494, 300.18132740129533, 300.20... | \\[3431.0261, 1181.809, 1516.1746, 1719.8547, 11... |\n",
    "| 1   | 1503.03125 | \\[300.06577092599525, 300.08932376441896, 300.2... | \\[914.79034, 1842.2311, 2395.1025, 851.4738, 16... |\n",
    "\n",
    "exp.get_df()"
   ],
   "id": "f0ff25dd-3e02-4d9e-b38f-18287dce7a25"
  },
  {
   "cell_type": "code",
   "execution_count": null,
   "metadata": {
    "linenos": ""
   },
   "outputs": [],
   "source": [
    "df = exp.get_df(long=True)\n",
    "df.head(2)"
   ],
   "id": "86af9363-4b39-4946-b715-6055240d8f86"
  },
  {
   "cell_type": "markdown",
   "metadata": {},
   "source": [
    "|     | RT         | mz         | inty        |\n",
    "|-----|------------|------------|-------------|\n",
    "| 0   | 1501.41394 | 300.089752 | 3431.026123 |\n",
    "| 1   | 1501.41394 | 300.181335 | 1181.808960 |\n",
    "\n",
    "exp.get_df(long=True)\n",
    "\n",
    "## PeptideIdentification\n",
    "\n",
    "**pyopenms.peptide_identifications_to_df( peps**, *decode_ontology=True*, *default_missing_values={bool: False, int: -9999, float: np.nan, str: ''}*, *export_unidentified=True* **)**  \n",
    "Generates a pandas DataFrame with all peaks in the MSExperiment\n",
    "\n",
    "**Parameters:**\n",
    "\n",
    "**peps :**\n",
    "\n",
    "list of PeptideIdentification objects\n",
    "\n",
    "**decode_ontology :** default True\n",
    "\n",
    "if meta values contain CV identifer (e.g., from PSI-MS) they will be\n",
    "automatically decoded into the human readable CV term name.\n",
    "\n",
    "**default_missing_values :** default {bool: False, int: -9999, float:\n",
    "np.nan, str: ''}\n",
    "\n",
    "default value for missing values for each data type\n",
    "\n",
    "**export_unidentified :** default True\n",
    "\n",
    "export PeptideIdentifications without PeptideHit\n",
    "\n",
    "**Returns:**\n",
    "\n",
    "**pandas.DataFrame**\n",
    "\n",
    "peptide identifications in a DataFrame\n",
    "\n",
    "**Example:**"
   ],
   "id": "63f08822-8989-4d9c-85b9-898c6f3f08ce"
  },
  {
   "cell_type": "code",
   "execution_count": null,
   "metadata": {
    "linenos": ""
   },
   "outputs": [],
   "source": [
    "urlretrieve(url + \"small.idXML\", \"small.idXML\")\n",
    "prot_ids = []\n",
    "pep_ids = []\n",
    "oms.IdXMLFile().load(\"small.idXML\", prot_ids, pep_ids)\n",
    "\n",
    "df = oms.peptide_identifications_to_df(pep_ids)\n",
    "df.head(2)"
   ],
   "id": "d842b2e6-bfa8-40ea-b8b1-4d191e25c1e0"
  },
  {
   "cell_type": "markdown",
   "metadata": {},
   "source": [
    "|     | id                                               | RT         | mz         | q-value  | charge | protein_accession             | start | end | NuXL:z2 mass | NuXL:z3 mass | ... | isotope_error | NuXL:peptide_mass_z0 | NuXL:XL_U | NuXL:sequence_score |\n",
    "|--|-----|---|-----|-----|---|-----|-----|-----|-----|-----|-----|-----|-----|-----|-----|\n",
    "| 0   | OpenNuXL_2019-12-04T16:39:43_1021782429466859437 | 900.425415 | 414.730865 | 0.368649 | 4      | DECOY_sp\\|Q86UQ0\\|ZN589_HUMAN | 255   | 267 | 828.458069   | 552.641113   | ... | 0             | 1654.901611          | 0         | 0.173912            |\n",
    "| 1   | OpenNuXL_2019-12-04T16:39:43_7293634134684008928 | 903.565186 | 506.259521 | 0.422779 | 2      | sp\\|P61313\\|RL15_HUMAN        | 179   | 187 | 0.0          | 0.0          | ... | 0             | 1010.504639          | 0         | 0.290786            |\n",
    "\n",
    "peptide_identifications_to_df(pep_ids)\n",
    "\n",
    "## FeatureMap\n",
    "\n",
    "**pyopenms.FeatureMap.get_df(** *meta_values = None* **)**  \n",
    "Generates a pandas DataFrame with information contained in the\n",
    "FeatureMap.\n",
    "\n",
    "Optionally the feature meta values and information for the assigned\n",
    "PeptideHit can be exported.\n",
    "\n",
    "**Parameters:**\n",
    "\n",
    "**meta_values :** default None\n",
    "\n",
    "meta values to include (None, \\[custom list of meta value names\\] or\n",
    "'all')\n",
    "\n",
    "**export_peptide_identifications (bool):** default True\n",
    "\n",
    "Export sequence and score for best PeptideHit assigned to a feature.\n",
    "Additionally the ID_filename (file name of the corresponding\n",
    "ProteinIdentification) and the ID_native_id (spectrum ID of the\n",
    "corresponding Feature) are exported. They are also annotated as meta\n",
    "values when collecting all assigned PeptideIdentifications from a\n",
    "FeatureMap with FeatureMap.get_assigned_peptide_identifications(). A\n",
    "DataFrame from the assigned peptides generated with\n",
    "peptide_identifications_to_df(assigned_peptides) can be merged with the\n",
    "FeatureMap DataFrame with: merged_df = pd.merge(feature_df,\n",
    "assigned_peptide_df, on=\\['feature_id', 'ID_native_id', 'ID_filename'\\])\n",
    "\n",
    "**Returns:**\n",
    "\n",
    "**pandas.DataFrame**\n",
    "\n",
    "feature information stored in a DataFrame\n",
    "\n",
    "**Examples:**"
   ],
   "id": "6aac536d-af28-4918-b1cd-1715df373f78"
  },
  {
   "cell_type": "code",
   "execution_count": null,
   "metadata": {
    "linenos": ""
   },
   "outputs": [],
   "source": [
    "urlretrieve(url + \"BSA1_F1_idmapped.featureXML\", \"BSA1_F1_idmapped.featureXML\")\n",
    "feature_map = oms.FeatureMap()\n",
    "oms.FeatureXMLFile().load(\"BSA1_F1_idmapped.featureXML\", feature_map)\n",
    "\n",
    "df = feature_map.get_df()  # default: meta_values = None\n",
    "df.head(2)"
   ],
   "id": "13fb7106-01e8-4aa0-931d-ce830dcf5bea"
  },
  {
   "cell_type": "markdown",
   "metadata": {},
   "source": [
    "| id                   | peptide_sequence | peptide_score | ID_filename | ID_native_id  | charge | RT          | mz         | RTstart     | RTend       | mzstart    | mzend      | quality  | intensity    |\n",
    "|------|------|------|------|------|---|------|------|------|------|------|------|------|------|\n",
    "| 9650885788371886430  | LVTDLTK          | 0.000000      | unknown     | spectrum=1270 | 2      | 1942.600083 | 395.239277 | 1932.484009 | 1950.834351 | 395.239199 | 397.245758 | 0.808494 | 157572000\\.0 |\n",
    "| 18416216708636999474 | DDSPDLPK         | 0.034483      | unknown     | spectrum=1167 | 2      | 1749.138335 | 443.711224 | 1735.693115 | 1763.343506 | 443.711122 | 445.717531 | 0.893553 | 54069300.0   |\n",
    "\n",
    "feature_map.get_df()"
   ],
   "id": "8a68d956-fa10-44d0-a5da-3c2c0420d1ab"
  },
  {
   "cell_type": "code",
   "execution_count": null,
   "metadata": {
    "linenos": ""
   },
   "outputs": [],
   "source": [
    "df = feature_map.get_df(meta_values=\"all\", export_peptide_identifications=False)\n",
    "df.head(2)"
   ],
   "id": "60a39c2e-3c30-4b3b-a619-ef8bce671cb8"
  },
  {
   "cell_type": "markdown",
   "metadata": {},
   "source": [
    "| id                   | charge | RT          | mz         | RTstart     | RTend       | mzstart    | mzend      | quality  | intensity    | FWHM      | spectrum_index | spectrum_native_id | label | score_correlation | score_fit |\n",
    "|-----|--|-----|-----|-----|-----|-----|-----|-----|-----|-----|-----|-----|-----|-----|-----|\n",
    "| 9650885788371886430  | 2      | 1942.600083 | 395.239277 | 1932.484009 | 1950.834351 | 395.239199 | 397.245758 | 0.808494 | 157572000\\.0 | 10.061090 | 259            | spectrum=1270      | 168   | 0.989969          | 0.660286  |\n",
    "| 18416216708636999474 | 2      | 1749.138335 | 443.711224 | 1735.693115 | 1763.343506 | 443.71112  | 445.717531 | 0.893553 | 54069300.0   | 14.156094 | 156            | spectrum=1167      | 169   | 0.999002          | 0.799234  |\n",
    "\n",
    "feature_map.get_df(meta_values = 'all', export_peptide_identifications =\n",
    "False)"
   ],
   "id": "0befb7bb-11ba-423f-a823-396d8cd38cae"
  },
  {
   "cell_type": "code",
   "execution_count": null,
   "metadata": {
    "linenos": ""
   },
   "outputs": [],
   "source": [
    "df = feature_map.get_df(meta_values=[b\"FWHM\", b\"label\"])\n",
    "df.head(2)"
   ],
   "id": "5203f706-773e-4058-b967-663d4a122b80"
  },
  {
   "cell_type": "markdown",
   "metadata": {},
   "source": [
    "| id                   | charge | RT          | mz         | RTstart     | RTend       | mzstart    | mzend      | quality  | intensity    | FWHM      | label |\n",
    "|-------|---|-------|-------|-------|-------|-------|-------|-------|-------|-------|-------|\n",
    "| 9650885788371886430  | 2      | 1942.600083 | 395.239277 | 1932.484009 | 1950.834351 | 395.239199 | 397.245758 | 0.808494 | 157572000\\.0 | 10.061090 | 168   |\n",
    "| 18416216708636999474 | 2      | 1749.138335 | 443.711224 | 1735.693115 | 1763.343506 | 443.71112  | 445.717531 | 0.893553 | 54069300.0   | 14.156094 | 169   |\n",
    "\n",
    "feature_map.get_df(meta_values = \\[b'FWHM', b'label'\\])\n",
    "\n",
    "**Extract assigned peptide identifications from a feature map**\n",
    "\n",
    "Peptide identifications can be mapped to their corresponding features in\n",
    "a `FeatureMap`. It is possible to extract them using the function\n",
    "`pyopenms.FeatureMap.get_assigned_peptide_identifications()` returning a\n",
    "list of `PeptideIdentification` objects.\n",
    "\n",
    "**pyopenms.FeatureMap.get_assigned_peptide_identifications()**  \n",
    "Generates a list with peptide identifications assigned to a feature.\n",
    "\n",
    "Adds 'ID_native_id' (feature spectrum id), 'ID_filename' (primary MS run\n",
    "path of corresponding ProteinIdentification) and 'feature_id' (unique ID\n",
    "of corresponding Feature) as meta values to the peptide hits. A\n",
    "DataFrame from the assigned peptides generated with\n",
    "peptide_identifications_to_df(assigned_peptides) can be merged with the\n",
    "FeatureMap DataFrame with: merged_df = pd.merge(feature_df,\n",
    "assigned_peptide_df, on=\\['feature_id', 'ID_native_id', 'ID_filename'\\])\n",
    "\n",
    "**Returns:**\n",
    "\n",
    "**\\[PeptideIdentification\\]**\n",
    "\n",
    "list of PeptideIdentification objects\n",
    "\n",
    "A `DataFrame` can be created on the resulting list of\n",
    "<span class=\"title-ref\">PeptideIdentification</span> objects using\n",
    "`pyopenms.peptide_identifications_to_df(assigned_peptides)`.\n",
    "[Feature map](https://pyopenms.readthedocs.io/en/latest/user_guide/glossary.html#term-feature-map)\n",
    "and peptide data frames contain columns, on which they can be merged\n",
    "together to contain the complete information for peptides and features\n",
    "in a single data frame.\n",
    "\n",
    "The columns for unambiguously merging the data frames:\n",
    "\n",
    "-   `feature_id`: the unique feature identifier\n",
    "-   `ID_native_id`: the feature spectrum native identifier\n",
    "-   `ID_filename`: the filename (primary MS run path) of the\n",
    "    corresponding <span class=\"title-ref\">ProteinIdentification</span>\n",
    "\n",
    "**Example:**"
   ],
   "id": "9c10f6f2-52a2-482d-91a9-5f08aeaeeeec"
  },
  {
   "cell_type": "code",
   "execution_count": null,
   "metadata": {
    "linenos": ""
   },
   "outputs": [],
   "source": [
    "feature_df = feature_map.get_df()\n",
    "assigned_peptides = feature_map.get_assigned_peptide_identifications()\n",
    "assigned_peptide_df = oms.peptide_identifications_to_df(assigned_peptides)\n",
    "\n",
    "merged_df = pd.merge(\n",
    "    feature_df,\n",
    "    assigned_peptide_df,\n",
    "    on=[\"feature_id\", \"ID_native_id\", \"ID_filename\"],\n",
    ")\n",
    "merged_df.head(2)"
   ],
   "id": "5b793d44-407b-4efa-bb8c-b1f3c57b34ef"
  },
  {
   "cell_type": "markdown",
   "metadata": {},
   "source": [
    "| feature_id           | peptide_sequence | peptide_score | ID_filename | ID_native_id  | charge_x | RT_x        | mz_x       | RTstart     | RTend       | ... | id                                            | RT_y        | mz_y       | q-value  | charge_y | protein_accession  | start | end | OMSSA_score | target_decoy |\n",
    "|----|----|----|----|----|----|----|----|----|----|----|----|----|----|----|----|----|----|----|----|----|\n",
    "| 9650885788371886430  | LVTDLTK          | 0.000000      | unknown     | spectrum=1270 | 2        | 1942.600083 | 395.239277 | 1932.484009 | 1950.834351 | ... | OMSSA_2009-11-17T11:11:11_4731105163044641872 | 1933.405151 | 395.239349 | 0.000000 | 2        | P02769\\|ALBU_BOVIN | -1    | -1  | 0.001084    | True         |\n",
    "| 18416216708636999474 | DDSPDLPK         | 0.034483      | unknown     | spectrum=1167 | 2        | 1749.138335 | 443.711224 | 1735.693115 | 1763.343506 | ... | OMSSA_2009-11-17T11:11:11_4731105163044641872 | 1738.033447 | 443.711243 | 0.034483 | 2        | P02769\\|ALBU_BOVIN | -1    | -1  | 0.003951    | True         |\n",
    "\n",
    "consensus_map.get_df()\n",
    "\n",
    "## ConsensusMap\n",
    "\n",
    "**pyopenms.ConsensusMap.get_df()**  \n",
    "Generates a pandas DataFrame with both consensus feature meta data and\n",
    "intensities from each sample.\n",
    "\n",
    "**Returns:**\n",
    "\n",
    "**pandas.DataFrame**\n",
    "\n",
    "[consensus map](https://pyopenms.readthedocs.io/en/latest/user_guide/glossary.html#term-consensus-map)\n",
    "meta data and intensity stored in pandas DataFrame\n",
    "\n",
    "**pyopenms.ConsensusMap.get_intensity_df()**  \n",
    "Generates a pandas DataFrame with feature intensities from each sample\n",
    "in long format (over files).\n",
    "\n",
    "For labelled analyses channel intensities will be in one row, therefore\n",
    "resulting in a semi-long/block format. Resulting DataFrame can be joined\n",
    "with result from get_metadata_df by their index 'id'.\n",
    "\n",
    "**Returns:**\n",
    "\n",
    "**pandas.DataFrame**\n",
    "\n",
    "intensity DataFrame\n",
    "\n",
    "**pyopenms.ConsensusMap.get_metadata_df()**  \n",
    "Generates a pandas DataFrame with feature meta data (sequence, charge,\n",
    "mz, RT, quality).\n",
    "\n",
    "Resulting DataFrame can be joined with result from get_intensity_df by\n",
    "their index 'id'.\n",
    "\n",
    "**Returns:**\n",
    "\n",
    "**pandas.DataFrame**\n",
    "\n",
    "DataFrame with metadata for each feature (such as: best identified\n",
    "sequence, charge, centroid RT/mz, fitting quality)\n",
    "\n",
    "**Examples:**"
   ],
   "id": "f255fbe1-49fa-4dd9-85b1-a0cc809a096a"
  },
  {
   "cell_type": "code",
   "execution_count": null,
   "metadata": {
    "linenos": ""
   },
   "outputs": [],
   "source": [
    "urlretrieve(\n",
    "    url + \"ProteomicsLFQ_1_out.consensusXML\", \"ProteomicsLFQ_1_out.consensusXML\"\n",
    ")\n",
    "consensus_map = oms.ConsensusMap()\n",
    "oms.ConsensusXMLFile().load(\"ProteomicsLFQ_1_out.consensusXML\", consensus_map)\n",
    "\n",
    "df = consensus_map.get_df()\n",
    "df.head(2)"
   ],
   "id": "ed6094cd-b563-4ebf-b4cc-7c526b39428f"
  },
  {
   "cell_type": "markdown",
   "metadata": {},
   "source": [
    "| id                   | sequence                   | charge | RT          | mz         | quality  | BSA1_F1.mzML | ... | BSA1_F2.mzML |\n",
    "|--|-----|---------|---------|---------|---------|-------------|-----|-------------|\n",
    "| 2935923263525422257  | DGDIEAEISR                 | 3      | 1523.370634 | 368.843773 | 0.000000 | 0.0          | ... | 0.0          |\n",
    "| 10409195546240342212 | SHC(Carbamidomethyl)IAEVEK | 3      | 1552.032973 | 358.174576 | 0.491247 | 1358151.0    | ... | 0.0          |\n",
    "\n",
    "consensus_map.get_df()"
   ],
   "id": "30cb5198-8dee-4209-9600-01b1d958bf44"
  },
  {
   "cell_type": "code",
   "execution_count": null,
   "metadata": {
    "linenos": ""
   },
   "outputs": [],
   "source": [
    "df = consensus_map.get_intensity_df()\n",
    "df.head(2)"
   ],
   "id": "768076e7-c5b9-43b5-a584-034996d4189a"
  },
  {
   "cell_type": "markdown",
   "metadata": {},
   "source": [
    "| id                   | BSA1_F1.mzML | ... | BSA1_F2.mzML |\n",
    "|----------------------|--------------|-----|--------------|\n",
    "| 2935923263525422257  | 0.0          | ... | 0.0          |\n",
    "| 10409195546240342212 | 1358151.0    | ... | 0.0          |\n",
    "\n",
    "consensus_map.get_intensity_df()"
   ],
   "id": "ffd45f0e-7618-433b-9476-fc061b922785"
  },
  {
   "cell_type": "code",
   "execution_count": null,
   "metadata": {
    "linenos": ""
   },
   "outputs": [],
   "source": [
    "df = consensus_map.get_metadata_df()\n",
    "df.head(2)"
   ],
   "id": "b67261fc-723a-412a-8268-e79c9931b462"
  },
  {
   "cell_type": "markdown",
   "metadata": {},
   "source": [
    "| id                   | sequence                   | charge | RT          | mz         | quality  |\n",
    "|------------|------------|------------|------------|------------|------------|\n",
    "| 2935923263525422257  | DGDIEAEISR                 | 3      | 1523.370634 | 368.843773 | 0.000000 |\n",
    "| 10409195546240342212 | SHC(Carbamidomethyl)IAEVEK | 3      | 1552.032973 | 358.174576 | 0.491247 |\n",
    "\n",
    "consensus_map.get_metadata_df()"
   ],
   "id": "ec23e7b5-04ae-43db-97ef-6c6f5bfc6883"
  }
 ],
 "nbformat": 4,
 "nbformat_minor": 5,
 "metadata": {}
}
