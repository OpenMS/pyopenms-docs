{
 "cells": [
  {
   "cell_type": "markdown",
   "metadata": {},
   "source": [
    "# Digestion\n",
    "\n",
    "## Proteolytic Digestion with Trypsin\n",
    "\n",
    "OpenMS has classes for proteolytic digestion which can be used as\n",
    "follows:"
   ],
   "id": "3cc487bc-d37d-448a-9dd6-559b281ae6c2"
  },
  {
   "cell_type": "code",
   "execution_count": null,
   "metadata": {},
   "outputs": [],
   "source": [
    "import pyopenms as oms\n",
    "from urllib.request import urlretrieve\n",
    "\n",
    "gh = \"https://raw.githubusercontent.com/OpenMS/pyopenms-docs/master\"\n",
    "urlretrieve(gh + \"/src/data/P02769.fasta\", \"bsa.fasta\")\n",
    "\n",
    "dig = oms.ProteaseDigestion()\n",
    "dig.getEnzymeName()  # Trypsin\n",
    "bsa = \"\".join([l.strip() for l in open(\"bsa.fasta\").readlines()[1:]])\n",
    "bsa = oms.AASequence.fromString(bsa)\n",
    "# create all digestion products\n",
    "result = []\n",
    "dig.digest(bsa, result)\n",
    "print(result[4].toString())\n",
    "len(result)  # 82 peptides"
   ],
   "id": "9f1d0f30-7bcb-42de-82f6-3ce4583b41e1"
  },
  {
   "cell_type": "markdown",
   "metadata": {},
   "source": [
    "Very short peptides or even single amino acid digestion products are\n",
    "often discarded as they usually contain little information (e.g., can't\n",
    "be used to identify proteins). We now only generate digestion products\n",
    "with a length of $7$ to $40$."
   ],
   "id": "cdc9b524-2504-4aeb-b74d-f2eb2d07272b"
  },
  {
   "cell_type": "code",
   "execution_count": null,
   "metadata": {},
   "outputs": [],
   "source": [
    "# only create peptides of length 7-40\n",
    "dig.digest(bsa, result, 7, 40)\n",
    "# print the results\n",
    "for s in result:\n",
    "    print(s.toString())"
   ],
   "id": "0040256e-6c5f-4fee-b237-665696f12cc0"
  },
  {
   "cell_type": "markdown",
   "metadata": {},
   "source": [
    "Enzymatic digestion is often not perfect and sometimes enzymes miss\n",
    "cutting a peptide. We now allow up to two missed cleavages."
   ],
   "id": "81bd0036-28d1-4f8e-b16a-4d66c45a6c52"
  },
  {
   "cell_type": "code",
   "execution_count": null,
   "metadata": {},
   "outputs": [],
   "source": [
    "# Allow two missed cleavages\n",
    "dig.setMissedCleavages(2)\n",
    "# only create peptides of length 7-40\n",
    "dig.digest(bsa, result, 7, 40)\n",
    "# print the results\n",
    "for s in result:\n",
    "    print(s.toString())"
   ],
   "id": "32b58270-157a-40c1-b12e-2c8de1e6402e"
  },
  {
   "cell_type": "markdown",
   "metadata": {},
   "source": [
    "## Proteolytic Digestion with Lys-C\n",
    "\n",
    "We can of course also use different enzymes, these are defined in the\n",
    "`Enzymes.xml` file and can be accessed using the\n",
    "[EnzymesDB](https://pyopenms.readthedocs.io/en/latest/apidocs/_autosummary/pyopenms/pyopenms.EnzymesDB.html)\n",
    "object"
   ],
   "id": "ff4e44ba-c4e7-4642-91f8-76585456bca7"
  },
  {
   "cell_type": "code",
   "execution_count": null,
   "metadata": {},
   "outputs": [],
   "source": [
    "names = []\n",
    "oms.ProteaseDB().getAllNames(names)\n",
    "len(names)  # at least 25 by default\n",
    "e = oms.ProteaseDB().getEnzyme(\"Lys-C\")\n",
    "e.getRegExDescription()\n",
    "e.getRegEx()"
   ],
   "id": "dcd59d43-6c3e-4cd6-94a0-7905c70f0070"
  },
  {
   "cell_type": "markdown",
   "metadata": {},
   "source": [
    "Now that we have learned about the other enzymes available, we can use\n",
    "it to cut our protein of interest:"
   ],
   "id": "19bf4150-c9f3-46a9-be2e-eafa63e406fa"
  },
  {
   "cell_type": "code",
   "execution_count": null,
   "metadata": {},
   "outputs": [],
   "source": [
    "from urllib.request import urlretrieve\n",
    "\n",
    "gh = \"https://raw.githubusercontent.com/OpenMS/pyopenms-docs/master\"\n",
    "urlretrieve(gh + \"/src/data/P02769.fasta\", \"bsa.fasta\")\n",
    "\n",
    "dig = oms.ProteaseDigestion()\n",
    "dig.setEnzyme(\"Lys-C\")\n",
    "bsa = \"\".join([l.strip() for l in open(\"bsa.fasta\").readlines()[1:]])\n",
    "bsa = oms.AASequence.fromString(bsa)\n",
    "result = []\n",
    "dig.digest(bsa, result)\n",
    "print(result[4].toString())\n",
    "len(result)  # 57 peptides"
   ],
   "id": "f985adf0-861e-4810-bc53-100839b966d4"
  },
  {
   "cell_type": "markdown",
   "metadata": {},
   "source": [
    "We now get different digested peptides ($57$ vs $82$) and the fourth\n",
    "peptide is now `GLVLIAFSQYLQQCPFDEHVK` instead of `DTHK` as with Trypsin\n",
    "(see above).\n",
    "\n",
    "## Oligonucleotide Digestion\n",
    "\n",
    "There are multiple cleavage enzymes available for oligonucleotides,\n",
    "these are defined `Enzymes_RNA.xml` file and can be accessed using the\n",
    "[RNaseDB](https://pyopenms.readthedocs.io/en/latest/apidocs/_autosummary/pyopenms/pyopenms.RNaseDB.html)\n",
    "object"
   ],
   "id": "26bee41a-3c4d-465b-8144-e807ad24e309"
  },
  {
   "cell_type": "code",
   "execution_count": null,
   "metadata": {},
   "outputs": [],
   "source": [
    "db = oms.RNaseDB()\n",
    "names = []\n",
    "db.getAllNames(names)\n",
    "names\n",
    "# Will print out all available enzymes:\n",
    "# ['RNase_U2', 'RNase_T1', 'RNase_H', 'unspecific cleavage', 'no cleavage', 'RNase_MC1', 'RNase_A', 'cusativin']\n",
    "e = db.getEnzyme(\"RNase_T1\")\n",
    "e.getRegEx()\n",
    "e.getThreePrimeGain()"
   ],
   "id": "f853a53d-f1ae-4f05-830b-8ac274de78c7"
  },
  {
   "cell_type": "markdown",
   "metadata": {},
   "source": [
    "We can now use it to cut an oligo:"
   ],
   "id": "adc7d45b-7062-45d8-9718-aca8dcd2d95c"
  },
  {
   "cell_type": "code",
   "execution_count": null,
   "metadata": {},
   "outputs": [],
   "source": [
    "oligo = oms.NASequence.fromString(\"pAUGUCGCAG\")\n",
    "\n",
    "dig = oms.RNaseDigestion()\n",
    "dig.setEnzyme(\"RNase_T1\")\n",
    "\n",
    "result = []\n",
    "dig.digest(oligo, result)\n",
    "for fragment in result:\n",
    "    print(fragment)\n",
    "\n",
    "print(\"Looking closer at\", result[0])\n",
    "print(\" Five Prime modification:\", result[0].getFivePrimeMod().getCode())\n",
    "print(\" Three Prime modification:\", result[0].getThreePrimeMod().getCode())\n",
    "for ribo in result[0]:\n",
    "    print(ribo.getCode(), ribo.getMonoMass(), ribo.isModified())"
   ],
   "id": "9b8a62e1-eb29-4866-8b24-2ec06a49fdfa"
  }
 ],
 "nbformat": 4,
 "nbformat_minor": 5,
 "metadata": {}
}
