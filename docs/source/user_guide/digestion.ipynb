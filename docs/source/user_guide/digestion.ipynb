{
 "cells": [
  {
   "cell_type": "markdown",
   "metadata": {},
   "source": [
    "# Digestion\n",
    "\n",
    "In `top-down proteomics`, whole proteins are measured in the mass spec.\n",
    "It is a hard problem to know the exact protein sequence, since proteins\n",
    "can be very large, i.e. have a very long sequence of constituing amino\n",
    "acids.\n",
    "\n",
    "However, in an orthogonal approach called `bottom-up proteomics`, it is\n",
    "usually more beneficial to first cut proteins into smaller chunks at\n",
    "defined positions by using enzymatic digestion. The resulting peptides\n",
    "are lighter in mass, have less charge, and their sequence can be readily\n",
    "determined using MS/MS in many cases. In a subsequent step, one needs to\n",
    "infer which proteins were present in the sample, given a set of peptide\n",
    "sequences - a process called protein inference. The usual enzyme of\n",
    "choice for bottom-up proteomics is `Trypsin` (sometimes in combination\n",
    "with Lys-C).\n",
    "\n",
    "We will now learn how to do digestion of protein sequences in-silico, so\n",
    "you can predict which peptides you can expect to observe in the data and\n",
    "even generate theoretical spectra for them.\n",
    "\n",
    "## Overview of the tool\n",
    "\n",
    "Proteolytic digestion can be performed through class `ProteaseDigestion`\n",
    "and its method `.digest`. This method has two variants. Simple variant:\n",
    "\n",
    "``` cython\n",
    "digest(protein : pyopenms.AASequence, output : list) -> int\n",
    "#   protein - Sequence of the protein to be digested. (pyopenms.AASequence)\n",
    "#   output - Empty list. This is where produced peptides will be stored. Warning: if the list is not empty, all its contents will be deleted! (list)\n",
    "#\n",
    "#   -> returns number of peptides which did not meet length restrictions and were discarded. (int)\n",
    "```\n",
    "\n",
    "The other variant allows you to specify minimum and maximum length of\n",
    "peptides produced:\n",
    "\n",
    "``` cython\n",
    "digest(protein : pyopenms.AASequence, output : list, min_length : int, max_length : int) -> int\n",
    "#   protein - Sequence of the protein to be digested. (pyopenms.AASequence)\n",
    "#   output - Empty list. This is where produced peptides will be stored. Warning: if the list is not empty, all its contents will be deleted! (list)\n",
    "#   min_length - Minimum length of produced peptide. Shorter products will be discarded. (int)\n",
    "#   max_length - Maximum length of produced peptide. Longer products will be discarded. (int)\n",
    "#\n",
    "#   -> returns number of peptides which did not meet length restrictions and were discarded. (int)\n",
    "```\n",
    "\n",
    "## Proteolytic Digestion with Trypsin\n",
    "\n",
    "OpenMS has classes for proteolytic digestion which can be used as\n",
    "follows:"
   ],
   "id": "e7eb5da4-d847-48de-9a62-ec994576756e"
  },
  {
   "cell_type": "code",
   "execution_count": null,
   "metadata": {},
   "outputs": [],
   "source": [
    "import pyopenms as oms\n",
    "from urllib.request import urlretrieve\n",
    "\n",
    "gh = \"https://raw.githubusercontent.com/OpenMS/pyopenms-docs/master\"\n",
    "urlretrieve(gh + \"/src/data/P02769.fasta\", \"bsa.fasta\")\n",
    "\n",
    "dig = oms.ProteaseDigestion()\n",
    "dig.getEnzymeName()  # Trypsin\n",
    "bsa = \"\".join([l.strip() for l in open(\"bsa.fasta\").readlines()[1:]])\n",
    "bsa = oms.AASequence.fromString(bsa)\n",
    "# create all digestion products\n",
    "result = []\n",
    "dig.digest(bsa, result)\n",
    "print(result[4].toString())\n",
    "len(result)  # 82 peptides"
   ],
   "id": "e9b700c4-7a99-40b8-b8d6-d2da1139b8d5"
  },
  {
   "cell_type": "markdown",
   "metadata": {},
   "source": [
    "Very short peptides or even single amino acid digestion products are\n",
    "often discarded as they usually contain little information (e.g., are\n",
    "shared by many proteins making them useless to identify specific\n",
    "proteins or will not be detected in a real mass spectrum, since their\n",
    "peptide mass is below the usual minimal recorded mass). We now only\n",
    "generate digestion products with a length of $7$ to $40$."
   ],
   "id": "16a28f8b-120e-459f-9b83-e086bef83067"
  },
  {
   "cell_type": "code",
   "execution_count": null,
   "metadata": {},
   "outputs": [],
   "source": [
    "# only create peptides of length 7-40\n",
    "dig.digest(bsa, result, 7, 40)\n",
    "# print the results\n",
    "for s in result:\n",
    "    print(s.toString())"
   ],
   "id": "e4962d3f-9101-4b2a-86f9-66e3d61370b1"
  },
  {
   "cell_type": "markdown",
   "metadata": {},
   "source": [
    "Enzymatic digestion is often not perfect and sometimes enzymes miss\n",
    "cutting position (aka cleavage site), resulting in some larger peptides.\n",
    "These are a sequence of two or even more consecutive peptides within the\n",
    "protein sequence. We now allow up to two missed cleavages."
   ],
   "id": "c5ec6902-af31-4c8b-a0bb-01a431649502"
  },
  {
   "cell_type": "code",
   "execution_count": null,
   "metadata": {},
   "outputs": [],
   "source": [
    "# Allow two missed cleavages\n",
    "dig.setMissedCleavages(2)\n",
    "# only create peptides of length 7-40\n",
    "dig.digest(bsa, result, 7, 40)\n",
    "# print the results\n",
    "for s in result:\n",
    "    print(s.toString())"
   ],
   "id": "14d19453-5dd3-4f73-9a23-951e21c6220e"
  },
  {
   "cell_type": "markdown",
   "metadata": {},
   "source": [
    "## Semi-specific Digestion\n",
    "\n",
    "Sometimes digestion is only specific to a cleavage site on one end of\n",
    "resulting peptide, while the other end is cut unspecifically. It is\n",
    "possible to generate a range of peptides that could be produced as a\n",
    "result of such semi-specific digestion:"
   ],
   "id": "004ac5ca-8420-4425-a15d-654ec49c0c5b"
  },
  {
   "cell_type": "code",
   "execution_count": null,
   "metadata": {},
   "outputs": [],
   "source": [
    "# Check current specificity\n",
    "dig.getSpecificity() # 2\n",
    "# Set specificity parameter to semi-specific\n",
    "# dig.setSpecificity(1) is also supported (1 specific end)\n",
    "dig.setSpecificity(oms.EnzymaticDigestion.Specificity.SPEC_SEMI)\n",
    "\n",
    "# Short sample sequence\n",
    "seq = oms.AASequence.fromString(\"MCRTLH\")\n",
    "\n",
    "dig.digest(seq, result)\n",
    "len(result) # 10\n",
    "# Discard single-aa results\n",
    "dig.digest(seq, result, 2, len(seq.toString()) )\n",
    "for pep in result:\n",
    "    print(pep.toString())\n",
    "    # MCR, TLH, CR, TL, LH, MC"
   ],
   "id": "a00f8f91-2f75-4fb6-8d12-11a014904303"
  },
  {
   "cell_type": "markdown",
   "metadata": {},
   "source": [
    "## Proteolytic Digestion with Lys-C\n",
    "\n",
    "In the previous examples we used Trypsin as our enzyme of choice. We can\n",
    "of course also use different enzymes, these are defined in the\n",
    "`Enzymes.xml` file and can be accessed using the\n",
    "[EnzymesDB](https://pyopenms.readthedocs.io/en/latest/apidocs/_autosummary/pyopenms/pyopenms.EnzymesDB.html)\n",
    "object"
   ],
   "id": "67975745-63c2-4e15-bc79-963ca533cc5e"
  },
  {
   "cell_type": "code",
   "execution_count": null,
   "metadata": {},
   "outputs": [],
   "source": [
    "names = []\n",
    "oms.ProteaseDB().getAllNames(names)\n",
    "len(names)  # at least 25 by default\n",
    "e = oms.ProteaseDB().getEnzyme(\"Lys-C\")\n",
    "e.getRegExDescription()\n",
    "e.getRegEx()"
   ],
   "id": "13e9cee2-4eec-48aa-97a1-9c2e4f83af94"
  },
  {
   "cell_type": "markdown",
   "metadata": {},
   "source": [
    "Now that we have learned about the other enzymes available, we can use\n",
    "it to cut our protein of interest:"
   ],
   "id": "3e3f39a5-6b89-4776-8169-b772de28c8e8"
  },
  {
   "cell_type": "code",
   "execution_count": null,
   "metadata": {},
   "outputs": [],
   "source": [
    "from urllib.request import urlretrieve\n",
    "\n",
    "gh = \"https://raw.githubusercontent.com/OpenMS/pyopenms-docs/master\"\n",
    "urlretrieve(gh + \"/src/data/P02769.fasta\", \"bsa.fasta\")\n",
    "\n",
    "dig = oms.ProteaseDigestion()\n",
    "dig.setEnzyme(\"Lys-C\")\n",
    "bsa = \"\".join([l.strip() for l in open(\"bsa.fasta\").readlines()[1:]])\n",
    "bsa = oms.AASequence.fromString(bsa)\n",
    "result = []\n",
    "dig.digest(bsa, result)\n",
    "print(result[4].toString())\n",
    "len(result)  # 57 peptides"
   ],
   "id": "59981e2d-ee3f-4459-b420-649b3ac3cc14"
  },
  {
   "cell_type": "markdown",
   "metadata": {},
   "source": [
    "We now get different digested peptides ($57$ vs $82$) and the fourth\n",
    "peptide is now `GLVLIAFSQYLQQCPFDEHVK` instead of `DTHK` as with Trypsin\n",
    "(see above).\n",
    "\n",
    "## Oligonucleotide Digestion\n",
    "\n",
    "There are multiple cleavage enzymes available for oligonucleotides,\n",
    "these are defined `Enzymes_RNA.xml` file and can be accessed using the\n",
    "[RNaseDB](https://pyopenms.readthedocs.io/en/latest/apidocs/_autosummary/pyopenms/pyopenms.RNaseDB.html)\n",
    "object"
   ],
   "id": "fc9d4dcb-6068-439e-8fcf-eaec5f18001e"
  },
  {
   "cell_type": "code",
   "execution_count": null,
   "metadata": {},
   "outputs": [],
   "source": [
    "db = oms.RNaseDB()\n",
    "names = []\n",
    "db.getAllNames(names)\n",
    "names\n",
    "# Will print out all available enzymes:\n",
    "# ['RNase_U2', 'RNase_T1', 'RNase_H', 'unspecific cleavage', 'no cleavage', 'RNase_MC1', 'RNase_A', 'cusativin']\n",
    "e = db.getEnzyme(\"RNase_T1\")\n",
    "e.getRegEx()\n",
    "e.getThreePrimeGain()"
   ],
   "id": "322b6aeb-e49d-4d92-b893-d16b5fbd892f"
  },
  {
   "cell_type": "markdown",
   "metadata": {},
   "source": [
    "We can now use it to cut an oligo:"
   ],
   "id": "c754a704-e146-47dc-b2ef-daf1c07ce233"
  },
  {
   "cell_type": "code",
   "execution_count": null,
   "metadata": {},
   "outputs": [],
   "source": [
    "oligo = oms.NASequence.fromString(\"pAUGUCGCAG\")\n",
    "\n",
    "dig = oms.RNaseDigestion()\n",
    "dig.setEnzyme(\"RNase_T1\")\n",
    "\n",
    "result = []\n",
    "dig.digest(oligo, result)\n",
    "for fragment in result:\n",
    "    print(fragment)\n",
    "\n",
    "print(\"Looking closer at\", result[0])\n",
    "print(\" Five Prime modification:\", result[0].getFivePrimeMod().getCode())\n",
    "print(\" Three Prime modification:\", result[0].getThreePrimeMod().getCode())\n",
    "for ribo in result[0]:\n",
    "    print(ribo.getCode(), ribo.getMonoMass(), ribo.isModified())"
   ],
   "id": "3fd90d3d-872e-4dce-8e7b-07a87093ad28"
  }
 ],
 "nbformat": 4,
 "nbformat_minor": 5,
 "metadata": {}
}
