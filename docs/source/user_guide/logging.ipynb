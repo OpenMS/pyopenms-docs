{
 "cells": [
  {
   "cell_type": "markdown",
   "metadata": {},
   "source": [
    "# Logging\n",
    "\n",
    "Since pyopenms is mainly a C(++) extension and it is not easy to\n",
    "redirect the complete C++ logging mechanism to python, it does not (yet)\n",
    "support full control over its logging with the built-in [python-based\n",
    "logging module](https://docs.python.org/3/library/logging.html).\n",
    "\n",
    "Instead, you currently need to control logging on the python side AND on\n",
    "the C extension side. Since our python-only part is rather small and\n",
    "does not use much logging, we will skip this part for now.\n",
    "\n",
    "Logging in the wrapped C extension part can be controlled by the\n",
    "following:"
   ],
   "id": "389fcabe-4dcc-4deb-bcef-ca4d20d650a6"
  },
  {
   "cell_type": "code",
   "execution_count": null,
   "metadata": {},
   "outputs": [],
   "source": [
    "import pyopenms as pyoms\n",
    "\n",
    "pyoms.LogConfigHandler().setLogLevel(\"ERROR\")"
   ],
   "id": "43933026-8508-46d7-9ef8-f869028e19f1"
  },
  {
   "cell_type": "markdown",
   "metadata": {},
   "source": [
    "Unfortunately, there are still some limitations: [OpenMS issue\n",
    "6827](https://github.com/OpenMS/OpenMS/issues/6827) Controlling logging\n",
    "inside the C extension is only supported globally per process. That\n",
    "means, once you change the log level, it will stay changed for all\n",
    "subsequent calls, until you change it back or the program terminates.\n",
    "Behaviour in multithreaded regions is untested."
   ],
   "id": "0b1ca167-524a-4a56-894e-1242fcb904d8"
  }
 ],
 "nbformat": 4,
 "nbformat_minor": 5,
 "metadata": {}
}
