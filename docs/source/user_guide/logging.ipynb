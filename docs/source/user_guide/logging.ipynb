{
 "cells": [
  {
   "cell_type": "markdown",
   "metadata": {},
   "source": [
    "# Logging\n",
    "\n",
    "Since pyopenms is mainly a C(++) extension and it is not easy to\n",
    "redirect the complete C++ logging mechanism to python, it does not (yet)\n",
    "support full control over its logging with the built-in [python-based\n",
    "logging module](https://docs.python.org/3/library/logging.html).\n",
    "\n",
    "Instead, you currently need to control logging on the python side AND on\n",
    "the C extension side. Since our python-only part is rather small and\n",
    "does not use much logging, we will skip this part for now.\n",
    "\n",
    "Logging in the wrapped C extension part can be controlled by the\n",
    "following:"
   ],
   "id": "6282e7b8-3bd3-430a-adb1-1eaa7adff581"
  },
  {
   "cell_type": "code",
   "execution_count": null,
   "metadata": {},
   "outputs": [],
   "source": [
    "import pyopenms as pyoms\n",
    "\n",
    "pyoms.LogConfigHandler().setLogLevel(\"ERROR\")"
   ],
   "id": "5da2dd7e-6383-447e-b0a2-bee1a14f6e1e"
  },
  {
   "cell_type": "markdown",
   "metadata": {},
   "source": [
    "Unfortunately, there are still some limitations: [OpenMS issue\n",
    "6827](https://github.com/OpenMS/OpenMS/issues/6827) Controlling logging\n",
    "inside the C extension is only supported globally per process. That\n",
    "means, once you change the log level, it will stay changed for all\n",
    "subsequent calls, until you change it back or the program terminates.\n",
    "Behaviour in multithreaded regions is untested."
   ],
   "id": "11c667cf-993c-4274-9553-72162b7bce47"
  }
 ],
 "nbformat": 4,
 "nbformat_minor": 5,
 "metadata": {}
}
