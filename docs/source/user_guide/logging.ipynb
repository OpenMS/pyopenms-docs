{
 "cells": [
  {
   "cell_type": "markdown",
   "metadata": {},
   "source": [
    "# Logging\n",
    "\n",
    "Since pyopenms is mainly a C(++) extension and it is not easy to\n",
    "redirect the complete C++ logging mechanism to python, it does not (yet)\n",
    "support full control over its logging with the built-in [python-based\n",
    "logging module](https://docs.python.org/3/library/logging.html).\n",
    "\n",
    "Instead, you currently need to control logging on the python side AND on\n",
    "the C extension side. Since our python-only part is rather small and\n",
    "does not use much logging, we will skip this part for now.\n",
    "\n",
    "Logging in the wrapped C extension part can be controlled by the\n",
    "following:"
   ],
   "id": "56fe3a08-7cbc-4716-9101-8231b9aef899"
  },
  {
   "cell_type": "code",
   "execution_count": null,
   "metadata": {},
   "outputs": [],
   "source": [
    "import pyopenms as pyoms\n",
    "\n",
    "pyoms.LogConfigHandler().setLogLevel(\"ERROR\")"
   ],
   "id": "228f7848-6eed-4250-8886-c50c8a4082ad"
  },
  {
   "cell_type": "markdown",
   "metadata": {},
   "source": [
    "Unfortunately, there are still some limitations: [OpenMS issue\n",
    "6827](https://github.com/OpenMS/OpenMS/issues/6827) Controlling logging\n",
    "inside the C extension is only supported globally per process. That\n",
    "means, once you change the log level, it will stay changed for all\n",
    "subsequent calls, until you change it back or the program terminates.\n",
    "Behaviour in multithreaded regions is untested."
   ],
   "id": "62a62bab-16b4-4b4c-9e06-93cd3fa48396"
  }
 ],
 "nbformat": 4,
 "nbformat_minor": 5,
 "metadata": {}
}
