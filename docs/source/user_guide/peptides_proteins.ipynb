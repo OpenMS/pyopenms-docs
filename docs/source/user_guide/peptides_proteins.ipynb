{
 "cells": [
  {
   "cell_type": "markdown",
   "metadata": {},
   "source": [
    "# Peptides and Proteins\n",
    "\n",
    "Sequences of amino acids form peptides and proteins.\n",
    "\n",
    "## Amino Acid Sequences\n",
    "\n",
    "The\n",
    "[AASequence](https://pyopenms.readthedocs.io/en/latest/apidocs/_autosummary/pyopenms/pyopenms.AASequence.html)\n",
    "class handles amino acid sequences in OpenMS. A string of amino acid\n",
    "residues can be turned into a instance of\n",
    "[AASequence](https://pyopenms.readthedocs.io/en/latest/apidocs/_autosummary/pyopenms/pyopenms.AASequence.html)\n",
    "to provide some commonly used operations like chemical formula, weight,\n",
    "and isotope distribution calculations.\n",
    "\n",
    "The example below shows how amino acid sequences can be created and how\n",
    "basic mass calculations are conducted."
   ],
   "id": "c5db9cd6-6b0d-4d13-b8ce-43139e64551d"
  },
  {
   "cell_type": "code",
   "execution_count": null,
   "metadata": {
    "linenos": ""
   },
   "outputs": [],
   "source": [
    "import pyopenms as oms\n",
    "\n",
    "seq = oms.AASequence.fromString(\n",
    "    \"DFPIANGER\"\n",
    ")  # create AASequence object from string representation\n",
    "prefix = seq.getPrefix(4)  # extract prefix of length 4\n",
    "suffix = seq.getSuffix(5)  # extract suffix of length 5\n",
    "concat = seq + seq  # concatenate two sequences\n",
    "\n",
    "# print string representation of sequences\n",
    "print(\"Sequence:\", seq)\n",
    "print(\"Prefix:\", prefix)\n",
    "print(\"Suffix:\", suffix)\n",
    "print(\"Concatenated:\", concat)\n",
    "\n",
    "# some mass calculations\n",
    "mfull = seq.getMonoWeight()  # weight of M\n",
    "mprecursor = seq.getMonoWeight(oms.Residue.ResidueType.Full, 2)  # weight of M+2H\n",
    "\n",
    "# we can calculate mass-over-charge manually\n",
    "mz = seq.getMonoWeight(oms.Residue.ResidueType.Full, 2) / 2.0  # m/z of [M+2H]2+\n",
    "# or simply by:\n",
    "mz = seq.getMZ(2)  # same as above\n",
    "\n",
    "print()\n",
    "print(\"Monoisotopic mass of peptide [M] is\", mfull)\n",
    "print(\"Monoisotopic mass of peptide precursor [M+2H]2+ is\", mprecursor)\n",
    "print(\"Monoisotopic m/z of [M+2H]2+ is\", mz)"
   ],
   "id": "6008bba2-353d-4fe9-aff5-6af54636f2e9"
  },
  {
   "cell_type": "markdown",
   "metadata": {},
   "source": [
    "Which prints the amino acid sequence as well as the result of\n",
    "concatenating two sequences or taking the suffix of a sequence. We then\n",
    "compute the mass of the full peptide (`[M]`), the mass of the peptide\n",
    "precursor (`[M+2H]2+`) and m/z value of the peptide precursor\n",
    "(`[M+2H]2+`). Note that, the mass of the peptide precursor is shifted by\n",
    "two protons that are now attached to the molecules as charge carriers.\n",
    "(Detail: the proton mass of $1.007276\\ u$ is slightly different from the\n",
    "mass of an uncharged hydrogen atom at $1.007825\\ u$). We can easily\n",
    "calculate the charged weight of a `(M+2H)2+` ion and compute m/z simply\n",
    "dividing by the charge.\n",
    "\n",
    "``` output\n",
    "Sequence: DFPIANGER\n",
    "Prefix: DFPI\n",
    "Suffix: ANGER\n",
    "Concatenated: DFPIANGERDFPIANGER\n",
    "\n",
    "Monoisotopic mass of peptide [M] is 1017.4879641373001\n",
    "Monoisotopic mass of peptide precursor [M+2H]2+ is 1019.5025170708421\n",
    "Monoisotopic m/z of [M+2H]2+ is 509.7512585354211\n",
    "```\n",
    "\n",
    "The\n",
    "[AASequence](https://pyopenms.readthedocs.io/en/latest/apidocs/_autosummary/pyopenms/pyopenms.AASequence.html)\n",
    "object also allows iterations directly in Python:"
   ],
   "id": "a3fd68bf-446f-43a1-9338-52896ddb01fa"
  },
  {
   "cell_type": "code",
   "execution_count": null,
   "metadata": {
    "linenos": ""
   },
   "outputs": [],
   "source": [
    "seq = oms.AASequence.fromString(\"DFPIANGER\")\n",
    "\n",
    "print(\"The peptide\", str(seq), \"consists of the following amino acids:\")\n",
    "for aa in seq:\n",
    "    print(aa.getName(), \":\", aa.getMonoWeight())"
   ],
   "id": "aee7480d-fd6c-4dae-9135-410d693c6b22"
  },
  {
   "cell_type": "markdown",
   "metadata": {},
   "source": [
    "Which will print\n",
    "\n",
    "``` output\n",
    "The peptide DFPIANGER consists of the following amino acids:\n",
    "Aspartate : 133.0375092233\n",
    "Phenylalanine : 165.0789793509\n",
    "Proline : 115.0633292871\n",
    "Isoleucine : 131.0946294147\n",
    "Alanine : 89.04767922330001\n",
    "Asparagine : 132.0534932552\n",
    "Glycine : 75.0320291595\n",
    "Glutamate : 147.05315928710002\n",
    "Arginine : 174.1116764466\n",
    "```\n",
    "\n",
    "The N- and C-Terminus as well as the residues themself can be modified.\n",
    "The example below shows how to check for such modifications."
   ],
   "id": "bbd76803-e7d7-4bf8-a006-7184db22ee05"
  },
  {
   "cell_type": "code",
   "execution_count": null,
   "metadata": {
    "linenos": ""
   },
   "outputs": [],
   "source": [
    "seq = oms.AASequence.fromString(\"C[143]PKCK(Label:13C(6)15N(2))CR\")\n",
    "\n",
    "# check if AASequence has a N- or C-terminal modification\n",
    "if seq.hasNTerminalModification():\n",
    "    print(\"N-Term Modification: \", seq.getNTerminalModification().getFullId())\n",
    "if seq.hasCTerminalModification():\n",
    "    print(\"C-Term Modification: \", seq.getCTerminalModification().getFullId())\n",
    "# iterate over all residues and look for modifications\n",
    "for aa in seq:\n",
    "    if aa.isModified():\n",
    "        print(\n",
    "            aa.getName(), \":\", aa.getMonoWeight(), \":\", aa.getModificationName()\n",
    "        )\n",
    "    else:\n",
    "        print(aa.getName(), \":\", aa.getMonoWeight())"
   ],
   "id": "08c93ac8-a2ff-4624-b0c2-b8aab5fa8833"
  },
  {
   "cell_type": "markdown",
   "metadata": {},
   "source": [
    "Which will print:\n",
    "\n",
    "``` output\n",
    "N-Term Modification:  Pyro-carbamidomethyl (N-term C)\n",
    "Cysteine : 121.01974995329999\n",
    "Proline : 115.06332928709999\n",
    "Lysine : 146.1055284466\n",
    "Cysteine : 121.01974995329999\n",
    "Lysine : 154.11972844660002 : Label:13C(6)15N(2)\n",
    "Cysteine : 121.01974995329999\n",
    "Arginine : 174.1116764466\n",
    "```\n",
    "\n",
    "### Molecular Formula\n",
    "\n",
    "We can now combine our knowledge of\n",
    "[AASequence](https://pyopenms.readthedocs.io/en/latest/apidocs/_autosummary/pyopenms/pyopenms.AASequence.html)\n",
    "with what we learned in about\n",
    "[EmpiricalFormula](https://pyopenms.readthedocs.io/en/latest/apidocs/_autosummary/pyopenms/pyopenms.EmpiricalFormula.html)\n",
    "to get accurate mass and isotope distributions from the amino acid\n",
    "sequence. But first, let's get the formula of peptide:"
   ],
   "id": "efc7c176-ed53-41e0-8852-d96f6c180719"
  },
  {
   "cell_type": "code",
   "execution_count": null,
   "metadata": {
    "linenos": ""
   },
   "outputs": [],
   "source": [
    "seq = oms.AASequence.fromString(\"DFPIANGER\")\n",
    "seq_formula = seq.getFormula()\n",
    "print(\"Peptide\", seq, \"has molecular formula\", seq_formula)"
   ],
   "id": "78ec28d8-13c3-4590-b6dc-1ae32f806379"
  },
  {
   "cell_type": "markdown",
   "metadata": {},
   "source": [
    "### Isotope Patterns\n",
    "\n",
    "We now want to print the coarse (e.g., peaks only at nominal masses)\n",
    "distribution."
   ],
   "id": "a9625d69-8263-45d3-b0ad-d43fb625be80"
  },
  {
   "cell_type": "code",
   "execution_count": null,
   "metadata": {
    "linenos": ""
   },
   "outputs": [],
   "source": [
    "# print coarse isotope distribution\n",
    "coarse_isotopes = seq_formula.getIsotopeDistribution(\n",
    "    oms.CoarseIsotopePatternGenerator(6)\n",
    ")\n",
    "for iso in coarse_isotopes.getContainer():\n",
    "    print(\n",
    "        \"Isotope\", iso.getMZ(), \"has abundance\", iso.getIntensity() * 100, \"%\"\n",
    "    )"
   ],
   "id": "a19da037-4c77-4f73-8450-e7369ca7df0b"
  },
  {
   "cell_type": "markdown",
   "metadata": {},
   "source": [
    "For most applications in computational proteomics, the coarse isotope\n",
    "distribution is sufficient. But if we deal with very high resolution\n",
    "instruments, we still might want to calculate the isotopic fine\n",
    "structure. We use the\n",
    "[FineIsotopePatternGenerator](https://pyopenms.readthedocs.io/en/latest/apidocs/_autosummary/pyopenms/pyopenms.FineIsotopePatternGenerator.html)\n",
    "in OpenMS to reveal these additional peaks:"
   ],
   "id": "976332e1-b8b6-475b-b189-c0b1ca1527b8"
  },
  {
   "cell_type": "code",
   "execution_count": null,
   "metadata": {
    "linenos": ""
   },
   "outputs": [],
   "source": [
    "# print fine structure of isotope distribution\n",
    "fine_isotopes = seq_formula.getIsotopeDistribution(\n",
    "    oms.FineIsotopePatternGenerator(0.01)\n",
    ")  # max 0.01 unexplained probability\n",
    "for iso in fine_isotopes.getContainer():\n",
    "    print(\n",
    "        \"Isotope\", iso.getMZ(), \"has abundance\", iso.getIntensity() * 100, \"%\"\n",
    "    )"
   ],
   "id": "1eda0f61-e891-43fe-99e7-87d0e13ba0bf"
  },
  {
   "cell_type": "markdown",
   "metadata": {},
   "source": [
    "And plot the very similar looking distributions using standard\n",
    "`matplotlib` functionality:"
   ],
   "id": "acb5439b-4b6d-4727-8270-87d33189e418"
  },
  {
   "cell_type": "code",
   "execution_count": null,
   "metadata": {
    "linenos": ""
   },
   "outputs": [],
   "source": [
    "import math\n",
    "from matplotlib import pyplot as plt\n",
    "\n",
    "\n",
    "def plotIsotopeDistribution(isotope_distribution, title=\"Isotope distribution\"):\n",
    "    plt.title(title)\n",
    "    distribution = {\"mass\": [], \"abundance\": []}\n",
    "    for iso in isotope_distribution.getContainer():\n",
    "        distribution[\"mass\"].append(iso.getMZ())\n",
    "        distribution[\"abundance\"].append(iso.getIntensity() * 100)\n",
    "\n",
    "    bars = plt.bar(\n",
    "        distribution[\"mass\"], distribution[\"abundance\"], width=0.01, snap=False\n",
    "    )  # snap ensures that all bars are rendered\n",
    "\n",
    "    plt.ylim([0, 110])\n",
    "    plt.xticks(\n",
    "        range(\n",
    "            math.ceil(distribution[\"mass\"][0]) - 2,\n",
    "            math.ceil(distribution[\"mass\"][-1]) + 2,\n",
    "        )\n",
    "    )\n",
    "    plt.xlabel(\"Atomic mass (u)\")\n",
    "    plt.ylabel(\"Relative abundance (%)\")\n",
    "\n",
    "\n",
    "plt.figure(figsize=(10, 7))\n",
    "plt.subplot(1, 2, 1)\n",
    "plotIsotopeDistribution(coarse_isotopes, \"Isotope distribution - coarse\")\n",
    "plt.subplot(1, 2, 2)\n",
    "plotIsotopeDistribution(fine_isotopes, \"Isotope distribution - fine structure\")\n",
    "plt.show()"
   ],
   "id": "8aa53219-4328-4796-b961-2db655855f35"
  },
  {
   "cell_type": "markdown",
   "metadata": {},
   "source": [
    "![image](attachment:img/DFPIANGER_isoDistribution.png)\n",
    "\n",
    "### Fragment Ions\n",
    "\n",
    "We can easily calculate different ion types for amino acid sequences:"
   ],
   "attachments": {
    "img/DFPIANGER_isoDistribution.png": {
     "image/png": "[encoded data removed]"
    }
   },
   "id": "9d58d25d-4084-40fb-8ea0-788c745cac9e"
  },
  {
   "cell_type": "code",
   "execution_count": null,
   "metadata": {
    "linenos": ""
   },
   "outputs": [],
   "source": [
    "suffix = seq.getSuffix(3)  # y3 ion \"GER\"\n",
    "print(\"=\" * 35)\n",
    "print(\"y3 ion sequence:\", suffix)\n",
    "y3_formula = suffix.getFormula(oms.Residue.ResidueType.YIon, 2)  # y3++ ion\n",
    "suffix.getMonoWeight(oms.Residue.ResidueType.YIon, 2) / 2.0  # CORRECT\n",
    "suffix.getMonoWeight(oms.Residue.ResidueType.XIon, 2) / 2.0  # CORRECT\n",
    "suffix.getMonoWeight(oms.Residue.ResidueType.BIon, 2) / 2.0  # INCORRECT\n",
    "\n",
    "print(\"y3 mz:\", suffix.getMonoWeight(oms.Residue.ResidueType.YIon, 2) / 2.0)\n",
    "print(\"y3 molecular formula:\", y3_formula)"
   ],
   "id": "461978e2-1168-4ed1-9c20-85152aa05f40"
  },
  {
   "cell_type": "markdown",
   "metadata": {},
   "source": [
    "Which will produce\n",
    "\n",
    "``` output\n",
    "===================================\n",
    "y3 ion sequence: GER\n",
    "y3 mz: 181.09514385\n",
    "y3 molecular formula: C13H24N6O6\n",
    "```\n",
    "\n",
    "Easy, isn't it? To generate full theoretical spectra watch out for the\n",
    "more specialized (and faster)\n",
    "[TheoreticalSpectrumGenerator](https://pyopenms.readthedocs.io/en/latest/apidocs/_autosummary/pyopenms/pyopenms.TheoreticalSpectrumGenerator.html)\n",
    "which we will take a look at later.\n",
    "\n",
    "## Modified Sequences\n",
    "\n",
    "The\n",
    "[AASequence](https://pyopenms.readthedocs.io/en/latest/apidocs/_autosummary/pyopenms/pyopenms.AASequence.html)\n",
    "class can also handle modifications, modifications are specified using a\n",
    "unique string identifier present in the\n",
    "[ModificationsDB](https://pyopenms.readthedocs.io/en/latest/apidocs/_autosummary/pyopenms/pyopenms.ModificationsDB.html)\n",
    "in round brackets after the modified amino acid or by providing the mass\n",
    "of the residue in square brackets. For example\n",
    "`AASequence.fromString(\".DFPIAM(Oxidation)GER.\")` creates an instance of\n",
    "the peptide \"DFPIAMGER\" with an oxidized methionine. There are multiple\n",
    "ways to specify modifications, and\n",
    "`AASequence.fromString(\"DFPIAM(UniMod:35)GER\")`,\n",
    "`AASequence.fromString(\"DFPIAM[+16]GER\")` and\n",
    "`AASequence.fromString(\"DFPIAM[147]GER\")` are all equivalent)."
   ],
   "id": "023b40ee-79be-4baa-987d-033c8ba11489"
  },
  {
   "cell_type": "code",
   "execution_count": null,
   "metadata": {
    "linenos": ""
   },
   "outputs": [],
   "source": [
    "seq = oms.AASequence.fromString(\"PEPTIDESEKUEM(Oxidation)CER\")\n",
    "print(seq.toUnmodifiedString())\n",
    "print(seq.toString())\n",
    "print(seq.toUniModString())\n",
    "print(seq.toBracketString())\n",
    "print(seq.toBracketString(False))\n",
    "\n",
    "print(oms.AASequence.fromString(\"DFPIAM(UniMod:35)GER\"))\n",
    "print(oms.AASequence.fromString(\"DFPIAM[+16]GER\"))\n",
    "print(oms.AASequence.fromString(\"DFPIAM[+15.99]GER\"))\n",
    "print(oms.AASequence.fromString(\"DFPIAM[147]GER\"))\n",
    "print(oms.AASequence.fromString(\"DFPIAM[147.035405]GER\"))"
   ],
   "id": "e1569ba6-3c78-4bd2-87db-f9eff72b78c1"
  },
  {
   "cell_type": "markdown",
   "metadata": {},
   "source": [
    "The above code outputs:\n",
    "\n",
    "``` output\n",
    "PEPTIDESEKUEMCER\n",
    "PEPTIDESEKUEM(Oxidation)CER\n",
    "PEPTIDESEKUEM(UniMod:35)CER\n",
    "PEPTIDESEKUEM[147]CER\n",
    "PEPTIDESEKUEM[147.0354000171]CER\n",
    "\n",
    "DFPIAM(Oxidation)GER\n",
    "DFPIAM(Oxidation)GER\n",
    "DFPIAM(Oxidation)GER\n",
    "DFPIAM(Oxidation)GER\n",
    "DFPIAM(Oxidation)GER\n",
    "```\n",
    "\n",
    "Note there is a subtle difference between\n",
    "`AASequence.fromString(\".DFPIAM[+16]GER.\")` and\n",
    "`AASequence.fromString(\".DFPIAM[+15.9949]GER.\")` - while the former will\n",
    "try to find the first modification matching to a mass difference of\n",
    "$16 \\pm 0.5$, the latter will try to find the closest matching\n",
    "modification to the exact mass. The exact mass approach usually gives\n",
    "the intended results while the first approach may or may not. In all\n",
    "instances, it is better to use an exact description of the desired\n",
    "modification, such as UniMod, instead of mass differences.\n",
    "\n",
    "N- and C-terminal modifications are represented by brackets to the right\n",
    "of the dots terminating the sequence. For example,\n",
    "`\".(Dimethyl)DFPIAMGER.\"` and `\".DFPIAMGER.(Label:18O(2))\"` represent\n",
    "the labelling of the N- and C-terminus respectively, but\n",
    "`\".DFPIAMGER(Phospho).\"` will be interpreted as a phosphorylation of the\n",
    "last arginine at its side chain:"
   ],
   "id": "a5043494-063b-47cb-9362-1f63344266ef"
  },
  {
   "cell_type": "code",
   "execution_count": null,
   "metadata": {
    "linenos": ""
   },
   "outputs": [],
   "source": [
    "s = oms.AASequence.fromString(\".(Dimethyl)DFPIAMGER.\")\n",
    "print(s, s.hasNTerminalModification())\n",
    "s = oms.AASequence.fromString(\".DFPIAMGER.(Label:18O(2))\")\n",
    "print(s, s.hasCTerminalModification())\n",
    "s = oms.AASequence.fromString(\".DFPIAMGER(Phospho).\")\n",
    "print(s, s.hasCTerminalModification())"
   ],
   "id": "1bde0345-b0af-4538-ad9d-d8d7637fea9d"
  },
  {
   "cell_type": "markdown",
   "metadata": {},
   "source": [
    "Arbitrary / unknown amino acids (usually due to an unknown modification)\n",
    "can be specified using tags preceded by `X`: `X[weight]`. This indicates\n",
    "a new amino acid (\"`X`\") with the specified weight, e.g. `RX[148.5]T`.\n",
    "Note that this tag does not alter the amino acids to the left (`R`) or\n",
    "right (`T`). Rather, `X` represents an amino acid on its own. Be careful\n",
    "when converting such\n",
    "[AASequence](https://pyopenms.readthedocs.io/en/latest/apidocs/_autosummary/pyopenms/pyopenms.AASequence.html)\n",
    "objects to an EmpiricalFormula using\n",
    "[AASequence.getFormula](https://pyopenms.readthedocs.io/en/latest/apidocs/_autosummary/pyopenms/pyopenms.AASequence.getFormula.html),\n",
    "as tags will not be considered in this case (there exists no formula for\n",
    "them). However, they have an influence on\n",
    "[AASequence.getMonoWeight](https://pyopenms.readthedocs.io/en/latest/apidocs/_autosummary/pyopenms/pyopenms.AASequence.getMonoWeight.html)\n",
    "and\n",
    "[AASequence.getAverageWeight](https://pyopenms.readthedocs.io/en/latest/apidocs/_autosummary/pyopenms/pyopenms.AASequence.getAverageWeight.html)!\n",
    "\n",
    "## Applying Fixed or Variable Modifications to Sequences\n",
    "\n",
    "In this tutorial, we will cover a step-by-step guide on how to use the\n",
    "pyopenms library to generate modified peptides from a given amino acid\n",
    "sequence."
   ],
   "id": "79104e8e-321d-43d2-a381-2c9bcafca553"
  },
  {
   "cell_type": "code",
   "execution_count": null,
   "metadata": {
    "linenos": ""
   },
   "outputs": [],
   "source": [],
   "id": "dddbd5b4-e532-4493-a75a-16e9f0b9f53e"
  },
  {
   "cell_type": "markdown",
   "metadata": {},
   "source": [
    "> import pyopenms as poms\n",
    "\n",
    "\\# Create an amino acid sequence using the fromString() method of the\n",
    "AASequence class. \\# In this example, we will use the amino acid\n",
    "sequence \"TESTMTECSTMTESTR\" sequence =\n",
    "poms.AASequence.fromString(\"TESTMTECSTMTESTR\")\n",
    "\n",
    "\\# We use the names \"Oxidation (M)\" and \"Carbamidomethyl (C)\" for the\n",
    "variable and fixed modifications, respectively. variable_mod_names =\n",
    "\\[b\"Oxidation (M)\"\\] fixed_mod_names = \\[b\"Carbamidomethyl (C)\"\\]\n",
    "\n",
    "\\# We then use the getModifications() method of the\n",
    "ModifiedPeptideGenerator class to get the modifications for these names.\n",
    "variable_modifications =\n",
    "poms.ModifiedPeptideGenerator.getModifications(variable_mod_names)\n",
    "fixed_modifications =\n",
    "poms.ModifiedPeptideGenerator.getModifications(fixed_mod_names)\n",
    "\n",
    "\\# Apply the fixed modifications to the amino acid sequence\n",
    "poms.ModifiedPeptideGenerator.applyFixedModifications(fixed_modifications,\n",
    "sequence)\n",
    "\n",
    "\\# Define the maximum number of variable modifications allowed\n",
    "max_variable_mods = 1\n",
    "\n",
    "\\# Generate the modified peptides peptides_with_variable_modifications =\n",
    "\\[\\] keep_unmodified_in_result = False\n",
    "poms.ModifiedPeptideGenerator.applyVariableModifications(variable_modifications,\n",
    "sequence, max_variable_mods, peptides_with_variable_modifications,\n",
    "keep_unmodified_in_result)\n",
    "\n",
    "\\# Print the modified peptides generated using Fixed modifications and\n",
    "their mono-isotopic mass. print(\"Fixed:\", sequence.toString())\n",
    "print(\"Mono-isotopic mass:\", sequence.getMonoWeight())\n",
    "\n",
    "\\# Print the modified peptides generated using variable modifications\n",
    "and their mono-isotopic mass. for peptide in\n",
    "peptides_with_variable_modifications: print(\"Variable:\",\n",
    "peptide.toString()) print(\"Mono-isotopic mass:\",\n",
    "peptide.getMonoWeight())\n",
    "\n",
    "The above code outputs:\n",
    "\n",
    "``` output\n",
    "Fixed: TESTMTEC(Carbamidomethyl)STMTESTR\n",
    "Mono-isotopic mass: 1850.7332409542007\n",
    "Variable: TESTMTEC(Carbamidomethyl)STM(Oxidation)TESTR\n",
    "Mono-isotopic mass: 1866.7281559542005\n",
    "Variable: TESTM(Oxidation)TEC(Carbamidomethyl)STMTESTR\n",
    "Mono-isotopic mass: 1866.7281559542005\n",
    "```\n",
    "\n",
    "## Proteins and [FASTA](https://pyopenms.readthedocs.io/en/latest/user_guide/glossary.html#term-FASTA) Files\n",
    "\n",
    "Protein sequences, can be loaded from and stored in\n",
    "[FASTA](https://pyopenms.readthedocs.io/en/latest/user_guide/glossary.html#term-FASTA)\n",
    "protein databases using\n",
    "[FASTAFile](https://pyopenms.readthedocs.io/en/latest/apidocs/_autosummary/pyopenms/pyopenms.FASTAFile.html).\n",
    "The example below shows how protein sequences can be stored in\n",
    "[FASTA](https://pyopenms.readthedocs.io/en/latest/user_guide/glossary.html#term-FASTA)\n",
    "files and loaded back in pyOpenMS:"
   ],
   "id": "495af630-3243-4b9e-90dd-6012307f4731"
  },
  {
   "cell_type": "code",
   "execution_count": null,
   "metadata": {
    "linenos": ""
   },
   "outputs": [],
   "source": [
    "bsa = oms.FASTAEntry()  # one entry in a FASTA file\n",
    "bsa.sequence = \"MKWVTFISLLLLFSSAYSRGVFRRDTHKSEIAHRFKDLGE\"\n",
    "bsa.description = \"BSA Bovine Albumin (partial sequence)\"\n",
    "bsa.identifier = \"BSA\"\n",
    "alb = oms.FASTAEntry()\n",
    "alb.sequence = \"MKWVTFISLLFLFSSAYSRGVFRRDAHKSEVAHRFKDLGE\"\n",
    "alb.description = \"ALB Human Albumin (partial sequence)\"\n",
    "alb.identifier = \"ALB\"\n",
    "\n",
    "entries = [bsa, alb]\n",
    "\n",
    "f = oms.FASTAFile()\n",
    "f.store(\"example.fasta\", entries)"
   ],
   "id": "9cde0d11-8ec9-4926-9c87-610b7b5f6201"
  },
  {
   "cell_type": "markdown",
   "metadata": {},
   "source": [
    "Afterwards, the `example.fasta` file can be read again from the disk:"
   ],
   "id": "749b3d34-49ed-47e0-bcb6-a0fae58f0a3f"
  },
  {
   "cell_type": "code",
   "execution_count": null,
   "metadata": {
    "linenos": ""
   },
   "outputs": [],
   "source": [
    "entries = []\n",
    "f = oms.FASTAFile()\n",
    "f.load(\"example.fasta\", entries)\n",
    "print(len(entries))\n",
    "for e in entries:\n",
    "    print(e.identifier, e.sequence)"
   ],
   "id": "c697b5d1-f0c2-4c9c-8260-a2b8bda87dfb"
  }
 ],
 "nbformat": 4,
 "nbformat_minor": 5,
 "metadata": {}
}
