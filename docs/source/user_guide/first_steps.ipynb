{
 "cells": [
  {
   "cell_type": "markdown",
   "metadata": {},
   "source": [
    "# Import pyOpenMS\n",
    "\n",
    "After installation, you should be able to import pyOpenMS as a package"
   ],
   "id": "b779c287-2390-4260-b395-898b369f71f0"
  },
  {
   "cell_type": "code",
   "execution_count": null,
   "metadata": {},
   "outputs": [],
   "source": [
    "import pyopenms"
   ],
   "id": "9dbdc26a-7078-46cf-b45b-bd7894894b5c"
  },
  {
   "cell_type": "markdown",
   "metadata": {},
   "source": [
    "which should now give you access to all of pyOpenMS. You should now be\n",
    "able to interact with the OpenMS library and, for example, read and\n",
    "write\n",
    "[mzML](https://pyopenms.readthedocs.io/en/latest/user_guide/glossary.html#term-mzML)\n",
    "files:"
   ],
   "id": "9f0dbd91-ece0-4648-ab61-63382cab3972"
  },
  {
   "cell_type": "code",
   "execution_count": null,
   "metadata": {},
   "outputs": [],
   "source": [
    "import pyopenms as oms\n",
    "\n",
    "exp = oms.MSExperiment()\n",
    "oms.MzMLFile().store(\"testfile.mzML\", exp)"
   ],
   "id": "77b9cc43-1ae9-4e78-8c66-1dda5ce1459f"
  },
  {
   "cell_type": "markdown",
   "metadata": {},
   "source": [
    "which will create an empty\n",
    "[mzML](https://pyopenms.readthedocs.io/en/latest/user_guide/glossary.html#term-mzML)\n",
    "file called <span class=\"title-ref\">testfile.mzML</span>.\n",
    "\n",
    "# Using the Help Function\n",
    "\n",
    "There are multiple ways to get information about the available functions\n",
    "and methods. We can inspect individual pyOpenMS objects through the\n",
    "`Python` `help` function:"
   ],
   "id": "f5a29bde-99db-4fde-b70b-14d5c01fbea0"
  },
  {
   "cell_type": "code",
   "execution_count": null,
   "metadata": {},
   "outputs": [],
   "source": [
    "help(oms.MSExperiment)"
   ],
   "id": "3d9e05eb-914e-438d-8095-2b3d3f286224"
  },
  {
   "cell_type": "markdown",
   "metadata": {},
   "source": [
    "``` output\n",
    "class MSExperiment(builtins.object)\n",
    " |  Cython implementation of _MSExperiment\n",
    " |   -- Inherits from ['ExperimentalSettings', 'RangeManager2']\n",
    " |  \n",
    " |  In-Memory representation of a mass spectrometry experiment.\n",
    " |  -----\n",
    " |  Contains the data and metadata of an experiment performed with an MS (or\n",
    " |  HPLC and MS). This representation of an MS experiment is organized as list\n",
    " |  of spectra and chromatograms and provides an in-memory representation of\n",
    " |  popular mass-spectrometric file formats such as mzXML or mzML. The\n",
    " |  meta-data associated with an experiment is contained in\n",
    " |  ExperimentalSettings (by inheritance) while the raw data (as well as\n",
    " |  spectra and chromatogram level meta data) is stored in objects of type\n",
    " |  MSSpectrum and MSChromatogram, which are accessible through the getSpectrum\n",
    " |  and getChromatogram functions.\n",
    " |  -----\n",
    " |  Spectra can be accessed by direct iteration or by getSpectrum(),\n",
    " |  while chromatograms are accessed through getChromatogram().\n",
    " |  See help(ExperimentalSettings) for information about meta-data.\n",
    " |  \n",
    " |  Methods defined here:\n",
    "\n",
    " [...]\n",
    "```\n",
    "\n",
    "which lists information on the\n",
    "[MSExperiment](https://pyopenms.readthedocs.io/en/latest/apidocs/_autosummary/pyopenms/pyopenms.MSExperiment.html)\n",
    "class, including a description of the main purpose of the class and how\n",
    "the class is intended to be used. Additional useful information is\n",
    "presented in the `Inherits from` section which points to additional\n",
    "classes that act as base classes to\n",
    "[MSExperiment](https://pyopenms.readthedocs.io/en/latest/apidocs/_autosummary/pyopenms/pyopenms.MSExperiment.html)\n",
    "and that contain further information. The list of available methods is\n",
    "long (but does *not* include methods from the base classes) and reveals\n",
    "that the class exposes methods such as\n",
    "[MSExperiment.getNrSpectra](https://pyopenms.readthedocs.io/en/latest/apidocs/_autosummary/pyopenms/pyopenms.MSExperiment.getNrSpectra.html)\n",
    "and\n",
    "[MSExperiment.getSpectrum(id)](https://pyopenms.readthedocs.io/en/latest/apidocs/_autosummary/pyopenms/pyopenms.MSExperiment.getSpectrum(id).html)\n",
    "where the argument `id` indicates the spectrum identifier. The command\n",
    "also lists the signature for each function, allowing users to identify\n",
    "the function arguments and return types. We can gain further information\n",
    "about exposed methods by investigating the documentation of the base\n",
    "classes:"
   ],
   "id": "89f2c5e5-573e-4b5b-b734-ea4250054714"
  },
  {
   "cell_type": "code",
   "execution_count": null,
   "metadata": {},
   "outputs": [],
   "source": [
    "help(oms.ExperimentalSettings)"
   ],
   "id": "49c19386-8aa7-4baa-b70e-dfc07950d215"
  },
  {
   "cell_type": "markdown",
   "metadata": {},
   "source": [
    "``` output\n",
    "Help on class ExperimentalSettings in module pyopenms.pyopenms_4:\n",
    "\n",
    "class ExperimentalSettings(builtins.object)\n",
    " |  Cython implementation of _ExperimentalSettings\n",
    " |   -- Inherits from ['DocumentIdentifier', 'MetaInfoInterface']\n",
    " |  \n",
    " |  Description of the experimental settings, provides meta-information\n",
    " |  about an LC-MS/MS injection.\n",
    " |  \n",
    " |  Methods defined here:\n",
    "\n",
    " [...]\n",
    "```\n",
    "\n",
    "We could now continue our investigation by reading the documentation of\n",
    "the base classes\n",
    "[DocumentIdentifier](https://pyopenms.readthedocs.io/en/latest/apidocs/_autosummary/pyopenms/pyopenms.DocumentIdentifier.html)\n",
    "and\n",
    "[MetaInfoInterface](https://pyopenms.readthedocs.io/en/latest/apidocs/_autosummary/pyopenms/pyopenms.MetaInfoInterface.html),\n",
    "but we will leave this exercise for the interested reader. For a more\n",
    "complete documentation of the underlying wrapped methods, please consult\n",
    "the official OpenMS documentation, in this case the [MSExperiment\n",
    "documentation](https://abibuilder.cs.uni-tuebingen.de/archive/openms/Documentation/release/latest/html/classOpenMS_1_1MSExperiment.html).\n",
    "\n",
    "# First Look at Data\n",
    "\n",
    "## File Reading\n",
    "\n",
    "pyOpenMS supports a variety of different files through the\n",
    "implementations in OpenMS. In order to read mass spectrometric data, we\n",
    "can download the\n",
    "[mzML](https://pyopenms.readthedocs.io/en/latest/user_guide/glossary.html#term-mzML)\n",
    "example file:"
   ],
   "id": "4181b662-8c0c-49db-beb5-e920874ebb2f"
  },
  {
   "cell_type": "code",
   "execution_count": null,
   "metadata": {},
   "outputs": [],
   "source": [
    "from urllib.request import urlretrieve\n",
    "\n",
    "# download small example file\n",
    "gh = \"https://raw.githubusercontent.com/OpenMS/pyopenms-docs/master\"\n",
    "urlretrieve(gh + \"/src/data/tiny.mzML\", \"tiny.mzML\")\n",
    "exp = oms.MSExperiment()\n",
    "# load example file\n",
    "oms.MzMLFile().load(\"tiny.mzML\", exp)"
   ],
   "id": "4f55dad8-0926-42d2-ad0c-39b5f45823bd"
  },
  {
   "cell_type": "markdown",
   "metadata": {},
   "source": [
    "which will load the content of the `tiny.mzML` file into the `exp`\n",
    "variable of type\n",
    "[MSExperiment](https://pyopenms.readthedocs.io/en/latest/apidocs/_autosummary/pyopenms/pyopenms.MSExperiment.html).\n",
    "We can now inspect the properties of this object:"
   ],
   "id": "618417a5-9619-4587-b5f0-4c5b2d72948d"
  },
  {
   "cell_type": "code",
   "execution_count": null,
   "metadata": {},
   "outputs": [],
   "source": [
    "help(exp)"
   ],
   "id": "1d12671d-2087-4ef0-ab25-bd90ac38a699"
  },
  {
   "cell_type": "markdown",
   "metadata": {},
   "source": [
    "``` output\n",
    "class MSExperiment(builtins.object)\n",
    " |  Cython implementation of _MSExperiment\n",
    " |   -- Inherits from ['ExperimentalSettings', 'RangeManager2']\n",
    "\n",
    "\n",
    " [...]\n",
    "\n",
    " |  Methods defined here:\n",
    "\n",
    " [...]\n",
    "\n",
    " |  getNrChromatograms(...)\n",
    " |      Cython signature: size_t getNrChromatograms()\n",
    " |\n",
    " |  getNrSpectra(...)\n",
    " |      Cython signature: size_t getNrSpectra()\n",
    " |\n",
    "\n",
    " [...]\n",
    "```\n",
    "\n",
    "which indicates that the variable `exp` has (among others) the functions\n",
    "[MSExperiment.getNrSpectra](https://pyopenms.readthedocs.io/en/latest/apidocs/_autosummary/pyopenms/pyopenms.MSExperiment.getNrSpectra.html)\n",
    "and\n",
    "[MSExperiment.getNrChromatograms](https://pyopenms.readthedocs.io/en/latest/apidocs/_autosummary/pyopenms/pyopenms.MSExperiment.getNrChromatograms.html).\n",
    "We can now try these functions:"
   ],
   "id": "b7c8a2b5-7954-4b25-a68e-2dc2a728de45"
  },
  {
   "cell_type": "code",
   "execution_count": null,
   "metadata": {},
   "outputs": [],
   "source": [
    "print(exp.getNrSpectra())\n",
    "print(exp.getNrChromatograms())"
   ],
   "id": "9d1cbad5-210d-4bc5-a98d-210b4bf6a5be"
  },
  {
   "cell_type": "markdown",
   "metadata": {},
   "source": [
    "``` output\n",
    "4\n",
    "2\n",
    "```\n",
    "\n",
    "and indeed we see that we get information about the underlying MS data.\n",
    "We can iterate through the spectra as follows:\n",
    "\n",
    "## Iteration"
   ],
   "id": "d30ab8c9-4d0b-4f7d-9140-83f16e051714"
  },
  {
   "cell_type": "code",
   "execution_count": null,
   "metadata": {},
   "outputs": [],
   "source": [
    "for spec in exp:\n",
    "    print(\"MS Level:\", spec.getMSLevel())"
   ],
   "id": "b96fa02a-0d2f-488b-8132-21be7e003b2e"
  },
  {
   "cell_type": "markdown",
   "metadata": {},
   "source": [
    "``` output\n",
    "MS Level: 1\n",
    "MS Level: 2\n",
    "MS Level: 1\n",
    "MS Level: 1\n",
    "```\n",
    "\n",
    "This iterates through all available\n",
    "[MSSpectra](https://pyopenms.readthedocs.io/en/latest/apidocs/_autosummary/pyopenms/pyopenms.MSSpectra.html),\n",
    "we can also access spectra through the `[]` operator:"
   ],
   "id": "c6322646-4157-4bb2-a202-255861677390"
  },
  {
   "cell_type": "code",
   "execution_count": null,
   "metadata": {},
   "outputs": [],
   "source": [
    "print(\"MS Level:\", exp[1].getMSLevel())"
   ],
   "id": "58d80916-99d2-49b0-af0a-b470d822da46"
  },
  {
   "cell_type": "markdown",
   "metadata": {},
   "source": [
    "``` output\n",
    "MS Level: 2\n",
    "```\n",
    "\n",
    "Note that `spec[1]` will access the *second* spectrum (arrays start at\n",
    "`0`). We can access the raw peaksthrough\n",
    "[MSSpectrum.get_peaks()](https://pyopenms.readthedocs.io/en/latest/apidocs/_autosummary/pyopenms/pyopenms.MSSpectrum.get_peaks().html):"
   ],
   "id": "76ee2a70-0117-4d36-a3fe-b2b8dbfe2ec7"
  },
  {
   "cell_type": "code",
   "execution_count": null,
   "metadata": {},
   "outputs": [],
   "source": [
    "spec = exp[1]\n",
    "mz, intensity = spec.get_peaks()\n",
    "print(sum(intensity))"
   ],
   "id": "98e5ce6e-7775-4e6d-94a0-6c4eceb53472"
  },
  {
   "cell_type": "markdown",
   "metadata": {},
   "source": [
    "``` output\n",
    "110\n",
    "```\n",
    "\n",
    "Which will access the data using a numpy array, storing the m/z\n",
    "information in the mz vector and the intensity in the `i` vector.\n",
    "Alternatively, we can also iterate over individual peaks objects as\n",
    "follows (this tends to be slower):"
   ],
   "id": "d339bd16-b379-4648-b911-882650b1c429"
  },
  {
   "cell_type": "code",
   "execution_count": null,
   "metadata": {},
   "outputs": [],
   "source": [
    "for peak in spec:\n",
    "    print(peak.getIntensity())"
   ],
   "id": "38aaa7a1-0ab6-47b5-ac62-863809f1f349"
  },
  {
   "cell_type": "markdown",
   "metadata": {},
   "source": [
    "``` output\n",
    "20.0\n",
    "18.0\n",
    "16.0\n",
    "14.0\n",
    "12.0\n",
    "10.0\n",
    "8.0\n",
    "6.0\n",
    "4.0\n",
    "2.0\n",
    "```\n",
    "\n",
    "## Total Ion Current Calculation\n",
    "\n",
    "Here, we will apply what we have learned to calculate the total ion\n",
    "current (TIC). The TIC represents the summed intensity across the entire\n",
    "range of masses being detected at every point in the analysis.\n",
    "Basically, we calculate the total ion current of the whole experiment.\n",
    "\n",
    "With this information, we can write a function that calculates the TIC\n",
    "for a given MS level:"
   ],
   "id": "1b96f0c1-2773-44ef-b62f-fd40e5b1cc02"
  },
  {
   "cell_type": "code",
   "execution_count": null,
   "metadata": {},
   "outputs": [],
   "source": [
    "# Calculates total ion current of an LC-MS/MS experiment\n",
    "def calcTIC(exp, mslevel):\n",
    "    tic = 0\n",
    "    # Iterate through all spectra of the experiment\n",
    "    for spec in exp:\n",
    "        # Only calculate TIC for matching (MS1) spectra\n",
    "        if spec.getMSLevel() == mslevel:\n",
    "            mz, i = spec.get_peaks()\n",
    "            tic += sum(i)\n",
    "    return tic"
   ],
   "id": "fb1653a2-e242-442f-9a41-21c65a50dd2e"
  },
  {
   "cell_type": "markdown",
   "metadata": {},
   "source": [
    "To calculate a TIC we would now call the function:"
   ],
   "id": "15948283-f996-4b88-82e9-3e94abcaa68b"
  },
  {
   "cell_type": "code",
   "execution_count": null,
   "metadata": {},
   "outputs": [],
   "source": [
    "print(calcTIC(exp, 1))\n",
    "print(sum([sum(s.get_peaks()[1]) for s in exp if s.getMSLevel() == 1]))\n",
    "print(calcTIC(exp, 2))"
   ],
   "id": "b7c21612-d65e-4adf-9d22-a1a420bf9ece"
  },
  {
   "cell_type": "markdown",
   "metadata": {},
   "source": [
    "``` output\n",
    "240.0\n",
    "240.0\n",
    "110.0\n",
    "```\n",
    "\n",
    "Note how one can compute the same property using list comprehensions in\n",
    "Python (see line number 3 in the above code which computes the TIC using\n",
    "filtering properties of Python list comprehensions\n",
    "(`s.getMSLevel() == 1`) and computes the sum over all peaks(right `sum`)\n",
    "and the sum over all spectra (left `sum`) to retrieve the TIC).\n",
    "\n",
    "## Total Ion Current Chromatogram\n",
    "\n",
    "The total ion current is visualized over the retention time, to allow\n",
    "for the inspection of areas with general high intensity (usually\n",
    "multiple analytes were measured there). This can help the\n",
    "experimentalist to optimize the chromatography for a better separation\n",
    "in a specific area.\n",
    "\n",
    "While some\n",
    "[mzML](https://pyopenms.readthedocs.io/en/latest/user_guide/glossary.html#term-mzML)\n",
    "files already contain a pre-computed total ion current chromatogram\n",
    "(TIC), we will show you how to calculate the TIC for\n",
    "[MS1](https://pyopenms.readthedocs.io/en/latest/user_guide/glossary.html#term-MS1).\n",
    "One can access the retention times and intensities of the TIC in\n",
    "different ways and generate a total ion current chromatogram (2D graph)\n",
    "using `matplotlib`:"
   ],
   "id": "f54dd2a3-1608-4a4a-a146-4aba1232d5e5"
  },
  {
   "cell_type": "code",
   "execution_count": null,
   "metadata": {
    "linenos": ""
   },
   "outputs": [],
   "source": [
    "import matplotlib.pyplot as plt\n",
    "from urllib.request import urlretrieve\n",
    "\n",
    "# retrieve MS data\n",
    "gh = \"https://raw.githubusercontent.com/OpenMS/pyopenms-docs/master\"\n",
    "urlretrieve(\n",
    "    gh + \"/src/data/FeatureFinderMetaboIdent_1_input.mzML\", \"ms_data.mzML\"\n",
    ")\n",
    "\n",
    "# load MS data into MSExperiment()\n",
    "exp = oms.MSExperiment()\n",
    "oms.MzMLFile().load(\"ms_data.mzML\", exp)\n",
    "\n",
    "# choose one of the following three methods to access the TIC data\n",
    "# 1) recalculate TIC data with the calculateTIC() function\n",
    "tic = exp.calculateTIC()\n",
    "retention_times, intensities = tic.get_peaks()\n",
    "\n",
    "# 2) get TIC data using list comprehensions\n",
    "retention_times = [spec.getRT() for spec in exp]\n",
    "intensities = [\n",
    "    sum(spec.get_peaks()[1]) for spec in exp if spec.getMSLevel() == 1\n",
    "]\n",
    "\n",
    "# 3) get TIC data looping over spectra in MSExperiment()\n",
    "retention_times = []\n",
    "intensities = []\n",
    "for spec in exp:\n",
    "    if spec.getMSLevel() == 1:\n",
    "        retention_times.append(spec.getRT())\n",
    "        intensities.append(sum(spec.get_peaks()[1]))\n",
    "\n",
    "# plot retention times and intensities and add labels\n",
    "plt.plot(retention_times, intensities)\n",
    "\n",
    "plt.title(\"TIC\")\n",
    "plt.xlabel(\"time (s)\")\n",
    "plt.ylabel(\"intensity (cps)\")\n",
    "\n",
    "plt.show()"
   ],
   "id": "12455191-1c73-4d36-9121-a0a2b5e9c784"
  },
  {
   "cell_type": "markdown",
   "metadata": {},
   "source": [
    "![image](attachment:img/TICPlot.png)"
   ],
   "attachments": {
    "img/TICPlot.png": {
     "image/png": "[encoded data removed]"
    }
   },
   "id": "c5452151-281d-4b22-b877-d4767f9053ff"
  }
 ],
 "nbformat": 4,
 "nbformat_minor": 5,
 "metadata": {}
}
