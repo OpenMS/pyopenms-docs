{
 "cells": [
  {
   "cell_type": "markdown",
   "metadata": {},
   "source": [
    "# Feature Map Annotation with Peptide Identifications\n",
    "\n",
    "A\n",
    "[feature map](https://pyopenms.readthedocs.io/en/latest/user_guide/glossary.html#term-feature-map)\n",
    "is usually obtained from running a\n",
    "[feature finder](https://pyopenms.readthedocs.io/en/latest/user_guide/glossary.html#term-feature-finder),\n",
    "e.g.\n",
    "[FeatureFinderAlgorithmPicked](https://pyopenms.readthedocs.io/en/latest/apidocs/_autosummary/pyopenms/pyopenms.FeatureFinderAlgorithmPicked.html)\n",
    "(see [Feature Detection](feature_detection.ipynb)). A logical next step\n",
    "is to compare features across runs using [Map\n",
    "Alignment](map_alignment.ipynb) and [Feature\n",
    "Linking](feature_linking.ipynb). However, most map aligners in pyOpenMS\n",
    "require features which are annotated with PSMs (see [Identication\n",
    "Data](identification_data.ipynb)). To link features to their respective\n",
    "PSMs (as obtained from a search engine, such as Comet), we can use the\n",
    "[IDMapper](https://pyopenms.readthedocs.io/en/latest/apidocs/_autosummary/pyopenms/pyopenms.IDMapper.html).\n",
    "\n",
    "## Step 0: Download Example data"
   ],
   "id": "84a46eac-542a-4486-acfb-98fc39219e50"
  },
  {
   "cell_type": "code",
   "execution_count": null,
   "metadata": {
    "linenos": ""
   },
   "outputs": [],
   "source": [
    "import pyopenms as oms\n",
    "from urllib.request import urlretrieve\n",
    "\n",
    "base_url = (\n",
    "    \"https://raw.githubusercontent.com/OpenMS/pyopenms-docs/master/src/data/\"\n",
    ")\n",
    "\n",
    "feature_file = \"BSA1_F1.featureXML\"\n",
    "urlretrieve(base_url + feature_file, feature_file)\n",
    "\n",
    "idxml_file = \"BSA1_F1.idXML\"\n",
    "urlretrieve(base_url + idxml_file, idxml_file)"
   ],
   "id": "6a51e427-cafe-41c4-ab06-b22de3b546ec"
  },
  {
   "cell_type": "markdown",
   "metadata": {},
   "source": [
    "## Step 1: Load the Feature Map\n",
    "\n",
    "First, load the FeatureMap from a\n",
    "<span class=\"title-ref\">.featureXML</span> file:"
   ],
   "id": "a5f569ba-e8a9-4062-ab12-4ef93b0f6f8e"
  },
  {
   "cell_type": "code",
   "execution_count": null,
   "metadata": {},
   "outputs": [],
   "source": [
    "import pyopenms as oms\n",
    "\n",
    "feature_map = oms.FeatureMap()\n",
    "oms.FeatureXMLFile().load(feature_file, feature_map)"
   ],
   "id": "b0b8dba0-4aef-4e9c-8c9d-63a5c760fa74"
  },
  {
   "cell_type": "markdown",
   "metadata": {},
   "source": [
    "## Step 2: Load Peptide Identifications\n",
    "\n",
    "Next, load the PeptideIdentifications from an\n",
    "<span class=\"title-ref\">.idXML</span> file:"
   ],
   "id": "9ccaa0fe-88ee-4138-bf61-159aa63bd83f"
  },
  {
   "cell_type": "code",
   "execution_count": null,
   "metadata": {},
   "outputs": [],
   "source": [
    "peptide_ids = []\n",
    "protein_ids = []\n",
    "oms.IdXMLFile().load(idxml_file, protein_ids, peptide_ids)"
   ],
   "id": "3bfb5d69-8bb1-4ad0-9f98-5208ccb43cbd"
  },
  {
   "cell_type": "markdown",
   "metadata": {},
   "source": [
    "## Step 3: Initialize and Configure <span class=\"title-ref\">IDMapper</span>\n",
    "\n",
    "Now, configure <span class=\"title-ref\">IDMapper</span> to apply\n",
    "**retention time (RT) and m/z tolerance settings**:"
   ],
   "id": "1112fd19-256a-4912-a749-d1745169e49f"
  },
  {
   "cell_type": "code",
   "execution_count": null,
   "metadata": {},
   "outputs": [],
   "source": [
    "id_mapper = oms.IDMapper()\n",
    "params = id_mapper.getParameters()\n",
    "params.setValue(\"rt_tolerance\", 5.0)  # RT tolerance in seconds\n",
    "params.setValue(\"mz_tolerance\", 10.0)  # m/z tolerance in ppm\n",
    "id_mapper.setParameters(params)"
   ],
   "id": "c1f0cbc9-bed5-45d4-bd7e-9d42af16f5c7"
  },
  {
   "cell_type": "markdown",
   "metadata": {},
   "source": [
    "## Step 4: Annotate the FeatureMap\n",
    "\n",
    "Use the configured <span class=\"title-ref\">IDMapper</span> to link\n",
    "peptide IDs to the FeatureMap:"
   ],
   "id": "e2704ce9-7977-48da-b4a4-80903f3a73f9"
  },
  {
   "cell_type": "code",
   "execution_count": null,
   "metadata": {},
   "outputs": [],
   "source": [
    "# annotate() can optionally use the underlying raw MS data (spectra) to annotate unidentified MS/MS scans to features in the FeatureMap\n",
    "# We don't need this here, so we provide an empty default.\n",
    "spectra = oms.MSExperiment()\n",
    "id_mapper.annotate(feature_map, peptide_ids, protein_ids, True, True, spectra)"
   ],
   "id": "dd6379ee-4f5c-420f-95c1-2cdcf90c9c24"
  },
  {
   "cell_type": "markdown",
   "metadata": {},
   "source": [
    "## Step 5: Save the Annotated FeatureMap\n",
    "\n",
    "Finally, store the modified FeatureMap back to a file:"
   ],
   "id": "fbd1e38b-6158-4f36-b059-39a682089c99"
  },
  {
   "cell_type": "code",
   "execution_count": null,
   "metadata": {},
   "outputs": [],
   "source": [
    "oms.FeatureXMLFile().store(\"BSA1_F1_annotated.featureXML\", feature_map)"
   ],
   "id": "ab8b4243-990d-4a66-a8ef-4b3ec609855e"
  },
  {
   "cell_type": "markdown",
   "metadata": {},
   "source": [
    "<div style=\"background-color: #F0E68C; margin: 10px 0px; padding:12px;\"><p style=\"font-size: x-large\"><i class=\"far fa-lightbulb\"></i> <b>Tip</b></p>\n",
    "\n",
    "You can visualize the annotated FeatureMap using OpenMS visualization\n",
    "tools like <span class=\"title-ref\">TOPPView</span>.\n",
    "\n",
    "</div>\n",
    "\n",
    "You have successfully **annotated a FeatureMap** with\n",
    "PeptideIdentifications using <span class=\"title-ref\">IDMapper</span>.\n",
    "This allows further downstream analysis in (py)OpenMS workflows."
   ],
   "id": "f85774c8-93a8-4e9b-b0f3-00b293865003"
  }
 ],
 "nbformat": 4,
 "nbformat_minor": 5,
 "metadata": {}
}
