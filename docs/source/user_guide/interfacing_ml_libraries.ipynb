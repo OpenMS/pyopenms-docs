{
 "cells": [
  {
   "cell_type": "markdown",
   "metadata": {},
   "source": [
    "# Interfacing with ML Libraries\n",
    "\n",
    "## Overview\n",
    "\n",
    "Machine Learning is the field of study that gives computers the\n",
    "capability to learn without being explicitly programmed. Machine\n",
    "learning (ML) is well known for its powerful ability to recognize\n",
    "patterns and signals. Recently, the mass spectrometry community has\n",
    "embraced ML techniques for large-scale data analysis.\n",
    "\n",
    "Predicting accurate retention times (RT) has shown to improve\n",
    "identification in bottom-up proteomics.\n",
    "\n",
    "In this tutorial we will predict the RT from amino acid sequence data\n",
    "using simple machine learning methods.\n",
    "\n",
    "First, we import all necessary libraries for this tutorial."
   ],
   "id": "dfff8ce9-e624-4dc1-921e-92b6c1dd46d1"
  },
  {
   "cell_type": "code",
   "execution_count": null,
   "metadata": {
    "linenos": ""
   },
   "outputs": [],
   "source": [
    "!pip install seaborn\n",
    "!pip install xgboost"
   ],
   "id": "6af30ddc-a55c-48cc-b96f-5e8b3348b5dc"
  },
  {
   "cell_type": "code",
   "execution_count": null,
   "metadata": {
    "linenos": ""
   },
   "outputs": [],
   "source": [
    "import pandas as pd\n",
    "import seaborn as sns\n",
    "import matplotlib.pyplot as plt\n",
    "import string\n",
    "from collections import Counter\n",
    "import numpy as np\n",
    "from urllib.request import urlretrieve"
   ],
   "id": "a428590a-b047-4a79-bb09-b0206b7310c6"
  },
  {
   "cell_type": "markdown",
   "metadata": {},
   "source": [
    "Once we have imported all libraries successfully, we are going to store\n",
    "the dataset in a variable."
   ],
   "id": "7b6cf73f-7609-485a-bd20-007a2900426e"
  },
  {
   "cell_type": "code",
   "execution_count": null,
   "metadata": {
    "linenos": ""
   },
   "outputs": [],
   "source": [
    "gh = \"https://raw.githubusercontent.com/OpenMS/pyopenms-docs/master\"\n",
    "urlretrieve(gh + \"/src/data/pyOpenMS_ML_Tutorial.tsv\", \"data.tsv\")\n",
    "tsv_data = pd.read_csv(\"data.tsv\", sep=\"\\t\", skiprows=17)"
   ],
   "id": "7a5fcf33-ed31-4dc8-9354-a6cb00e9490a"
  },
  {
   "cell_type": "markdown",
   "metadata": {},
   "source": [
    "Here, we have prepared a `tsv` file that contains three columns\n",
    "`sequence`, RT and `charge`. Note that this table could also be easily\n",
    "created from identification data as produced in previous chapters.\n",
    "\n",
    "Before we move forward lets try to understand more about our data:\n",
    "\n",
    "a\\. Sequence - Chains of amino acids form peptides or proteins. The\n",
    "arrangement of amino acids is referred as amino acid sequence. The\n",
    "composition and order of amino acids affect the physicochemical\n",
    "properties of the peptide and lead to different retention in the column.\n",
    "b. Retention time (RT) - is the time taken for an analyte to pass\n",
    "through a chromatography column.\n",
    "\n",
    "From the amino acid sequence we can derive additional properties\n",
    "(machine learning features) used to train our model.\n",
    "\n",
    "We can easily check for its shape by using the tsv_data.shape attribute,\n",
    "which will return the size of the dataset."
   ],
   "id": "86e42d51-d2a8-444a-8570-c743c2322dc1"
  },
  {
   "cell_type": "code",
   "execution_count": null,
   "metadata": {
    "linenos": ""
   },
   "outputs": [],
   "source": [
    "print(tsv_data.shape)"
   ],
   "id": "6326e09a-4e1f-4504-998f-70ccff07ce02"
  },
  {
   "cell_type": "markdown",
   "metadata": {},
   "source": [
    "``` output\n",
    "(15896, 3)\n",
    "```\n",
    "\n",
    "Explore the top 5 rows of the dataset by using head() method on pandas\n",
    "DataFrame."
   ],
   "id": "ba2a01bd-0145-4f6b-94ae-d84ac0107e3a"
  },
  {
   "cell_type": "code",
   "execution_count": null,
   "metadata": {
    "linenos": ""
   },
   "outputs": [],
   "source": [
    "tsv_data.head()"
   ],
   "id": "574e60cf-e42c-4d23-9cc1-6553ab84ca66"
  },
  {
   "cell_type": "markdown",
   "metadata": {},
   "source": [
    "``` output\n",
    "sequence        RT          charge\n",
    "0   EEETVAK             399.677766  2\n",
    "1   EQEEQQQQEGHNNK      624.555300  3\n",
    "2   SHGGHTVISK      625.797960  3\n",
    "3   SGTHNMYK        625.982520  2\n",
    "4   AARPTRPDK       626.073300  3\n",
    "```\n",
    "\n",
    "As the RT column is our response variable, we will be storing it\n",
    "separately as Y1_test"
   ],
   "id": "8aa2e5c3-1afc-4638-a6e0-1f4e8ae2c38d"
  },
  {
   "cell_type": "code",
   "execution_count": null,
   "metadata": {
    "linenos": ""
   },
   "outputs": [],
   "source": [
    "Y1_test = tsv_data[\"RT\"]"
   ],
   "id": "d0d61c4c-1f74-4d5e-8030-c976b2965749"
  },
  {
   "cell_type": "markdown",
   "metadata": {},
   "source": [
    "## Preprocessing\n",
    "\n",
    "Cleaning data before applying a machine learning method keeps the\n",
    "relevant information in potentially massive amount of data.\n",
    "\n",
    "Here we will apply some simple preprocessing to extract novel machine\n",
    "learning features from the amino acid sequences. Some of the parameters\n",
    "that can be derived are\n",
    "\n",
    "1.  {Alphabet}\\_count = The count of Amino Acids in the sequence.\n",
    "2.  {Alphabet}\\_freq = The count of Amino Acids divided by the total\n",
    "    length of the sequence.\n",
    "3.  length = The total number of amino acids in the sequence."
   ],
   "id": "74e0637d-5159-4f08-a0b3-555d59b4df80"
  },
  {
   "cell_type": "code",
   "execution_count": null,
   "metadata": {
    "linenos": ""
   },
   "outputs": [],
   "source": [
    "alphabet_list = list(string.ascii_uppercase)\n",
    "column_headers = (\n",
    "    [\"sequence\"]\n",
    "    + [i + \"_count\" for i in alphabet_list]\n",
    "    + [i + \"_freq\" for i in alphabet_list]\n",
    "    + [\"charge\", \"length\"]\n",
    ")\n",
    "types = (\n",
    "    [\"object\"]\n",
    "    + [\"int64\" for i in alphabet_list]\n",
    "    + [\"float64\" for i in alphabet_list]\n",
    "    + [\"int64\", \"int64\"]\n",
    ")\n",
    "pdcols = dict(zip(column_headers, types))"
   ],
   "id": "cc63e38e-4095-4053-9adf-9c4713fd7b34"
  },
  {
   "cell_type": "markdown",
   "metadata": {},
   "source": [
    "As we have all the column names, now we will start populating it."
   ],
   "id": "0a2a6581-856a-42bd-b9af-317fded73ff5"
  },
  {
   "cell_type": "code",
   "execution_count": null,
   "metadata": {
    "linenos": ""
   },
   "outputs": [],
   "source": [
    "df = pd.DataFrame(\n",
    "    np.zeros((len(tsv_data.index), len(column_headers))), columns=column_headers\n",
    ")\n",
    "\n",
    "df[\"sequence\"] = tsv_data[\"sequence\"]\n",
    "df[\"charge\"] = tsv_data[\"charge\"]\n",
    "\n",
    "# For populating the length column\n",
    "df[\"length\"] = df[\"sequence\"].str.len()\n",
    "\n",
    "df = df.astype(dtype=pdcols)\n",
    "\n",
    "\n",
    "# For populating the {alphabet}_count columns\n",
    "def count(row):\n",
    "    counts = Counter(row[\"sequence\"])\n",
    "    for count in counts:\n",
    "        row[count + \"_count\"] = int(counts[count])\n",
    "    return row\n",
    "\n",
    "\n",
    "df = df.apply(lambda row: count(row), axis=1)\n",
    "df.head()"
   ],
   "id": "fb85edb6-ffe1-4e5d-b055-6f66aeb40506"
  },
  {
   "cell_type": "markdown",
   "metadata": {},
   "source": [
    "``` output\n",
    "sequence            A_count B_count C_count D_count E_count F_count G_count H_count I_count ...     S_freq  T_freq  U_freq  V_freq  W_freq  X_freq  Y_freq  Z_freq  charge  length\n",
    "0   EEETVAK             1       0       0       0       3       0       0       0       0       ...     0.0         0.0     0.0     0.0     0.0     0.0     0.0     0.0     2       7\n",
    "1   EQEEQQQQEGHNNK      0       0       0       0       4       0       1       1       0       ...     0.0         0.0     0.0     0.0     0.0     0.0     0.0     0.0     3       14\n",
    "2   SHGGHTVISK      0       0       0       0       0       0       2       2       1       ...     0.0         0.0     0.0     0.0     0.0     0.0     0.0     0.0     3       10\n",
    "3   SGTHNMYK        0       0       0       0       0       0       1       1       0       ...     0.0         0.0     0.0     0.0     0.0     0.0     0.0     0.0     2       8\n",
    "4   AARPTRPDK       2       0       0       1       0       0       0       0       0       ...     0.0         0.0     0.0     0.0     0.0     0.0     0.0     0.0     3       9\n",
    "```\n",
    "\n",
    "Now we have completed all the data preprocessing steps. We have deduced\n",
    "a good amount of information from the amino acid sequences that might\n",
    "have influence on the retention time in the column.\n",
    "\n",
    "Now we are good to proceed on building the machine learning model.\n",
    "\n",
    "## Modelling"
   ],
   "id": "52f59346-8351-42f9-9434-4d50d8fbcc35"
  },
  {
   "cell_type": "code",
   "execution_count": null,
   "metadata": {
    "linenos": ""
   },
   "outputs": [],
   "source": [
    "import seaborn as sns\n",
    "import matplotlib.pyplot as plt\n",
    "\n",
    "from sklearn.model_selection import StratifiedKFold\n",
    "from xgboost import XGBRegressor\n",
    "from sklearn.model_selection import train_test_split\n",
    "from matplotlib import pyplot\n",
    "from sklearn.metrics import mean_squared_error\n",
    "from sklearn.model_selection import ShuffleSplit"
   ],
   "id": "007a295a-841b-40f8-8aaa-4310e2e3d3c4"
  },
  {
   "cell_type": "code",
   "execution_count": null,
   "metadata": {
    "linenos": ""
   },
   "outputs": [],
   "source": [
    "test_df = df.copy()\n",
    "test_df = test_df.drop(\"sequence\", axis=1)"
   ],
   "id": "8b838c12-9345-4c4e-a7de-d00df7d0b19e"
  },
  {
   "cell_type": "markdown",
   "metadata": {},
   "source": [
    "Now, we create the train and test set for cross-validation of the\n",
    "results using the `train_test_split` function from sklearn's\n",
    "model_selection module with test_size size equal to 30% of the data. To\n",
    "maintain reproducibility of the results, a random_state is also\n",
    "assigned."
   ],
   "id": "112d981e-5a53-46fa-bcda-1d4e26bebd8f"
  },
  {
   "cell_type": "code",
   "execution_count": null,
   "metadata": {
    "linenos": ""
   },
   "outputs": [],
   "source": [
    "# Splitting Test data into test and validation\n",
    "X_train, X_test, Y_train, Y_test = train_test_split(\n",
    "    test_df, Y1_test, test_size=0.3, random_state=3\n",
    ")"
   ],
   "id": "393fe6ee-f4c6-46fe-9ee5-d0bafdba10f5"
  },
  {
   "cell_type": "markdown",
   "metadata": {},
   "source": [
    "We will be using the `XGBRegressor()` class because it is clearly a\n",
    "regression problem as the response variable ( retention time ) is\n",
    "continuous."
   ],
   "id": "77a0e61d-e1bd-4824-acc7-a128ea3a97f0"
  },
  {
   "cell_type": "code",
   "execution_count": null,
   "metadata": {
    "linenos": ""
   },
   "outputs": [],
   "source": [
    "xg_reg = XGBRegressor(\n",
    "    n_estimators=300,\n",
    "    random_state=3,\n",
    "    max_leaves=5,\n",
    "    colsample_bytree=0.7,\n",
    "    max_depth=7,\n",
    ")"
   ],
   "id": "df65c1f8-61c9-44ff-9de5-656fa3f76e38"
  },
  {
   "cell_type": "markdown",
   "metadata": {},
   "source": [
    "Fit the regressor to the training set and make predictions on the test\n",
    "set using the familiar `.fit()` and `.predict()` methods."
   ],
   "id": "b4aeacf8-122c-4bf8-8a6f-9c3b65562043"
  },
  {
   "cell_type": "code",
   "execution_count": null,
   "metadata": {
    "linenos": ""
   },
   "outputs": [],
   "source": [
    "xg_reg.fit(X_train, Y_train)\n",
    "Y_pred = xg_reg.predict(X_test)"
   ],
   "id": "15140c55-142b-44e0-9654-34c9cdb8e060"
  },
  {
   "cell_type": "markdown",
   "metadata": {},
   "source": [
    "Compute the root mean square error (rmse) using the mean_sqaured_error\n",
    "function from sklearn's metrics module."
   ],
   "id": "edb08e83-5482-4b44-955a-1410e0043301"
  },
  {
   "cell_type": "code",
   "execution_count": null,
   "metadata": {
    "linenos": ""
   },
   "outputs": [],
   "source": [
    "rmse = np.sqrt(mean_squared_error(Y_test, Y_pred))\n",
    "print(\"RMSE: %f\" % (rmse))"
   ],
   "id": "e1b1822f-3d2e-4a0d-8a40-afedaca63f5e"
  },
  {
   "cell_type": "markdown",
   "metadata": {},
   "source": [
    "``` output\n",
    "RMSE: 437.017290\n",
    "```\n",
    "\n",
    "Store the **Observed** v/s **Predicted** value in pandas dataframe and\n",
    "print."
   ],
   "id": "bba34803-925e-4924-8adc-75ae2fcd38d2"
  },
  {
   "cell_type": "code",
   "execution_count": null,
   "metadata": {
    "linenos": ""
   },
   "outputs": [],
   "source": [
    "k = pd.DataFrame(\n",
    "    {\"Observed\": Y_test.values.flatten(), \"Predicted\": Y_pred.flatten()}\n",
    ")\n",
    "print(k)"
   ],
   "id": "650f9e1b-37f5-4ea4-af9d-60c8f42c8c3c"
  },
  {
   "cell_type": "markdown",
   "metadata": {},
   "source": [
    "``` output\n",
    "Observed    Predicted\n",
    "0           3652.28442  3927.141846\n",
    "1           4244.80320  4290.294434\n",
    "2           3065.19054  3703.156982\n",
    "3           909.50610   762.218567\n",
    "4           1982.80902  2628.958740\n",
    "...         ... ...\n",
    "4764    5527.23804  5599.530762\n",
    "4765    3388.76430  3272.557617\n",
    "4766    3101.35566  3346.364990\n",
    "4767    5515.94682  5491.597168\n",
    "4768    2257.63092  2258.312988\n",
    "```\n",
    "\n",
    "We will now generate a **Observed** v/s **Predicted** plot that gives a\n",
    "high level overview about the model performance. We can clearly see that\n",
    "only few outliers are there and most of them lie in between the central\n",
    "axis. This means that prediction actually works and observed and\n",
    "predicted value won't differ too much."
   ],
   "id": "ffa47d3d-e27a-413a-bb82-ce8aa7f0d2ab"
  },
  {
   "cell_type": "code",
   "execution_count": null,
   "metadata": {
    "linenos": ""
   },
   "outputs": [],
   "source": [
    "sns.lmplot(\n",
    "    x=\"Observed\", y=\"Predicted\", data=k, scatter_kws={\"alpha\": 0.2, \"s\": 5}\n",
    ")"
   ],
   "id": "60e6d850-f901-4740-980e-12cae5c2e1c1"
  },
  {
   "cell_type": "markdown",
   "metadata": {},
   "source": [
    "![image](attachment:img/ml_tutorial_predicted_vs_observed.png)"
   ],
   "attachments": {
    "img/ml_tutorial_predicted_vs_observed.png": {
     "image/png": "[encoded data removed]"
    }
   },
   "id": "0cd44b30-4a64-4129-a71d-3cbdb3ee9ae9"
  },
  {
   "cell_type": "code",
   "execution_count": null,
   "metadata": {
    "linenos": ""
   },
   "outputs": [],
   "source": [
    "p = sns.kdeplot(data=k[\"Observed\"] - k[\"Predicted\"], fill=True)\n",
    "p.set(xlabel=\"Observed-Predicted (s)\")"
   ],
   "id": "cfde4012-46fd-490b-8e37-60f0efc9600e"
  },
  {
   "cell_type": "markdown",
   "metadata": {},
   "source": [
    "![image](attachment:img/ml_tutorial_kdplot.png)\n",
    "\n",
    "In order to build more robust models, it is common to do a k-fold cross\n",
    "validation where all the entries in the original training dataset are\n",
    "used for both training as well as validation. Also, each entry is used\n",
    "for validation just once. XGBoost supports k-fold cross validation via\n",
    "the cv() method. All we have to do is specify the nfolds parameter,\n",
    "which is the number of cross validation sets we want to build."
   ],
   "attachments": {
    "img/ml_tutorial_kdplot.png": {
     "image/png": "[encoded data removed]"
    }
   },
   "id": "3b96a75e-88d0-4058-aac5-a7e0c47cb54c"
  },
  {
   "cell_type": "code",
   "execution_count": null,
   "metadata": {
    "linenos": ""
   },
   "outputs": [],
   "source": [
    "# Performing k-fold cross validation\n",
    "X = np.arange(10)\n",
    "ss = ShuffleSplit(n_splits=5, test_size=0.25, random_state=0)\n",
    "performance_df = pd.DataFrame()\n",
    "performance_list = []\n",
    "counter = 0\n",
    "for train_index, test_index in ss.split(X_train, Y_train):\n",
    "    counter += 1\n",
    "\n",
    "    X_train_Kfold, X_test_Kfold = (\n",
    "        X_train[X_train.index.isin(train_index)].to_numpy(),\n",
    "        X_train[X_train.index.isin(test_index)].to_numpy(),\n",
    "    )\n",
    "    y_train_Kfold, y_test_Kfold = (\n",
    "        Y_train[Y_train.index.isin(train_index)].to_numpy().flatten(),\n",
    "        Y_train[Y_train.index.isin(test_index)].to_numpy().flatten(),\n",
    "    )\n",
    "\n",
    "    Regressor = XGBRegressor()\n",
    "    Regressor.fit(X_train_Kfold, y_train_Kfold)\n",
    "\n",
    "    predictions = Regressor.predict(X_test_Kfold)\n",
    "\n",
    "    df = pd.DataFrame(\n",
    "        {\"Observed\": y_test_Kfold.flatten(), \"Predicted\": predictions.flatten()}\n",
    "    )\n",
    "\n",
    "    print(\"Fold-\" + str(counter))\n",
    "    print(\"---------------------\")\n",
    "    print(df)"
   ],
   "id": "b8f6f57d-1de5-4506-8d20-a766d48b5451"
  },
  {
   "cell_type": "markdown",
   "metadata": {},
   "source": [
    "``` output\n",
    "Fold-1\n",
    "---------------------\n",
    "        Observed    Predicted\n",
    "0     1845.17346  2051.894043\n",
    "1     1155.68124  1911.122192\n",
    "2     2847.94272  2753.223145\n",
    "3     2370.70494  2670.160889\n",
    "4     4111.31718  3961.675049\n",
    "...          ...          ...\n",
    "1935  3880.18458  3454.832031\n",
    "1936  4125.82776  4068.806152\n",
    "1937  4586.33838  3829.927002\n",
    "1938  2261.99454  3225.578613\n",
    "1939  4342.82430  3943.912354\n",
    "\n",
    "[1940 rows x 2 columns]\n",
    "Fold-2\n",
    "---------------------\n",
    "        Observed    Predicted\n",
    "0     3476.56062  4075.536377\n",
    "1     4009.78704  4022.654785\n",
    "2     2847.94272  2779.675293\n",
    "3     3669.33108  4026.944824\n",
    "4     3997.12632  3566.471436\n",
    "...          ...          ...\n",
    "1907  2916.91818  2744.992676\n",
    "1908  3569.64318  3862.661621\n",
    "1909  2118.25278  2221.599854\n",
    "1910  1787.61012  1839.471802\n",
    "1911  3583.44846  3210.243164\n",
    "\n",
    "[1912 rows x 2 columns]\n",
    "Fold-3\n",
    "---------------------\n",
    "        Observed    Predicted\n",
    "0     2052.18066  2237.868896\n",
    "1     4336.45050  3622.901367\n",
    "2     2317.39104  2496.773438\n",
    "3     3356.40018  3291.187988\n",
    "4     1778.73198  2034.299683\n",
    "...          ...          ...\n",
    "1934  3795.23424  2968.955322\n",
    "1935  3622.34358  3203.385742\n",
    "1936  2261.99454  3115.011475\n",
    "1937  4112.62578  3743.435791\n",
    "1938  4342.82430  3721.162842\n",
    "\n",
    "[1939 rows x 2 columns]\n",
    "Fold-4\n",
    "---------------------\n",
    "        Observed    Predicted\n",
    "0     1762.89840  1691.997803\n",
    "1     1292.39622  1418.658325\n",
    "2     1914.00468  1779.962769\n",
    "3     4571.86566  4618.782715\n",
    "4     2317.39104  2417.823242\n",
    "...          ...          ...\n",
    "1985  2779.37664  2702.244385\n",
    "1986  4335.23442  3733.191162\n",
    "1987  2916.91818  2609.322021\n",
    "1988  4125.82776  3947.512939\n",
    "1989  3429.54294  3550.206787\n",
    "\n",
    "[1990 rows x 2 columns]\n",
    "Fold-5\n",
    "---------------------\n",
    "        Observed    Predicted\n",
    "0     2790.00414  3010.381592\n",
    "1     3476.56062  3972.215820\n",
    "2     1845.17346  1901.611572\n",
    "3     4009.78704  3884.857178\n",
    "4     3578.05344  2993.831787\n",
    "...          ...          ...\n",
    "1975  3778.69704  4209.392090\n",
    "1976  1494.22332  1612.613281\n",
    "1977  4125.82776  3902.622559\n",
    "1978  4701.03624  4372.867676\n",
    "1979  1888.41552  2342.040771\n",
    "\n",
    "[1980 rows x 2 columns]\n",
    "```\n",
    "\n",
    "That's it, we trained a simple machine learning model to predict peptide\n",
    "retention times from peptide data.\n",
    "\n",
    "Sophisticated machine models integrate retention time data from many\n",
    "experiments add additional properties (or even learn them from data) of\n",
    "peptides to achieve lower prediction errors."
   ],
   "id": "22c6ffb2-0ec8-4a48-8148-9c16ebd09450"
  }
 ],
 "nbformat": 4,
 "nbformat_minor": 5,
 "metadata": {}
}
