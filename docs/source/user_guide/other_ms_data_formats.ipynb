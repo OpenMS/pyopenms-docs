{
 "cells": [
  {
   "cell_type": "markdown",
   "metadata": {},
   "source": [
    "# Other MS Data Formats\n",
    "\n",
    "## Identification Data (idXML, mzIdentML, pepXML, protXML)\n",
    "\n",
    "You can store and load identification data from an\n",
    "<span class=\"title-ref\">idXML</span> file as follows:"
   ],
   "id": "dc4be66c-7290-45cb-8df5-1ed3a84fc58c"
  },
  {
   "cell_type": "code",
   "execution_count": null,
   "metadata": {
    "linenos": ""
   },
   "outputs": [],
   "source": [
    "from urllib.request import urlretrieve\n",
    "import pyopenms as oms\n",
    "\n",
    "gh = gh = \"https://raw.githubusercontent.com/OpenMS/pyopenms-docs/master\"\n",
    "urlretrieve(gh + \"/src/data/IdXMLFile_whole.idXML\", \"test.idXML\")\n",
    "protein_ids = []\n",
    "peptide_ids = []\n",
    "oms.IdXMLFile().load(\"test.idXML\", protein_ids, peptide_ids)\n",
    "oms.IdXMLFile().store(\"test.out.idXML\", protein_ids, peptide_ids)"
   ],
   "id": "2c7fefa5-656f-4b1d-a922-296adee7848b"
  },
  {
   "cell_type": "markdown",
   "metadata": {},
   "source": [
    "You can store and load identification data from an\n",
    "<span class=\"title-ref\">mzIdentML</span> file as follows:"
   ],
   "id": "5c024137-57e3-4f17-99c9-391e3156e8c1"
  },
  {
   "cell_type": "code",
   "execution_count": null,
   "metadata": {
    "linenos": ""
   },
   "outputs": [],
   "source": [
    "from urllib.request import urlretrieve\n",
    "\n",
    "gh = gh = \"https://raw.githubusercontent.com/OpenMS/pyopenms-docs/master\"\n",
    "urlretrieve(gh + \"/src/data/MzIdentML_3runs.mzid\", \"test.mzid\")\n",
    "protein_ids = []\n",
    "peptide_ids = []\n",
    "oms.MzIdentMLFile().load(\"test.mzid\", protein_ids, peptide_ids)\n",
    "oms.MzIdentMLFile().store(\"test.out.mzid\", protein_ids, peptide_ids)"
   ],
   "id": "5e46f75a-81ce-4d49-a113-b89cb3a3cf3a"
  },
  {
   "cell_type": "markdown",
   "metadata": {},
   "source": [
    "You can store and load identification data from a TPP\n",
    "<span class=\"title-ref\">pepXML</span> file as follows:"
   ],
   "id": "49a9c36f-e1ee-4cd5-a442-f250f269fa21"
  },
  {
   "cell_type": "code",
   "execution_count": null,
   "metadata": {
    "linenos": ""
   },
   "outputs": [],
   "source": [
    "from urllib.request import urlretrieve\n",
    "\n",
    "gh = gh = \"https://raw.githubusercontent.com/OpenMS/pyopenms-docs/master\"\n",
    "urlretrieve(gh + \"/src/data/PepXMLFile_test.pepxml\", \"test.pepxml\")\n",
    "protein_ids = []\n",
    "peptide_ids = []\n",
    "oms.PepXMLFile().load(\"test.pepxml\", protein_ids, peptide_ids)\n",
    "oms.PepXMLFile().store(\"test.out.pepxml\", protein_ids, peptide_ids)"
   ],
   "id": "6edc1109-4097-46ef-bebb-ef6039e4f489"
  },
  {
   "cell_type": "markdown",
   "metadata": {},
   "source": [
    "You can load (storing is not supported) identification data from a TPP\n",
    "<span class=\"title-ref\">protXML</span> file as follows:"
   ],
   "id": "8de14ca5-5fc8-4b0d-9f07-c6b01e5f0c58"
  },
  {
   "cell_type": "code",
   "execution_count": null,
   "metadata": {
    "linenos": ""
   },
   "outputs": [],
   "source": [
    "from urllib.request import urlretrieve\n",
    "\n",
    "gh = gh = \"https://raw.githubusercontent.com/OpenMS/pyopenms-docs/master\"\n",
    "urlretrieve(gh + \"/src/data/ProtXMLFile_input_1.protXML\", \"test.protXML\")\n",
    "protein_ids = oms.ProteinIdentification()\n",
    "peptide_ids = oms.PeptideIdentification()\n",
    "oms.ProtXMLFile().load(\"test.protXML\", protein_ids, peptide_ids)\n",
    "# storing protein XML file is not yet supported"
   ],
   "id": "1274ae26-6b2e-4267-a4bf-1d324f0eb34c"
  },
  {
   "cell_type": "markdown",
   "metadata": {},
   "source": [
    "Note how each data file produces two vectors of type\n",
    "[ProteinIdentification](https://pyopenms.readthedocs.io/en/latest/apidocs/_autosummary/pyopenms/pyopenms.ProteinIdentification.html)\n",
    "and\n",
    "[PeptideIdentification](https://pyopenms.readthedocs.io/en/latest/apidocs/_autosummary/pyopenms/pyopenms.PeptideIdentification.html)\n",
    "which also means that conversion between two data types is trivial: load\n",
    "data from one data file and use the storage function of the other file.\n",
    "\n",
    "## Quantiative Data (featureXML, consensusXML)\n",
    "\n",
    "OpenMS stores quantitative information in the internal `featureXML` and\n",
    "`consensusXML` attributes. The `featureXML` format is used to store\n",
    "quantitative data from a single\n",
    "[LC-MS/MS](https://pyopenms.readthedocs.io/en/latest/user_guide/glossary.html#term-LC-MS/MS)\n",
    "run while the `consensusXML` is used to store quantitative data from\n",
    "multiple\n",
    "[LC-MS/MS](https://pyopenms.readthedocs.io/en/latest/user_guide/glossary.html#term-LC-MS/MS)\n",
    "runs. These can be accessed as follows:"
   ],
   "id": "a332bcf6-9345-459a-9733-effdf408744a"
  },
  {
   "cell_type": "code",
   "execution_count": null,
   "metadata": {
    "linenos": ""
   },
   "outputs": [],
   "source": [
    "from urllib.request import urlretrieve\n",
    "\n",
    "gh = gh = \"https://raw.githubusercontent.com/OpenMS/pyopenms-docs/master\"\n",
    "urlretrieve(\n",
    "    gh + \"/src/data/FeatureFinderCentroided_1_output.featureXML\",\n",
    "    \"test.featureXML\",\n",
    ")\n",
    "features = oms.FeatureMap()\n",
    "oms.FeatureXMLFile().load(\"test.featureXML\", features)\n",
    "oms.FeatureXMLFile().store(\"test.out.featureXML\", features)"
   ],
   "id": "0d8db62d-118c-4420-925a-d318eeae84d7"
  },
  {
   "cell_type": "markdown",
   "metadata": {},
   "source": [
    "and for `consensusXML`"
   ],
   "id": "cae8ea08-1c34-4f2a-a08b-35b50bd3da5b"
  },
  {
   "cell_type": "code",
   "execution_count": null,
   "metadata": {
    "linenos": ""
   },
   "outputs": [],
   "source": [
    "from urllib.request import urlretrieve\n",
    "\n",
    "gh = gh = \"https://raw.githubusercontent.com/OpenMS/pyopenms-docs/master\"\n",
    "urlretrieve(\n",
    "    gh + \"/src/data/ConsensusXMLFile_1.consensusXML\", \"test.consensusXML\"\n",
    ")\n",
    "consensus_features = oms.ConsensusMap()\n",
    "oms.ConsensusXMLFile().load(\"test.consensusXML\", consensus_features)\n",
    "oms.ConsensusXMLFile().store(\"test.out.consensusXML\", consensus_features)"
   ],
   "id": "8e55faa5-2a4f-4456-b1e1-caad14857b80"
  },
  {
   "cell_type": "markdown",
   "metadata": {},
   "source": [
    "## Transition data (TraML)\n",
    "\n",
    "The TraML data format allows you to store transition information for\n",
    "targeted experiments\n",
    "([SRM](https://pyopenms.readthedocs.io/en/latest/user_guide/glossary.html#term-SRM)\n",
    "/ MRM / PRM / DIA)."
   ],
   "id": "06e20b37-66bb-4b96-aac6-3825b9463cb8"
  },
  {
   "cell_type": "code",
   "execution_count": null,
   "metadata": {
    "linenos": ""
   },
   "outputs": [],
   "source": [
    "from urllib.request import urlretrieve\n",
    "\n",
    "gh = \"https://raw.githubusercontent.com/OpenMS/pyopenms-extra/master\"\n",
    "urlretrieve(gh + \"/src/data/ConvertTSVToTraML_output.TraML\", \"test.TraML\")\n",
    "targeted_exp = oms.TargetedExperiment()\n",
    "oms.TraMLFile().load(\"test.TraML\", targeted_exp)\n",
    "oms.TraMLFile().store(\"test.out.TraML\", targeted_exp)"
   ],
   "id": "0bd9adb6-67b4-4f81-b4d2-4a057647cded"
  }
 ],
 "nbformat": 4,
 "nbformat_minor": 5,
 "metadata": {}
}
