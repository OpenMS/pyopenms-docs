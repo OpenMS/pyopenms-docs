{
 "cells": [
  {
   "cell_type": "markdown",
   "metadata": {},
   "source": [
    "# Other MS Data Formats\n",
    "\n",
    "## Identification Data (idXML, mzIdentML, pepXML, protXML)\n",
    "\n",
    "You can store and load identification data from an\n",
    "<span class=\"title-ref\">idXML</span> file as follows:"
   ],
   "id": "eab7a214-d78a-418d-8678-dac79381a4e6"
  },
  {
   "cell_type": "code",
   "execution_count": null,
   "metadata": {
    "linenos": ""
   },
   "outputs": [],
   "source": [
    "from urllib.request import urlretrieve\n",
    "import pyopenms as oms\n",
    "\n",
    "gh = gh = \"https://raw.githubusercontent.com/OpenMS/pyopenms-docs/master\"\n",
    "urlretrieve(gh + \"/src/data/IdXMLFile_whole.idXML\", \"test.idXML\")\n",
    "protein_ids = []\n",
    "peptide_ids = []\n",
    "oms.IdXMLFile().load(\"test.idXML\", protein_ids, peptide_ids)\n",
    "oms.IdXMLFile().store(\"test.out.idXML\", protein_ids, peptide_ids)"
   ],
   "id": "753e5c80-514d-4a74-a4a9-8c282afa7863"
  },
  {
   "cell_type": "markdown",
   "metadata": {},
   "source": [
    "You can store and load identification data from an\n",
    "<span class=\"title-ref\">mzIdentML</span> file as follows:"
   ],
   "id": "1b35b065-c5f4-4158-ade5-962ab582225e"
  },
  {
   "cell_type": "code",
   "execution_count": null,
   "metadata": {
    "linenos": ""
   },
   "outputs": [],
   "source": [
    "from urllib.request import urlretrieve\n",
    "\n",
    "gh = gh = \"https://raw.githubusercontent.com/OpenMS/pyopenms-docs/master\"\n",
    "urlretrieve(gh + \"/src/data/MzIdentML_3runs.mzid\", \"test.mzid\")\n",
    "protein_ids = []\n",
    "peptide_ids = []\n",
    "oms.MzIdentMLFile().load(\"test.mzid\", protein_ids, peptide_ids)\n",
    "oms.MzIdentMLFile().store(\"test.out.mzid\", protein_ids, peptide_ids)"
   ],
   "id": "d7685a4f-3839-4386-be83-9d4ea04446c8"
  },
  {
   "cell_type": "markdown",
   "metadata": {},
   "source": [
    "You can store and load identification data from a TPP\n",
    "<span class=\"title-ref\">pepXML</span> file as follows:"
   ],
   "id": "1a3a2d8a-733c-4e8e-9197-e5bce8ca9a7d"
  },
  {
   "cell_type": "code",
   "execution_count": null,
   "metadata": {
    "linenos": ""
   },
   "outputs": [],
   "source": [
    "from urllib.request import urlretrieve\n",
    "\n",
    "gh = gh = \"https://raw.githubusercontent.com/OpenMS/pyopenms-docs/master\"\n",
    "urlretrieve(gh + \"/src/data/PepXMLFile_test.pepxml\", \"test.pepxml\")\n",
    "protein_ids = []\n",
    "peptide_ids = []\n",
    "oms.PepXMLFile().load(\"test.pepxml\", protein_ids, peptide_ids)\n",
    "oms.PepXMLFile().store(\"test.out.pepxml\", protein_ids, peptide_ids)"
   ],
   "id": "f28c3076-f56a-4090-87c9-23f5da83e658"
  },
  {
   "cell_type": "markdown",
   "metadata": {},
   "source": [
    "You can load (storing is not supported) identification data from a TPP\n",
    "<span class=\"title-ref\">protXML</span> file as follows:"
   ],
   "id": "da670943-1437-434e-96c1-323f18acaa1e"
  },
  {
   "cell_type": "code",
   "execution_count": null,
   "metadata": {
    "linenos": ""
   },
   "outputs": [],
   "source": [
    "from urllib.request import urlretrieve\n",
    "\n",
    "gh = gh = \"https://raw.githubusercontent.com/OpenMS/pyopenms-docs/master\"\n",
    "urlretrieve(gh + \"/src/data/ProtXMLFile_input_1.protXML\", \"test.protXML\")\n",
    "protein_ids = oms.ProteinIdentification()\n",
    "peptide_ids = oms.PeptideIdentification()\n",
    "oms.ProtXMLFile().load(\"test.protXML\", protein_ids, peptide_ids)\n",
    "# storing protein XML file is not yet supported"
   ],
   "id": "5c777419-4d5c-4cc1-8653-edd928b89d06"
  },
  {
   "cell_type": "markdown",
   "metadata": {},
   "source": [
    "Note how each data file produces two vectors of type\n",
    "[ProteinIdentification](https://pyopenms.readthedocs.io/en/latest/apidocs/_autosummary/pyopenms/pyopenms.ProteinIdentification.html)\n",
    "and\n",
    "[PeptideIdentification](https://pyopenms.readthedocs.io/en/latest/apidocs/_autosummary/pyopenms/pyopenms.PeptideIdentification.html)\n",
    "which also means that conversion between two data types is trivial: load\n",
    "data from one data file and use the storage function of the other file.\n",
    "\n",
    "## Quantiative Data (featureXML, consensusXML)\n",
    "\n",
    "OpenMS stores quantitative information in the internal `featureXML` and\n",
    "`consensusXML` attributes. The `featureXML` format is used to store\n",
    "quantitative data from a single\n",
    "[LC-MS/MS](https://pyopenms.readthedocs.io/en/latest/user_guide/glossary.html#term-LC-MS/MS)\n",
    "run while the `consensusXML` is used to store quantitative data from\n",
    "multiple\n",
    "[LC-MS/MS](https://pyopenms.readthedocs.io/en/latest/user_guide/glossary.html#term-LC-MS/MS)\n",
    "runs. These can be accessed as follows:"
   ],
   "id": "753796b4-f112-4a8e-86b3-309ecd520796"
  },
  {
   "cell_type": "code",
   "execution_count": null,
   "metadata": {
    "linenos": ""
   },
   "outputs": [],
   "source": [
    "from urllib.request import urlretrieve\n",
    "\n",
    "gh = gh = \"https://raw.githubusercontent.com/OpenMS/pyopenms-docs/master\"\n",
    "urlretrieve(\n",
    "    gh + \"/src/data/FeatureFinderCentroided_1_output.featureXML\",\n",
    "    \"test.featureXML\",\n",
    ")\n",
    "features = oms.FeatureMap()\n",
    "oms.FeatureXMLFile().load(\"test.featureXML\", features)\n",
    "oms.FeatureXMLFile().store(\"test.out.featureXML\", features)"
   ],
   "id": "ba72f61d-73e5-4a61-b025-524143ffca07"
  },
  {
   "cell_type": "markdown",
   "metadata": {},
   "source": [
    "and for `consensusXML`"
   ],
   "id": "e71a06be-99a8-41bd-82a6-f617518238e1"
  },
  {
   "cell_type": "code",
   "execution_count": null,
   "metadata": {
    "linenos": ""
   },
   "outputs": [],
   "source": [
    "from urllib.request import urlretrieve\n",
    "\n",
    "gh = gh = \"https://raw.githubusercontent.com/OpenMS/pyopenms-docs/master\"\n",
    "urlretrieve(\n",
    "    gh + \"/src/data/ConsensusXMLFile_1.consensusXML\", \"test.consensusXML\"\n",
    ")\n",
    "consensus_features = oms.ConsensusMap()\n",
    "oms.ConsensusXMLFile().load(\"test.consensusXML\", consensus_features)\n",
    "oms.ConsensusXMLFile().store(\"test.out.consensusXML\", consensus_features)"
   ],
   "id": "185e8945-c533-4b36-8806-849fbd591774"
  },
  {
   "cell_type": "markdown",
   "metadata": {},
   "source": [
    "## Transition data (TraML)\n",
    "\n",
    "The TraML data format allows you to store transition information for\n",
    "targeted experiments\n",
    "([SRM](https://pyopenms.readthedocs.io/en/latest/user_guide/glossary.html#term-SRM)\n",
    "/ MRM / PRM / DIA)."
   ],
   "id": "133f284f-4bc7-48f5-b25d-8d5d5b468d89"
  },
  {
   "cell_type": "code",
   "execution_count": null,
   "metadata": {
    "linenos": ""
   },
   "outputs": [],
   "source": [
    "from urllib.request import urlretrieve\n",
    "\n",
    "gh = \"https://raw.githubusercontent.com/OpenMS/pyopenms-extra/master\"\n",
    "urlretrieve(gh + \"/src/data/ConvertTSVToTraML_output.TraML\", \"test.TraML\")\n",
    "targeted_exp = oms.TargetedExperiment()\n",
    "oms.TraMLFile().load(\"test.TraML\", targeted_exp)\n",
    "oms.TraMLFile().store(\"test.out.TraML\", targeted_exp)"
   ],
   "id": "ba1f34bd-4c46-43ec-813a-29d47c0e50ec"
  }
 ],
 "nbformat": 4,
 "nbformat_minor": 5,
 "metadata": {}
}
