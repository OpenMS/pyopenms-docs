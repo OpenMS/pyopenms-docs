{
 "cells": [
  {
   "cell_type": "markdown",
   "metadata": {},
   "source": [
    "# Other MS Data Formats\n",
    "\n",
    "## Identification Data (idXML, mzIdentML, pepXML, protXML)\n",
    "\n",
    "You can store and load identification data from an\n",
    "<span class=\"title-ref\">idXML</span> file as follows:"
   ],
   "id": "da702764-d263-486e-8d3a-69f35bb44d7e"
  },
  {
   "cell_type": "code",
   "execution_count": null,
   "metadata": {
    "linenos": ""
   },
   "outputs": [],
   "source": [
    "from urllib.request import urlretrieve\n",
    "import pyopenms as oms\n",
    "\n",
    "gh = gh = \"https://raw.githubusercontent.com/OpenMS/pyopenms-docs/master\"\n",
    "urlretrieve(gh + \"/src/data/IdXMLFile_whole.idXML\", \"test.idXML\")\n",
    "protein_ids = []\n",
    "peptide_ids = []\n",
    "oms.IdXMLFile().load(\"test.idXML\", protein_ids, peptide_ids)\n",
    "oms.IdXMLFile().store(\"test.out.idXML\", protein_ids, peptide_ids)"
   ],
   "id": "8949e191-5c2a-49cc-85e6-05d9c37360e8"
  },
  {
   "cell_type": "markdown",
   "metadata": {},
   "source": [
    "You can store and load identification data from an\n",
    "<span class=\"title-ref\">mzIdentML</span> file as follows:"
   ],
   "id": "ae18c416-bd2e-4edd-9790-a649450bbb75"
  },
  {
   "cell_type": "code",
   "execution_count": null,
   "metadata": {
    "linenos": ""
   },
   "outputs": [],
   "source": [
    "from urllib.request import urlretrieve\n",
    "\n",
    "gh = gh = \"https://raw.githubusercontent.com/OpenMS/pyopenms-docs/master\"\n",
    "urlretrieve(gh + \"/src/data/MzIdentML_3runs.mzid\", \"test.mzid\")\n",
    "protein_ids = []\n",
    "peptide_ids = []\n",
    "oms.MzIdentMLFile().load(\"test.mzid\", protein_ids, peptide_ids)\n",
    "oms.MzIdentMLFile().store(\"test.out.mzid\", protein_ids, peptide_ids)"
   ],
   "id": "22f7e01b-b00c-4835-a23a-e86d9f3218c6"
  },
  {
   "cell_type": "markdown",
   "metadata": {},
   "source": [
    "You can store and load identification data from a TPP\n",
    "<span class=\"title-ref\">pepXML</span> file as follows:"
   ],
   "id": "68ebb22f-dd04-4809-957c-143572fc7051"
  },
  {
   "cell_type": "code",
   "execution_count": null,
   "metadata": {
    "linenos": ""
   },
   "outputs": [],
   "source": [
    "from urllib.request import urlretrieve\n",
    "\n",
    "gh = gh = \"https://raw.githubusercontent.com/OpenMS/pyopenms-docs/master\"\n",
    "urlretrieve(gh + \"/src/data/PepXMLFile_test.pepxml\", \"test.pepxml\")\n",
    "protein_ids = []\n",
    "peptide_ids = []\n",
    "oms.PepXMLFile().load(\"test.pepxml\", protein_ids, peptide_ids)\n",
    "oms.PepXMLFile().store(\"test.out.pepxml\", protein_ids, peptide_ids)"
   ],
   "id": "e008c41f-3ccb-4b00-923d-5ede723417de"
  },
  {
   "cell_type": "markdown",
   "metadata": {},
   "source": [
    "You can load (storing is not supported) identification data from a TPP\n",
    "<span class=\"title-ref\">protXML</span> file as follows:"
   ],
   "id": "25f4ff4e-6702-4486-bbf6-55992c2c09db"
  },
  {
   "cell_type": "code",
   "execution_count": null,
   "metadata": {
    "linenos": ""
   },
   "outputs": [],
   "source": [
    "from urllib.request import urlretrieve\n",
    "\n",
    "gh = gh = \"https://raw.githubusercontent.com/OpenMS/pyopenms-docs/master\"\n",
    "urlretrieve(gh + \"/src/data/ProtXMLFile_input_1.protXML\", \"test.protXML\")\n",
    "protein_ids = oms.ProteinIdentification()\n",
    "peptide_ids = oms.PeptideIdentification()\n",
    "oms.ProtXMLFile().load(\"test.protXML\", protein_ids, peptide_ids)\n",
    "# storing protein XML file is not yet supported"
   ],
   "id": "8de9fcbd-09b3-42ee-945c-d1ebb86bd2f5"
  },
  {
   "cell_type": "markdown",
   "metadata": {},
   "source": [
    "Note how each data file produces two vectors of type\n",
    "[ProteinIdentification](https://pyopenms.readthedocs.io/en/latest/apidocs/_autosummary/pyopenms/pyopenms.ProteinIdentification.html)\n",
    "and\n",
    "[PeptideIdentification](https://pyopenms.readthedocs.io/en/latest/apidocs/_autosummary/pyopenms/pyopenms.PeptideIdentification.html)\n",
    "which also means that conversion between two data types is trivial: load\n",
    "data from one data file and use the storage function of the other file.\n",
    "\n",
    "## Quantiative Data (featureXML, consensusXML)\n",
    "\n",
    "OpenMS stores quantitative information in the internal `featureXML` and\n",
    "`consensusXML` attributes. The `featureXML` format is used to store\n",
    "quantitative data from a single\n",
    "[LC-MS/MS](https://pyopenms.readthedocs.io/en/latest/user_guide/glossary.html#term-LC-MS/MS)\n",
    "run while the `consensusXML` is used to store quantitative data from\n",
    "multiple\n",
    "[LC-MS/MS](https://pyopenms.readthedocs.io/en/latest/user_guide/glossary.html#term-LC-MS/MS)\n",
    "runs. These can be accessed as follows:"
   ],
   "id": "e78b61dd-bc02-4dd5-88e7-ed5b9708f98e"
  },
  {
   "cell_type": "code",
   "execution_count": null,
   "metadata": {
    "linenos": ""
   },
   "outputs": [],
   "source": [
    "from urllib.request import urlretrieve\n",
    "\n",
    "gh = gh = \"https://raw.githubusercontent.com/OpenMS/pyopenms-docs/master\"\n",
    "urlretrieve(\n",
    "    gh + \"/src/data/FeatureFinderCentroided_1_output.featureXML\",\n",
    "    \"test.featureXML\",\n",
    ")\n",
    "features = oms.FeatureMap()\n",
    "oms.FeatureXMLFile().load(\"test.featureXML\", features)\n",
    "oms.FeatureXMLFile().store(\"test.out.featureXML\", features)"
   ],
   "id": "fb6bcc6b-1b7e-480f-bfb9-18a3555c7911"
  },
  {
   "cell_type": "markdown",
   "metadata": {},
   "source": [
    "and for `consensusXML`"
   ],
   "id": "5910fa9e-54f4-47bb-84ec-5d227fa162e3"
  },
  {
   "cell_type": "code",
   "execution_count": null,
   "metadata": {
    "linenos": ""
   },
   "outputs": [],
   "source": [
    "from urllib.request import urlretrieve\n",
    "\n",
    "gh = gh = \"https://raw.githubusercontent.com/OpenMS/pyopenms-docs/master\"\n",
    "urlretrieve(\n",
    "    gh + \"/src/data/ConsensusXMLFile_1.consensusXML\", \"test.consensusXML\"\n",
    ")\n",
    "consensus_features = oms.ConsensusMap()\n",
    "oms.ConsensusXMLFile().load(\"test.consensusXML\", consensus_features)\n",
    "oms.ConsensusXMLFile().store(\"test.out.consensusXML\", consensus_features)"
   ],
   "id": "77b5fc0b-705a-4bfb-b5cc-bfb2ad581a97"
  },
  {
   "cell_type": "markdown",
   "metadata": {},
   "source": [
    "## Transition data (TraML)\n",
    "\n",
    "The TraML data format allows you to store transition information for\n",
    "targeted experiments\n",
    "([SRM](https://pyopenms.readthedocs.io/en/latest/user_guide/glossary.html#term-SRM)\n",
    "/ MRM / PRM / DIA)."
   ],
   "id": "eaf5bb3f-03fe-44a2-8075-56e45268a951"
  },
  {
   "cell_type": "code",
   "execution_count": null,
   "metadata": {
    "linenos": ""
   },
   "outputs": [],
   "source": [
    "from urllib.request import urlretrieve\n",
    "\n",
    "gh = \"https://raw.githubusercontent.com/OpenMS/pyopenms-extra/master\"\n",
    "urlretrieve(gh + \"/src/data/ConvertTSVToTraML_output.TraML\", \"test.TraML\")\n",
    "targeted_exp = oms.TargetedExperiment()\n",
    "oms.TraMLFile().load(\"test.TraML\", targeted_exp)\n",
    "oms.TraMLFile().store(\"test.out.TraML\", targeted_exp)"
   ],
   "id": "196b963e-1f42-48c9-8012-6a72f591c5ae"
  }
 ],
 "nbformat": 4,
 "nbformat_minor": 5,
 "metadata": {}
}
