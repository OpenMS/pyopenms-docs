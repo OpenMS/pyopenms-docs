{
 "cells": [
  {
   "cell_type": "markdown",
   "metadata": {},
   "source": [
    "# Frequently Asked Questions\n",
    "\n",
    "The following is a list of common questions asked about pyOpenMS.\n",
    "\n",
    "## How can I wrap a new method with pyOpenMS?\n",
    "\n",
    "Add an entry to `src/pyOpenMS/pxds/CLASS_NAME.pxd` with the signature of\n",
    "your new method(s).\n",
    "\n",
    "## How can I wrap a new class with pyOpenMS?\n",
    "\n",
    "Create a new file `src/pyOpenMS/pxds/CLASS_NAME.pxd` and use the\n",
    "[procedure outlined](wrap_classes.rst#how-to-wrap-new-classes).\n",
    "\n",
    "## Can I use multiple output parameters?\n",
    "\n",
    "Python does not support passing primitive types (`int`, `double`, etc.)\n",
    "by reference, therefore `void calculate(double &)` will not work."
   ],
   "id": "fbbc5d6d-3ec3-4757-84bb-fe45c32dcd1d"
  }
 ],
 "nbformat": 4,
 "nbformat_minor": 5,
 "metadata": {}
}
