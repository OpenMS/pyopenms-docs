{
 "cells": [
  {
   "cell_type": "markdown",
   "metadata": {},
   "source": [
    "# Support\n",
    "\n",
    "## Feature Requests\n",
    "\n",
    "pyOpenMS is an evolving project. We are happy to learn about missing\n",
    "features you would like to see in pyOpenMS.\n",
    "\n",
    "Feel free to open an issue on [GitHub issue](https://github.com/OpenMS/OpenMS/issues)  \n",
    "to request a novel feature.\n",
    "\n",
    "## Troubleshooting\n",
    "\n",
    "If you encounter a problem running pyOpenMS feel free to contact us by\n",
    "opening a [GitHub issue](https://github.com/OpenMS/OpenMS/issues) or the\n",
    "[OpenMS Gitter chat channel](https://gitter.im/OpenMS/OpenMS/).\n",
    "\n",
    "Please provide information on what pyOpenMS version you have installed.\n",
    "You can check if importing pyOpenMS works and print your pyOpenMS\n",
    "version with:"
   ],
   "id": "3ae65e05-8622-490d-a4c9-746a0ee881a1"
  },
  {
   "cell_type": "code",
   "execution_count": null,
   "metadata": {
    "linenos": ""
   },
   "outputs": [],
   "source": [
    "import pyopenms as oms\n",
    "\n",
    "print(\"Version: \" + oms.VersionInfo.getVersion())\n",
    "print(\"OpenMP: \" + str(oms.OpenMSBuildInfo.isOpenMPEnabled()))\n",
    "print(\"Build type: \" + oms.OpenMSBuildInfo.getBuildType())\n",
    "print(\"Architecture: \" + oms.OpenMSOSInfo.getBinaryArchitecture())"
   ],
   "id": "008df930-9c08-467f-96e7-6a5aec8abf42"
  }
 ],
 "nbformat": 4,
 "nbformat_minor": 5,
 "metadata": {}
}
