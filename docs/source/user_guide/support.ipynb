{
 "cells": [
  {
   "cell_type": "markdown",
   "metadata": {},
   "source": [
    "# Support\n",
    "\n",
    "## Feature Requests\n",
    "\n",
    "pyOpenMS is an evolving project. We are happy to learn about missing\n",
    "features you would like to see in pyOpenMS.\n",
    "\n",
    "Feel free to open an issue on [GitHub issue](https://github.com/OpenMS/OpenMS/issues)  \n",
    "to request a novel feature.\n",
    "\n",
    "## Troubleshooting\n",
    "\n",
    "If you encounter a problem running pyOpenMS feel free to contact us by\n",
    "opening a [GitHub issue](https://github.com/OpenMS/OpenMS/issues) or\n",
    "[via our Homepage](https://openms.de/communication/) today.\n",
    "\n",
    "Please provide information on what pyOpenMS version you have installed.\n",
    "You can check if importing pyOpenMS works and print your pyOpenMS\n",
    "version with:"
   ],
   "id": "5c7590d6-6e7e-4fdb-b916-26395555c9ad"
  },
  {
   "cell_type": "code",
   "execution_count": null,
   "metadata": {
    "linenos": ""
   },
   "outputs": [],
   "source": [
    "import pyopenms as oms\n",
    "\n",
    "print(\"Version: \" + oms.VersionInfo.getVersion())\n",
    "print(\"OpenMP: \" + str(oms.OpenMSBuildInfo.isOpenMPEnabled()))\n",
    "print(\"Build type: \" + oms.OpenMSBuildInfo.getBuildType())\n",
    "print(\"Architecture: \" + oms.OpenMSOSInfo.getBinaryArchitecture())"
   ],
   "id": "d8727fa3-1440-4f95-9bc3-c0d6cdb1e5ee"
  }
 ],
 "nbformat": 4,
 "nbformat_minor": 5,
 "metadata": {}
}
