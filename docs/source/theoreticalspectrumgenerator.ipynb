{
 "cells": [
  {
   "cell_type": "markdown",
   "id": "dc5f8c29",
   "metadata": {},
   "source": [
    "$$\n",
    "\\def\\CC{\\bf C}\n",
    "\\def\\QQ{\\bf Q}\n",
    "\\def\\RR{\\bf R}\n",
    "\\def\\ZZ{\\bf Z}\n",
    "\\def\\NN{\\bf N}\n",
    "$$\n",
    "# TheoreticalSpectrumGenerator\n",
    "\n",
    "This class implements a simple generator which generates tandem MS\n",
    "spectra from a given peptide charge combination. There are various\n",
    "options which influence the occurring ions and their intensities.\n",
    "\n",
    "## Y-ion spectrum\n",
    "\n",
    "First, we will generate a simple spectrum that only contains y ions"
   ]
  },
  {
   "cell_type": "code",
   "execution_count": null,
   "id": "58d58a4b",
   "metadata": {},
   "outputs": [],
   "source": [
    "from pyopenms import *\n",
    "\n",
    "tsg = TheoreticalSpectrumGenerator()\n",
    "spec1 = MSSpectrum()\n",
    "peptide = AASequence.fromString(\"DFPIANGER\")\n",
    "# standard behavior is adding b- and y-ions of charge 1\n",
    "p = Param()\n",
    "p.setValue(\"add_b_ions\", \"false\")\n",
    "p.setValue(\"add_metainfo\", \"true\")\n",
    "tsg.setParameters(p)\n",
    "tsg.getSpectrum(spec1, peptide, 1, 1)\n",
    "\n",
    "# Iterate over annotated ions and their masses\n",
    "print(\"Spectrum 1 of\", peptide, \"has\", spec1.size(), \"peaks.\")\n",
    "for ion, peak in zip(spec1.getStringDataArrays()[0], spec1):\n",
    "    print(ion.decode(), \"is generated at m/z\", peak.getMZ())"
   ]
  },
  {
   "cell_type": "markdown",
   "id": "6c5c5c17",
   "metadata": {},
   "source": [
    "which produces all y single charged ions:"
   ]
  },
  {
   "cell_type": "code",
   "execution_count": null,
   "id": "c6211708",
   "metadata": {},
   "outputs": [],
   "source": [
    "Spectrum 1 of DFPIANGER has 8 peaks.\n",
    "y1+ is generated at m/z 175.118952913371\n",
    "y2+ is generated at m/z 304.161547136671\n",
    "y3+ is generated at m/z 361.18301123237103\n",
    "y4+ is generated at m/z 475.225939423771\n",
    "y5+ is generated at m/z 546.2630535832709\n",
    "y6+ is generated at m/z 659.3471179341709\n",
    "y7+ is generated at m/z 756.3998821574709\n",
    "y8+ is generated at m/z 903.4682964445709"
   ]
  },
  {
   "cell_type": "markdown",
   "id": "94eb3e6a",
   "metadata": {},
   "source": [
    "## Full fragment ion spectrum\n",
    "\n",
    "We can also produce additional peaks in the fragment ion spectrum, such\n",
    "as isotopic peaks, higher charge states, additional ion series or common\n",
    "neutral losses:"
   ]
  },
  {
   "cell_type": "code",
   "execution_count": null,
   "id": "77b8077c",
   "metadata": {},
   "outputs": [],
   "source": [
    "spec2 = MSSpectrum()\n",
    "p.setValue(\"add_b_ions\", \"true\")\n",
    "p.setValue(\"add_a_ions\", \"true\")\n",
    "p.setValue(\"add_losses\", \"true\")\n",
    "p.setValue(\"add_metainfo\", \"true\")\n",
    "tsg.setParameters(p)\n",
    "tsg.getSpectrum(spec2, peptide, 1, 2)\n",
    "\n",
    "# Iterate over annotated ions and their masses\n",
    "print(\"Spectrum 2 of\", peptide, \"has\", spec2.size(), \"peaks.\")\n",
    "for ion, peak in zip(spec2.getStringDataArrays()[0], spec2):\n",
    "    print(ion.decode(), \"is generated at m/z\", peak.getMZ())\n",
    "\n",
    "exp = MSExperiment()\n",
    "exp.addSpectrum(spec1)\n",
    "exp.addSpectrum(spec2)\n",
    "MzMLFile().store(\"DFPIANGER.mzML\", exp)"
   ]
  },
  {
   "cell_type": "markdown",
   "id": "6c45efcc",
   "metadata": {},
   "source": [
    "which outputs all 146 peaks that are generated (this is without isotopic\n",
    "peaks), here we will just show the first few peaks:"
   ]
  },
  {
   "cell_type": "code",
   "execution_count": null,
   "id": "202ddae2",
   "metadata": {},
   "outputs": [],
   "source": [
    "Spectrum 2 of DFPIANGER has 146 peaks.\n",
    "y1-C1H2N1O1++ is generated at m/z 66.05629515817103\n",
    "y1-C1H2N2++ is generated at m/z 67.05221565817102\n",
    "y1-H3N1++ is generated at m/z 79.54984014222102\n",
    "y1++ is generated at m/z 88.06311469007102\n",
    "a2-H2O1++ is generated at m/z 109.05221565817101\n",
    "a2++ is generated at m/z 118.05749819007102\n",
    "b2-H2O1++ is generated at m/z 123.049673158171\n",
    "y2-C1H2N1O1++ is generated at m/z 130.57759226982103\n",
    "y1-C1H2N1O1+ is generated at m/z 131.10531384957102\n",
    "y2-C1H2N2++ is generated at m/z 131.573512769821\n",
    "b2++ is generated at m/z 132.054955690071\n",
    "y1-C1H2N2+ is generated at m/z 133.097154849571\n",
    "y2-H2O1++ is generated at m/z 143.579129269821\n",
    "y2-H3N1++ is generated at m/z 144.07113725387103\n",
    "y2++ is generated at m/z 152.58441180172102\n",
    "[...]"
   ]
  },
  {
   "cell_type": "markdown",
   "id": "e62072cb",
   "metadata": {},
   "source": [
    "The first example shows how to put peaks of a certain type, y-ions in\n",
    "this case, into a spectrum. The second spectrum is filled with a\n",
    "complete fragment ion spectrum of all peaks (a-, b-, y-ions and losses).\n",
    "The losses are based on commonly observed fragment ion losses for\n",
    "specific amino acids and are defined in the `Residues.xml` file, which\n",
    "means that not all fragment ions will produce all possible losses, as\n",
    "can be observed above: water loss is not observed for the y1 ion but for\n",
    "the y2 ion since glutamic acid can have a neutral water loss but\n",
    "arginine cannot. Similarly, only water loss and no ammonia loss is\n",
    "simulated in the `a/b/c` ion series with the first fragment capable of\n",
    "ammonia loss being asparagine at position 6.\n",
    "\n",
    "The `TheoreticalSpectrumGenerator` has many parameters which have a\n",
    "detailed description located in the class documentation. Note how the\n",
    "`add_metainfo` parameter populates the `StringDataArray` of the output\n",
    "spectrum, allowing us to iterate over annotated ions and their masses.\n",
    "\n",
    "## Visualization\n",
    "\n",
    "We can now visualize the resulting spectra using TOPPView when we open\n",
    "the DFPIANGER.mzML file that we produced above in TOPPView:\n",
    "\n",
    "![image](img/peptide_y_ions.png)\n",
    "\n",
    "We can see all eight y ion peaks that are produced in the\n",
    "TheoreticalSpectrumGenerator and when we hover over one of the peaks\n",
    "(546 mz in this example) there is an annotation in the bottom left\n",
    "corner that indicates charge state and ion name (`y5+` for every peak).\n",
    "The larger spectrum with 146 peaks can also be interactively\n",
    "investigated with TOPPView (the second spectrum in the file):\n",
    "\n",
    "![image](img/peptide_all_ions.png)\n",
    "\n",
    "There are substantially more peaks here and the spectrum is much busier,\n",
    "with singly and double charged peaks of the b, y and a series creating\n",
    "44 different individual fragment ion peaks as well as neutral losses\n",
    "adding an additional 102 peaks (neutral losses easily recognizable by\n",
    "their 10-fold lower intensity in the simulated spectrum).\n",
    "\n",
    "[![Launch Binder](./img/launch_binder.jpg)](https://mybinder.org/v2/gh/OpenMS/pyopenms-extra/master+ipynb?urlpath=lab/tree/docs/source/theoreticalspectrumgenerator.ipynb)"
   ]
  }
 ],
 "metadata": {},
 "nbformat": 4,
 "nbformat_minor": 5
}
