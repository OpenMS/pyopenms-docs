{
 "cells": [
  {
   "cell_type": "markdown",
   "metadata": {},
   "source": [
    "# Build from Source\n",
    "\n",
    "To install pyOpenMS from `source`, you will first have to compile OpenMS\n",
    "successfully on your platform of choice (note that for MS Windows you\n",
    "will need to match your compiler and Python version). Please follow the\n",
    "[official OpenMS documentation](https://openms.de/current_doxygen/) in\n",
    "order to compile OpenMS for your platform.\n",
    "\n",
    "See <https://github.com/OpenMS/OpenMS/tree/develop/src/pyOpenMS> for\n",
    "installation instructions.\n",
    "\n",
    "## Further Questions\n",
    "\n",
    "In case the above instructions did not work, please contact the\n",
    "development team on GitHub (<https://github.com/OpenMS/OpenMS/issues>)\n",
    "or send an email to the OpenMS mailing list."
   ],
   "id": "489ee9a1-d55f-4b4a-b3e1-39067a5f04a5"
  }
 ],
 "nbformat": 4,
 "nbformat_minor": 5,
 "metadata": {}
}
