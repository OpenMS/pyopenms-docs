{
 "cells": [
  {
   "cell_type": "markdown",
   "metadata": {},
   "source": [
    "# Adding pure python classes/functionality\n",
    "\n",
    "Pure python modules can be found <span class=\"title-ref\">here\n",
    "\\<https://github.com/OpenMS/OpenMS/tree/develop/src/pyOpenMS/pyopenms\\></span>.\n",
    "Just add a new <span class=\"title-ref\">.py</span> file and a new\n",
    "submodule will appear that can be imported with\n",
    "<span class=\"title-ref\">import pyopenms.submodule</span>.\n",
    "\n",
    "Remember to add additional requirements in the setup.py but try to avoid\n",
    "large dependencies unless absolutely necessary.\n",
    "\n",
    "Testing is done via pytest. Every new module, class, function, member\n",
    "should be documented with Sphinx reStructuredText docstrings. See the\n",
    "<span class=\"title-ref\">Sphinx-RTD-Tutorial\n",
    "\\<https://sphinx-rtd-tutorial.readthedocs.io/en/latest/docstrings.html\\></span>\n",
    "and the <span class=\"title-ref\">Python Developers Guide\n",
    "\\<https://devguide.python.org/documentation/start-documenting/index.html\\></span>."
   ],
   "id": "a186626b-9aa3-4168-b6a7-f607cce3b8d1"
  }
 ],
 "nbformat": 4,
 "nbformat_minor": 5,
 "metadata": {}
}
