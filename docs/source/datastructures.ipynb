{
 "cells": [
  {
   "cell_type": "markdown",
   "id": "2d869562",
   "metadata": {},
   "source": [
    "$$\n",
    "\\def\\CC{\\bf C}\n",
    "\\def\\QQ{\\bf Q}\n",
    "\\def\\RR{\\bf R}\n",
    "\\def\\ZZ{\\bf Z}\n",
    "\\def\\NN{\\bf N}\n",
    "$$\n",
    "# MS Data\n",
    "\n",
    "## Spectrum\n",
    "\n",
    "The most important container for raw data and peaks is `MSSpectrum`\n",
    "which we have already worked with in the [Getting\n",
    "Started](getting_started.html) tutorial. `MSSpectrum` is a container for\n",
    "1-dimensional peak data (a container of `Peak1D`). You can access these\n",
    "objects directly, however it is faster to use the `get_peaks()` and\n",
    "`set_peaks` functions which use Python numpy arrays for raw data access.\n",
    "Meta-data is accessible through inheritance of the `SpectrumSettings`\n",
    "objects which handles meta data of a spectrum.\n",
    "\n",
    "In the following example program, a MSSpectrum is filled with peaks,\n",
    "sorted according to mass-to-charge ratio and a selection of peak\n",
    "positions is displayed.\n",
    "\n",
    "First we create a spectrum and insert peaks with descending\n",
    "mass-to-charge ratios:"
   ]
  },
  {
   "cell_type": "code",
   "execution_count": null,
   "id": "4668c00c",
   "metadata": {},
   "outputs": [],
   "source": [
    "from pyopenms import *\n",
    "spectrum = MSSpectrum()\n",
    "mz = range(1500, 500, -100)\n",
    "i = [0 for mass in mz]\n",
    "spectrum.set_peaks([mz, i])\n",
    "\n",
    "# Sort the peaks according to ascending mass-to-charge ratio\n",
    "spectrum.sortByPosition()\n",
    "\n",
    "# Iterate over spectrum of those peaks\n",
    "for p in spectrum:\n",
    "    print(p.getMZ(), p.getIntensity())\n",
    "\n",
    "# More efficient peak access with get_peaks()\n",
    "for mz, i in zip(*spectrum.get_peaks()):\n",
    "    print(mz, i)\n",
    "\n",
    "# Access a peak by index\n",
    "print(spectrum[2].getMZ(), spectrum[2].getIntensity())"
   ]
  },
  {
   "cell_type": "markdown",
   "id": "7d244006",
   "metadata": {},
   "source": [
    "Note how lines 11-12 (as well as line 19) use the direct access to the\n",
    "`Peak1D` objects (explicit iteration through the `MSSpectrum` object,\n",
    "which is convenient but slow since a new `Peak1D` object needs to be\n",
    "created each time) while lines 15-16 use the faster access through numpy\n",
    "arrays. Direct iteration is only shown for demonstration purposes and\n",
    "should not be used in production code.\n",
    "\n",
    "To discover the full set of functionality of `MSSpectrum`, we use the\n",
    "`help()` function. In particular, we find several important sets of meta\n",
    "information attached to the spectrum including retention time, the ms\n",
    "level (MS1, MS2, ...), precursor ion, ion mobility drift time and extra\n",
    "data arrays."
   ]
  },
  {
   "cell_type": "code",
   "execution_count": null,
   "id": "48cdec7d",
   "metadata": {},
   "outputs": [],
   "source": [
    "from pyopenms import *\n",
    "help(MSSpectrum)"
   ]
  },
  {
   "cell_type": "markdown",
   "id": "e14f43cd",
   "metadata": {},
   "source": [
    "We now set several of these properties in a current MSSpectrum:"
   ]
  },
  {
   "cell_type": "code",
   "execution_count": null,
   "id": "6ede2ecf",
   "metadata": {},
   "outputs": [],
   "source": [
    "from pyopenms import *\n",
    "\n",
    "spectrum = MSSpectrum()\n",
    "spectrum.setDriftTime(25) # 25 ms\n",
    "spectrum.setRT(205.2) # 205.2 s\n",
    "spectrum.setMSLevel(3) # MS3\n",
    "p = Precursor()\n",
    "p.setIsolationWindowLowerOffset(1.5)\n",
    "p.setIsolationWindowUpperOffset(1.5) \n",
    "p.setMZ(600) # isolation at 600 +/- 1.5 Th\n",
    "p.setActivationEnergy(40) # 40 eV\n",
    "p.setCharge(4) # 4+ ion\n",
    "spectrum.setPrecursors( [p] )\n",
    "\n",
    "# Add raw data to spectrum\n",
    "spectrum.set_peaks( ([401.5], [900]) )\n",
    "\n",
    "# Additional data arrays / peak annotations\n",
    "fda = FloatDataArray()\n",
    "fda.setName(\"Signal to Noise Array\")\n",
    "fda.push_back(15)\n",
    "sda = StringDataArray()\n",
    "sda.setName(\"Peak annotation\")\n",
    "sda.push_back(\"y15++\")\n",
    "spectrum.setFloatDataArrays( [fda] )\n",
    "spectrum.setStringDataArrays( [sda] )\n",
    "\n",
    "# Add spectrum to MSExperiment\n",
    "exp = MSExperiment()\n",
    "exp.addSpectrum(spectrum)\n",
    "\n",
    "# Add second spectrum and store as mzML file\n",
    "spectrum2 = MSSpectrum()\n",
    "spectrum2.set_peaks( ([1, 2], [1, 2]) )\n",
    "exp.addSpectrum(spectrum2)\n",
    "\n",
    "MzMLFile().store(\"testfile.mzML\", exp)"
   ]
  },
  {
   "cell_type": "markdown",
   "id": "2f91c7a8",
   "metadata": {},
   "source": [
    "We have created a single spectrum on line 3 and add meta information\n",
    "(drift time, retention time, MS level, precursor charge, isolation\n",
    "window and activation energy) on lines 4-13. We next add actual peaks\n",
    "into the spectrum (a single peak at 401.5 *m/z* and 900 intensity) on\n",
    "line 16 and on lines 19-26 add further meta information in the form of\n",
    "additional data arrays for each peak (e.g. one trace describes \"Signal\n",
    "to Noise\" for each peak and the second traces describes the \"Peak\n",
    "annotation\", identifying the peak at 401.5 *m/z* as a doubly charged y15\n",
    "ion). Finally, we add the spectrum to a `MSExperiment` container on\n",
    "lines 29-30 and store the container in using the `MzMLFile` class in a\n",
    "file called \"testfile.mzML\" on line 37. To ensure our viewer works as\n",
    "expected, we add a second spectrum to the file before storing the file.\n",
    "\n",
    "You can now open the resulting spectrum in a spectrum viewer. We use the\n",
    "OpenMS viewer `TOPPView` (which you will get when you install OpenMS\n",
    "from the official website) and look at our MS3 spectrum:\n",
    "\n",
    "![image](img/spectrum1.png)\n",
    "\n",
    "TOPPView displays our MS3 spectrum with its single peak at 401.5 *m/z*\n",
    "and it also correctly displays its retention time at 205.2 seconds and\n",
    "precursor isolation target of 600.0 *m/z*. Notice how TOPPView displays\n",
    "the information about the S/N for the peak (S/N = 15) and its annotation\n",
    "as `y15++` in the status bar below when the user clicks on the peak at\n",
    "401.5 *m/z* as shown in the screenshot.\n",
    "\n",
    "We can also visualize our spectrum with `matplotlib` using the following\n",
    "function:"
   ]
  },
  {
   "cell_type": "code",
   "execution_count": null,
   "id": "84b533b8",
   "metadata": {},
   "outputs": [],
   "source": [
    "import matplotlib.pyplot as plt\n",
    "\n",
    "def plot_spectrum(spectrum):\n",
    "    # plot every peak in spectrum and annotate with it's m/z\n",
    "    for mz, i in zip(*spectrum.get_peaks()):\n",
    "        plt.plot([mz, mz], [0, i], color = 'black')\n",
    "        plt.text(mz, i, str(mz))\n",
    "\n",
    "    # for the title add RT and Precursor m/z if available\n",
    "    title = ''\n",
    "    if spectrum.getRT() >= 0:\n",
    "        title += 'RT: ' + str(spectrum.getRT())\n",
    "    if len(spectrum.getPrecursors()) >= 1:\n",
    "        title += '   Precursor m/z: ' + str(spectrum.getPrecursors()[0].getMZ())\n",
    "\n",
    "    plt.title(title)\n",
    "    plt.ylabel('intensity')\n",
    "    plt.xlabel('m/z')\n",
    "    plt.ylim(bottom=0)\n",
    "\n",
    "    plt.show()"
   ]
  },
  {
   "cell_type": "markdown",
   "id": "a3ce8a12",
   "metadata": {},
   "source": [
    "![image](img/SpectrumPlot.png)\n",
    "\n",
    "## LC-MS/MS Experiment\n",
    "\n",
    "In OpenMS, LC-MS/MS injections are represented as so-called peak maps\n",
    "(using the `MSExperiment` class), which we have already encountered\n",
    "above. The `MSExperiment` class can hold a list of `MSSpectrum` object\n",
    "(as well as a list of `MSChromatogram` objects, see below). The\n",
    "`MSExperiment` object holds such peak maps as well as meta-data about\n",
    "the injection. Access to individual spectra is performed through\n",
    "`MSExperiment.getSpectrum` and `MSExperiment.getChromatogram`.\n",
    "\n",
    "In the following code, we create an `MSExperiment` and populate it with\n",
    "several spectra:"
   ]
  },
  {
   "cell_type": "code",
   "execution_count": null,
   "id": "a883a64f",
   "metadata": {},
   "outputs": [],
   "source": [
    "# The following examples creates an MSExperiment which holds six\n",
    "# MSSpectrum instances.\n",
    "exp = MSExperiment()\n",
    "for i in range(6):\n",
    "    spectrum = MSSpectrum()\n",
    "    spectrum.setRT(i)\n",
    "    spectrum.setMSLevel(1)\n",
    "    for mz in range(500, 900, 100):\n",
    "      peak = Peak1D()\n",
    "      peak.setMZ(mz + i)\n",
    "      peak.setIntensity(100 - 25*abs(i-2.5) )\n",
    "      spectrum.push_back(peak)\n",
    "    exp.addSpectrum(spectrum)\n",
    "\n",
    "# Iterate over spectra\n",
    "for spectrum in exp:\n",
    "    for peak in spectrum:\n",
    "        print (spectrum.getRT(), peak.getMZ(), peak.getIntensity())"
   ]
  },
  {
   "cell_type": "markdown",
   "id": "dbebe2a8",
   "metadata": {},
   "source": [
    "In the above code, we create six instances of `MSSpectrum` (line 4),\n",
    "populate it with three peaks at 500, 900 and 100 *m/z* and append them\n",
    "to the `MSExperiment` object (line 13). We can easily iterate over the\n",
    "spectra in the whole experiment by using the intuitive iteration on\n",
    "lines 16-18 or we can use list comprehensions to sum up intensities of\n",
    "all spectra that fulfill certain conditions:"
   ]
  },
  {
   "cell_type": "code",
   "execution_count": null,
   "id": "7c851cad",
   "metadata": {},
   "outputs": [
    {
     "data": {
      "text/plain": [
       "700.0"
      ]
     },
     "execution_count": 1,
     "metadata": {},
     "output_type": "execute_result"
    }
   ],
   "source": [
    "# Sum intensity of all spectra between RT 2.0 and 3.0\n",
    "print(sum([p.getIntensity() for s in exp\n",
    "             if s.getRT() >= 2.0 and s.getRT() <= 3.0 for p in s]))"
   ]
  },
  {
   "cell_type": "code",
   "execution_count": null,
   "id": "62d6eef6",
   "metadata": {},
   "outputs": [
    {
     "data": {
      "text/plain": [
       "700.0"
      ]
     },
     "execution_count": 1,
     "metadata": {},
     "output_type": "execute_result"
    }
   ],
   "source": [
    "87.5 * 8"
   ]
  },
  {
   "cell_type": "code",
   "execution_count": null,
   "id": "92cb3ca0",
   "metadata": {},
   "outputs": [],
   "source": [
    "```\n",
    "\n",
    "We can again store the resulting experiment containing the six spectra\n",
    "as mzML using the `MzMLFile` object:\n",
    "```{.python .input}\n",
    "# Store as mzML\n",
    "MzMLFile().store(\"testfile2.mzML\", exp)"
   ]
  },
  {
   "cell_type": "markdown",
   "id": "0694c386",
   "metadata": {},
   "source": [
    "Again we can visualize the resulting data using `TOPPView` using its 3D\n",
    "viewer capability, which shows the six scans over retention time where\n",
    "the traces first increase and then decrease in intensity:\n",
    "\n",
    "![image](img/spectrum2.png)\n",
    "\n",
    "## Chromatogram\n",
    "\n",
    "An additional container for raw data is the `MSChromatogram` container,\n",
    "which is highly analogous to the `MSSpectrum` container, but contains an\n",
    "array of `ChromatogramPeak` and is derived from `ChromatogramSettings` :"
   ]
  },
  {
   "cell_type": "code",
   "execution_count": null,
   "id": "48a2204c",
   "metadata": {},
   "outputs": [],
   "source": [
    "from pyopenms import *\n",
    "import numpy as np\n",
    "\n",
    "def gaussian(x, mu, sig):\n",
    "    return np.exp(-np.power(x - mu, 2.) / (2 * np.power(sig, 2.)))\n",
    "\n",
    "# Create new chromatogram \n",
    "chromatogram = MSChromatogram()\n",
    "\n",
    "# Set raw data (RT and intensity)\n",
    "rt = range(1500, 500, -100)\n",
    "i = [gaussian(rtime, 1000, 150) for rtime in rt]\n",
    "chromatogram.set_peaks([rt, i])\n",
    "\n",
    "# Sort the peaks according to ascending retention time\n",
    "chromatogram.sortByPosition()\n",
    "\n",
    "# Iterate over chromatogram of those peaks\n",
    "for p in chromatogram:\n",
    "    print(p.getRT(), p.getIntensity())\n",
    "\n",
    "# More efficient peak access with get_peaks()\n",
    "for rt, i in zip(*chromatogram.get_peaks()):\n",
    "    print(rt, i)\n",
    "\n",
    "# Access a peak by index\n",
    "print(chromatogram[2].getRT(), chromatogram[2].getIntensity())"
   ]
  },
  {
   "cell_type": "markdown",
   "id": "645e7f94",
   "metadata": {},
   "source": [
    "We now again add meta information to the chromatogram:"
   ]
  },
  {
   "cell_type": "code",
   "execution_count": null,
   "id": "00f28973",
   "metadata": {},
   "outputs": [],
   "source": [
    "chromatogram.setNativeID(\"Trace XIC@405.2\")\n",
    "\n",
    "# Store a precursor ion for the chromatogram\n",
    "p = Precursor()\n",
    "p.setIsolationWindowLowerOffset(1.5)\n",
    "p.setIsolationWindowUpperOffset(1.5) \n",
    "p.setMZ(405.2) # isolation at 405.2 +/- 1.5 Th\n",
    "p.setActivationEnergy(40) # 40 eV\n",
    "p.setCharge(2) # 2+ ion\n",
    "p.setMetaValue(\"description\", chromatogram.getNativeID())\n",
    "p.setMetaValue(\"peptide_sequence\", chromatogram.getNativeID())\n",
    "chromatogram.setPrecursor(p)\n",
    "\n",
    "# Also store a product ion for the chromatogram (e.g. for SRM)\n",
    "p = Product()\n",
    "p.setMZ(603.4) # transition from 405.2 -> 603.4\n",
    "chromatogram.setProduct(p)\n",
    "\n",
    "# Store as mzML\n",
    "exp = MSExperiment()\n",
    "exp.addChromatogram(chromatogram)\n",
    "MzMLFile().store(\"testfile3.mzML\", exp)"
   ]
  },
  {
   "cell_type": "markdown",
   "id": "f80b45ba",
   "metadata": {},
   "source": [
    "This shows how the `MSExperiment` class can hold spectra as well as\n",
    "chromatograms.\n",
    "\n",
    "Again we can visualize the resulting data using `TOPPView` using its\n",
    "chromatographic viewer capability, which shows the peak over retention\n",
    "time:\n",
    "\n",
    "![image](img/chromatogram1.png)\n",
    "\n",
    "Note how the annotation using precursor and production mass of our XIC\n",
    "chromatogram is displayed in the viewer.\n",
    "\n",
    "We can also visualize the resulting data using `matplotlib`. Here we can\n",
    "plot every chromatogram in our `MSExperiment` and label it with it's\n",
    "native ID."
   ]
  },
  {
   "cell_type": "code",
   "execution_count": null,
   "id": "a2afbea9",
   "metadata": {},
   "outputs": [],
   "source": [
    "import matplotlib.pyplot as plt\n",
    "\n",
    "for chrom in exp.getChromatograms():\n",
    "    retention_times, intensities = chrom.get_peaks()\n",
    "    plt.plot(retention_times, intensities, label = chrom.getNativeID())\n",
    "\n",
    "plt.xlabel('time (s)')\n",
    "plt.ylabel('intensity (cps)')\n",
    "plt.legend()\n",
    "plt.show()"
   ]
  },
  {
   "cell_type": "markdown",
   "id": "58e75b64",
   "metadata": {},
   "source": [
    "![image](img/ChromPlot.png)\n",
    "\n",
    "[![Launch Binder](./img/launch_binder.jpg)](https://mybinder.org/v2/gh/OpenMS/pyopenms-extra/master+ipynb?urlpath=lab/tree/docs/source/datastructures.ipynb)"
   ]
  }
 ],
 "metadata": {},
 "nbformat": 4,
 "nbformat_minor": 5
}
