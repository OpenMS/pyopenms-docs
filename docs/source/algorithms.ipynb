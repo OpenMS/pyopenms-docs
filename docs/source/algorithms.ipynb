{
 "cells": [
  {
   "cell_type": "markdown",
   "id": "3cb8d0c9",
   "metadata": {},
   "source": [
    "$$\n",
    "\\def\\CC{\\bf C}\n",
    "\\def\\QQ{\\bf Q}\n",
    "\\def\\RR{\\bf R}\n",
    "\\def\\ZZ{\\bf Z}\n",
    "\\def\\NN{\\bf N}\n",
    "$$\n",
    "# Algorithms\n",
    "\n",
    "Most signal processing algorithms follow a similar pattern in OpenMS."
   ]
  },
  {
   "cell_type": "code",
   "execution_count": null,
   "id": "7faf6210",
   "metadata": {},
   "outputs": [],
   "source": [
    "algorithm = AlgorithmClass()\n",
    "exp = MSExperiment()\n",
    "# populate exp, for example load from file\n",
    "algorithm.filterExperiment(exp)"
   ]
  },
  {
   "cell_type": "markdown",
   "id": "ab36befc",
   "metadata": {},
   "source": [
    "In many cases, the processing algorithms have a set of parameters that\n",
    "can be adjusted. These are accessible through `getParameters()` and\n",
    "yield a `Param` object (see [Parameter\n",
    "handling](parameter_handling.html)) which can be manipulated. After\n",
    "changing parameters, one can use `setParameters()` to propagate the new\n",
    "parameters to the algorithm:"
   ]
  },
  {
   "cell_type": "code",
   "execution_count": null,
   "id": "59c9c1b9",
   "metadata": {},
   "outputs": [],
   "source": [
    "algorithm = AlgorithmClass()\n",
    "param = algorithm.getParameters()\n",
    "param.setValue(\"algo_parameter\", \"new_value\")\n",
    "algorithm.setParameters(param)\n",
    "\n",
    "exp = MSExperiment()\n",
    "# populate exp, for example load from file\n",
    "algorithm.filterExperiment(exp)"
   ]
  },
  {
   "cell_type": "markdown",
   "id": "b324e5d6",
   "metadata": {},
   "source": [
    "Since they work on a single MSExperiment object, little input is needed\n",
    "to execute a filter directly on the data. Examples of filters that\n",
    "follow this pattern are `GaussFilter`, `SavitzkyGolayFilter` as well as\n",
    "the spectral filters `BernNorm`, `MarkerMower`, `NLargest`,\n",
    "`Normalizer`, `ParentPeakMower`, `Scaler`, `SpectraMerger`, `SqrtMower`,\n",
    "`ThresholdMower`, `WindowMower`.\n",
    "\n",
    "Using the same example file as before, we can apply this approach as\n",
    "follows:"
   ]
  },
  {
   "cell_type": "code",
   "execution_count": null,
   "id": "37b37830",
   "metadata": {},
   "outputs": [],
   "source": [
    "from pyopenms import *\n",
    "\n",
    "exp = MSExperiment()\n",
    "gf = GaussFilter()\n",
    "MzMLFile().load(\"test.mzML\", exp)\n",
    "gf.filterExperiment(exp)\n",
    "MzMLFile().store(\"test.filtered.mzML\", exp)"
   ]
  },
  {
   "cell_type": "markdown",
   "id": "14c9ae4f",
   "metadata": {},
   "source": [
    "[![Launch Binder](./img/launch_binder.jpg)](https://mybinder.org/v2/gh/OpenMS/pyopenms-extra/master+ipynb?urlpath=lab/tree/docs/source/algorithms.ipynb)"
   ]
  }
 ],
 "metadata": {},
 "nbformat": 4,
 "nbformat_minor": 5
}
